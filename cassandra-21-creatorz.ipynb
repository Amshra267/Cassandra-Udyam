{
 "cells": [
  {
   "cell_type": "markdown",
   "metadata": {},
   "source": [
    "# Cassandra'21 Competition NOTEBOOK\n",
    "\n",
    "This notebook contains our approach on dealing with the dataset of Cassandra which have very less correlation in training and testing,We will later explain that the scores in private and public leadreboard is not a result of overfit but a result of randomness and less correlation in train and testing distribution which makes the cross validation of train data less trustworthy."
   ]
  },
  {
   "cell_type": "code",
   "execution_count": 94,
   "metadata": {
    "_cell_guid": "b1076dfc-b9ad-4769-8c92-a6c4dae69d19",
    "_uuid": "8f2839f25d086af736a60e9eeb907d3b93b6e0e5"
   },
   "outputs": [],
   "source": [
    "\n",
    "# lOading libraries\n",
    "import os\n",
    "import numpy as np # linear algebra\n",
    "import pandas as pd # data processing, CSV file I/O (e.g. pd.read_csv)\n",
    "import matplotlib.pyplot as plt\n",
    "import seaborn as sns\n",
    "import gc\n",
    "import optuna\n",
    "from tqdm.notebook import tqdm as tn\n",
    "from sklearn.model_selection import GridSearchCV, cross_val_score, StratifiedKFold, learning_curve\n",
    "from lightgbm import LGBMClassifier\n",
    "from sklearn.metrics import f1_score, auc, roc_curve\n",
    "\n",
    "from sklearn.model_selection import GridSearchCV, cross_val_score, StratifiedKFold, learning_curve\n",
    "\n",
    "%matplotlib inline"
   ]
  },
  {
   "cell_type": "markdown",
   "metadata": {},
   "source": [
    "## Loading Data"
   ]
  },
  {
   "cell_type": "code",
   "execution_count": null,
   "metadata": {},
   "outputs": [],
   "source": [
    "train_meta = pd.read_csv(\"../input/cassandra-udyam21/payment_history_data.csv\")\n",
    "train = pd.read_csv(\"../input/cassandra-udyam21/user_data_training.csv\")\n",
    "test = pd.read_csv(\"../input/cassandra-udyam21/user_data_testing.csv\")\n",
    "sample_Submission = pd.read_csv(\"../input/cassandra-udyam21/Sample Submission.csv\")\n",
    "train"
   ]
  },
  {
   "cell_type": "code",
   "execution_count": null,
   "metadata": {},
   "outputs": [],
   "source": [
    "train,head()"
   ]
  },
  {
   "cell_type": "markdown",
   "metadata": {},
   "source": [
    "### Initial Preprocessing on train and test data"
   ]
  },
  {
   "cell_type": "markdown",
   "metadata": {},
   "source": [
    "Before moving on to the actual preprocessing **we done a most basic step is to remove extra noise and outliers based on the inter quartile range**\n"
   ]
  },
  {
   "cell_type": "code",
   "execution_count": 96,
   "metadata": {},
   "outputs": [],
   "source": [
    "from collections import Counter\n",
    "def detect_outliers(df,n,features):\n",
    "    \"\"\"\n",
    "    Takes a dataframe df of features and returns a list of the indices\n",
    "    corresponding to the observations containing more than n outliers according\n",
    "    to the Tukey method.\n",
    "    \"\"\"\n",
    "    outlier_indices = []\n",
    "    \n",
    "    # iterate over features(columns)\n",
    "    for col in features:\n",
    "        # 1st quartile (25%)\n",
    "        Q1 = np.percentile(df[col], 25)\n",
    "        # 3rd quartile (75%)\n",
    "        \n",
    "        Q3 = np.percentile(df[col],75)\n",
    "        # Interquartile range (IQR)\n",
    "        IQR = Q3 - Q1\n",
    "        \n",
    "        # outlier step\n",
    "        outlier_step = 3.5 * IQR\n",
    "        \n",
    "        # Determine a list of indices of outliers for feature col\n",
    "        outlier_list_col = df[(df[col] < Q1 - outlier_step) | (df[col] > Q3 + outlier_step )].index\n",
    "        \n",
    "        # append the found outlier indices for col to the list of outlier indices \n",
    "        outlier_indices.extend(outlier_list_col)\n",
    "        # select observations containing more than 2 outliers\n",
    "    outlier_indices = Counter(outlier_indices)        \n",
    "    multiple_outliers = list( k for k, v in outlier_indices.items() if v > n )\n",
    "    \n",
    "    return multiple_outliers   \n",
    "\n",
    "# detect outliers from Age, SibSp , Parch and Fare\n",
    "Outliers_to_drop = detect_outliers(train,2,train.columns[2:])  # we picked those rows which \n",
    "                                                            # contained outliers in more than 2 columns of it"
   ]
  },
  {
   "cell_type": "markdown",
   "metadata": {},
   "source": [
    "We found that there are around 100 such rows in train data out of which 90 have label 0 and 10 have 1 label so based on the data imbalance we decided to remove those 90 rows of 0, it made the imbalance as well as noise in data less."
   ]
  },
  {
   "cell_type": "code",
   "execution_count": 8,
   "metadata": {},
   "outputs": [
    {
     "name": "stdout",
     "output_type": "stream",
     "text": [
      "1484006679\n",
      "1486529479\n",
      "1490253206\n",
      "1489267459\n",
      "1487335291\n",
      "1491150284\n",
      "772423\n",
      "1486924223\n",
      "2153656\n",
      "1490862759\n",
      "1487547132\n",
      "1484012615\n",
      "1114\n",
      "1487069284\n",
      "1490044704\n",
      "1487894017\n",
      "1371217\n",
      "1489935259\n",
      "3241428\n",
      "1489211809\n",
      "1490571524\n",
      "1490902456\n",
      "1484008534\n",
      "1484907096\n",
      "1258433\n",
      "1486924594\n",
      "1488777739\n",
      "2512413\n",
      "1489154675\n",
      "1492283318\n",
      "1488123295\n",
      "1489086782\n",
      "1414995\n",
      "1490673178\n",
      "1491887461\n",
      "1491028225\n",
      "1487308579\n",
      "2172577\n",
      "825105\n",
      "1485296275\n",
      "765374\n",
      "1484025971\n",
      "1487368310\n",
      "1488158911\n",
      "1488028690\n",
      "1486255310\n",
      "1489550532\n",
      "1454692\n",
      "1490391960\n",
      "1193137\n",
      "1486569176\n",
      "2124718\n",
      "1488426402\n",
      "1487601298\n",
      "1485005411\n",
      "1459886\n",
      "1286258\n",
      "1484257846\n",
      "2328768\n",
      "1484541661\n",
      "1486066842\n",
      "1487550100\n",
      "1485517391\n",
      "1486566208\n",
      "949761\n",
      "1485407204\n",
      "1486057938\n",
      "1486571402\n",
      "1485826434\n",
      "1055125\n",
      "1485584171\n",
      "1486111362\n",
      "1485810110\n",
      "1488449404\n",
      "1488431967\n",
      "1484938260\n",
      "1206864\n",
      "586552\n",
      "3514855\n",
      "1488940237\n",
      "1485803061\n",
      "1486418179\n",
      "1485737023\n",
      "1489659235\n",
      "533870\n",
      "1488755850\n",
      "1487602411\n",
      "1326697\n",
      "1484017809\n",
      "1486201515\n",
      "1486911238\n",
      "2174432\n",
      "1872809\n",
      "1220591\n",
      "1487070026\n",
      "1488595578\n",
      "1485239141\n",
      "1488342185\n",
      "1485432803\n",
      "1484770568\n",
      "1484379534\n",
      "1492623896\n",
      "1490117420\n",
      "1487359035\n",
      "3440284\n",
      "1703262\n",
      "1491406645\n",
      "1485185346\n",
      "2421147\n",
      "1489590600\n",
      "1486878590\n",
      "2253455\n",
      "1491825875\n"
     ]
    }
   ],
   "source": [
    "## Now removing those outlier rows of 0 from train data as well as data of those ids from payment_history.csv\n",
    "\n",
    "# removed from payment history.\n",
    "for i in train.loc[Outliers_to_drop][train.loc[Outliers_to_drop]['label']==0].id.values:\n",
    "    print(i)\n",
    "    train_meta = train_meta[train_meta[\"id\"]!=i].reset_index(drop=True)"
   ]
  },
  {
   "cell_type": "code",
   "execution_count": 9,
   "metadata": {},
   "outputs": [],
   "source": [
    "# removed from train\n",
    "train.loc[Outliers_to_drop]['label'].values # Show the outliers rows\n",
    "# Drop outliers\n",
    "train = train.drop(train.loc[Outliers_to_drop][train.loc[Outliers_to_drop]['label']==0].index.values, axis = 0).reset_index(drop=True)"
   ]
  },
  {
   "cell_type": "code",
   "execution_count": 157,
   "metadata": {},
   "outputs": [
    {
     "data": {
      "text/plain": [
       "id\n",
       "1             18\n",
       "12615         11\n",
       "40811          2\n",
       "65668          4\n",
       "72717         10\n",
       "              ..\n",
       "1492771183     3\n",
       "1492824607     4\n",
       "1492844641     8\n",
       "1492854287     3\n",
       "1492861707     3\n",
       "Length: 1012, dtype: int64"
      ]
     },
     "execution_count": 157,
     "metadata": {},
     "output_type": "execute_result"
    }
   ],
   "source": [
    "train_meta.groupby([\"id\"]).size()"
   ]
  },
  {
   "cell_type": "code",
   "execution_count": 158,
   "metadata": {},
   "outputs": [
    {
     "data": {
      "text/html": [
       "<div>\n",
       "<style scoped>\n",
       "    .dataframe tbody tr th:only-of-type {\n",
       "        vertical-align: middle;\n",
       "    }\n",
       "\n",
       "    .dataframe tbody tr th {\n",
       "        vertical-align: top;\n",
       "    }\n",
       "\n",
       "    .dataframe thead th {\n",
       "        text-align: right;\n",
       "    }\n",
       "</style>\n",
       "<table border=\"1\" class=\"dataframe\">\n",
       "  <thead>\n",
       "    <tr style=\"text-align: right;\">\n",
       "      <th></th>\n",
       "      <th>id</th>\n",
       "      <th>Alpha</th>\n",
       "      <th>Beta</th>\n",
       "      <th>Gamma</th>\n",
       "      <th>Delta</th>\n",
       "      <th>Epsilon</th>\n",
       "      <th>Zeta</th>\n",
       "      <th>Eta</th>\n",
       "      <th>Theta</th>\n",
       "      <th>Iota</th>\n",
       "      <th>Kappa</th>\n",
       "      <th>Lambda</th>\n",
       "      <th>omikron</th>\n",
       "    </tr>\n",
       "  </thead>\n",
       "  <tbody>\n",
       "    <tr>\n",
       "      <th>0</th>\n",
       "      <td>1484353935</td>\n",
       "      <td>2615</td>\n",
       "      <td>1214.0</td>\n",
       "      <td>3</td>\n",
       "      <td>56000</td>\n",
       "      <td>2</td>\n",
       "      <td>15</td>\n",
       "      <td>5</td>\n",
       "      <td>101</td>\n",
       "      <td>5</td>\n",
       "      <td>60064</td>\n",
       "      <td>192.163993</td>\n",
       "      <td>0.029703</td>\n",
       "    </tr>\n",
       "    <tr>\n",
       "      <th>1</th>\n",
       "      <td>1490969236</td>\n",
       "      <td>2092</td>\n",
       "      <td>NaN</td>\n",
       "      <td>2</td>\n",
       "      <td>100000</td>\n",
       "      <td>2</td>\n",
       "      <td>8</td>\n",
       "      <td>9</td>\n",
       "      <td>99</td>\n",
       "      <td>5</td>\n",
       "      <td>71003</td>\n",
       "      <td>199.974998</td>\n",
       "      <td>0.020202</td>\n",
       "    </tr>\n",
       "    <tr>\n",
       "      <th>2</th>\n",
       "      <td>1487077817</td>\n",
       "      <td>3661</td>\n",
       "      <td>1223.0</td>\n",
       "      <td>3</td>\n",
       "      <td>78000</td>\n",
       "      <td>2</td>\n",
       "      <td>11</td>\n",
       "      <td>-1</td>\n",
       "      <td>75</td>\n",
       "      <td>5</td>\n",
       "      <td>450007</td>\n",
       "      <td>173.205081</td>\n",
       "      <td>0.040000</td>\n",
       "    </tr>\n",
       "    <tr>\n",
       "      <th>3</th>\n",
       "      <td>1485622755</td>\n",
       "      <td>2615</td>\n",
       "      <td>1214.0</td>\n",
       "      <td>3</td>\n",
       "      <td>68000</td>\n",
       "      <td>2</td>\n",
       "      <td>15</td>\n",
       "      <td>5</td>\n",
       "      <td>92</td>\n",
       "      <td>3</td>\n",
       "      <td>550044</td>\n",
       "      <td>173.205081</td>\n",
       "      <td>0.032609</td>\n",
       "    </tr>\n",
       "    <tr>\n",
       "      <th>4</th>\n",
       "      <td>1486796599</td>\n",
       "      <td>3661</td>\n",
       "      <td>NaN</td>\n",
       "      <td>2</td>\n",
       "      <td>63000</td>\n",
       "      <td>2</td>\n",
       "      <td>11</td>\n",
       "      <td>5</td>\n",
       "      <td>84</td>\n",
       "      <td>5</td>\n",
       "      <td>60019</td>\n",
       "      <td>158.113883</td>\n",
       "      <td>0.023810</td>\n",
       "    </tr>\n",
       "    <tr>\n",
       "      <th>...</th>\n",
       "      <td>...</td>\n",
       "      <td>...</td>\n",
       "      <td>...</td>\n",
       "      <td>...</td>\n",
       "      <td>...</td>\n",
       "      <td>...</td>\n",
       "      <td>...</td>\n",
       "      <td>...</td>\n",
       "      <td>...</td>\n",
       "      <td>...</td>\n",
       "      <td>...</td>\n",
       "      <td>...</td>\n",
       "      <td>...</td>\n",
       "    </tr>\n",
       "    <tr>\n",
       "      <th>405</th>\n",
       "      <td>1489702642</td>\n",
       "      <td>2092</td>\n",
       "      <td>1313.0</td>\n",
       "      <td>3</td>\n",
       "      <td>134000</td>\n",
       "      <td>2</td>\n",
       "      <td>8</td>\n",
       "      <td>5</td>\n",
       "      <td>104</td>\n",
       "      <td>3</td>\n",
       "      <td>60054</td>\n",
       "      <td>244.948974</td>\n",
       "      <td>0.028846</td>\n",
       "    </tr>\n",
       "    <tr>\n",
       "      <th>406</th>\n",
       "      <td>1835338</td>\n",
       "      <td>3661</td>\n",
       "      <td>1125.5</td>\n",
       "      <td>3</td>\n",
       "      <td>79000</td>\n",
       "      <td>2</td>\n",
       "      <td>11</td>\n",
       "      <td>-1</td>\n",
       "      <td>107</td>\n",
       "      <td>5</td>\n",
       "      <td>450007</td>\n",
       "      <td>187.082869</td>\n",
       "      <td>0.028037</td>\n",
       "    </tr>\n",
       "    <tr>\n",
       "      <th>407</th>\n",
       "      <td>1236915</td>\n",
       "      <td>3661</td>\n",
       "      <td>1188.5</td>\n",
       "      <td>3</td>\n",
       "      <td>90000</td>\n",
       "      <td>2</td>\n",
       "      <td>11</td>\n",
       "      <td>5</td>\n",
       "      <td>98</td>\n",
       "      <td>5</td>\n",
       "      <td>60017</td>\n",
       "      <td>1.000000</td>\n",
       "      <td>0.030612</td>\n",
       "    </tr>\n",
       "    <tr>\n",
       "      <th>408</th>\n",
       "      <td>1489208099</td>\n",
       "      <td>3661</td>\n",
       "      <td>1386.5</td>\n",
       "      <td>1</td>\n",
       "      <td>165000</td>\n",
       "      <td>2</td>\n",
       "      <td>11</td>\n",
       "      <td>-1</td>\n",
       "      <td>100</td>\n",
       "      <td>3</td>\n",
       "      <td>350098</td>\n",
       "      <td>173.205081</td>\n",
       "      <td>0.010000</td>\n",
       "    </tr>\n",
       "    <tr>\n",
       "      <th>409</th>\n",
       "      <td>3788282</td>\n",
       "      <td>3661</td>\n",
       "      <td>1350.5</td>\n",
       "      <td>3</td>\n",
       "      <td>130000</td>\n",
       "      <td>1</td>\n",
       "      <td>11</td>\n",
       "      <td>5</td>\n",
       "      <td>97</td>\n",
       "      <td>5</td>\n",
       "      <td>60016</td>\n",
       "      <td>173.205081</td>\n",
       "      <td>0.030928</td>\n",
       "    </tr>\n",
       "  </tbody>\n",
       "</table>\n",
       "<p>410 rows × 13 columns</p>\n",
       "</div>"
      ],
      "text/plain": [
       "             id  Alpha    Beta  Gamma   Delta  Epsilon  Zeta  Eta  Theta  \\\n",
       "0    1484353935   2615  1214.0      3   56000        2    15    5    101   \n",
       "1    1490969236   2092     NaN      2  100000        2     8    9     99   \n",
       "2    1487077817   3661  1223.0      3   78000        2    11   -1     75   \n",
       "3    1485622755   2615  1214.0      3   68000        2    15    5     92   \n",
       "4    1486796599   3661     NaN      2   63000        2    11    5     84   \n",
       "..          ...    ...     ...    ...     ...      ...   ...  ...    ...   \n",
       "405  1489702642   2092  1313.0      3  134000        2     8    5    104   \n",
       "406     1835338   3661  1125.5      3   79000        2    11   -1    107   \n",
       "407     1236915   3661  1188.5      3   90000        2    11    5     98   \n",
       "408  1489208099   3661  1386.5      1  165000        2    11   -1    100   \n",
       "409     3788282   3661  1350.5      3  130000        1    11    5     97   \n",
       "\n",
       "     Iota   Kappa      Lambda   omikron  \n",
       "0       5   60064  192.163993  0.029703  \n",
       "1       5   71003  199.974998  0.020202  \n",
       "2       5  450007  173.205081  0.040000  \n",
       "3       3  550044  173.205081  0.032609  \n",
       "4       5   60019  158.113883  0.023810  \n",
       "..    ...     ...         ...       ...  \n",
       "405     3   60054  244.948974  0.028846  \n",
       "406     5  450007  187.082869  0.028037  \n",
       "407     5   60017    1.000000  0.030612  \n",
       "408     3  350098  173.205081  0.010000  \n",
       "409     5   60016  173.205081  0.030928  \n",
       "\n",
       "[410 rows x 13 columns]"
      ]
     },
     "execution_count": 158,
     "metadata": {},
     "output_type": "execute_result"
    }
   ],
   "source": [
    "test"
   ]
  },
  {
   "cell_type": "code",
   "execution_count": 159,
   "metadata": {},
   "outputs": [
    {
     "data": {
      "text/html": [
       "<div>\n",
       "<style scoped>\n",
       "    .dataframe tbody tr th:only-of-type {\n",
       "        vertical-align: middle;\n",
       "    }\n",
       "\n",
       "    .dataframe tbody tr th {\n",
       "        vertical-align: top;\n",
       "    }\n",
       "\n",
       "    .dataframe thead th {\n",
       "        text-align: right;\n",
       "    }\n",
       "</style>\n",
       "<table border=\"1\" class=\"dataframe\">\n",
       "  <thead>\n",
       "    <tr style=\"text-align: right;\">\n",
       "      <th></th>\n",
       "      <th>label</th>\n",
       "      <th>id</th>\n",
       "      <th>Alpha</th>\n",
       "      <th>Beta</th>\n",
       "      <th>Gamma</th>\n",
       "      <th>Delta</th>\n",
       "      <th>Epsilon</th>\n",
       "      <th>Zeta</th>\n",
       "      <th>Eta</th>\n",
       "      <th>Theta</th>\n",
       "      <th>Iota</th>\n",
       "      <th>Kappa</th>\n",
       "      <th>Lambda</th>\n",
       "      <th>omikron</th>\n",
       "    </tr>\n",
       "  </thead>\n",
       "  <tbody>\n",
       "    <tr>\n",
       "      <th>count</th>\n",
       "      <td>602.000000</td>\n",
       "      <td>6.020000e+02</td>\n",
       "      <td>602.000000</td>\n",
       "      <td>524.000000</td>\n",
       "      <td>602.000000</td>\n",
       "      <td>602.000000</td>\n",
       "      <td>602.000000</td>\n",
       "      <td>602.000000</td>\n",
       "      <td>602.000000</td>\n",
       "      <td>602.000000</td>\n",
       "      <td>602.000000</td>\n",
       "      <td>602.000000</td>\n",
       "      <td>602.000000</td>\n",
       "      <td>602.000000</td>\n",
       "    </tr>\n",
       "    <tr>\n",
       "      <th>mean</th>\n",
       "      <td>0.191030</td>\n",
       "      <td>1.051541e+09</td>\n",
       "      <td>2819.161130</td>\n",
       "      <td>1283.105916</td>\n",
       "      <td>2.395349</td>\n",
       "      <td>112624.584718</td>\n",
       "      <td>1.936877</td>\n",
       "      <td>10.686047</td>\n",
       "      <td>5.194352</td>\n",
       "      <td>100.682724</td>\n",
       "      <td>4.219269</td>\n",
       "      <td>127825.440199</td>\n",
       "      <td>125.127942</td>\n",
       "      <td>0.024092</td>\n",
       "    </tr>\n",
       "    <tr>\n",
       "      <th>std</th>\n",
       "      <td>0.393439</td>\n",
       "      <td>6.779381e+08</td>\n",
       "      <td>702.800684</td>\n",
       "      <td>49.929709</td>\n",
       "      <td>0.849691</td>\n",
       "      <td>64477.564571</td>\n",
       "      <td>0.243386</td>\n",
       "      <td>2.631457</td>\n",
       "      <td>2.431169</td>\n",
       "      <td>11.621341</td>\n",
       "      <td>0.842957</td>\n",
       "      <td>120823.933689</td>\n",
       "      <td>110.557187</td>\n",
       "      <td>0.009095</td>\n",
       "    </tr>\n",
       "    <tr>\n",
       "      <th>min</th>\n",
       "      <td>0.000000</td>\n",
       "      <td>8.384700e+04</td>\n",
       "      <td>2092.000000</td>\n",
       "      <td>1116.500000</td>\n",
       "      <td>1.000000</td>\n",
       "      <td>15000.000000</td>\n",
       "      <td>1.000000</td>\n",
       "      <td>6.000000</td>\n",
       "      <td>-1.000000</td>\n",
       "      <td>64.000000</td>\n",
       "      <td>1.000000</td>\n",
       "      <td>60000.000000</td>\n",
       "      <td>1.000000</td>\n",
       "      <td>0.008696</td>\n",
       "    </tr>\n",
       "    <tr>\n",
       "      <th>25%</th>\n",
       "      <td>0.000000</td>\n",
       "      <td>3.126974e+06</td>\n",
       "      <td>2092.000000</td>\n",
       "      <td>1245.500000</td>\n",
       "      <td>2.000000</td>\n",
       "      <td>72250.000000</td>\n",
       "      <td>2.000000</td>\n",
       "      <td>8.000000</td>\n",
       "      <td>5.000000</td>\n",
       "      <td>90.000000</td>\n",
       "      <td>4.000000</td>\n",
       "      <td>60036.000000</td>\n",
       "      <td>1.000000</td>\n",
       "      <td>0.017544</td>\n",
       "    </tr>\n",
       "    <tr>\n",
       "      <th>50%</th>\n",
       "      <td>0.000000</td>\n",
       "      <td>1.486809e+09</td>\n",
       "      <td>2615.000000</td>\n",
       "      <td>1281.500000</td>\n",
       "      <td>3.000000</td>\n",
       "      <td>100000.000000</td>\n",
       "      <td>2.000000</td>\n",
       "      <td>11.000000</td>\n",
       "      <td>5.000000</td>\n",
       "      <td>104.000000</td>\n",
       "      <td>4.000000</td>\n",
       "      <td>72000.000000</td>\n",
       "      <td>173.205081</td>\n",
       "      <td>0.027027</td>\n",
       "    </tr>\n",
       "    <tr>\n",
       "      <th>75%</th>\n",
       "      <td>0.000000</td>\n",
       "      <td>1.490172e+09</td>\n",
       "      <td>3661.000000</td>\n",
       "      <td>1314.500000</td>\n",
       "      <td>3.000000</td>\n",
       "      <td>135000.000000</td>\n",
       "      <td>2.000000</td>\n",
       "      <td>11.000000</td>\n",
       "      <td>5.000000</td>\n",
       "      <td>110.000000</td>\n",
       "      <td>5.000000</td>\n",
       "      <td>151300.000000</td>\n",
       "      <td>200.000000</td>\n",
       "      <td>0.030000</td>\n",
       "    </tr>\n",
       "    <tr>\n",
       "      <th>max</th>\n",
       "      <td>1.000000</td>\n",
       "      <td>1.492862e+09</td>\n",
       "      <td>3661.000000</td>\n",
       "      <td>1469.000000</td>\n",
       "      <td>3.000000</td>\n",
       "      <td>500000.000000</td>\n",
       "      <td>2.000000</td>\n",
       "      <td>15.000000</td>\n",
       "      <td>10.000000</td>\n",
       "      <td>115.000000</td>\n",
       "      <td>5.000000</td>\n",
       "      <td>591001.000000</td>\n",
       "      <td>707.106781</td>\n",
       "      <td>0.046875</td>\n",
       "    </tr>\n",
       "  </tbody>\n",
       "</table>\n",
       "</div>"
      ],
      "text/plain": [
       "            label            id        Alpha         Beta       Gamma  \\\n",
       "count  602.000000  6.020000e+02   602.000000   524.000000  602.000000   \n",
       "mean     0.191030  1.051541e+09  2819.161130  1283.105916    2.395349   \n",
       "std      0.393439  6.779381e+08   702.800684    49.929709    0.849691   \n",
       "min      0.000000  8.384700e+04  2092.000000  1116.500000    1.000000   \n",
       "25%      0.000000  3.126974e+06  2092.000000  1245.500000    2.000000   \n",
       "50%      0.000000  1.486809e+09  2615.000000  1281.500000    3.000000   \n",
       "75%      0.000000  1.490172e+09  3661.000000  1314.500000    3.000000   \n",
       "max      1.000000  1.492862e+09  3661.000000  1469.000000    3.000000   \n",
       "\n",
       "               Delta     Epsilon        Zeta         Eta       Theta  \\\n",
       "count     602.000000  602.000000  602.000000  602.000000  602.000000   \n",
       "mean   112624.584718    1.936877   10.686047    5.194352  100.682724   \n",
       "std     64477.564571    0.243386    2.631457    2.431169   11.621341   \n",
       "min     15000.000000    1.000000    6.000000   -1.000000   64.000000   \n",
       "25%     72250.000000    2.000000    8.000000    5.000000   90.000000   \n",
       "50%    100000.000000    2.000000   11.000000    5.000000  104.000000   \n",
       "75%    135000.000000    2.000000   11.000000    5.000000  110.000000   \n",
       "max    500000.000000    2.000000   15.000000   10.000000  115.000000   \n",
       "\n",
       "             Iota          Kappa      Lambda     omikron  \n",
       "count  602.000000     602.000000  602.000000  602.000000  \n",
       "mean     4.219269  127825.440199  125.127942    0.024092  \n",
       "std      0.842957  120823.933689  110.557187    0.009095  \n",
       "min      1.000000   60000.000000    1.000000    0.008696  \n",
       "25%      4.000000   60036.000000    1.000000    0.017544  \n",
       "50%      4.000000   72000.000000  173.205081    0.027027  \n",
       "75%      5.000000  151300.000000  200.000000    0.030000  \n",
       "max      5.000000  591001.000000  707.106781    0.046875  "
      ]
     },
     "execution_count": 159,
     "metadata": {},
     "output_type": "execute_result"
    }
   ],
   "source": [
    "# taking description of data now to find the distribution.\n",
    "train.describe()"
   ]
  },
  {
   "cell_type": "markdown",
   "metadata": {},
   "source": [
    "### Our observations after outlier removal (Observation No. -1)\n",
    "\n",
    "1. we saw that some variables like Kappa and Lambda which shows less correlation with the data of around 0.01 nows \n",
    "showing decent correlation of around 0.12 and 0.09 which made us believe that actual outlier is a noise."
   ]
  },
  {
   "cell_type": "code",
   "execution_count": 161,
   "metadata": {},
   "outputs": [
    {
     "data": {
      "text/plain": [
       "<AxesSubplot:xlabel='Beta', ylabel='Density'>"
      ]
     },
     "execution_count": 161,
     "metadata": {},
     "output_type": "execute_result"
    },
    {
     "data": {
      "image/png": "[encoded data removed]",
      "text/plain": [
       "<Figure size 432x288 with 1 Axes>"
      ]
     },
     "metadata": {
      "needs_background": "light"
     },
     "output_type": "display_data"
    }
   ],
   "source": [
    "# Beta distribution in train data\n",
    "sns.kdeplot(train['Beta'],data =train, hue =\"label\")"
   ]
  },
  {
   "cell_type": "code",
   "execution_count": 108,
   "metadata": {},
   "outputs": [
    {
     "data": {
      "text/plain": [
       "0    71\n",
       "1    20\n",
       "Name: label, dtype: int64"
      ]
     },
     "execution_count": 108,
     "metadata": {},
     "output_type": "execute_result"
    }
   ],
   "source": [
    "# labels cooresponding to beat nan values\n",
    "train[\"label\"][train['Beta'].isnull()].value_counts()"
   ]
  },
  {
   "cell_type": "code",
   "execution_count": 72,
   "metadata": {},
   "outputs": [
    {
     "name": "stdout",
     "output_type": "stream",
     "text": [
      "<class 'pandas.core.frame.DataFrame'>\n",
      "RangeIndex: 602 entries, 0 to 601\n",
      "Data columns (total 14 columns):\n",
      " #   Column   Non-Null Count  Dtype  \n",
      "---  ------   --------------  -----  \n",
      " 0   label    602 non-null    int64  \n",
      " 1   id       602 non-null    int64  \n",
      " 2   Alpha    602 non-null    int64  \n",
      " 3   Beta     524 non-null    float64\n",
      " 4   Gamma    602 non-null    int64  \n",
      " 5   Delta    602 non-null    int64  \n",
      " 6   Epsilon  602 non-null    int64  \n",
      " 7   Zeta     602 non-null    int64  \n",
      " 8   Eta      602 non-null    int64  \n",
      " 9   Theta    602 non-null    int64  \n",
      " 10  Iota     602 non-null    int64  \n",
      " 11  Kappa    602 non-null    int64  \n",
      " 12  Lambda   602 non-null    float64\n",
      " 13  omikron  602 non-null    float64\n",
      "dtypes: float64(3), int64(11)\n",
      "memory usage: 66.0 KB\n"
     ]
    }
   ],
   "source": [
    "train.info()"
   ]
  },
  {
   "cell_type": "markdown",
   "metadata": {},
   "source": [
    "based on the above info we found that only beta in train and test data have nan values"
   ]
  },
  {
   "cell_type": "code",
   "execution_count": 73,
   "metadata": {},
   "outputs": [
    {
     "name": "stdout",
     "output_type": "stream",
     "text": [
      "label        2\n",
      "id         602\n",
      "Alpha        4\n",
      "Beta       126\n",
      "Gamma        3\n",
      "Delta      177\n",
      "Epsilon      2\n",
      "Zeta         6\n",
      "Eta          9\n",
      "Theta       45\n",
      "Iota         4\n",
      "Kappa      153\n",
      "Lambda     155\n",
      "omikron    102\n",
      "dtype: int64\n"
     ]
    },
    {
     "data": {
      "text/plain": [
       "id          1012\n",
       "Alpha          6\n",
       "Beta         150\n",
       "Gamma          3\n",
       "Delta        207\n",
       "Epsilon        2\n",
       "Zeta           9\n",
       "Eta           10\n",
       "Theta          6\n",
       "Iota           5\n",
       "Kappa        236\n",
       "Lambda       237\n",
       "omikron      123\n",
       "Del_bins       3\n",
       "dtype: int64"
      ]
     },
     "execution_count": 73,
     "metadata": {},
     "output_type": "execute_result"
    }
   ],
   "source": [
    "print(train.nunique())"
   ]
  },
  {
   "cell_type": "code",
   "execution_count": 87,
   "metadata": {},
   "outputs": [
    {
     "name": "stdout",
     "output_type": "stream",
     "text": [
      "2    564\n",
      "1     38\n",
      "Name: Epsilon, dtype: int64\n",
      "2    380\n",
      "1     30\n",
      "Name: Epsilon, dtype: int64\n",
      " 5     432\n",
      " 9     104\n",
      "-1      48\n",
      " 2       8\n",
      " 8       4\n",
      " 3       2\n",
      " 10      2\n",
      " 1       1\n",
      " 4       1\n",
      "Name: Eta, dtype: int64\n",
      " 5     254\n",
      " 9      70\n",
      "-1      67\n",
      " 2       6\n",
      " 8       4\n",
      " 3       3\n",
      " 7       3\n",
      " 4       2\n",
      " 10      1\n",
      "Name: Eta, dtype: int64\n",
      "8     234\n",
      "11    233\n",
      "15    130\n",
      "9       2\n",
      "12      2\n",
      "6       1\n",
      "Name: Zeta, dtype: int64\n",
      "11    180\n",
      "8     118\n",
      "15    103\n",
      "12      4\n",
      "4       2\n",
      "3       1\n",
      "5       1\n",
      "6       1\n",
      "Name: Zeta, dtype: int64\n",
      "5    285\n",
      "4    170\n",
      "3    144\n",
      "1      3\n",
      "Name: Iota, dtype: int64\n",
      "5    179\n",
      "4    115\n",
      "3    113\n",
      "1      2\n",
      "2      1\n",
      "Name: Iota, dtype: int64\n"
     ]
    }
   ],
   "source": [
    "## Unique values of all\n",
    "print(train['Epsilon'].value_counts())\n",
    "print(test['Epsilon'].value_counts())\n",
    "print(train['Eta'].value_counts())\n",
    "print(test['Eta'].value_counts())\n",
    "print(train['Zeta'].value_counts())\n",
    "print(test['Zeta'].value_counts())\n",
    "print(train['Iota'].value_counts())\n",
    "print(test['Iota'].value_counts())\n"
   ]
  },
  {
   "cell_type": "code",
   "execution_count": 74,
   "metadata": {},
   "outputs": [
    {
     "name": "stdout",
     "output_type": "stream",
     "text": [
      "id                         1012\n",
      "Late_2                       21\n",
      "Late_1                       15\n",
      "Late_3                       33\n",
      "days_late_Sum               338\n",
      "normal_payment               37\n",
      "p_code                       21\n",
      "p_limit                     290\n",
      "last_update                2778\n",
      "curr_remaining             3470\n",
      "max_bal                    4478\n",
      "recent_payment_activity    1671\n",
      "dtype: int64\n"
     ]
    },
    {
     "data": {
      "text/plain": [
       "label       0\n",
       "id          0\n",
       "Alpha       0\n",
       "Beta       78\n",
       "Gamma       0\n",
       "Delta       0\n",
       "Epsilon     0\n",
       "Zeta        0\n",
       "Eta         0\n",
       "Theta       0\n",
       "Iota        0\n",
       "Kappa       0\n",
       "Lambda      0\n",
       "omikron     0\n",
       "dtype: int64"
      ]
     },
     "execution_count": 74,
     "metadata": {},
     "output_type": "execute_result"
    }
   ],
   "source": [
    "print(train_meta.nunique())\n",
    "train.isnull().sum()"
   ]
  },
  {
   "cell_type": "code",
   "execution_count": 90,
   "metadata": {},
   "outputs": [
    {
     "data": {
      "text/plain": [
       "id                            0\n",
       "Late_2                        0\n",
       "Late_1                        0\n",
       "Late_3                        0\n",
       "days_late_Sum                 0\n",
       "normal_payment                0\n",
       "p_code                        0\n",
       "p_limit                    5199\n",
       "last_update                  23\n",
       "curr_remaining                0\n",
       "max_bal                     338\n",
       "recent_payment_activity     934\n",
       "dtype: int64"
      ]
     },
     "execution_count": 90,
     "metadata": {},
     "output_type": "execute_result"
    }
   ],
   "source": [
    "train_meta.isnull().sum()"
   ]
  },
  {
   "cell_type": "markdown",
   "metadata": {},
   "source": [
    "## Our Obsevations on Demographics data (Observation no-2)"
   ]
  },
  {
   "cell_type": "markdown",
   "metadata": {},
   "source": [
    "Based on the three things that is \n",
    "a) Intutuon \n",
    "b) plotting featues\n",
    "c) Reading about different features on internet.\n",
    "\n",
    "We made some hypothesis about data and demographics features which are made anonymized:\n",
    "1) **Dataset is not of bank loan but about credit card default dataset** as it contains a feature p_limit which decribes the credit limit expenditure and it contains features regarding late repayments and max balance in history which explains that it is about spending from a card and then repaying it.\n",
    "\n",
    "2) Epsilon has 2 unique values so after studying from internet abount these type of data we hypothise that this feature must be one of *Sex -> male -0  and feamle-1 here female have low majority in data* or *must be about marital status married or not*\n",
    "\n",
    "3) Gamma - Which contains 3 unique value must be the location from where customer is belonging i.e., to Urban, rural or Suburban areas.\n",
    "\n",
    "4) Theta is a type of positive integer value which representing the age of person encoded in some style to make the maximum at 115 and min at 60\n",
    "\n",
    "5) And out of Delta or kappa one must be the salary of the person.\n",
    "\n",
    "6) Last but not least, Alpha which have 4 unique value seems to be random but actually in data it is modified ,if we divide Alpha by 523 we get **resultant in 1, 2, ,3 ,4 ,5 , 6, 7**, very expressive to see, it may represent the educational qualification of that customer whether they pass out high school, secondary and so on."
   ]
  },
  {
   "cell_type": "code",
   "execution_count": 76,
   "metadata": {},
   "outputs": [
    {
     "data": {
      "text/plain": [
       "4    236\n",
       "7    235\n",
       "5    130\n",
       "6      1\n",
       "Name: Alpha, dtype: int64"
      ]
     },
     "execution_count": 76,
     "metadata": {},
     "output_type": "execute_result"
    }
   ],
   "source": [
    "#Explaination of 523 division converted into nice categories\n",
    "(train['Alpha']/523).value_counts()"
   ]
  },
  {
   "cell_type": "code",
   "execution_count": 78,
   "metadata": {},
   "outputs": [
    {
     "data": {
      "text/plain": [
       "<AxesSubplot:xlabel='Alpha', ylabel='count'>"
      ]
     },
     "execution_count": 78,
     "metadata": {},
     "output_type": "execute_result"
    },
    {
     "data": {
      "image/png": "[encoded data removed]",
      "text/plain": [
       "<Figure size 432x288 with 1 Axes>"
      ]
     },
     "metadata": {
      "needs_background": "light"
     },
     "output_type": "display_data"
    }
   ],
   "source": [
    "# distributoon represent label 6 is less prone to taking or frauding\n",
    "#credit card as they are less in number, may be they are of early education years\n",
    "sns.countplot(x=(train['Alpha']//523), data= train,hue='label')"
   ]
  },
  {
   "cell_type": "code",
   "execution_count": 91,
   "metadata": {},
   "outputs": [
    {
     "data": {
      "text/plain": [
       "<AxesSubplot:xlabel='Kappa', ylabel='Density'>"
      ]
     },
     "execution_count": 91,
     "metadata": {},
     "output_type": "execute_result"
    },
    {
     "data": {
      "image/png": "[encoded data removed]",
      "text/plain": [
       "<Figure size 432x288 with 1 Axes>"
      ]
     },
     "metadata": {
      "needs_background": "light"
     },
     "output_type": "display_data"
    }
   ],
   "source": [
    "# Distribution of kappa showing two peaks at different region which seems that there is something in it.\n",
    "sns.kdeplot(train[\"Kappa\"], data = train, hue = \"label\")"
   ]
  },
  {
   "cell_type": "code",
   "execution_count": 82,
   "metadata": {},
   "outputs": [
    {
     "data": {
      "text/plain": [
       "<AxesSubplot:xlabel='Delta', ylabel='Density'>"
      ]
     },
     "execution_count": 82,
     "metadata": {},
     "output_type": "execute_result"
    },
    {
     "data": {
      "image/png": "[encoded data removed]",
      "text/plain": [
       "<Figure size 432x288 with 1 Axes>"
      ]
     },
     "metadata": {
      "needs_background": "light"
     },
     "output_type": "display_data"
    }
   ],
   "source": [
    "sns.kdeplot(train['Delta'], data = train, hue = \"label\")"
   ]
  },
  {
   "cell_type": "markdown",
   "metadata": {},
   "source": [
    "Above plot depicts that as the amount is getting incresed we found that the testing label fequency almost reaches 0 but there is quite a good amount of person which is not defaulters, means if this feature represent salary then we can hypothize that huge salary made the bank trust more on customer compared to low ones"
   ]
  },
  {
   "cell_type": "code",
   "execution_count": 83,
   "metadata": {},
   "outputs": [
    {
     "data": {
      "text/plain": [
       "<AxesSubplot:xlabel='Beta', ylabel='Density'>"
      ]
     },
     "execution_count": 83,
     "metadata": {},
     "output_type": "execute_result"
    },
    {
     "data": {
      "image/png": "[encoded data removed]",
      "text/plain": [
       "<Figure size 432x288 with 1 Axes>"
      ]
     },
     "metadata": {
      "needs_background": "light"
     },
     "output_type": "display_data"
    }
   ],
   "source": [
    "# Beta distribution showing a good approximate normal distribution which made us beleieve that \n",
    "# the nan values can be filled by median without any problem\n",
    "sns.kdeplot(train['Beta'])"
   ]
  },
  {
   "cell_type": "code",
   "execution_count": 85,
   "metadata": {},
   "outputs": [
    {
     "name": "stdout",
     "output_type": "stream",
     "text": [
      "3    383\n",
      "1    145\n",
      "2     74\n",
      "Name: Gamma, dtype: int64\n",
      "3    247\n",
      "1    116\n",
      "2     47\n",
      "Name: Gamma, dtype: int64\n"
     ]
    }
   ],
   "source": [
    "## Gamma feature visualisation\n",
    "print(train['Gamma'].value_counts())\n",
    "print(test['Gamma'].value_counts())"
   ]
  },
  {
   "cell_type": "code",
   "execution_count": 86,
   "metadata": {},
   "outputs": [
    {
     "data": {
      "text/plain": [
       "<AxesSubplot:xlabel='Gamma', ylabel='count'>"
      ]
     },
     "execution_count": 86,
     "metadata": {},
     "output_type": "execute_result"
    },
    {
     "data": {
      "image/png": "[encoded data removed]",
      "text/plain": [
       "<Figure size 432x288 with 1 Axes>"
      ]
     },
     "metadata": {
      "needs_background": "light"
     },
     "output_type": "display_data"
    }
   ],
   "source": [
    "sns.countplot(x='Gamma', data= train,hue='label')"
   ]
  },
  {
   "cell_type": "code",
   "execution_count": 88,
   "metadata": {},
   "outputs": [
    {
     "data": {
      "text/plain": [
       "<AxesSubplot:xlabel='Eta', ylabel='count'>"
      ]
     },
     "execution_count": 88,
     "metadata": {},
     "output_type": "execute_result"
    },
    {
     "data": {
      "image/png": "[encoded data removed]",
      "text/plain": [
       "<Figure size 432x288 with 1 Axes>"
      ]
     },
     "metadata": {
      "needs_background": "light"
     },
     "output_type": "display_data"
    }
   ],
   "source": [
    "# Eta visualisation\n",
    "sns.countplot(x='Eta', data= train,hue='label')"
   ]
  },
  {
   "cell_type": "code",
   "execution_count": 89,
   "metadata": {},
   "outputs": [
    {
     "data": {
      "text/plain": [
       "<AxesSubplot:xlabel='Zeta', ylabel='count'>"
      ]
     },
     "execution_count": 89,
     "metadata": {},
     "output_type": "execute_result"
    },
    {
     "data": {
      "image/png": "[encoded data removed]",
      "text/plain": [
       "<Figure size 432x288 with 1 Axes>"
      ]
     },
     "metadata": {
      "needs_background": "light"
     },
     "output_type": "display_data"
    }
   ],
   "source": [
    "# Zeta visualisation\n",
    "sns.countplot(x='Zeta', data= train,hue='label')"
   ]
  },
  {
   "cell_type": "markdown",
   "metadata": {},
   "source": [
    "**Some cells which we ran for annalysing and taking intutition about the aggregated feature me made**"
   ]
  },
  {
   "cell_type": "code",
   "execution_count": null,
   "metadata": {},
   "outputs": [],
   "source": [
    "train_meta[(train_meta.last_update.isnull())|(train_meta.recent_payment_activity.isnull())][\"normal_payment\"].min()"
   ]
  },
  {
   "cell_type": "code",
   "execution_count": null,
   "metadata": {},
   "outputs": [],
   "source": []
  },
  {
   "cell_type": "code",
   "execution_count": null,
   "metadata": {},
   "outputs": [],
   "source": [
    "train_meta[train_meta['last_update'].isnull()].groupby(\"id\").size()"
   ]
  },
  {
   "cell_type": "code",
   "execution_count": null,
   "metadata": {},
   "outputs": [],
   "source": [
    "train_meta[train_meta.id==3730406]"
   ]
  },
  {
   "cell_type": "code",
   "execution_count": null,
   "metadata": {},
   "outputs": [],
   "source": [
    "train[train.id==3730406]"
   ]
  },
  {
   "cell_type": "code",
   "execution_count": null,
   "metadata": {},
   "outputs": [],
   "source": [
    "train_meta.lu_date"
   ]
  },
  {
   "cell_type": "code",
   "execution_count": null,
   "metadata": {},
   "outputs": [],
   "source": [
    "train_meta.sort_values([\"id\",\"lu_year\",\"lu_month\", \"lu_date\"])[train_meta.sort_values([\"id\",\"lu_year\" ,\"lu_month\", \"lu_date\"]).id ==]"
   ]
  },
  {
   "cell_type": "code",
   "execution_count": null,
   "metadata": {},
   "outputs": [],
   "source": [
    "train_meta['p_limit'].max()"
   ]
  },
  {
   "cell_type": "code",
   "execution_count": null,
   "metadata": {},
   "outputs": [],
   "source": [
    "train_meta.sort_values([\"id\",\"lu_year\",\"lu_month\", \"lu_date\"]).groupby(\"id\")[\"p_limit\"].apply(lambda x: x.bfill()+1000)"
   ]
  },
  {
   "cell_type": "markdown",
   "metadata": {},
   "source": [
    "# Data Preprocessing and Transformation (Actual and Advanced preprocessing start here)"
   ]
  },
  {
   "cell_type": "markdown",
   "metadata": {},
   "source": [
    "**In this section we had done three things**\n",
    "\n",
    "1. Flled nan values of payment.csv and other datas by analysing those features, the description on how we done it can make the comments ver long for this notebook to address. we can describe if needed before second round selection.\n",
    "\n",
    "2. Aggregating from payment.csv and concateing into original data, Now how we made those features is a combination of outputs we got from above cells and some other analysis which can be described in a well expained manner later.\n",
    "\n",
    "3. Now made aggregations within the data resulted from part-2 on some basis\n"
   ]
  },
  {
   "cell_type": "code",
   "execution_count": 100,
   "metadata": {},
   "outputs": [],
   "source": [
    "## Converting date features to pd.to_datetime\n",
    "train_meta['last_update'] = pd.to_datetime(train_meta['last_update'], dayfirst=True)\n",
    "train_meta['recent_payment_activity'] = pd.to_datetime(train_meta['recent_payment_activity'], dayfirst=True)\n",
    "train_meta['lu_month'] = train_meta['last_update'].dt.month\n",
    "train_meta['lu_date'] = train_meta['last_update'].dt.day\n",
    "train_meta['lu_year'] = train_meta['last_update'].dt.year"
   ]
  },
  {
   "cell_type": "markdown",
   "metadata": {},
   "source": [
    "### Filling nans"
   ]
  },
  {
   "cell_type": "code",
   "execution_count": 101,
   "metadata": {},
   "outputs": [],
   "source": [
    "train_meta = train_meta.sort_values([\"id\",\"lu_year\",\"lu_month\", \"lu_date\"]).reset_index(drop = True) # sorted\n",
    "# drooping these lu columns\n",
    "train_meta.drop(columns=  [\"lu_month\", \"lu_year\", \"lu_date\"], inplace = True)"
   ]
  },
  {
   "cell_type": "code",
   "execution_count": 102,
   "metadata": {},
   "outputs": [
    {
     "name": "stderr",
     "output_type": "stream",
     "text": [
      "/opt/conda/lib/python3.7/site-packages/ipykernel_launcher.py:8: SettingWithCopyWarning: \n",
      "A value is trying to be set on a copy of a slice from a DataFrame\n",
      "\n",
      "See the caveats in the documentation: https://pandas.pydata.org/pandas-docs/stable/user_guide/indexing.html#returning-a-view-versus-a-copy\n",
      "  \n",
      "/opt/conda/lib/python3.7/site-packages/ipykernel_launcher.py:9: SettingWithCopyWarning: \n",
      "A value is trying to be set on a copy of a slice from a DataFrame\n",
      "\n",
      "See the caveats in the documentation: https://pandas.pydata.org/pandas-docs/stable/user_guide/indexing.html#returning-a-view-versus-a-copy\n",
      "  if __name__ == '__main__':\n",
      "/opt/conda/lib/python3.7/site-packages/ipykernel_launcher.py:10: SettingWithCopyWarning: \n",
      "A value is trying to be set on a copy of a slice from a DataFrame\n",
      "\n",
      "See the caveats in the documentation: https://pandas.pydata.org/pandas-docs/stable/user_guide/indexing.html#returning-a-view-versus-a-copy\n",
      "  # Remove the CWD from sys.path while we load stuff.\n",
      "/opt/conda/lib/python3.7/site-packages/ipykernel_launcher.py:11: SettingWithCopyWarning: \n",
      "A value is trying to be set on a copy of a slice from a DataFrame\n",
      "\n",
      "See the caveats in the documentation: https://pandas.pydata.org/pandas-docs/stable/user_guide/indexing.html#returning-a-view-versus-a-copy\n",
      "  # This is added back by InteractiveShellApp.init_path()\n"
     ]
    }
   ],
   "source": [
    "# fillings values in train_meta\n",
    "dt1 = pd.to_datetime(\"30/12/2016\", dayfirst = True) # for above 30/12/2016\n",
    "dt2 = pd.to_datetime(\"28/02/2017\", dayfirst = True) # for recent activity greater than this\n",
    "dt3 = pd.to_datetime(\"01/08/2015\", dayfirst = True) # for update onlt 2 of this type\n",
    "dt4 = pd.to_datetime(\"01/01/2021\", dayfirst = True) # for update onlt 2 of this type\n",
    "train_meta['max_bal'].fillna(0, inplace = True)### Filling max_balance with 0 in meta_data\n",
    "train_meta[\"p_limit\"] = train_meta.groupby(\"id\")[\"p_limit\"].ffill() #using ffill for filling 66 % data\n",
    "train_meta[\"last_update\"][(train_meta.last_update.isnull())&(train_meta.recent_payment_activity.isnull())] = train_meta[\"last_update\"][(train_meta.last_update.isnull())&(train_meta.recent_payment_activity.isnull())].fillna(dt1)\n",
    "train_meta[\"recent_payment_activity\"][(train_meta.last_update.isnull())&(train_meta.recent_payment_activity.isnull())] = train_meta[\"recent_payment_activity\"][(train_meta.last_update.isnull())&(train_meta.recent_payment_activity.isnull())].fillna(dt1)\n",
    "train_meta[\"last_update\"][(train_meta.last_update.isnull())&(~train_meta.recent_payment_activity.isnull())] = train_meta[\"last_update\"][(train_meta.last_update.isnull())&(~train_meta.recent_payment_activity.isnull())].fillna(dt3)\n",
    "train_meta[\"recent_payment_activity\"][(~train_meta.last_update.isnull())&(train_meta.recent_payment_activity.isnull())] = train_meta[\"recent_payment_activity\"][(~train_meta.last_update.isnull())&(train_meta.recent_payment_activity.isnull())].fillna(dt4)\n",
    "train_meta[\"p_limit\"] = train_meta.groupby(\"id\")[\"p_limit\"].apply(lambda x: x.bfill().ffill()+1000)\n",
    "train_meta[\"p_limit\"].fillna(400000, inplace = True)"
   ]
  },
  {
   "cell_type": "code",
   "execution_count": 103,
   "metadata": {},
   "outputs": [
    {
     "data": {
      "text/plain": [
       "id                         0\n",
       "Late_2                     0\n",
       "Late_1                     0\n",
       "Late_3                     0\n",
       "days_late_Sum              0\n",
       "normal_payment             0\n",
       "p_code                     0\n",
       "p_limit                    0\n",
       "last_update                0\n",
       "curr_remaining             0\n",
       "max_bal                    0\n",
       "recent_payment_activity    0\n",
       "dtype: int64"
      ]
     },
     "execution_count": 103,
     "metadata": {},
     "output_type": "execute_result"
    }
   ],
   "source": [
    "train_meta.isnull().sum()"
   ]
  },
  {
   "cell_type": "markdown",
   "metadata": {},
   "source": [
    "### Modifying original demographics data and fill nans of it\n"
   ]
  },
  {
   "cell_type": "code",
   "execution_count": 104,
   "metadata": {},
   "outputs": [],
   "source": [
    "# Concatenated both dataset train and test\n",
    "Y_train = train['label']\n",
    "dataset = pd.concat([train.drop(columns = ['label']), test]).reset_index(drop = True)"
   ]
  },
  {
   "cell_type": "code",
   "execution_count": 105,
   "metadata": {},
   "outputs": [
    {
     "data": {
      "text/plain": [
       "id           0\n",
       "Alpha        0\n",
       "Beta       149\n",
       "Gamma        0\n",
       "Delta        0\n",
       "Epsilon      0\n",
       "Zeta         0\n",
       "Eta          0\n",
       "Theta        0\n",
       "Iota         0\n",
       "Kappa        0\n",
       "Lambda       0\n",
       "omikron      0\n",
       "dtype: int64"
      ]
     },
     "execution_count": 105,
     "metadata": {},
     "output_type": "execute_result"
    }
   ],
   "source": [
    "dataset.isnull().sum()"
   ]
  },
  {
   "cell_type": "markdown",
   "metadata": {},
   "source": [
    "So it sounds reasonable to replace the nans with mean value of it\n"
   ]
  },
  {
   "cell_type": "code",
   "execution_count": 107,
   "metadata": {},
   "outputs": [],
   "source": [
    "# filling beta feature with median which we described earlier why we do it\n",
    "med = dataset['Beta'].median()\n",
    "dataset['Beta'].fillna(med, inplace = True)"
   ]
  },
  {
   "cell_type": "markdown",
   "metadata": {},
   "source": [
    "### Modifying Train data features"
   ]
  },
  {
   "cell_type": "code",
   "execution_count": 109,
   "metadata": {},
   "outputs": [],
   "source": [
    "dataset['Alpha'] = dataset['Alpha']//523  # as already mentioned divided by 523\n",
    "dataset[\"Del_bins\"] = (dataset['Delta']//1000).map(lambda x: 1 if x< 70 else 2 if x<250 else 3)  # biining the delta function into three based on its distribition\n",
    "dataset[\"Theta\"]  = dataset['Theta'].map(lambda x: 1 if x< 70 else 2 if x <80 else 3 if x<90 else 4 if x<100 else 5 if x<110 else 6) # Similarly Binning theta function which we hypothised as ages into discrete age group."
   ]
  },
  {
   "cell_type": "markdown",
   "metadata": {},
   "source": [
    "# Aggregation type1\n",
    "\n",
    "**Within payment_history.csv**\n",
    "\n",
    "1. curr_remaining-max_ball>0 feature agg in terms of everyhting(both as a category label and numerical label)\n",
    "2. variation of product limits how freuently changes(montonocity in this as well)\n",
    "3. monotnicity in curr_balance and max_bal\n",
    "4. days late sum aggregation\n",
    "5. amount of each late type aggregate\n",
    "6. ratios of 4th, 5th\n",
    "7. number of normal_payments/per_unit_time\n",
    "8. binning of days_late_sum"
   ]
  },
  {
   "cell_type": "markdown",
   "metadata": {},
   "source": [
    "## Aggregation1 starts from here (for making features from payment history)"
   ]
  },
  {
   "cell_type": "code",
   "execution_count": 110,
   "metadata": {},
   "outputs": [],
   "source": [
    "train_meta['days_per_session'] = (train_meta['recent_payment_activity'].dt.year-train_meta['last_update'].dt.year)*12 + (train_meta['recent_payment_activity'].dt.month-train_meta['last_update'].dt.month)+1\n",
    "train_meta['late_per_session'] = train_meta['days_late_Sum']/train_meta['days_per_session']\n",
    "train_meta[\"diff_bw_upd_pay\"] = train_meta['recent_payment_activity'].dt.year-train_meta['last_update'].dt.year\n",
    "agg_trans1 = train_meta.groupby('id')[[\"Late_2\", \"Late_3\", \"Late_1\", \"days_late_Sum\", \"normal_payment\"]].agg(['mean','std'])\n",
    "agg_trans1.columns = ['_'.join(col).strip() for col in agg_trans1.columns.values]\n",
    "agg_trans1.reset_index(inplace=True)\n",
    "\n",
    "df = train_meta.groupby('id').size().reset_index(name='transactions_count')\n",
    "agg_trans1 = pd.merge(df, agg_trans1, on='id', how='left')\n",
    "\n",
    "\n",
    "train_meta[\"p_limit_decr\"] = (train_meta.groupby('id')['p_limit'].diff().reset_index(drop=True)<0).map(lambda x:1 if x else 0 if np.isnan(x) else 0)\n",
    "\n",
    "train_meta[\"curr_greater_prev_max_bal\"] = (train_meta.curr_remaining- train_meta.max_bal>0).map(lambda x:1 if x else 0)\n",
    "agg_trans2 = train_meta.groupby('id')[[\"p_limit_decr\", \"curr_greater_prev_max_bal\", \"late_per_session\", \"diff_bw_upd_pay\"]].agg(['mean','std'])\n",
    "\n",
    "agg_trans2.columns = ['_'.join(col).strip() for col in agg_trans2.columns.values]\n",
    "agg_trans2.reset_index(inplace=True)\n",
    "agg_trans = pd.merge(agg_trans1, agg_trans2, on='id', how='left')"
   ]
  },
  {
   "cell_type": "code",
   "execution_count": 111,
   "metadata": {},
   "outputs": [
    {
     "data": {
      "text/plain": [
       "0    111\n",
       "1     20\n",
       "Name: label, dtype: int64"
      ]
     },
     "execution_count": 111,
     "metadata": {},
     "output_type": "execute_result"
    }
   ],
   "source": [
    "train[train.id.isin(dataset.sort_values(\"id\")[(train_meta.groupby(\"id\").tail(1).sort_values(\"id\")[\"curr_remaining\"]>100000).values].id)][\"label\"].value_counts()"
   ]
  },
  {
   "cell_type": "code",
   "execution_count": 112,
   "metadata": {},
   "outputs": [
    {
     "data": {
      "text/html": [
       "<div>\n",
       "<style scoped>\n",
       "    .dataframe tbody tr th:only-of-type {\n",
       "        vertical-align: middle;\n",
       "    }\n",
       "\n",
       "    .dataframe tbody tr th {\n",
       "        vertical-align: top;\n",
       "    }\n",
       "\n",
       "    .dataframe thead th {\n",
       "        text-align: right;\n",
       "    }\n",
       "</style>\n",
       "<table border=\"1\" class=\"dataframe\">\n",
       "  <thead>\n",
       "    <tr style=\"text-align: right;\">\n",
       "      <th></th>\n",
       "      <th>label</th>\n",
       "      <th>id</th>\n",
       "      <th>Alpha</th>\n",
       "      <th>Beta</th>\n",
       "      <th>Gamma</th>\n",
       "      <th>Delta</th>\n",
       "      <th>Epsilon</th>\n",
       "      <th>Zeta</th>\n",
       "      <th>Eta</th>\n",
       "      <th>Theta</th>\n",
       "      <th>Iota</th>\n",
       "      <th>Kappa</th>\n",
       "      <th>Lambda</th>\n",
       "      <th>omikron</th>\n",
       "    </tr>\n",
       "  </thead>\n",
       "  <tbody>\n",
       "    <tr>\n",
       "      <th>2</th>\n",
       "      <td>0</td>\n",
       "      <td>1489815797</td>\n",
       "      <td>2092</td>\n",
       "      <td>1244.0</td>\n",
       "      <td>3</td>\n",
       "      <td>107000</td>\n",
       "      <td>2</td>\n",
       "      <td>8</td>\n",
       "      <td>5</td>\n",
       "      <td>112</td>\n",
       "      <td>5</td>\n",
       "      <td>60017</td>\n",
       "      <td>3.162278</td>\n",
       "      <td>0.026786</td>\n",
       "    </tr>\n",
       "    <tr>\n",
       "      <th>3</th>\n",
       "      <td>0</td>\n",
       "      <td>1489759034</td>\n",
       "      <td>2092</td>\n",
       "      <td>1364.0</td>\n",
       "      <td>3</td>\n",
       "      <td>194000</td>\n",
       "      <td>2</td>\n",
       "      <td>8</td>\n",
       "      <td>5</td>\n",
       "      <td>110</td>\n",
       "      <td>5</td>\n",
       "      <td>151004</td>\n",
       "      <td>223.606798</td>\n",
       "      <td>0.027273</td>\n",
       "    </tr>\n",
       "    <tr>\n",
       "      <th>4</th>\n",
       "      <td>0</td>\n",
       "      <td>1486529479</td>\n",
       "      <td>3661</td>\n",
       "      <td>1289.0</td>\n",
       "      <td>3</td>\n",
       "      <td>305000</td>\n",
       "      <td>1</td>\n",
       "      <td>11</td>\n",
       "      <td>5</td>\n",
       "      <td>110</td>\n",
       "      <td>5</td>\n",
       "      <td>60033</td>\n",
       "      <td>236.643191</td>\n",
       "      <td>0.027273</td>\n",
       "    </tr>\n",
       "    <tr>\n",
       "      <th>5</th>\n",
       "      <td>1</td>\n",
       "      <td>1487734487</td>\n",
       "      <td>3661</td>\n",
       "      <td>1382.0</td>\n",
       "      <td>3</td>\n",
       "      <td>115000</td>\n",
       "      <td>2</td>\n",
       "      <td>11</td>\n",
       "      <td>5</td>\n",
       "      <td>100</td>\n",
       "      <td>5</td>\n",
       "      <td>60058</td>\n",
       "      <td>1.000000</td>\n",
       "      <td>0.030000</td>\n",
       "    </tr>\n",
       "    <tr>\n",
       "      <th>9</th>\n",
       "      <td>0</td>\n",
       "      <td>2233421</td>\n",
       "      <td>3661</td>\n",
       "      <td>1295.0</td>\n",
       "      <td>1</td>\n",
       "      <td>116000</td>\n",
       "      <td>2</td>\n",
       "      <td>11</td>\n",
       "      <td>9</td>\n",
       "      <td>108</td>\n",
       "      <td>4</td>\n",
       "      <td>151300</td>\n",
       "      <td>1.000000</td>\n",
       "      <td>0.009259</td>\n",
       "    </tr>\n",
       "    <tr>\n",
       "      <th>...</th>\n",
       "      <td>...</td>\n",
       "      <td>...</td>\n",
       "      <td>...</td>\n",
       "      <td>...</td>\n",
       "      <td>...</td>\n",
       "      <td>...</td>\n",
       "      <td>...</td>\n",
       "      <td>...</td>\n",
       "      <td>...</td>\n",
       "      <td>...</td>\n",
       "      <td>...</td>\n",
       "      <td>...</td>\n",
       "      <td>...</td>\n",
       "      <td>...</td>\n",
       "    </tr>\n",
       "    <tr>\n",
       "      <th>710</th>\n",
       "      <td>0</td>\n",
       "      <td>1485631659</td>\n",
       "      <td>2615</td>\n",
       "      <td>NaN</td>\n",
       "      <td>2</td>\n",
       "      <td>82000</td>\n",
       "      <td>2</td>\n",
       "      <td>15</td>\n",
       "      <td>5</td>\n",
       "      <td>106</td>\n",
       "      <td>5</td>\n",
       "      <td>60058</td>\n",
       "      <td>1.000000</td>\n",
       "      <td>0.018868</td>\n",
       "    </tr>\n",
       "    <tr>\n",
       "      <th>711</th>\n",
       "      <td>0</td>\n",
       "      <td>1487505580</td>\n",
       "      <td>3661</td>\n",
       "      <td>1326.5</td>\n",
       "      <td>1</td>\n",
       "      <td>141000</td>\n",
       "      <td>2</td>\n",
       "      <td>11</td>\n",
       "      <td>-1</td>\n",
       "      <td>67</td>\n",
       "      <td>5</td>\n",
       "      <td>60007</td>\n",
       "      <td>1.000000</td>\n",
       "      <td>0.014925</td>\n",
       "    </tr>\n",
       "    <tr>\n",
       "      <th>712</th>\n",
       "      <td>0</td>\n",
       "      <td>1492854287</td>\n",
       "      <td>2092</td>\n",
       "      <td>NaN</td>\n",
       "      <td>2</td>\n",
       "      <td>111000</td>\n",
       "      <td>2</td>\n",
       "      <td>8</td>\n",
       "      <td>5</td>\n",
       "      <td>110</td>\n",
       "      <td>4</td>\n",
       "      <td>60091</td>\n",
       "      <td>220.868739</td>\n",
       "      <td>0.018182</td>\n",
       "    </tr>\n",
       "    <tr>\n",
       "      <th>713</th>\n",
       "      <td>0</td>\n",
       "      <td>1492283318</td>\n",
       "      <td>2092</td>\n",
       "      <td>1370.0</td>\n",
       "      <td>1</td>\n",
       "      <td>273000</td>\n",
       "      <td>2</td>\n",
       "      <td>8</td>\n",
       "      <td>9</td>\n",
       "      <td>110</td>\n",
       "      <td>5</td>\n",
       "      <td>60015</td>\n",
       "      <td>1.000000</td>\n",
       "      <td>0.009091</td>\n",
       "    </tr>\n",
       "    <tr>\n",
       "      <th>714</th>\n",
       "      <td>0</td>\n",
       "      <td>1488721718</td>\n",
       "      <td>3661</td>\n",
       "      <td>1235.0</td>\n",
       "      <td>1</td>\n",
       "      <td>75000</td>\n",
       "      <td>2</td>\n",
       "      <td>11</td>\n",
       "      <td>5</td>\n",
       "      <td>91</td>\n",
       "      <td>5</td>\n",
       "      <td>350092</td>\n",
       "      <td>200.000000</td>\n",
       "      <td>0.010989</td>\n",
       "    </tr>\n",
       "  </tbody>\n",
       "</table>\n",
       "<p>549 rows × 14 columns</p>\n",
       "</div>"
      ],
      "text/plain": [
       "     label          id  Alpha    Beta  Gamma   Delta  Epsilon  Zeta  Eta  \\\n",
       "2        0  1489815797   2092  1244.0      3  107000        2     8    5   \n",
       "3        0  1489759034   2092  1364.0      3  194000        2     8    5   \n",
       "4        0  1486529479   3661  1289.0      3  305000        1    11    5   \n",
       "5        1  1487734487   3661  1382.0      3  115000        2    11    5   \n",
       "9        0     2233421   3661  1295.0      1  116000        2    11    9   \n",
       "..     ...         ...    ...     ...    ...     ...      ...   ...  ...   \n",
       "710      0  1485631659   2615     NaN      2   82000        2    15    5   \n",
       "711      0  1487505580   3661  1326.5      1  141000        2    11   -1   \n",
       "712      0  1492854287   2092     NaN      2  111000        2     8    5   \n",
       "713      0  1492283318   2092  1370.0      1  273000        2     8    9   \n",
       "714      0  1488721718   3661  1235.0      1   75000        2    11    5   \n",
       "\n",
       "     Theta  Iota   Kappa      Lambda   omikron  \n",
       "2      112     5   60017    3.162278  0.026786  \n",
       "3      110     5  151004  223.606798  0.027273  \n",
       "4      110     5   60033  236.643191  0.027273  \n",
       "5      100     5   60058    1.000000  0.030000  \n",
       "9      108     4  151300    1.000000  0.009259  \n",
       "..     ...   ...     ...         ...       ...  \n",
       "710    106     5   60058    1.000000  0.018868  \n",
       "711     67     5   60007    1.000000  0.014925  \n",
       "712    110     4   60091  220.868739  0.018182  \n",
       "713    110     5   60015    1.000000  0.009091  \n",
       "714     91     5  350092  200.000000  0.010989  \n",
       "\n",
       "[549 rows x 14 columns]"
      ]
     },
     "execution_count": 112,
     "metadata": {},
     "output_type": "execute_result"
    }
   ],
   "source": [
    "train[train.id.isin(dataset.sort_values(\"id\")[(train_meta.groupby(\"id\").tail(1).sort_values(\"id\")[\"curr_remaining\"]>1000).values].id)]"
   ]
  },
  {
   "cell_type": "code",
   "execution_count": 113,
   "metadata": {},
   "outputs": [
    {
     "data": {
      "text/html": [
       "<div>\n",
       "<style scoped>\n",
       "    .dataframe tbody tr th:only-of-type {\n",
       "        vertical-align: middle;\n",
       "    }\n",
       "\n",
       "    .dataframe tbody tr th {\n",
       "        vertical-align: top;\n",
       "    }\n",
       "\n",
       "    .dataframe thead th {\n",
       "        text-align: right;\n",
       "    }\n",
       "</style>\n",
       "<table border=\"1\" class=\"dataframe\">\n",
       "  <thead>\n",
       "    <tr style=\"text-align: right;\">\n",
       "      <th></th>\n",
       "      <th>id</th>\n",
       "      <th>Late_2</th>\n",
       "      <th>Late_1</th>\n",
       "      <th>Late_3</th>\n",
       "      <th>days_late_Sum</th>\n",
       "      <th>normal_payment</th>\n",
       "      <th>p_code</th>\n",
       "      <th>p_limit</th>\n",
       "      <th>last_update</th>\n",
       "      <th>curr_remaining</th>\n",
       "      <th>max_bal</th>\n",
       "      <th>recent_payment_activity</th>\n",
       "      <th>days_per_session</th>\n",
       "      <th>late_per_session</th>\n",
       "      <th>diff_bw_upd_pay</th>\n",
       "      <th>p_limit_decr</th>\n",
       "      <th>curr_greater_prev_max_bal</th>\n",
       "    </tr>\n",
       "  </thead>\n",
       "  <tbody>\n",
       "    <tr>\n",
       "      <th>18</th>\n",
       "      <td>1114</td>\n",
       "      <td>0</td>\n",
       "      <td>0</td>\n",
       "      <td>0</td>\n",
       "      <td>0</td>\n",
       "      <td>36</td>\n",
       "      <td>10</td>\n",
       "      <td>331000.0</td>\n",
       "      <td>1998-06-17</td>\n",
       "      <td>6.0</td>\n",
       "      <td>81139.0</td>\n",
       "      <td>2013-05-10</td>\n",
       "      <td>180</td>\n",
       "      <td>0.0</td>\n",
       "      <td>15</td>\n",
       "      <td>0</td>\n",
       "      <td>0</td>\n",
       "    </tr>\n",
       "    <tr>\n",
       "      <th>19</th>\n",
       "      <td>1114</td>\n",
       "      <td>0</td>\n",
       "      <td>0</td>\n",
       "      <td>0</td>\n",
       "      <td>0</td>\n",
       "      <td>18</td>\n",
       "      <td>12</td>\n",
       "      <td>331000.0</td>\n",
       "      <td>1998-10-02</td>\n",
       "      <td>0.0</td>\n",
       "      <td>31666.0</td>\n",
       "      <td>2006-06-28</td>\n",
       "      <td>93</td>\n",
       "      <td>0.0</td>\n",
       "      <td>8</td>\n",
       "      <td>0</td>\n",
       "      <td>0</td>\n",
       "    </tr>\n",
       "    <tr>\n",
       "      <th>20</th>\n",
       "      <td>1114</td>\n",
       "      <td>0</td>\n",
       "      <td>0</td>\n",
       "      <td>0</td>\n",
       "      <td>0</td>\n",
       "      <td>0</td>\n",
       "      <td>6</td>\n",
       "      <td>331000.0</td>\n",
       "      <td>2001-01-14</td>\n",
       "      <td>0.0</td>\n",
       "      <td>18000.0</td>\n",
       "      <td>2021-01-01</td>\n",
       "      <td>241</td>\n",
       "      <td>0.0</td>\n",
       "      <td>20</td>\n",
       "      <td>0</td>\n",
       "      <td>0</td>\n",
       "    </tr>\n",
       "    <tr>\n",
       "      <th>21</th>\n",
       "      <td>1114</td>\n",
       "      <td>0</td>\n",
       "      <td>0</td>\n",
       "      <td>0</td>\n",
       "      <td>0</td>\n",
       "      <td>10</td>\n",
       "      <td>6</td>\n",
       "      <td>331000.0</td>\n",
       "      <td>2001-01-14</td>\n",
       "      <td>0.0</td>\n",
       "      <td>16000.0</td>\n",
       "      <td>2021-01-01</td>\n",
       "      <td>241</td>\n",
       "      <td>0.0</td>\n",
       "      <td>20</td>\n",
       "      <td>0</td>\n",
       "      <td>0</td>\n",
       "    </tr>\n",
       "    <tr>\n",
       "      <th>22</th>\n",
       "      <td>1114</td>\n",
       "      <td>0</td>\n",
       "      <td>0</td>\n",
       "      <td>0</td>\n",
       "      <td>0</td>\n",
       "      <td>36</td>\n",
       "      <td>10</td>\n",
       "      <td>331000.0</td>\n",
       "      <td>2006-03-30</td>\n",
       "      <td>15938.4</td>\n",
       "      <td>28740.0</td>\n",
       "      <td>2015-11-26</td>\n",
       "      <td>117</td>\n",
       "      <td>0.0</td>\n",
       "      <td>9</td>\n",
       "      <td>0</td>\n",
       "      <td>0</td>\n",
       "    </tr>\n",
       "    <tr>\n",
       "      <th>23</th>\n",
       "      <td>1114</td>\n",
       "      <td>0</td>\n",
       "      <td>0</td>\n",
       "      <td>0</td>\n",
       "      <td>0</td>\n",
       "      <td>1</td>\n",
       "      <td>27</td>\n",
       "      <td>331000.0</td>\n",
       "      <td>2006-06-19</td>\n",
       "      <td>0.0</td>\n",
       "      <td>600500.0</td>\n",
       "      <td>2010-10-26</td>\n",
       "      <td>53</td>\n",
       "      <td>0.0</td>\n",
       "      <td>4</td>\n",
       "      <td>0</td>\n",
       "      <td>0</td>\n",
       "    </tr>\n",
       "    <tr>\n",
       "      <th>24</th>\n",
       "      <td>1114</td>\n",
       "      <td>0</td>\n",
       "      <td>0</td>\n",
       "      <td>0</td>\n",
       "      <td>0</td>\n",
       "      <td>16</td>\n",
       "      <td>27</td>\n",
       "      <td>331000.0</td>\n",
       "      <td>2006-06-19</td>\n",
       "      <td>0.0</td>\n",
       "      <td>600500.0</td>\n",
       "      <td>2021-01-01</td>\n",
       "      <td>176</td>\n",
       "      <td>0.0</td>\n",
       "      <td>15</td>\n",
       "      <td>0</td>\n",
       "      <td>0</td>\n",
       "    </tr>\n",
       "  </tbody>\n",
       "</table>\n",
       "</div>"
      ],
      "text/plain": [
       "      id  Late_2  Late_1  Late_3  days_late_Sum  normal_payment  p_code  \\\n",
       "18  1114       0       0       0              0              36      10   \n",
       "19  1114       0       0       0              0              18      12   \n",
       "20  1114       0       0       0              0               0       6   \n",
       "21  1114       0       0       0              0              10       6   \n",
       "22  1114       0       0       0              0              36      10   \n",
       "23  1114       0       0       0              0               1      27   \n",
       "24  1114       0       0       0              0              16      27   \n",
       "\n",
       "     p_limit last_update  curr_remaining   max_bal recent_payment_activity  \\\n",
       "18  331000.0  1998-06-17             6.0   81139.0              2013-05-10   \n",
       "19  331000.0  1998-10-02             0.0   31666.0              2006-06-28   \n",
       "20  331000.0  2001-01-14             0.0   18000.0              2021-01-01   \n",
       "21  331000.0  2001-01-14             0.0   16000.0              2021-01-01   \n",
       "22  331000.0  2006-03-30         15938.4   28740.0              2015-11-26   \n",
       "23  331000.0  2006-06-19             0.0  600500.0              2010-10-26   \n",
       "24  331000.0  2006-06-19             0.0  600500.0              2021-01-01   \n",
       "\n",
       "    days_per_session  late_per_session  diff_bw_upd_pay  p_limit_decr  \\\n",
       "18               180               0.0               15             0   \n",
       "19                93               0.0                8             0   \n",
       "20               241               0.0               20             0   \n",
       "21               241               0.0               20             0   \n",
       "22               117               0.0                9             0   \n",
       "23                53               0.0                4             0   \n",
       "24               176               0.0               15             0   \n",
       "\n",
       "    curr_greater_prev_max_bal  \n",
       "18                          0  \n",
       "19                          0  \n",
       "20                          0  \n",
       "21                          0  \n",
       "22                          0  \n",
       "23                          0  \n",
       "24                          0  "
      ]
     },
     "execution_count": 113,
     "metadata": {},
     "output_type": "execute_result"
    }
   ],
   "source": [
    "train_meta[train_meta.id==1114]"
   ]
  },
  {
   "cell_type": "code",
   "execution_count": 24,
   "metadata": {},
   "outputs": [
    {
     "data": {
      "text/plain": [
       "17       True\n",
       "28      False\n",
       "30      False\n",
       "34       True\n",
       "44      False\n",
       "        ...  \n",
       "7051    False\n",
       "7055    False\n",
       "7063     True\n",
       "7066    False\n",
       "7069    False\n",
       "Name: curr_remaining, Length: 1012, dtype: bool"
      ]
     },
     "execution_count": 24,
     "metadata": {},
     "output_type": "execute_result"
    }
   ],
   "source": [
    "train_meta.groupby(\"id\").tail(1).sort_values(\"id\")[\"curr_remaining\"]<=0"
   ]
  },
  {
   "cell_type": "markdown",
   "metadata": {},
   "source": [
    "**Combining both data payment history and original based on agg features**"
   ]
  },
  {
   "cell_type": "code",
   "execution_count": 114,
   "metadata": {},
   "outputs": [],
   "source": [
    "full_df = pd.merge(dataset, agg_trans, on='id', how='left')"
   ]
  },
  {
   "cell_type": "code",
   "execution_count": 116,
   "metadata": {},
   "outputs": [],
   "source": [
    "full_df.fillna(-1, inplace = True)  # Filling some nan values if there is any obtained from mathematical \n",
    "                                    # faults like divide by 0 likewise ith -1 to make it explicit"
   ]
  },
  {
   "cell_type": "code",
   "execution_count": 117,
   "metadata": {},
   "outputs": [
    {
     "data": {
      "text/html": [
       "<div>\n",
       "<style scoped>\n",
       "    .dataframe tbody tr th:only-of-type {\n",
       "        vertical-align: middle;\n",
       "    }\n",
       "\n",
       "    .dataframe tbody tr th {\n",
       "        vertical-align: top;\n",
       "    }\n",
       "\n",
       "    .dataframe thead th {\n",
       "        text-align: right;\n",
       "    }\n",
       "</style>\n",
       "<table border=\"1\" class=\"dataframe\">\n",
       "  <thead>\n",
       "    <tr style=\"text-align: right;\">\n",
       "      <th></th>\n",
       "      <th>id</th>\n",
       "      <th>Alpha</th>\n",
       "      <th>Beta</th>\n",
       "      <th>Gamma</th>\n",
       "      <th>Delta</th>\n",
       "      <th>Epsilon</th>\n",
       "      <th>Zeta</th>\n",
       "      <th>Eta</th>\n",
       "      <th>Theta</th>\n",
       "      <th>Iota</th>\n",
       "      <th>...</th>\n",
       "      <th>normal_payment_mean</th>\n",
       "      <th>normal_payment_std</th>\n",
       "      <th>p_limit_decr_mean</th>\n",
       "      <th>p_limit_decr_std</th>\n",
       "      <th>curr_greater_prev_max_bal_mean</th>\n",
       "      <th>curr_greater_prev_max_bal_std</th>\n",
       "      <th>late_per_session_mean</th>\n",
       "      <th>late_per_session_std</th>\n",
       "      <th>diff_bw_upd_pay_mean</th>\n",
       "      <th>diff_bw_upd_pay_std</th>\n",
       "    </tr>\n",
       "  </thead>\n",
       "  <tbody>\n",
       "    <tr>\n",
       "      <th>0</th>\n",
       "      <td>1484006679</td>\n",
       "      <td>1</td>\n",
       "      <td>1281.5</td>\n",
       "      <td>2</td>\n",
       "      <td>500000</td>\n",
       "      <td>2</td>\n",
       "      <td>5</td>\n",
       "      <td>-1</td>\n",
       "      <td>2</td>\n",
       "      <td>5</td>\n",
       "      <td>...</td>\n",
       "      <td>13.333333</td>\n",
       "      <td>14.449494</td>\n",
       "      <td>0.000000</td>\n",
       "      <td>0.000000</td>\n",
       "      <td>0.000000</td>\n",
       "      <td>0.000000</td>\n",
       "      <td>0.000000</td>\n",
       "      <td>0.000000</td>\n",
       "      <td>12.166667</td>\n",
       "      <td>6.336522</td>\n",
       "    </tr>\n",
       "    <tr>\n",
       "      <th>1</th>\n",
       "      <td>1489825072</td>\n",
       "      <td>4</td>\n",
       "      <td>1250.0</td>\n",
       "      <td>3</td>\n",
       "      <td>137000</td>\n",
       "      <td>2</td>\n",
       "      <td>8</td>\n",
       "      <td>5</td>\n",
       "      <td>4</td>\n",
       "      <td>5</td>\n",
       "      <td>...</td>\n",
       "      <td>25.125000</td>\n",
       "      <td>14.156649</td>\n",
       "      <td>0.125000</td>\n",
       "      <td>0.353553</td>\n",
       "      <td>0.000000</td>\n",
       "      <td>0.000000</td>\n",
       "      <td>0.002976</td>\n",
       "      <td>0.008418</td>\n",
       "      <td>4.000000</td>\n",
       "      <td>3.817254</td>\n",
       "    </tr>\n",
       "    <tr>\n",
       "      <th>2</th>\n",
       "      <td>1489815797</td>\n",
       "      <td>4</td>\n",
       "      <td>1244.0</td>\n",
       "      <td>3</td>\n",
       "      <td>107000</td>\n",
       "      <td>2</td>\n",
       "      <td>8</td>\n",
       "      <td>5</td>\n",
       "      <td>6</td>\n",
       "      <td>5</td>\n",
       "      <td>...</td>\n",
       "      <td>16.142857</td>\n",
       "      <td>7.335498</td>\n",
       "      <td>0.142857</td>\n",
       "      <td>0.377964</td>\n",
       "      <td>0.142857</td>\n",
       "      <td>0.377964</td>\n",
       "      <td>0.000000</td>\n",
       "      <td>0.000000</td>\n",
       "      <td>0.857143</td>\n",
       "      <td>0.899735</td>\n",
       "    </tr>\n",
       "    <tr>\n",
       "      <th>3</th>\n",
       "      <td>1489759034</td>\n",
       "      <td>4</td>\n",
       "      <td>1364.0</td>\n",
       "      <td>3</td>\n",
       "      <td>194000</td>\n",
       "      <td>2</td>\n",
       "      <td>8</td>\n",
       "      <td>5</td>\n",
       "      <td>6</td>\n",
       "      <td>5</td>\n",
       "      <td>...</td>\n",
       "      <td>15.750000</td>\n",
       "      <td>10.180514</td>\n",
       "      <td>0.000000</td>\n",
       "      <td>0.000000</td>\n",
       "      <td>0.125000</td>\n",
       "      <td>0.353553</td>\n",
       "      <td>0.000000</td>\n",
       "      <td>0.000000</td>\n",
       "      <td>1.375000</td>\n",
       "      <td>2.722263</td>\n",
       "    </tr>\n",
       "    <tr>\n",
       "      <th>4</th>\n",
       "      <td>1486529479</td>\n",
       "      <td>7</td>\n",
       "      <td>1289.0</td>\n",
       "      <td>3</td>\n",
       "      <td>305000</td>\n",
       "      <td>1</td>\n",
       "      <td>11</td>\n",
       "      <td>5</td>\n",
       "      <td>6</td>\n",
       "      <td>5</td>\n",
       "      <td>...</td>\n",
       "      <td>12.727273</td>\n",
       "      <td>11.849818</td>\n",
       "      <td>0.090909</td>\n",
       "      <td>0.301511</td>\n",
       "      <td>0.181818</td>\n",
       "      <td>0.404520</td>\n",
       "      <td>8.253961</td>\n",
       "      <td>17.825034</td>\n",
       "      <td>2.727273</td>\n",
       "      <td>2.760105</td>\n",
       "    </tr>\n",
       "    <tr>\n",
       "      <th>...</th>\n",
       "      <td>...</td>\n",
       "      <td>...</td>\n",
       "      <td>...</td>\n",
       "      <td>...</td>\n",
       "      <td>...</td>\n",
       "      <td>...</td>\n",
       "      <td>...</td>\n",
       "      <td>...</td>\n",
       "      <td>...</td>\n",
       "      <td>...</td>\n",
       "      <td>...</td>\n",
       "      <td>...</td>\n",
       "      <td>...</td>\n",
       "      <td>...</td>\n",
       "      <td>...</td>\n",
       "      <td>...</td>\n",
       "      <td>...</td>\n",
       "      <td>...</td>\n",
       "      <td>...</td>\n",
       "      <td>...</td>\n",
       "      <td>...</td>\n",
       "    </tr>\n",
       "    <tr>\n",
       "      <th>1120</th>\n",
       "      <td>1489702642</td>\n",
       "      <td>4</td>\n",
       "      <td>1313.0</td>\n",
       "      <td>3</td>\n",
       "      <td>134000</td>\n",
       "      <td>2</td>\n",
       "      <td>8</td>\n",
       "      <td>5</td>\n",
       "      <td>5</td>\n",
       "      <td>3</td>\n",
       "      <td>...</td>\n",
       "      <td>22.909091</td>\n",
       "      <td>14.046028</td>\n",
       "      <td>0.272727</td>\n",
       "      <td>0.467099</td>\n",
       "      <td>0.000000</td>\n",
       "      <td>0.000000</td>\n",
       "      <td>0.010250</td>\n",
       "      <td>0.031172</td>\n",
       "      <td>8.272727</td>\n",
       "      <td>5.728716</td>\n",
       "    </tr>\n",
       "    <tr>\n",
       "      <th>1121</th>\n",
       "      <td>1835338</td>\n",
       "      <td>7</td>\n",
       "      <td>1125.5</td>\n",
       "      <td>3</td>\n",
       "      <td>79000</td>\n",
       "      <td>2</td>\n",
       "      <td>11</td>\n",
       "      <td>-1</td>\n",
       "      <td>5</td>\n",
       "      <td>5</td>\n",
       "      <td>...</td>\n",
       "      <td>16.750000</td>\n",
       "      <td>12.685293</td>\n",
       "      <td>0.000000</td>\n",
       "      <td>0.000000</td>\n",
       "      <td>0.250000</td>\n",
       "      <td>0.500000</td>\n",
       "      <td>0.395427</td>\n",
       "      <td>0.523094</td>\n",
       "      <td>1.250000</td>\n",
       "      <td>1.500000</td>\n",
       "    </tr>\n",
       "    <tr>\n",
       "      <th>1122</th>\n",
       "      <td>1236915</td>\n",
       "      <td>7</td>\n",
       "      <td>1188.5</td>\n",
       "      <td>3</td>\n",
       "      <td>90000</td>\n",
       "      <td>2</td>\n",
       "      <td>11</td>\n",
       "      <td>5</td>\n",
       "      <td>4</td>\n",
       "      <td>5</td>\n",
       "      <td>...</td>\n",
       "      <td>11.500000</td>\n",
       "      <td>7.852813</td>\n",
       "      <td>0.000000</td>\n",
       "      <td>0.000000</td>\n",
       "      <td>0.250000</td>\n",
       "      <td>0.500000</td>\n",
       "      <td>0.785714</td>\n",
       "      <td>1.571429</td>\n",
       "      <td>1.250000</td>\n",
       "      <td>1.258306</td>\n",
       "    </tr>\n",
       "    <tr>\n",
       "      <th>1123</th>\n",
       "      <td>1489208099</td>\n",
       "      <td>7</td>\n",
       "      <td>1386.5</td>\n",
       "      <td>1</td>\n",
       "      <td>165000</td>\n",
       "      <td>2</td>\n",
       "      <td>11</td>\n",
       "      <td>-1</td>\n",
       "      <td>5</td>\n",
       "      <td>3</td>\n",
       "      <td>...</td>\n",
       "      <td>23.000000</td>\n",
       "      <td>9.643651</td>\n",
       "      <td>0.200000</td>\n",
       "      <td>0.447214</td>\n",
       "      <td>0.200000</td>\n",
       "      <td>0.447214</td>\n",
       "      <td>0.000000</td>\n",
       "      <td>0.000000</td>\n",
       "      <td>1.200000</td>\n",
       "      <td>1.095445</td>\n",
       "    </tr>\n",
       "    <tr>\n",
       "      <th>1124</th>\n",
       "      <td>3788282</td>\n",
       "      <td>7</td>\n",
       "      <td>1350.5</td>\n",
       "      <td>3</td>\n",
       "      <td>130000</td>\n",
       "      <td>1</td>\n",
       "      <td>11</td>\n",
       "      <td>5</td>\n",
       "      <td>4</td>\n",
       "      <td>5</td>\n",
       "      <td>...</td>\n",
       "      <td>16.400000</td>\n",
       "      <td>11.193748</td>\n",
       "      <td>0.000000</td>\n",
       "      <td>0.000000</td>\n",
       "      <td>0.200000</td>\n",
       "      <td>0.447214</td>\n",
       "      <td>0.000000</td>\n",
       "      <td>0.000000</td>\n",
       "      <td>1.000000</td>\n",
       "      <td>0.000000</td>\n",
       "    </tr>\n",
       "  </tbody>\n",
       "</table>\n",
       "<p>1125 rows × 33 columns</p>\n",
       "</div>"
      ],
      "text/plain": [
       "              id  Alpha    Beta  Gamma   Delta  Epsilon  Zeta  Eta  Theta  \\\n",
       "0     1484006679      1  1281.5      2  500000        2     5   -1      2   \n",
       "1     1489825072      4  1250.0      3  137000        2     8    5      4   \n",
       "2     1489815797      4  1244.0      3  107000        2     8    5      6   \n",
       "3     1489759034      4  1364.0      3  194000        2     8    5      6   \n",
       "4     1486529479      7  1289.0      3  305000        1    11    5      6   \n",
       "...          ...    ...     ...    ...     ...      ...   ...  ...    ...   \n",
       "1120  1489702642      4  1313.0      3  134000        2     8    5      5   \n",
       "1121     1835338      7  1125.5      3   79000        2    11   -1      5   \n",
       "1122     1236915      7  1188.5      3   90000        2    11    5      4   \n",
       "1123  1489208099      7  1386.5      1  165000        2    11   -1      5   \n",
       "1124     3788282      7  1350.5      3  130000        1    11    5      4   \n",
       "\n",
       "      Iota  ...  normal_payment_mean  normal_payment_std  p_limit_decr_mean  \\\n",
       "0        5  ...            13.333333           14.449494           0.000000   \n",
       "1        5  ...            25.125000           14.156649           0.125000   \n",
       "2        5  ...            16.142857            7.335498           0.142857   \n",
       "3        5  ...            15.750000           10.180514           0.000000   \n",
       "4        5  ...            12.727273           11.849818           0.090909   \n",
       "...    ...  ...                  ...                 ...                ...   \n",
       "1120     3  ...            22.909091           14.046028           0.272727   \n",
       "1121     5  ...            16.750000           12.685293           0.000000   \n",
       "1122     5  ...            11.500000            7.852813           0.000000   \n",
       "1123     3  ...            23.000000            9.643651           0.200000   \n",
       "1124     5  ...            16.400000           11.193748           0.000000   \n",
       "\n",
       "      p_limit_decr_std  curr_greater_prev_max_bal_mean  \\\n",
       "0             0.000000                        0.000000   \n",
       "1             0.353553                        0.000000   \n",
       "2             0.377964                        0.142857   \n",
       "3             0.000000                        0.125000   \n",
       "4             0.301511                        0.181818   \n",
       "...                ...                             ...   \n",
       "1120          0.467099                        0.000000   \n",
       "1121          0.000000                        0.250000   \n",
       "1122          0.000000                        0.250000   \n",
       "1123          0.447214                        0.200000   \n",
       "1124          0.000000                        0.200000   \n",
       "\n",
       "      curr_greater_prev_max_bal_std  late_per_session_mean  \\\n",
       "0                          0.000000               0.000000   \n",
       "1                          0.000000               0.002976   \n",
       "2                          0.377964               0.000000   \n",
       "3                          0.353553               0.000000   \n",
       "4                          0.404520               8.253961   \n",
       "...                             ...                    ...   \n",
       "1120                       0.000000               0.010250   \n",
       "1121                       0.500000               0.395427   \n",
       "1122                       0.500000               0.785714   \n",
       "1123                       0.447214               0.000000   \n",
       "1124                       0.447214               0.000000   \n",
       "\n",
       "      late_per_session_std  diff_bw_upd_pay_mean  diff_bw_upd_pay_std  \n",
       "0                 0.000000             12.166667             6.336522  \n",
       "1                 0.008418              4.000000             3.817254  \n",
       "2                 0.000000              0.857143             0.899735  \n",
       "3                 0.000000              1.375000             2.722263  \n",
       "4                17.825034              2.727273             2.760105  \n",
       "...                    ...                   ...                  ...  \n",
       "1120              0.031172              8.272727             5.728716  \n",
       "1121              0.523094              1.250000             1.500000  \n",
       "1122              1.571429              1.250000             1.258306  \n",
       "1123              0.000000              1.200000             1.095445  \n",
       "1124              0.000000              1.000000             0.000000  \n",
       "\n",
       "[1125 rows x 33 columns]"
      ]
     },
     "execution_count": 117,
     "metadata": {},
     "output_type": "execute_result"
    }
   ],
   "source": [
    "full_df"
   ]
  },
  {
   "cell_type": "markdown",
   "metadata": {},
   "source": [
    "## AGGREGATION TYPE2"
   ]
  },
  {
   "cell_type": "markdown",
   "metadata": {},
   "source": [
    "Let'us use some of the categorical datas to generate features which can be used by tree based models.\n",
    "Here used groupby on the above generated data to made features which can be benefical in making best split for a model like xgboost of LGBM with more depth."
   ]
  },
  {
   "cell_type": "code",
   "execution_count": 118,
   "metadata": {},
   "outputs": [],
   "source": [
    "full_df[\"mean_late_days_per_delta_week\"] = full_df.groupby([\"Del_bins\", \"Alpha\"])[\"late_per_session_mean\"].transform(\"mean\")\n",
    "full_df[\"late_vs_epsilon\"] = full_df.groupby([\"Epsilon\"])[\"late_per_session_mean\"].transform(\"mean\")\n",
    "#full_df[\"beta_bins\"] = full_df.groupby([\"Del_bins\"])[\"Beta\"].transform(\"mean\")\n",
    "full_df[\"payments_regions\"] = full_df.groupby([\"Gamma\", \"Del_bins\", \"Epsilon\"])[\"normal_payment_mean\"].transform(\"sum\")\n",
    "#full_df[\"bal_incre_region\"] = full_df.groupby([\"Gamma\"])[\"max_bal_incr_mean\"].transform(\"sum\")\n",
    "full_df[\"limit_dec_region\"] = full_df.groupby([\"Gamma\"])[\"p_limit_decr_mean\"].transform(\"sum\")\n",
    "#full_df[\"total_days_per_days_update\"] = full_df.groupby([\"Alpha\"])[\"days_per_session_mean\"].transform(\"mean\")\n",
    "#full_df[\"kappa_per_bin\"] = full_df.groupby([\"Del_bins\"])[\"Kappa\"].transform(\"mean\")\n",
    "\n",
    "full_df[\"delta_per_theta\"] = full_df.groupby([\"Theta\"])[\"Delta\"].transform(\"mean\")\n",
    "#full_df[\"late_per_theta\"] = full_df.groupby([\"Theta\"])[\"Late_3_mean\"].transform(\"mean\")"
   ]
  },
  {
   "cell_type": "code",
   "execution_count": 30,
   "metadata": {},
   "outputs": [
    {
     "data": {
      "text/html": [
       "<div>\n",
       "<style scoped>\n",
       "    .dataframe tbody tr th:only-of-type {\n",
       "        vertical-align: middle;\n",
       "    }\n",
       "\n",
       "    .dataframe tbody tr th {\n",
       "        vertical-align: top;\n",
       "    }\n",
       "\n",
       "    .dataframe thead th {\n",
       "        text-align: right;\n",
       "    }\n",
       "</style>\n",
       "<table border=\"1\" class=\"dataframe\">\n",
       "  <thead>\n",
       "    <tr style=\"text-align: right;\">\n",
       "      <th></th>\n",
       "      <th>id</th>\n",
       "      <th>Alpha</th>\n",
       "      <th>Beta</th>\n",
       "      <th>Gamma</th>\n",
       "      <th>Delta</th>\n",
       "      <th>Epsilon</th>\n",
       "      <th>Zeta</th>\n",
       "      <th>Eta</th>\n",
       "      <th>Theta</th>\n",
       "      <th>Iota</th>\n",
       "      <th>...</th>\n",
       "      <th>diff_bw_upd_pay_mean</th>\n",
       "      <th>diff_bw_upd_pay_std</th>\n",
       "      <th>mean_late_days_per_delta_week</th>\n",
       "      <th>late_vs_epsilon</th>\n",
       "      <th>beta_bins</th>\n",
       "      <th>payments_regions</th>\n",
       "      <th>bal_incre_region</th>\n",
       "      <th>limit_dec_region</th>\n",
       "      <th>total_days_per_days_update</th>\n",
       "      <th>delta_per_theta</th>\n",
       "    </tr>\n",
       "  </thead>\n",
       "  <tbody>\n",
       "    <tr>\n",
       "      <th>0</th>\n",
       "      <td>1489825072</td>\n",
       "      <td>4</td>\n",
       "      <td>1250.0</td>\n",
       "      <td>3</td>\n",
       "      <td>137000</td>\n",
       "      <td>2</td>\n",
       "      <td>8</td>\n",
       "      <td>5</td>\n",
       "      <td>4</td>\n",
       "      <td>5</td>\n",
       "      <td>...</td>\n",
       "      <td>4.000000</td>\n",
       "      <td>3.817254</td>\n",
       "      <td>-0.012682</td>\n",
       "      <td>3.949673</td>\n",
       "      <td>1289.836376</td>\n",
       "      <td>5747.087156</td>\n",
       "      <td>229.968746</td>\n",
       "      <td>28.650335</td>\n",
       "      <td>29.693415</td>\n",
       "      <td>115893.129771</td>\n",
       "    </tr>\n",
       "    <tr>\n",
       "      <th>1</th>\n",
       "      <td>1489815797</td>\n",
       "      <td>4</td>\n",
       "      <td>1244.0</td>\n",
       "      <td>3</td>\n",
       "      <td>107000</td>\n",
       "      <td>2</td>\n",
       "      <td>8</td>\n",
       "      <td>5</td>\n",
       "      <td>6</td>\n",
       "      <td>5</td>\n",
       "      <td>...</td>\n",
       "      <td>0.857143</td>\n",
       "      <td>0.899735</td>\n",
       "      <td>-0.012682</td>\n",
       "      <td>3.949673</td>\n",
       "      <td>1289.836376</td>\n",
       "      <td>5747.087156</td>\n",
       "      <td>229.968746</td>\n",
       "      <td>28.650335</td>\n",
       "      <td>29.693415</td>\n",
       "      <td>107848.837209</td>\n",
       "    </tr>\n",
       "    <tr>\n",
       "      <th>2</th>\n",
       "      <td>1489759034</td>\n",
       "      <td>4</td>\n",
       "      <td>1364.0</td>\n",
       "      <td>3</td>\n",
       "      <td>194000</td>\n",
       "      <td>2</td>\n",
       "      <td>8</td>\n",
       "      <td>5</td>\n",
       "      <td>6</td>\n",
       "      <td>5</td>\n",
       "      <td>...</td>\n",
       "      <td>1.375000</td>\n",
       "      <td>2.722263</td>\n",
       "      <td>-0.012682</td>\n",
       "      <td>3.949673</td>\n",
       "      <td>1289.836376</td>\n",
       "      <td>5747.087156</td>\n",
       "      <td>229.968746</td>\n",
       "      <td>28.650335</td>\n",
       "      <td>29.693415</td>\n",
       "      <td>107848.837209</td>\n",
       "    </tr>\n",
       "    <tr>\n",
       "      <th>3</th>\n",
       "      <td>1487734487</td>\n",
       "      <td>7</td>\n",
       "      <td>1382.0</td>\n",
       "      <td>3</td>\n",
       "      <td>115000</td>\n",
       "      <td>2</td>\n",
       "      <td>11</td>\n",
       "      <td>5</td>\n",
       "      <td>5</td>\n",
       "      <td>5</td>\n",
       "      <td>...</td>\n",
       "      <td>4.166667</td>\n",
       "      <td>2.136976</td>\n",
       "      <td>5.878214</td>\n",
       "      <td>3.949673</td>\n",
       "      <td>1289.836376</td>\n",
       "      <td>5747.087156</td>\n",
       "      <td>229.968746</td>\n",
       "      <td>28.650335</td>\n",
       "      <td>30.964916</td>\n",
       "      <td>114717.460317</td>\n",
       "    </tr>\n",
       "    <tr>\n",
       "      <th>4</th>\n",
       "      <td>2959839</td>\n",
       "      <td>4</td>\n",
       "      <td>1314.5</td>\n",
       "      <td>1</td>\n",
       "      <td>177000</td>\n",
       "      <td>2</td>\n",
       "      <td>8</td>\n",
       "      <td>-1</td>\n",
       "      <td>6</td>\n",
       "      <td>5</td>\n",
       "      <td>...</td>\n",
       "      <td>2.500000</td>\n",
       "      <td>1.914854</td>\n",
       "      <td>-0.012682</td>\n",
       "      <td>3.949673</td>\n",
       "      <td>1289.836376</td>\n",
       "      <td>3021.218784</td>\n",
       "      <td>91.594112</td>\n",
       "      <td>12.963645</td>\n",
       "      <td>29.693415</td>\n",
       "      <td>107848.837209</td>\n",
       "    </tr>\n",
       "    <tr>\n",
       "      <th>...</th>\n",
       "      <td>...</td>\n",
       "      <td>...</td>\n",
       "      <td>...</td>\n",
       "      <td>...</td>\n",
       "      <td>...</td>\n",
       "      <td>...</td>\n",
       "      <td>...</td>\n",
       "      <td>...</td>\n",
       "      <td>...</td>\n",
       "      <td>...</td>\n",
       "      <td>...</td>\n",
       "      <td>...</td>\n",
       "      <td>...</td>\n",
       "      <td>...</td>\n",
       "      <td>...</td>\n",
       "      <td>...</td>\n",
       "      <td>...</td>\n",
       "      <td>...</td>\n",
       "      <td>...</td>\n",
       "      <td>...</td>\n",
       "      <td>...</td>\n",
       "    </tr>\n",
       "    <tr>\n",
       "      <th>1007</th>\n",
       "      <td>1489702642</td>\n",
       "      <td>4</td>\n",
       "      <td>1313.0</td>\n",
       "      <td>3</td>\n",
       "      <td>134000</td>\n",
       "      <td>2</td>\n",
       "      <td>8</td>\n",
       "      <td>5</td>\n",
       "      <td>5</td>\n",
       "      <td>3</td>\n",
       "      <td>...</td>\n",
       "      <td>8.272727</td>\n",
       "      <td>5.728716</td>\n",
       "      <td>-0.012682</td>\n",
       "      <td>3.949673</td>\n",
       "      <td>1289.836376</td>\n",
       "      <td>5747.087156</td>\n",
       "      <td>229.968746</td>\n",
       "      <td>28.650335</td>\n",
       "      <td>29.693415</td>\n",
       "      <td>114717.460317</td>\n",
       "    </tr>\n",
       "    <tr>\n",
       "      <th>1008</th>\n",
       "      <td>1835338</td>\n",
       "      <td>7</td>\n",
       "      <td>1125.5</td>\n",
       "      <td>3</td>\n",
       "      <td>79000</td>\n",
       "      <td>2</td>\n",
       "      <td>11</td>\n",
       "      <td>-1</td>\n",
       "      <td>5</td>\n",
       "      <td>5</td>\n",
       "      <td>...</td>\n",
       "      <td>1.250000</td>\n",
       "      <td>1.500000</td>\n",
       "      <td>5.878214</td>\n",
       "      <td>3.949673</td>\n",
       "      <td>1289.836376</td>\n",
       "      <td>5747.087156</td>\n",
       "      <td>229.968746</td>\n",
       "      <td>28.650335</td>\n",
       "      <td>30.964916</td>\n",
       "      <td>114717.460317</td>\n",
       "    </tr>\n",
       "    <tr>\n",
       "      <th>1009</th>\n",
       "      <td>1236915</td>\n",
       "      <td>7</td>\n",
       "      <td>1188.5</td>\n",
       "      <td>3</td>\n",
       "      <td>90000</td>\n",
       "      <td>2</td>\n",
       "      <td>11</td>\n",
       "      <td>5</td>\n",
       "      <td>4</td>\n",
       "      <td>5</td>\n",
       "      <td>...</td>\n",
       "      <td>1.250000</td>\n",
       "      <td>1.258306</td>\n",
       "      <td>5.878214</td>\n",
       "      <td>3.949673</td>\n",
       "      <td>1289.836376</td>\n",
       "      <td>5747.087156</td>\n",
       "      <td>229.968746</td>\n",
       "      <td>28.650335</td>\n",
       "      <td>30.964916</td>\n",
       "      <td>115893.129771</td>\n",
       "    </tr>\n",
       "    <tr>\n",
       "      <th>1010</th>\n",
       "      <td>1489208099</td>\n",
       "      <td>7</td>\n",
       "      <td>1386.5</td>\n",
       "      <td>1</td>\n",
       "      <td>165000</td>\n",
       "      <td>2</td>\n",
       "      <td>11</td>\n",
       "      <td>-1</td>\n",
       "      <td>5</td>\n",
       "      <td>3</td>\n",
       "      <td>...</td>\n",
       "      <td>1.200000</td>\n",
       "      <td>1.095445</td>\n",
       "      <td>5.878214</td>\n",
       "      <td>3.949673</td>\n",
       "      <td>1289.836376</td>\n",
       "      <td>3021.218784</td>\n",
       "      <td>91.594112</td>\n",
       "      <td>12.963645</td>\n",
       "      <td>30.964916</td>\n",
       "      <td>114717.460317</td>\n",
       "    </tr>\n",
       "    <tr>\n",
       "      <th>1011</th>\n",
       "      <td>3788282</td>\n",
       "      <td>7</td>\n",
       "      <td>1350.5</td>\n",
       "      <td>3</td>\n",
       "      <td>130000</td>\n",
       "      <td>1</td>\n",
       "      <td>11</td>\n",
       "      <td>5</td>\n",
       "      <td>4</td>\n",
       "      <td>5</td>\n",
       "      <td>...</td>\n",
       "      <td>1.000000</td>\n",
       "      <td>0.000000</td>\n",
       "      <td>5.878214</td>\n",
       "      <td>1.358755</td>\n",
       "      <td>1289.836376</td>\n",
       "      <td>494.057824</td>\n",
       "      <td>229.968746</td>\n",
       "      <td>28.650335</td>\n",
       "      <td>30.964916</td>\n",
       "      <td>115893.129771</td>\n",
       "    </tr>\n",
       "  </tbody>\n",
       "</table>\n",
       "<p>1012 rows × 45 columns</p>\n",
       "</div>"
      ],
      "text/plain": [
       "              id  Alpha    Beta  Gamma   Delta  Epsilon  Zeta  Eta  Theta  \\\n",
       "0     1489825072      4  1250.0      3  137000        2     8    5      4   \n",
       "1     1489815797      4  1244.0      3  107000        2     8    5      6   \n",
       "2     1489759034      4  1364.0      3  194000        2     8    5      6   \n",
       "3     1487734487      7  1382.0      3  115000        2    11    5      5   \n",
       "4        2959839      4  1314.5      1  177000        2     8   -1      6   \n",
       "...          ...    ...     ...    ...     ...      ...   ...  ...    ...   \n",
       "1007  1489702642      4  1313.0      3  134000        2     8    5      5   \n",
       "1008     1835338      7  1125.5      3   79000        2    11   -1      5   \n",
       "1009     1236915      7  1188.5      3   90000        2    11    5      4   \n",
       "1010  1489208099      7  1386.5      1  165000        2    11   -1      5   \n",
       "1011     3788282      7  1350.5      3  130000        1    11    5      4   \n",
       "\n",
       "      Iota  ...  diff_bw_upd_pay_mean  diff_bw_upd_pay_std  \\\n",
       "0        5  ...              4.000000             3.817254   \n",
       "1        5  ...              0.857143             0.899735   \n",
       "2        5  ...              1.375000             2.722263   \n",
       "3        5  ...              4.166667             2.136976   \n",
       "4        5  ...              2.500000             1.914854   \n",
       "...    ...  ...                   ...                  ...   \n",
       "1007     3  ...              8.272727             5.728716   \n",
       "1008     5  ...              1.250000             1.500000   \n",
       "1009     5  ...              1.250000             1.258306   \n",
       "1010     3  ...              1.200000             1.095445   \n",
       "1011     5  ...              1.000000             0.000000   \n",
       "\n",
       "      mean_late_days_per_delta_week  late_vs_epsilon    beta_bins  \\\n",
       "0                         -0.012682         3.949673  1289.836376   \n",
       "1                         -0.012682         3.949673  1289.836376   \n",
       "2                         -0.012682         3.949673  1289.836376   \n",
       "3                          5.878214         3.949673  1289.836376   \n",
       "4                         -0.012682         3.949673  1289.836376   \n",
       "...                             ...              ...          ...   \n",
       "1007                      -0.012682         3.949673  1289.836376   \n",
       "1008                       5.878214         3.949673  1289.836376   \n",
       "1009                       5.878214         3.949673  1289.836376   \n",
       "1010                       5.878214         3.949673  1289.836376   \n",
       "1011                       5.878214         1.358755  1289.836376   \n",
       "\n",
       "      payments_regions  bal_incre_region  limit_dec_region  \\\n",
       "0          5747.087156        229.968746         28.650335   \n",
       "1          5747.087156        229.968746         28.650335   \n",
       "2          5747.087156        229.968746         28.650335   \n",
       "3          5747.087156        229.968746         28.650335   \n",
       "4          3021.218784         91.594112         12.963645   \n",
       "...                ...               ...               ...   \n",
       "1007       5747.087156        229.968746         28.650335   \n",
       "1008       5747.087156        229.968746         28.650335   \n",
       "1009       5747.087156        229.968746         28.650335   \n",
       "1010       3021.218784         91.594112         12.963645   \n",
       "1011        494.057824        229.968746         28.650335   \n",
       "\n",
       "      total_days_per_days_update  delta_per_theta  \n",
       "0                      29.693415    115893.129771  \n",
       "1                      29.693415    107848.837209  \n",
       "2                      29.693415    107848.837209  \n",
       "3                      30.964916    114717.460317  \n",
       "4                      29.693415    107848.837209  \n",
       "...                          ...              ...  \n",
       "1007                   29.693415    114717.460317  \n",
       "1008                   30.964916    114717.460317  \n",
       "1009                   30.964916    115893.129771  \n",
       "1010                   30.964916    114717.460317  \n",
       "1011                   30.964916    115893.129771  \n",
       "\n",
       "[1012 rows x 45 columns]"
      ]
     },
     "execution_count": 30,
     "metadata": {},
     "output_type": "execute_result"
    }
   ],
   "source": [
    "full_df"
   ]
  },
  {
   "cell_type": "code",
   "execution_count": 31,
   "metadata": {},
   "outputs": [
    {
     "data": {
      "text/html": [
       "<div>\n",
       "<style scoped>\n",
       "    .dataframe tbody tr th:only-of-type {\n",
       "        vertical-align: middle;\n",
       "    }\n",
       "\n",
       "    .dataframe tbody tr th {\n",
       "        vertical-align: top;\n",
       "    }\n",
       "\n",
       "    .dataframe thead th {\n",
       "        text-align: right;\n",
       "    }\n",
       "</style>\n",
       "<table border=\"1\" class=\"dataframe\">\n",
       "  <thead>\n",
       "    <tr style=\"text-align: right;\">\n",
       "      <th></th>\n",
       "      <th>id</th>\n",
       "      <th>Late_2</th>\n",
       "      <th>Late_1</th>\n",
       "      <th>Late_3</th>\n",
       "      <th>days_late_Sum</th>\n",
       "      <th>normal_payment</th>\n",
       "      <th>p_code</th>\n",
       "      <th>p_limit</th>\n",
       "      <th>last_update</th>\n",
       "      <th>curr_remaining</th>\n",
       "      <th>max_bal</th>\n",
       "      <th>recent_payment_activity</th>\n",
       "      <th>days_per_session</th>\n",
       "      <th>late_per_session</th>\n",
       "      <th>diff_bw_upd_pay</th>\n",
       "      <th>p_limit_decr</th>\n",
       "      <th>max_bal_incr</th>\n",
       "      <th>curr_greater_prev_max_bal</th>\n",
       "    </tr>\n",
       "  </thead>\n",
       "  <tbody>\n",
       "    <tr>\n",
       "      <th>0</th>\n",
       "      <td>1</td>\n",
       "      <td>0</td>\n",
       "      <td>0</td>\n",
       "      <td>0</td>\n",
       "      <td>0</td>\n",
       "      <td>0</td>\n",
       "      <td>10</td>\n",
       "      <td>276000.0</td>\n",
       "      <td>1994-12-18</td>\n",
       "      <td>13909.2</td>\n",
       "      <td>0.0</td>\n",
       "      <td>2021-01-01</td>\n",
       "      <td>314</td>\n",
       "      <td>0.000000</td>\n",
       "      <td>27</td>\n",
       "      <td>0</td>\n",
       "      <td>0</td>\n",
       "      <td>1</td>\n",
       "    </tr>\n",
       "    <tr>\n",
       "      <th>1</th>\n",
       "      <td>1</td>\n",
       "      <td>1</td>\n",
       "      <td>0</td>\n",
       "      <td>0</td>\n",
       "      <td>15</td>\n",
       "      <td>35</td>\n",
       "      <td>10</td>\n",
       "      <td>276000.0</td>\n",
       "      <td>1997-04-21</td>\n",
       "      <td>-1197.6</td>\n",
       "      <td>333140.0</td>\n",
       "      <td>2015-07-21</td>\n",
       "      <td>220</td>\n",
       "      <td>0.068182</td>\n",
       "      <td>18</td>\n",
       "      <td>0</td>\n",
       "      <td>1</td>\n",
       "      <td>0</td>\n",
       "    </tr>\n",
       "    <tr>\n",
       "      <th>2</th>\n",
       "      <td>1</td>\n",
       "      <td>0</td>\n",
       "      <td>0</td>\n",
       "      <td>0</td>\n",
       "      <td>0</td>\n",
       "      <td>11</td>\n",
       "      <td>2</td>\n",
       "      <td>276000.0</td>\n",
       "      <td>2001-02-21</td>\n",
       "      <td>0.0</td>\n",
       "      <td>248874.0</td>\n",
       "      <td>2007-06-22</td>\n",
       "      <td>77</td>\n",
       "      <td>0.000000</td>\n",
       "      <td>6</td>\n",
       "      <td>0</td>\n",
       "      <td>0</td>\n",
       "      <td>0</td>\n",
       "    </tr>\n",
       "    <tr>\n",
       "      <th>3</th>\n",
       "      <td>1</td>\n",
       "      <td>0</td>\n",
       "      <td>0</td>\n",
       "      <td>0</td>\n",
       "      <td>0</td>\n",
       "      <td>35</td>\n",
       "      <td>10</td>\n",
       "      <td>6500.0</td>\n",
       "      <td>2003-01-05</td>\n",
       "      <td>0.0</td>\n",
       "      <td>4043.0</td>\n",
       "      <td>2003-11-25</td>\n",
       "      <td>11</td>\n",
       "      <td>0.000000</td>\n",
       "      <td>0</td>\n",
       "      <td>1</td>\n",
       "      <td>0</td>\n",
       "      <td>0</td>\n",
       "    </tr>\n",
       "    <tr>\n",
       "      <th>4</th>\n",
       "      <td>1</td>\n",
       "      <td>0</td>\n",
       "      <td>0</td>\n",
       "      <td>0</td>\n",
       "      <td>0</td>\n",
       "      <td>4</td>\n",
       "      <td>10</td>\n",
       "      <td>6500.0</td>\n",
       "      <td>2003-09-17</td>\n",
       "      <td>0.0</td>\n",
       "      <td>4458.0</td>\n",
       "      <td>2006-03-28</td>\n",
       "      <td>31</td>\n",
       "      <td>0.000000</td>\n",
       "      <td>3</td>\n",
       "      <td>0</td>\n",
       "      <td>1</td>\n",
       "      <td>0</td>\n",
       "    </tr>\n",
       "    <tr>\n",
       "      <th>...</th>\n",
       "      <td>...</td>\n",
       "      <td>...</td>\n",
       "      <td>...</td>\n",
       "      <td>...</td>\n",
       "      <td>...</td>\n",
       "      <td>...</td>\n",
       "      <td>...</td>\n",
       "      <td>...</td>\n",
       "      <td>...</td>\n",
       "      <td>...</td>\n",
       "      <td>...</td>\n",
       "      <td>...</td>\n",
       "      <td>...</td>\n",
       "      <td>...</td>\n",
       "      <td>...</td>\n",
       "      <td>...</td>\n",
       "      <td>...</td>\n",
       "      <td>...</td>\n",
       "    </tr>\n",
       "    <tr>\n",
       "      <th>7065</th>\n",
       "      <td>1492854287</td>\n",
       "      <td>1</td>\n",
       "      <td>0</td>\n",
       "      <td>0</td>\n",
       "      <td>28</td>\n",
       "      <td>35</td>\n",
       "      <td>10</td>\n",
       "      <td>34000.0</td>\n",
       "      <td>2013-01-28</td>\n",
       "      <td>9956.4</td>\n",
       "      <td>22591.0</td>\n",
       "      <td>2016-02-04</td>\n",
       "      <td>38</td>\n",
       "      <td>0.736842</td>\n",
       "      <td>3</td>\n",
       "      <td>0</td>\n",
       "      <td>0</td>\n",
       "      <td>0</td>\n",
       "    </tr>\n",
       "    <tr>\n",
       "      <th>7066</th>\n",
       "      <td>1492854287</td>\n",
       "      <td>0</td>\n",
       "      <td>0</td>\n",
       "      <td>0</td>\n",
       "      <td>0</td>\n",
       "      <td>10</td>\n",
       "      <td>5</td>\n",
       "      <td>34000.0</td>\n",
       "      <td>2015-04-05</td>\n",
       "      <td>528427.2</td>\n",
       "      <td>500500.0</td>\n",
       "      <td>2016-02-21</td>\n",
       "      <td>11</td>\n",
       "      <td>0.000000</td>\n",
       "      <td>1</td>\n",
       "      <td>0</td>\n",
       "      <td>1</td>\n",
       "      <td>1</td>\n",
       "    </tr>\n",
       "    <tr>\n",
       "      <th>7067</th>\n",
       "      <td>1492861707</td>\n",
       "      <td>0</td>\n",
       "      <td>0</td>\n",
       "      <td>0</td>\n",
       "      <td>0</td>\n",
       "      <td>19</td>\n",
       "      <td>10</td>\n",
       "      <td>16400.0</td>\n",
       "      <td>2014-02-07</td>\n",
       "      <td>0.0</td>\n",
       "      <td>13901.0</td>\n",
       "      <td>2015-11-14</td>\n",
       "      <td>22</td>\n",
       "      <td>0.000000</td>\n",
       "      <td>1</td>\n",
       "      <td>0</td>\n",
       "      <td>0</td>\n",
       "      <td>0</td>\n",
       "    </tr>\n",
       "    <tr>\n",
       "      <th>7068</th>\n",
       "      <td>1492861707</td>\n",
       "      <td>0</td>\n",
       "      <td>0</td>\n",
       "      <td>0</td>\n",
       "      <td>0</td>\n",
       "      <td>1</td>\n",
       "      <td>6</td>\n",
       "      <td>16400.0</td>\n",
       "      <td>2015-02-14</td>\n",
       "      <td>0.0</td>\n",
       "      <td>21000.0</td>\n",
       "      <td>2015-10-22</td>\n",
       "      <td>9</td>\n",
       "      <td>0.000000</td>\n",
       "      <td>0</td>\n",
       "      <td>0</td>\n",
       "      <td>1</td>\n",
       "      <td>0</td>\n",
       "    </tr>\n",
       "    <tr>\n",
       "      <th>7069</th>\n",
       "      <td>1492861707</td>\n",
       "      <td>0</td>\n",
       "      <td>0</td>\n",
       "      <td>0</td>\n",
       "      <td>0</td>\n",
       "      <td>12</td>\n",
       "      <td>10</td>\n",
       "      <td>16400.0</td>\n",
       "      <td>2015-03-23</td>\n",
       "      <td>2492.4</td>\n",
       "      <td>15440.0</td>\n",
       "      <td>2016-02-19</td>\n",
       "      <td>12</td>\n",
       "      <td>0.000000</td>\n",
       "      <td>1</td>\n",
       "      <td>0</td>\n",
       "      <td>0</td>\n",
       "      <td>0</td>\n",
       "    </tr>\n",
       "  </tbody>\n",
       "</table>\n",
       "<p>7070 rows × 18 columns</p>\n",
       "</div>"
      ],
      "text/plain": [
       "              id  Late_2  Late_1  Late_3  days_late_Sum  normal_payment  \\\n",
       "0              1       0       0       0              0               0   \n",
       "1              1       1       0       0             15              35   \n",
       "2              1       0       0       0              0              11   \n",
       "3              1       0       0       0              0              35   \n",
       "4              1       0       0       0              0               4   \n",
       "...          ...     ...     ...     ...            ...             ...   \n",
       "7065  1492854287       1       0       0             28              35   \n",
       "7066  1492854287       0       0       0              0              10   \n",
       "7067  1492861707       0       0       0              0              19   \n",
       "7068  1492861707       0       0       0              0               1   \n",
       "7069  1492861707       0       0       0              0              12   \n",
       "\n",
       "      p_code   p_limit last_update  curr_remaining   max_bal  \\\n",
       "0         10  276000.0  1994-12-18         13909.2       0.0   \n",
       "1         10  276000.0  1997-04-21         -1197.6  333140.0   \n",
       "2          2  276000.0  2001-02-21             0.0  248874.0   \n",
       "3         10    6500.0  2003-01-05             0.0    4043.0   \n",
       "4         10    6500.0  2003-09-17             0.0    4458.0   \n",
       "...      ...       ...         ...             ...       ...   \n",
       "7065      10   34000.0  2013-01-28          9956.4   22591.0   \n",
       "7066       5   34000.0  2015-04-05        528427.2  500500.0   \n",
       "7067      10   16400.0  2014-02-07             0.0   13901.0   \n",
       "7068       6   16400.0  2015-02-14             0.0   21000.0   \n",
       "7069      10   16400.0  2015-03-23          2492.4   15440.0   \n",
       "\n",
       "     recent_payment_activity  days_per_session  late_per_session  \\\n",
       "0                 2021-01-01               314          0.000000   \n",
       "1                 2015-07-21               220          0.068182   \n",
       "2                 2007-06-22                77          0.000000   \n",
       "3                 2003-11-25                11          0.000000   \n",
       "4                 2006-03-28                31          0.000000   \n",
       "...                      ...               ...               ...   \n",
       "7065              2016-02-04                38          0.736842   \n",
       "7066              2016-02-21                11          0.000000   \n",
       "7067              2015-11-14                22          0.000000   \n",
       "7068              2015-10-22                 9          0.000000   \n",
       "7069              2016-02-19                12          0.000000   \n",
       "\n",
       "      diff_bw_upd_pay  p_limit_decr  max_bal_incr  curr_greater_prev_max_bal  \n",
       "0                  27             0             0                          1  \n",
       "1                  18             0             1                          0  \n",
       "2                   6             0             0                          0  \n",
       "3                   0             1             0                          0  \n",
       "4                   3             0             1                          0  \n",
       "...               ...           ...           ...                        ...  \n",
       "7065                3             0             0                          0  \n",
       "7066                1             0             1                          1  \n",
       "7067                1             0             0                          0  \n",
       "7068                0             0             1                          0  \n",
       "7069                1             0             0                          0  \n",
       "\n",
       "[7070 rows x 18 columns]"
      ]
     },
     "execution_count": 31,
     "metadata": {},
     "output_type": "execute_result"
    }
   ],
   "source": [
    "train_meta"
   ]
  },
  {
   "cell_type": "code",
   "execution_count": 32,
   "metadata": {},
   "outputs": [
    {
     "data": {
      "text/html": [
       "<div>\n",
       "<style scoped>\n",
       "    .dataframe tbody tr th:only-of-type {\n",
       "        vertical-align: middle;\n",
       "    }\n",
       "\n",
       "    .dataframe tbody tr th {\n",
       "        vertical-align: top;\n",
       "    }\n",
       "\n",
       "    .dataframe thead th {\n",
       "        text-align: right;\n",
       "    }\n",
       "</style>\n",
       "<table border=\"1\" class=\"dataframe\">\n",
       "  <thead>\n",
       "    <tr style=\"text-align: right;\">\n",
       "      <th></th>\n",
       "      <th>id</th>\n",
       "      <th>Alpha</th>\n",
       "      <th>Beta</th>\n",
       "      <th>Gamma</th>\n",
       "      <th>Delta</th>\n",
       "      <th>Epsilon</th>\n",
       "      <th>Zeta</th>\n",
       "      <th>Eta</th>\n",
       "      <th>Theta</th>\n",
       "      <th>Iota</th>\n",
       "      <th>...</th>\n",
       "      <th>diff_bw_upd_pay_mean</th>\n",
       "      <th>diff_bw_upd_pay_std</th>\n",
       "      <th>mean_late_days_per_delta_week</th>\n",
       "      <th>late_vs_epsilon</th>\n",
       "      <th>beta_bins</th>\n",
       "      <th>payments_regions</th>\n",
       "      <th>bal_incre_region</th>\n",
       "      <th>limit_dec_region</th>\n",
       "      <th>total_days_per_days_update</th>\n",
       "      <th>delta_per_theta</th>\n",
       "    </tr>\n",
       "  </thead>\n",
       "  <tbody>\n",
       "    <tr>\n",
       "      <th>0</th>\n",
       "      <td>1489825072</td>\n",
       "      <td>4</td>\n",
       "      <td>1250.0</td>\n",
       "      <td>3</td>\n",
       "      <td>137000</td>\n",
       "      <td>2</td>\n",
       "      <td>8</td>\n",
       "      <td>5</td>\n",
       "      <td>4</td>\n",
       "      <td>5</td>\n",
       "      <td>...</td>\n",
       "      <td>4.000000</td>\n",
       "      <td>3.817254</td>\n",
       "      <td>-0.012682</td>\n",
       "      <td>3.949673</td>\n",
       "      <td>1289.836376</td>\n",
       "      <td>5747.087156</td>\n",
       "      <td>229.968746</td>\n",
       "      <td>28.650335</td>\n",
       "      <td>29.693415</td>\n",
       "      <td>115893.129771</td>\n",
       "    </tr>\n",
       "    <tr>\n",
       "      <th>1</th>\n",
       "      <td>1489815797</td>\n",
       "      <td>4</td>\n",
       "      <td>1244.0</td>\n",
       "      <td>3</td>\n",
       "      <td>107000</td>\n",
       "      <td>2</td>\n",
       "      <td>8</td>\n",
       "      <td>5</td>\n",
       "      <td>6</td>\n",
       "      <td>5</td>\n",
       "      <td>...</td>\n",
       "      <td>0.857143</td>\n",
       "      <td>0.899735</td>\n",
       "      <td>-0.012682</td>\n",
       "      <td>3.949673</td>\n",
       "      <td>1289.836376</td>\n",
       "      <td>5747.087156</td>\n",
       "      <td>229.968746</td>\n",
       "      <td>28.650335</td>\n",
       "      <td>29.693415</td>\n",
       "      <td>107848.837209</td>\n",
       "    </tr>\n",
       "    <tr>\n",
       "      <th>2</th>\n",
       "      <td>1489759034</td>\n",
       "      <td>4</td>\n",
       "      <td>1364.0</td>\n",
       "      <td>3</td>\n",
       "      <td>194000</td>\n",
       "      <td>2</td>\n",
       "      <td>8</td>\n",
       "      <td>5</td>\n",
       "      <td>6</td>\n",
       "      <td>5</td>\n",
       "      <td>...</td>\n",
       "      <td>1.375000</td>\n",
       "      <td>2.722263</td>\n",
       "      <td>-0.012682</td>\n",
       "      <td>3.949673</td>\n",
       "      <td>1289.836376</td>\n",
       "      <td>5747.087156</td>\n",
       "      <td>229.968746</td>\n",
       "      <td>28.650335</td>\n",
       "      <td>29.693415</td>\n",
       "      <td>107848.837209</td>\n",
       "    </tr>\n",
       "    <tr>\n",
       "      <th>3</th>\n",
       "      <td>1487734487</td>\n",
       "      <td>7</td>\n",
       "      <td>1382.0</td>\n",
       "      <td>3</td>\n",
       "      <td>115000</td>\n",
       "      <td>2</td>\n",
       "      <td>11</td>\n",
       "      <td>5</td>\n",
       "      <td>5</td>\n",
       "      <td>5</td>\n",
       "      <td>...</td>\n",
       "      <td>4.166667</td>\n",
       "      <td>2.136976</td>\n",
       "      <td>5.878214</td>\n",
       "      <td>3.949673</td>\n",
       "      <td>1289.836376</td>\n",
       "      <td>5747.087156</td>\n",
       "      <td>229.968746</td>\n",
       "      <td>28.650335</td>\n",
       "      <td>30.964916</td>\n",
       "      <td>114717.460317</td>\n",
       "    </tr>\n",
       "    <tr>\n",
       "      <th>4</th>\n",
       "      <td>2959839</td>\n",
       "      <td>4</td>\n",
       "      <td>1314.5</td>\n",
       "      <td>1</td>\n",
       "      <td>177000</td>\n",
       "      <td>2</td>\n",
       "      <td>8</td>\n",
       "      <td>-1</td>\n",
       "      <td>6</td>\n",
       "      <td>5</td>\n",
       "      <td>...</td>\n",
       "      <td>2.500000</td>\n",
       "      <td>1.914854</td>\n",
       "      <td>-0.012682</td>\n",
       "      <td>3.949673</td>\n",
       "      <td>1289.836376</td>\n",
       "      <td>3021.218784</td>\n",
       "      <td>91.594112</td>\n",
       "      <td>12.963645</td>\n",
       "      <td>29.693415</td>\n",
       "      <td>107848.837209</td>\n",
       "    </tr>\n",
       "    <tr>\n",
       "      <th>...</th>\n",
       "      <td>...</td>\n",
       "      <td>...</td>\n",
       "      <td>...</td>\n",
       "      <td>...</td>\n",
       "      <td>...</td>\n",
       "      <td>...</td>\n",
       "      <td>...</td>\n",
       "      <td>...</td>\n",
       "      <td>...</td>\n",
       "      <td>...</td>\n",
       "      <td>...</td>\n",
       "      <td>...</td>\n",
       "      <td>...</td>\n",
       "      <td>...</td>\n",
       "      <td>...</td>\n",
       "      <td>...</td>\n",
       "      <td>...</td>\n",
       "      <td>...</td>\n",
       "      <td>...</td>\n",
       "      <td>...</td>\n",
       "      <td>...</td>\n",
       "    </tr>\n",
       "    <tr>\n",
       "      <th>1007</th>\n",
       "      <td>1489702642</td>\n",
       "      <td>4</td>\n",
       "      <td>1313.0</td>\n",
       "      <td>3</td>\n",
       "      <td>134000</td>\n",
       "      <td>2</td>\n",
       "      <td>8</td>\n",
       "      <td>5</td>\n",
       "      <td>5</td>\n",
       "      <td>3</td>\n",
       "      <td>...</td>\n",
       "      <td>8.272727</td>\n",
       "      <td>5.728716</td>\n",
       "      <td>-0.012682</td>\n",
       "      <td>3.949673</td>\n",
       "      <td>1289.836376</td>\n",
       "      <td>5747.087156</td>\n",
       "      <td>229.968746</td>\n",
       "      <td>28.650335</td>\n",
       "      <td>29.693415</td>\n",
       "      <td>114717.460317</td>\n",
       "    </tr>\n",
       "    <tr>\n",
       "      <th>1008</th>\n",
       "      <td>1835338</td>\n",
       "      <td>7</td>\n",
       "      <td>1125.5</td>\n",
       "      <td>3</td>\n",
       "      <td>79000</td>\n",
       "      <td>2</td>\n",
       "      <td>11</td>\n",
       "      <td>-1</td>\n",
       "      <td>5</td>\n",
       "      <td>5</td>\n",
       "      <td>...</td>\n",
       "      <td>1.250000</td>\n",
       "      <td>1.500000</td>\n",
       "      <td>5.878214</td>\n",
       "      <td>3.949673</td>\n",
       "      <td>1289.836376</td>\n",
       "      <td>5747.087156</td>\n",
       "      <td>229.968746</td>\n",
       "      <td>28.650335</td>\n",
       "      <td>30.964916</td>\n",
       "      <td>114717.460317</td>\n",
       "    </tr>\n",
       "    <tr>\n",
       "      <th>1009</th>\n",
       "      <td>1236915</td>\n",
       "      <td>7</td>\n",
       "      <td>1188.5</td>\n",
       "      <td>3</td>\n",
       "      <td>90000</td>\n",
       "      <td>2</td>\n",
       "      <td>11</td>\n",
       "      <td>5</td>\n",
       "      <td>4</td>\n",
       "      <td>5</td>\n",
       "      <td>...</td>\n",
       "      <td>1.250000</td>\n",
       "      <td>1.258306</td>\n",
       "      <td>5.878214</td>\n",
       "      <td>3.949673</td>\n",
       "      <td>1289.836376</td>\n",
       "      <td>5747.087156</td>\n",
       "      <td>229.968746</td>\n",
       "      <td>28.650335</td>\n",
       "      <td>30.964916</td>\n",
       "      <td>115893.129771</td>\n",
       "    </tr>\n",
       "    <tr>\n",
       "      <th>1010</th>\n",
       "      <td>1489208099</td>\n",
       "      <td>7</td>\n",
       "      <td>1386.5</td>\n",
       "      <td>1</td>\n",
       "      <td>165000</td>\n",
       "      <td>2</td>\n",
       "      <td>11</td>\n",
       "      <td>-1</td>\n",
       "      <td>5</td>\n",
       "      <td>3</td>\n",
       "      <td>...</td>\n",
       "      <td>1.200000</td>\n",
       "      <td>1.095445</td>\n",
       "      <td>5.878214</td>\n",
       "      <td>3.949673</td>\n",
       "      <td>1289.836376</td>\n",
       "      <td>3021.218784</td>\n",
       "      <td>91.594112</td>\n",
       "      <td>12.963645</td>\n",
       "      <td>30.964916</td>\n",
       "      <td>114717.460317</td>\n",
       "    </tr>\n",
       "    <tr>\n",
       "      <th>1011</th>\n",
       "      <td>3788282</td>\n",
       "      <td>7</td>\n",
       "      <td>1350.5</td>\n",
       "      <td>3</td>\n",
       "      <td>130000</td>\n",
       "      <td>1</td>\n",
       "      <td>11</td>\n",
       "      <td>5</td>\n",
       "      <td>4</td>\n",
       "      <td>5</td>\n",
       "      <td>...</td>\n",
       "      <td>1.000000</td>\n",
       "      <td>0.000000</td>\n",
       "      <td>5.878214</td>\n",
       "      <td>1.358755</td>\n",
       "      <td>1289.836376</td>\n",
       "      <td>494.057824</td>\n",
       "      <td>229.968746</td>\n",
       "      <td>28.650335</td>\n",
       "      <td>30.964916</td>\n",
       "      <td>115893.129771</td>\n",
       "    </tr>\n",
       "  </tbody>\n",
       "</table>\n",
       "<p>1012 rows × 45 columns</p>\n",
       "</div>"
      ],
      "text/plain": [
       "              id  Alpha    Beta  Gamma   Delta  Epsilon  Zeta  Eta  Theta  \\\n",
       "0     1489825072      4  1250.0      3  137000        2     8    5      4   \n",
       "1     1489815797      4  1244.0      3  107000        2     8    5      6   \n",
       "2     1489759034      4  1364.0      3  194000        2     8    5      6   \n",
       "3     1487734487      7  1382.0      3  115000        2    11    5      5   \n",
       "4        2959839      4  1314.5      1  177000        2     8   -1      6   \n",
       "...          ...    ...     ...    ...     ...      ...   ...  ...    ...   \n",
       "1007  1489702642      4  1313.0      3  134000        2     8    5      5   \n",
       "1008     1835338      7  1125.5      3   79000        2    11   -1      5   \n",
       "1009     1236915      7  1188.5      3   90000        2    11    5      4   \n",
       "1010  1489208099      7  1386.5      1  165000        2    11   -1      5   \n",
       "1011     3788282      7  1350.5      3  130000        1    11    5      4   \n",
       "\n",
       "      Iota  ...  diff_bw_upd_pay_mean  diff_bw_upd_pay_std  \\\n",
       "0        5  ...              4.000000             3.817254   \n",
       "1        5  ...              0.857143             0.899735   \n",
       "2        5  ...              1.375000             2.722263   \n",
       "3        5  ...              4.166667             2.136976   \n",
       "4        5  ...              2.500000             1.914854   \n",
       "...    ...  ...                   ...                  ...   \n",
       "1007     3  ...              8.272727             5.728716   \n",
       "1008     5  ...              1.250000             1.500000   \n",
       "1009     5  ...              1.250000             1.258306   \n",
       "1010     3  ...              1.200000             1.095445   \n",
       "1011     5  ...              1.000000             0.000000   \n",
       "\n",
       "      mean_late_days_per_delta_week  late_vs_epsilon    beta_bins  \\\n",
       "0                         -0.012682         3.949673  1289.836376   \n",
       "1                         -0.012682         3.949673  1289.836376   \n",
       "2                         -0.012682         3.949673  1289.836376   \n",
       "3                          5.878214         3.949673  1289.836376   \n",
       "4                         -0.012682         3.949673  1289.836376   \n",
       "...                             ...              ...          ...   \n",
       "1007                      -0.012682         3.949673  1289.836376   \n",
       "1008                       5.878214         3.949673  1289.836376   \n",
       "1009                       5.878214         3.949673  1289.836376   \n",
       "1010                       5.878214         3.949673  1289.836376   \n",
       "1011                       5.878214         1.358755  1289.836376   \n",
       "\n",
       "      payments_regions  bal_incre_region  limit_dec_region  \\\n",
       "0          5747.087156        229.968746         28.650335   \n",
       "1          5747.087156        229.968746         28.650335   \n",
       "2          5747.087156        229.968746         28.650335   \n",
       "3          5747.087156        229.968746         28.650335   \n",
       "4          3021.218784         91.594112         12.963645   \n",
       "...                ...               ...               ...   \n",
       "1007       5747.087156        229.968746         28.650335   \n",
       "1008       5747.087156        229.968746         28.650335   \n",
       "1009       5747.087156        229.968746         28.650335   \n",
       "1010       3021.218784         91.594112         12.963645   \n",
       "1011        494.057824        229.968746         28.650335   \n",
       "\n",
       "      total_days_per_days_update  delta_per_theta  \n",
       "0                      29.693415    115893.129771  \n",
       "1                      29.693415    107848.837209  \n",
       "2                      29.693415    107848.837209  \n",
       "3                      30.964916    114717.460317  \n",
       "4                      29.693415    107848.837209  \n",
       "...                          ...              ...  \n",
       "1007                   29.693415    114717.460317  \n",
       "1008                   30.964916    114717.460317  \n",
       "1009                   30.964916    115893.129771  \n",
       "1010                   30.964916    114717.460317  \n",
       "1011                   30.964916    115893.129771  \n",
       "\n",
       "[1012 rows x 45 columns]"
      ]
     },
     "execution_count": 32,
     "metadata": {},
     "output_type": "execute_result"
    }
   ],
   "source": [
    "full_df"
   ]
  },
  {
   "cell_type": "code",
   "execution_count": 119,
   "metadata": {},
   "outputs": [],
   "source": [
    "full_df = pd.merge(full_df, train_meta.groupby(\"id\").tail(1)[[\"id\", \"curr_remaining\"]], how = \"left\", on= \"id\")"
   ]
  },
  {
   "cell_type": "code",
   "execution_count": 120,
   "metadata": {},
   "outputs": [],
   "source": [
    "full_df.drop(columns = [\"id\"], inplace=True)"
   ]
  },
  {
   "cell_type": "code",
   "execution_count": 35,
   "metadata": {},
   "outputs": [
    {
     "data": {
      "text/html": [
       "<div>\n",
       "<style scoped>\n",
       "    .dataframe tbody tr th:only-of-type {\n",
       "        vertical-align: middle;\n",
       "    }\n",
       "\n",
       "    .dataframe tbody tr th {\n",
       "        vertical-align: top;\n",
       "    }\n",
       "\n",
       "    .dataframe thead th {\n",
       "        text-align: right;\n",
       "    }\n",
       "</style>\n",
       "<table border=\"1\" class=\"dataframe\">\n",
       "  <thead>\n",
       "    <tr style=\"text-align: right;\">\n",
       "      <th></th>\n",
       "      <th>id</th>\n",
       "      <th>Late_2</th>\n",
       "      <th>Late_1</th>\n",
       "      <th>Late_3</th>\n",
       "      <th>days_late_Sum</th>\n",
       "      <th>normal_payment</th>\n",
       "      <th>p_code</th>\n",
       "      <th>p_limit</th>\n",
       "      <th>last_update</th>\n",
       "      <th>curr_remaining</th>\n",
       "      <th>max_bal</th>\n",
       "      <th>recent_payment_activity</th>\n",
       "      <th>days_per_session</th>\n",
       "      <th>late_per_session</th>\n",
       "      <th>diff_bw_upd_pay</th>\n",
       "      <th>p_limit_decr</th>\n",
       "      <th>max_bal_incr</th>\n",
       "      <th>curr_greater_prev_max_bal</th>\n",
       "    </tr>\n",
       "  </thead>\n",
       "  <tbody>\n",
       "  </tbody>\n",
       "</table>\n",
       "</div>"
      ],
      "text/plain": [
       "Empty DataFrame\n",
       "Columns: [id, Late_2, Late_1, Late_3, days_late_Sum, normal_payment, p_code, p_limit, last_update, curr_remaining, max_bal, recent_payment_activity, days_per_session, late_per_session, diff_bw_upd_pay, p_limit_decr, max_bal_incr, curr_greater_prev_max_bal]\n",
       "Index: []"
      ]
     },
     "execution_count": 35,
     "metadata": {},
     "output_type": "execute_result"
    }
   ],
   "source": [
    "train_meta.sort_values(\"id\")[(train_meta.sort_values(\"id\").max_bal.isnull())&(train_meta.sort_values(\"id\").curr_remaining>0)]"
   ]
  },
  {
   "cell_type": "code",
   "execution_count": 36,
   "metadata": {},
   "outputs": [
    {
     "data": {
      "text/html": [
       "<div>\n",
       "<style scoped>\n",
       "    .dataframe tbody tr th:only-of-type {\n",
       "        vertical-align: middle;\n",
       "    }\n",
       "\n",
       "    .dataframe tbody tr th {\n",
       "        vertical-align: top;\n",
       "    }\n",
       "\n",
       "    .dataframe thead th {\n",
       "        text-align: right;\n",
       "    }\n",
       "</style>\n",
       "<table border=\"1\" class=\"dataframe\">\n",
       "  <thead>\n",
       "    <tr style=\"text-align: right;\">\n",
       "      <th></th>\n",
       "      <th>label</th>\n",
       "      <th>id</th>\n",
       "      <th>Alpha</th>\n",
       "      <th>Beta</th>\n",
       "      <th>Gamma</th>\n",
       "      <th>Delta</th>\n",
       "      <th>Epsilon</th>\n",
       "      <th>Zeta</th>\n",
       "      <th>Eta</th>\n",
       "      <th>Theta</th>\n",
       "      <th>Iota</th>\n",
       "      <th>Kappa</th>\n",
       "      <th>Lambda</th>\n",
       "      <th>omikron</th>\n",
       "    </tr>\n",
       "  </thead>\n",
       "  <tbody>\n",
       "  </tbody>\n",
       "</table>\n",
       "</div>"
      ],
      "text/plain": [
       "Empty DataFrame\n",
       "Columns: [label, id, Alpha, Beta, Gamma, Delta, Epsilon, Zeta, Eta, Theta, Iota, Kappa, Lambda, omikron]\n",
       "Index: []"
      ]
     },
     "execution_count": 36,
     "metadata": {},
     "output_type": "execute_result"
    }
   ],
   "source": [
    "train[train.id.isin(train_meta.sort_values(\"id\")[(train_meta.sort_values(\"id\").max_bal.isnull())&(train_meta.sort_values(\"id\").curr_remaining>0)].groupby(\"id\").size().reset_index()['id'].values)]"
   ]
  },
  {
   "cell_type": "code",
   "execution_count": null,
   "metadata": {},
   "outputs": [],
   "source": [
    "train_meta[x]['curr_remaining']"
   ]
  },
  {
   "cell_type": "code",
   "execution_count": 137,
   "metadata": {},
   "outputs": [
    {
     "data": {
      "text/plain": [
       "Alpha                               6\n",
       "Beta                              158\n",
       "Gamma                               3\n",
       "Delta                             229\n",
       "Epsilon                             2\n",
       "Eta                                10\n",
       "Theta                               6\n",
       "Kappa                             280\n",
       "Lambda                            266\n",
       "omikron                           125\n",
       "Del_bins                            3\n",
       "transactions_count                 37\n",
       "Late_2_mean                       124\n",
       "Late_2_std                        237\n",
       "Late_3_mean                       108\n",
       "Late_3_std                        136\n",
       "Late_1_mean                        95\n",
       "Late_1_std                        146\n",
       "days_late_Sum_mean                366\n",
       "days_late_Sum_std                 398\n",
       "days_per_session_mean             730\n",
       "days_per_session_std              981\n",
       "normal_payment_mean               538\n",
       "normal_payment_std                918\n",
       "p_limit_decr_mean                  48\n",
       "p_limit_decr_std                   93\n",
       "max_bal_incr_mean                  82\n",
       "max_bal_incr_std                   96\n",
       "curr_greater_prev_max_bal_mean     73\n",
       "curr_greater_prev_max_bal_std     108\n",
       "late_per_session_mean             417\n",
       "late_per_session_std              421\n",
       "diff_bw_upd_pay_mean              302\n",
       "diff_bw_upd_pay_std               623\n",
       "mean_late_days_per_delta_week      12\n",
       "late_vs_epsilon                     2\n",
       "beta_bins                           3\n",
       "payments_regions                   18\n",
       "bal_incre_region                    3\n",
       "limit_dec_region                    3\n",
       "total_days_per_days_update          6\n",
       "kappa_per_bin                       3\n",
       "delta_per_theta                     6\n",
       "late_per_theta                      6\n",
       "curr_remaining                    896\n",
       "dtype: int64"
      ]
     },
     "execution_count": 137,
     "metadata": {},
     "output_type": "execute_result"
    }
   ],
   "source": [
    "full_df.nunique()"
   ]
  },
  {
   "cell_type": "markdown",
   "metadata": {},
   "source": [
    "Now some tree based models like lgbm and xgboost accept features of as type categorical and treates those features specifically compared to numerical and give them treatment like categories and we not need to do seprate one hot encodings for them."
   ]
  },
  {
   "cell_type": "code",
   "execution_count": 121,
   "metadata": {},
   "outputs": [],
   "source": [
    "# we selected these features to treat it as categorical\n",
    "categorical_cols = ['Del_bins',  'Gamma', \"Eta\", \"Theta\", \"Epsilon\"]"
   ]
  },
  {
   "cell_type": "code",
   "execution_count": 38,
   "metadata": {},
   "outputs": [],
   "source": [
    "# converting to astype category\n",
    "for i in categorical_cols:\n",
    "    full_df[i] = full_df[i].astype(\"category\")"
   ]
  },
  {
   "cell_type": "code",
   "execution_count": 140,
   "metadata": {},
   "outputs": [
    {
     "data": {
      "text/plain": [
       "Alpha                             0\n",
       "Beta                              0\n",
       "Gamma                             0\n",
       "Delta                             0\n",
       "Epsilon                           0\n",
       "Eta                               0\n",
       "Theta                             0\n",
       "Kappa                             0\n",
       "Lambda                            0\n",
       "omikron                           0\n",
       "Del_bins                          0\n",
       "transactions_count                0\n",
       "Late_2_mean                       0\n",
       "Late_2_std                        0\n",
       "Late_3_mean                       0\n",
       "Late_3_std                        0\n",
       "Late_1_mean                       0\n",
       "Late_1_std                        0\n",
       "days_late_Sum_mean                0\n",
       "days_late_Sum_std                 0\n",
       "days_per_session_mean             0\n",
       "days_per_session_std              0\n",
       "normal_payment_mean               0\n",
       "normal_payment_std                0\n",
       "p_limit_decr_mean                 0\n",
       "p_limit_decr_std                  0\n",
       "max_bal_incr_mean                 0\n",
       "max_bal_incr_std                  0\n",
       "curr_greater_prev_max_bal_mean    0\n",
       "curr_greater_prev_max_bal_std     0\n",
       "late_per_session_mean             0\n",
       "late_per_session_std              0\n",
       "diff_bw_upd_pay_mean              0\n",
       "diff_bw_upd_pay_std               0\n",
       "mean_late_days_per_delta_week     0\n",
       "late_vs_epsilon                   0\n",
       "beta_bins                         0\n",
       "payments_regions                  0\n",
       "bal_incre_region                  0\n",
       "limit_dec_region                  0\n",
       "total_days_per_days_update        0\n",
       "kappa_per_bin                     0\n",
       "delta_per_theta                   0\n",
       "late_per_theta                    0\n",
       "curr_remaining                    0\n",
       "dtype: int64"
      ]
     },
     "execution_count": 140,
     "metadata": {},
     "output_type": "execute_result"
    }
   ],
   "source": [
    "full_df.isnull().sum()"
   ]
  },
  {
   "cell_type": "markdown",
   "metadata": {},
   "source": [
    "# MODEL BUILDING"
   ]
  },
  {
   "cell_type": "markdown",
   "metadata": {},
   "source": [
    "Here we preformed several techniques for hyperparameter tuning and tested different models\n",
    "\n",
    "We found **Optuna** to be the best tool for yperparameter optimization instead of Random and Grid Search CV in terms of transversing the hyperparameter space.\n",
    "\n",
    "For model we tried different models but as the training and testing have no correlation we found that the model performing well on cross validation on training giving bad on leaderboard, it signifies there is less correlation on the distribution and we had done cross validation so there is no point of overfitting type of thing for justifying why we move to the below in leaderboard it is just the lack of trust in crossvalidation\n",
    "\n",
    "So on basis of consistent result we used **LGBM(Light Gradient Boosting Method)**\n",
    "**Even we adopted SMOTE, oversampling techinque to make equal distribution but still problem of correlation between train and test data is there**"
   ]
  },
  {
   "cell_type": "code",
   "execution_count": 122,
   "metadata": {},
   "outputs": [],
   "source": [
    "# Getting the dataset back\n",
    "x_train, x_test = full_df[0:len(train)], full_df[len(train):]"
   ]
  },
  {
   "cell_type": "code",
   "execution_count": 123,
   "metadata": {},
   "outputs": [],
   "source": [
    "# using optuna\n",
    "from optuna import Trial\n",
    "import gc\n",
    "import optuna\n",
    "from sklearn.model_selection import train_test_split\n",
    "from lightgbm import LGBMClassifier\n",
    "\n",
    "#category_cols = ['disrict', 'client_catg', 'region', 'region_group']\n",
    "\n",
    "def objective(trial:Trial):\n",
    "    \n",
    "    gc.collect()\n",
    "    models=[]\n",
    "    validScore=0\n",
    "   \n",
    "    model,log = fitLGBM(trial,x_train,Y_train)\n",
    "    \n",
    "    models.append(model)\n",
    "    gc.collect()\n",
    "    validScore+=log\n",
    "    validScore/=len(models)\n",
    "    \n",
    "    return validScore"
   ]
  },
  {
   "cell_type": "code",
   "execution_count": 125,
   "metadata": {},
   "outputs": [],
   "source": [
    "from imblearn.under_sampling import RandomUnderSampler\n",
    "smote = RandomUnderSampler(random_state = 44)\n",
    "def fitLGBM(trial,X, y):\n",
    "    \n",
    "    params={\n",
    "      'n_estimators':trial.suggest_int('n_estimators', 0, 1000), \n",
    "      'num_leaves':trial.suggest_int('num_leaves', 2, 512),\n",
    "      'max_depth':trial.suggest_int('max_depth', 2, 128),\n",
    "      'learning_rate': trial.suggest_loguniform('learning_rate', 0.001, 0.15),\n",
    "      'min_split_gain': trial.suggest_loguniform('min_split_gain', 0.001, 0.1),\n",
    "      'feature_fraction':trial.suggest_uniform('feature_fraction',0.1, 1.0),\n",
    "      'bagging_freq':trial.suggest_int('bagging_freq',0.1,10),\n",
    "      'verbosity': -1,\n",
    "      'random_state':44\n",
    "            }\n",
    "    stkfold = StratifiedKFold(n_splits=5, shuffle=True, random_state=44)\n",
    "    model = LGBMClassifier(**params, categorical_features = \"auto\")\n",
    "    \n",
    "    res=[]\n",
    "    for i, (tdx, vdx) in enumerate(stkfold.split(X, y)):\n",
    "        X_train, X_valid, y_train, y_valid = X.iloc[tdx], X.iloc[vdx], y[tdx], y[vdx]\n",
    "        #X_train, y_train = smote.fit_resample(X_train, y_train)\n",
    "        model.fit(X_train, y_train,\n",
    "                 eval_set=[(X_train, y_train), (X_valid, y_valid)],\n",
    "                 early_stopping_rounds=30, verbose=False)\n",
    "        preds = model.predict_proba(X_valid)\n",
    "        false_positive_rate, true_positive_rate, thresholds = roc_curve(y_valid, preds[:,1])\n",
    "        # may differ\n",
    "        print (auc(false_positive_rate, true_positive_rate))\n",
    "        res.append(auc(false_positive_rate, true_positive_rate))\n",
    "    err = np.mean(res)\n",
    "    \n",
    "    return model, err"
   ]
  },
  {
   "cell_type": "code",
   "execution_count": 126,
   "metadata": {},
   "outputs": [
    {
     "name": "stderr",
     "output_type": "stream",
     "text": [
      "\u001b[32m[I 2021-04-12 13:20:43,193]\u001b[0m A new study created in memory with name: no-name-ca9b7ec4-6df1-44c3-a343-9cd5107bc7c3\u001b[0m\n",
      "/opt/conda/lib/python3.7/site-packages/optuna/distributions.py:565: UserWarning: The distribution is specified by [0.1, 10] and step=1, but the range is not divisible by `step`. It will be replaced by [0.1, 9.1].\n",
      "  low=low, old_high=old_high, high=high, step=step\n"
     ]
    },
    {
     "name": "stdout",
     "output_type": "stream",
     "text": [
      "0.7739130434782608\n",
      "[LightGBM] [Warning] Unknown parameter: categorical_features\n",
      "[LightGBM] [Warning] feature_fraction is set=0.39309985076157594, colsample_bytree=1.0 will be ignored. Current value: feature_fraction=0.39309985076157594\n",
      "[LightGBM] [Warning] bagging_freq is set=7, subsample_freq=0 will be ignored. Current value: bagging_freq=7\n",
      "0.7380434782608696\n",
      "[LightGBM] [Warning] Unknown parameter: categorical_features\n",
      "[LightGBM] [Warning] feature_fraction is set=0.39309985076157594, colsample_bytree=1.0 will be ignored. Current value: feature_fraction=0.39309985076157594\n",
      "[LightGBM] [Warning] bagging_freq is set=7, subsample_freq=0 will be ignored. Current value: bagging_freq=7\n",
      "0.6402173913043478\n",
      "[LightGBM] [Warning] Unknown parameter: categorical_features\n",
      "[LightGBM] [Warning] feature_fraction is set=0.39309985076157594, colsample_bytree=1.0 will be ignored. Current value: feature_fraction=0.39309985076157594\n",
      "[LightGBM] [Warning] bagging_freq is set=7, subsample_freq=0 will be ignored. Current value: bagging_freq=7\n",
      "0.6413043478260869\n"
     ]
    },
    {
     "name": "stderr",
     "output_type": "stream",
     "text": [
      "\u001b[32m[I 2021-04-12 13:20:43,826]\u001b[0m Trial 0 finished with value: 0.6990579710144929 and parameters: {'n_estimators': 265, 'num_leaves': 64, 'max_depth': 19, 'learning_rate': 0.039032243371170866, 'min_split_gain': 0.03869279854056714, 'feature_fraction': 0.39309985076157594, 'bagging_freq': 7}. Best is trial 0 with value: 0.6990579710144929.\u001b[0m\n"
     ]
    },
    {
     "name": "stdout",
     "output_type": "stream",
     "text": [
      "[LightGBM] [Warning] Unknown parameter: categorical_features\n",
      "[LightGBM] [Warning] feature_fraction is set=0.39309985076157594, colsample_bytree=1.0 will be ignored. Current value: feature_fraction=0.39309985076157594\n",
      "[LightGBM] [Warning] bagging_freq is set=7, subsample_freq=0 will be ignored. Current value: bagging_freq=7\n",
      "0.7018115942028985\n"
     ]
    },
    {
     "name": "stderr",
     "output_type": "stream",
     "text": [
      "/opt/conda/lib/python3.7/site-packages/optuna/distributions.py:565: UserWarning: The distribution is specified by [0.1, 10] and step=1, but the range is not divisible by `step`. It will be replaced by [0.1, 9.1].\n",
      "  low=low, old_high=old_high, high=high, step=step\n"
     ]
    },
    {
     "name": "stdout",
     "output_type": "stream",
     "text": [
      "[LightGBM] [Warning] Unknown parameter: categorical_features\n",
      "[LightGBM] [Warning] feature_fraction is set=0.5104922737149502, colsample_bytree=1.0 will be ignored. Current value: feature_fraction=0.5104922737149502\n",
      "[LightGBM] [Warning] bagging_freq is set=6, subsample_freq=0 will be ignored. Current value: bagging_freq=6\n",
      "0.7579710144927536\n",
      "[LightGBM] [Warning] Unknown parameter: categorical_features\n",
      "[LightGBM] [Warning] feature_fraction is set=0.5104922737149502, colsample_bytree=1.0 will be ignored. Current value: feature_fraction=0.5104922737149502\n",
      "[LightGBM] [Warning] bagging_freq is set=6, subsample_freq=0 will be ignored. Current value: bagging_freq=6\n",
      "0.7376811594202899\n",
      "[LightGBM] [Warning] Unknown parameter: categorical_features\n",
      "[LightGBM] [Warning] feature_fraction is set=0.5104922737149502, colsample_bytree=1.0 will be ignored. Current value: feature_fraction=0.5104922737149502\n",
      "[LightGBM] [Warning] bagging_freq is set=6, subsample_freq=0 will be ignored. Current value: bagging_freq=6\n",
      "0.6253623188405797\n",
      "[LightGBM] [Warning] Unknown parameter: categorical_features\n",
      "[LightGBM] [Warning] feature_fraction is set=0.5104922737149502, colsample_bytree=1.0 will be ignored. Current value: feature_fraction=0.5104922737149502\n",
      "[LightGBM] [Warning] bagging_freq is set=6, subsample_freq=0 will be ignored. Current value: bagging_freq=6\n",
      "0.6092391304347827\n",
      "[LightGBM] [Warning] Unknown parameter: categorical_features\n",
      "[LightGBM] [Warning] feature_fraction is set=0.5104922737149502, colsample_bytree=1.0 will be ignored. Current value: feature_fraction=0.5104922737149502\n",
      "[LightGBM] [Warning] bagging_freq is set=6, subsample_freq=0 will be ignored. Current value: bagging_freq=6\n",
      "0.6945652173913044\n"
     ]
    },
    {
     "name": "stderr",
     "output_type": "stream",
     "text": [
      "\u001b[32m[I 2021-04-12 13:20:44,376]\u001b[0m Trial 1 finished with value: 0.6849637681159421 and parameters: {'n_estimators': 884, 'num_leaves': 13, 'max_depth': 17, 'learning_rate': 0.030532097318654722, 'min_split_gain': 0.0013875330158273126, 'feature_fraction': 0.5104922737149502, 'bagging_freq': 6}. Best is trial 0 with value: 0.6990579710144929.\u001b[0m\n",
      "/opt/conda/lib/python3.7/site-packages/optuna/distributions.py:565: UserWarning: The distribution is specified by [0.1, 10] and step=1, but the range is not divisible by `step`. It will be replaced by [0.1, 9.1].\n",
      "  low=low, old_high=old_high, high=high, step=step\n"
     ]
    },
    {
     "name": "stdout",
     "output_type": "stream",
     "text": [
      "[LightGBM] [Warning] Unknown parameter: categorical_features\n",
      "[LightGBM] [Warning] feature_fraction is set=0.700711189656274, colsample_bytree=1.0 will be ignored. Current value: feature_fraction=0.700711189656274\n",
      "[LightGBM] [Warning] bagging_freq is set=0, subsample_freq=0 will be ignored. Current value: bagging_freq=0\n",
      "0.7641304347826088\n",
      "[LightGBM] [Warning] Unknown parameter: categorical_features\n",
      "[LightGBM] [Warning] feature_fraction is set=0.700711189656274, colsample_bytree=1.0 will be ignored. Current value: feature_fraction=0.700711189656274\n",
      "[LightGBM] [Warning] bagging_freq is set=0, subsample_freq=0 will be ignored. Current value: bagging_freq=0\n",
      "0.7141304347826087\n",
      "[LightGBM] [Warning] Unknown parameter: categorical_features\n",
      "[LightGBM] [Warning] feature_fraction is set=0.700711189656274, colsample_bytree=1.0 will be ignored. Current value: feature_fraction=0.700711189656274\n",
      "[LightGBM] [Warning] bagging_freq is set=0, subsample_freq=0 will be ignored. Current value: bagging_freq=0\n",
      "0.6340579710144927\n",
      "[LightGBM] [Warning] Unknown parameter: categorical_features\n",
      "[LightGBM] [Warning] feature_fraction is set=0.700711189656274, colsample_bytree=1.0 will be ignored. Current value: feature_fraction=0.700711189656274\n",
      "[LightGBM] [Warning] bagging_freq is set=0, subsample_freq=0 will be ignored. Current value: bagging_freq=0\n",
      "0.6021739130434783\n",
      "[LightGBM] [Warning] Unknown parameter: categorical_features\n",
      "[LightGBM] [Warning] feature_fraction is set=0.700711189656274, colsample_bytree=1.0 will be ignored. Current value: feature_fraction=0.700711189656274\n",
      "[LightGBM] [Warning] bagging_freq is set=0, subsample_freq=0 will be ignored. Current value: bagging_freq=0\n"
     ]
    },
    {
     "name": "stderr",
     "output_type": "stream",
     "text": [
      "\u001b[32m[I 2021-04-12 13:20:46,163]\u001b[0m Trial 2 finished with value: 0.6789855072463767 and parameters: {'n_estimators': 320, 'num_leaves': 234, 'max_depth': 55, 'learning_rate': 0.0033418627409586396, 'min_split_gain': 0.0017849151436314073, 'feature_fraction': 0.700711189656274, 'bagging_freq': 0}. Best is trial 0 with value: 0.6990579710144929.\u001b[0m\n"
     ]
    },
    {
     "name": "stdout",
     "output_type": "stream",
     "text": [
      "0.6804347826086957\n"
     ]
    },
    {
     "name": "stderr",
     "output_type": "stream",
     "text": [
      "/opt/conda/lib/python3.7/site-packages/optuna/distributions.py:565: UserWarning: The distribution is specified by [0.1, 10] and step=1, but the range is not divisible by `step`. It will be replaced by [0.1, 9.1].\n",
      "  low=low, old_high=old_high, high=high, step=step\n"
     ]
    },
    {
     "name": "stdout",
     "output_type": "stream",
     "text": [
      "[LightGBM] [Warning] Unknown parameter: categorical_features\n",
      "[LightGBM] [Warning] feature_fraction is set=0.14176012403928095, colsample_bytree=1.0 will be ignored. Current value: feature_fraction=0.14176012403928095\n",
      "[LightGBM] [Warning] bagging_freq is set=0, subsample_freq=0 will be ignored. Current value: bagging_freq=0\n",
      "0.7702898550724638\n",
      "[LightGBM] [Warning] Unknown parameter: categorical_features\n",
      "[LightGBM] [Warning] feature_fraction is set=0.14176012403928095, colsample_bytree=1.0 will be ignored. Current value: feature_fraction=0.14176012403928095\n",
      "[LightGBM] [Warning] bagging_freq is set=0, subsample_freq=0 will be ignored. Current value: bagging_freq=0\n",
      "0.7246376811594203\n",
      "[LightGBM] [Warning] Unknown parameter: categorical_features\n",
      "[LightGBM] [Warning] feature_fraction is set=0.14176012403928095, colsample_bytree=1.0 will be ignored. Current value: feature_fraction=0.14176012403928095\n",
      "[LightGBM] [Warning] bagging_freq is set=0, subsample_freq=0 will be ignored. Current value: bagging_freq=0\n",
      "0.6076086956521739\n",
      "[LightGBM] [Warning] Unknown parameter: categorical_features\n",
      "[LightGBM] [Warning] feature_fraction is set=0.14176012403928095, colsample_bytree=1.0 will be ignored. Current value: feature_fraction=0.14176012403928095\n",
      "[LightGBM] [Warning] bagging_freq is set=0, subsample_freq=0 will be ignored. Current value: bagging_freq=0\n"
     ]
    },
    {
     "name": "stderr",
     "output_type": "stream",
     "text": [
      "\u001b[32m[I 2021-04-12 13:20:46,667]\u001b[0m Trial 3 finished with value: 0.6514492753623188 and parameters: {'n_estimators': 377, 'num_leaves': 429, 'max_depth': 47, 'learning_rate': 0.060330950619222744, 'min_split_gain': 0.0039177665309687365, 'feature_fraction': 0.14176012403928095, 'bagging_freq': 0}. Best is trial 0 with value: 0.6990579710144929.\u001b[0m\n"
     ]
    },
    {
     "name": "stdout",
     "output_type": "stream",
     "text": [
      "0.5721014492753622\n",
      "[LightGBM] [Warning] Unknown parameter: categorical_features\n",
      "[LightGBM] [Warning] feature_fraction is set=0.14176012403928095, colsample_bytree=1.0 will be ignored. Current value: feature_fraction=0.14176012403928095\n",
      "[LightGBM] [Warning] bagging_freq is set=0, subsample_freq=0 will be ignored. Current value: bagging_freq=0\n",
      "0.5826086956521739\n"
     ]
    },
    {
     "name": "stderr",
     "output_type": "stream",
     "text": [
      "/opt/conda/lib/python3.7/site-packages/optuna/distributions.py:565: UserWarning: The distribution is specified by [0.1, 10] and step=1, but the range is not divisible by `step`. It will be replaced by [0.1, 9.1].\n",
      "  low=low, old_high=old_high, high=high, step=step\n"
     ]
    },
    {
     "name": "stdout",
     "output_type": "stream",
     "text": [
      "[LightGBM] [Warning] Unknown parameter: categorical_features\n",
      "[LightGBM] [Warning] feature_fraction is set=0.573791774650503, colsample_bytree=1.0 will be ignored. Current value: feature_fraction=0.573791774650503\n",
      "[LightGBM] [Warning] bagging_freq is set=9, subsample_freq=0 will be ignored. Current value: bagging_freq=9\n",
      "0.7677536231884058\n",
      "[LightGBM] [Warning] Unknown parameter: categorical_features\n",
      "[LightGBM] [Warning] feature_fraction is set=0.573791774650503, colsample_bytree=1.0 will be ignored. Current value: feature_fraction=0.573791774650503\n",
      "[LightGBM] [Warning] bagging_freq is set=9, subsample_freq=0 will be ignored. Current value: bagging_freq=9\n",
      "0.7170289855072465\n",
      "[LightGBM] [Warning] Unknown parameter: categorical_features\n",
      "[LightGBM] [Warning] feature_fraction is set=0.573791774650503, colsample_bytree=1.0 will be ignored. Current value: feature_fraction=0.573791774650503\n",
      "[LightGBM] [Warning] bagging_freq is set=9, subsample_freq=0 will be ignored. Current value: bagging_freq=9\n",
      "0.6228260869565218\n",
      "[LightGBM] [Warning] Unknown parameter: categorical_features\n",
      "[LightGBM] [Warning] feature_fraction is set=0.573791774650503, colsample_bytree=1.0 will be ignored. Current value: feature_fraction=0.573791774650503\n",
      "[LightGBM] [Warning] bagging_freq is set=9, subsample_freq=0 will be ignored. Current value: bagging_freq=9\n",
      "0.5934782608695652\n",
      "[LightGBM] [Warning] Unknown parameter: categorical_features\n",
      "[LightGBM] [Warning] feature_fraction is set=0.573791774650503, colsample_bytree=1.0 will be ignored. Current value: feature_fraction=0.573791774650503\n",
      "[LightGBM] [Warning] bagging_freq is set=9, subsample_freq=0 will be ignored. Current value: bagging_freq=9\n",
      "0.7010869565217391\n"
     ]
    },
    {
     "name": "stderr",
     "output_type": "stream",
     "text": [
      "\u001b[32m[I 2021-04-12 13:20:47,294]\u001b[0m Trial 4 finished with value: 0.6804347826086957 and parameters: {'n_estimators': 466, 'num_leaves': 466, 'max_depth': 92, 'learning_rate': 0.02188643923448543, 'min_split_gain': 0.08429098242286057, 'feature_fraction': 0.573791774650503, 'bagging_freq': 9}. Best is trial 0 with value: 0.6990579710144929.\u001b[0m\n",
      "/opt/conda/lib/python3.7/site-packages/optuna/distributions.py:565: UserWarning: The distribution is specified by [0.1, 10] and step=1, but the range is not divisible by `step`. It will be replaced by [0.1, 9.1].\n",
      "  low=low, old_high=old_high, high=high, step=step\n"
     ]
    },
    {
     "name": "stdout",
     "output_type": "stream",
     "text": [
      "[LightGBM] [Warning] Unknown parameter: categorical_features\n",
      "[LightGBM] [Warning] feature_fraction is set=0.408311226781658, colsample_bytree=1.0 will be ignored. Current value: feature_fraction=0.408311226781658\n",
      "[LightGBM] [Warning] bagging_freq is set=9, subsample_freq=0 will be ignored. Current value: bagging_freq=9\n",
      "0.7576086956521739\n",
      "[LightGBM] [Warning] Unknown parameter: categorical_features\n",
      "[LightGBM] [Warning] feature_fraction is set=0.408311226781658, colsample_bytree=1.0 will be ignored. Current value: feature_fraction=0.408311226781658\n",
      "[LightGBM] [Warning] bagging_freq is set=9, subsample_freq=0 will be ignored. Current value: bagging_freq=9\n",
      "0.743840579710145\n",
      "[LightGBM] [Warning] Unknown parameter: categorical_features\n",
      "[LightGBM] [Warning] feature_fraction is set=0.408311226781658, colsample_bytree=1.0 will be ignored. Current value: feature_fraction=0.408311226781658\n",
      "[LightGBM] [Warning] bagging_freq is set=9, subsample_freq=0 will be ignored. Current value: bagging_freq=9\n",
      "0.6322463768115941\n",
      "[LightGBM] [Warning] Unknown parameter: categorical_features\n",
      "[LightGBM] [Warning] feature_fraction is set=0.408311226781658, colsample_bytree=1.0 will be ignored. Current value: feature_fraction=0.408311226781658\n",
      "[LightGBM] [Warning] bagging_freq is set=9, subsample_freq=0 will be ignored. Current value: bagging_freq=9\n",
      "0.6094202898550725\n",
      "[LightGBM] [Warning] Unknown parameter: categorical_features\n",
      "[LightGBM] [Warning] feature_fraction is set=0.408311226781658, colsample_bytree=1.0 will be ignored. Current value: feature_fraction=0.408311226781658\n",
      "[LightGBM] [Warning] bagging_freq is set=9, subsample_freq=0 will be ignored. Current value: bagging_freq=9\n",
      "0.6916666666666667\n"
     ]
    },
    {
     "name": "stderr",
     "output_type": "stream",
     "text": [
      "\u001b[32m[I 2021-04-12 13:20:47,881]\u001b[0m Trial 5 finished with value: 0.6869565217391305 and parameters: {'n_estimators': 947, 'num_leaves': 245, 'max_depth': 72, 'learning_rate': 0.030741553519713832, 'min_split_gain': 0.0010376142090080887, 'feature_fraction': 0.408311226781658, 'bagging_freq': 9}. Best is trial 0 with value: 0.6990579710144929.\u001b[0m\n",
      "/opt/conda/lib/python3.7/site-packages/optuna/distributions.py:565: UserWarning: The distribution is specified by [0.1, 10] and step=1, but the range is not divisible by `step`. It will be replaced by [0.1, 9.1].\n",
      "  low=low, old_high=old_high, high=high, step=step\n"
     ]
    },
    {
     "name": "stdout",
     "output_type": "stream",
     "text": [
      "[LightGBM] [Warning] Unknown parameter: categorical_features\n",
      "[LightGBM] [Warning] feature_fraction is set=0.22026823913982937, colsample_bytree=1.0 will be ignored. Current value: feature_fraction=0.22026823913982937\n",
      "[LightGBM] [Warning] bagging_freq is set=0, subsample_freq=0 will be ignored. Current value: bagging_freq=0\n",
      "0.7782608695652173\n",
      "[LightGBM] [Warning] Unknown parameter: categorical_features\n",
      "[LightGBM] [Warning] feature_fraction is set=0.22026823913982937, colsample_bytree=1.0 will be ignored. Current value: feature_fraction=0.22026823913982937\n",
      "[LightGBM] [Warning] bagging_freq is set=0, subsample_freq=0 will be ignored. Current value: bagging_freq=0\n",
      "0.7427536231884058\n",
      "[LightGBM] [Warning] Unknown parameter: categorical_features\n",
      "[LightGBM] [Warning] feature_fraction is set=0.22026823913982937, colsample_bytree=1.0 will be ignored. Current value: feature_fraction=0.22026823913982937\n",
      "[LightGBM] [Warning] bagging_freq is set=0, subsample_freq=0 will be ignored. Current value: bagging_freq=0\n",
      "0.5800724637681159\n",
      "[LightGBM] [Warning] Unknown parameter: categorical_features\n",
      "[LightGBM] [Warning] feature_fraction is set=0.22026823913982937, colsample_bytree=1.0 will be ignored. Current value: feature_fraction=0.22026823913982937\n",
      "[LightGBM] [Warning] bagging_freq is set=0, subsample_freq=0 will be ignored. Current value: bagging_freq=0\n"
     ]
    },
    {
     "name": "stderr",
     "output_type": "stream",
     "text": [
      "\u001b[32m[I 2021-04-12 13:20:48,387]\u001b[0m Trial 6 finished with value: 0.6736956521739129 and parameters: {'n_estimators': 57, 'num_leaves': 89, 'max_depth': 92, 'learning_rate': 0.007153069181724517, 'min_split_gain': 0.0033864190909085527, 'feature_fraction': 0.22026823913982937, 'bagging_freq': 0}. Best is trial 0 with value: 0.6990579710144929.\u001b[0m\n"
     ]
    },
    {
     "name": "stdout",
     "output_type": "stream",
     "text": [
      "0.6054347826086957\n",
      "[LightGBM] [Warning] Unknown parameter: categorical_features\n",
      "[LightGBM] [Warning] feature_fraction is set=0.22026823913982937, colsample_bytree=1.0 will be ignored. Current value: feature_fraction=0.22026823913982937\n",
      "[LightGBM] [Warning] bagging_freq is set=0, subsample_freq=0 will be ignored. Current value: bagging_freq=0\n",
      "0.6619565217391303\n"
     ]
    },
    {
     "name": "stderr",
     "output_type": "stream",
     "text": [
      "/opt/conda/lib/python3.7/site-packages/optuna/distributions.py:565: UserWarning: The distribution is specified by [0.1, 10] and step=1, but the range is not divisible by `step`. It will be replaced by [0.1, 9.1].\n",
      "  low=low, old_high=old_high, high=high, step=step\n"
     ]
    },
    {
     "name": "stdout",
     "output_type": "stream",
     "text": [
      "[LightGBM] [Warning] Unknown parameter: categorical_features\n",
      "[LightGBM] [Warning] feature_fraction is set=0.8375878487283657, colsample_bytree=1.0 will be ignored. Current value: feature_fraction=0.8375878487283657\n",
      "[LightGBM] [Warning] bagging_freq is set=7, subsample_freq=0 will be ignored. Current value: bagging_freq=7\n",
      "0.7318840579710145\n",
      "[LightGBM] [Warning] Unknown parameter: categorical_features\n",
      "[LightGBM] [Warning] feature_fraction is set=0.8375878487283657, colsample_bytree=1.0 will be ignored. Current value: feature_fraction=0.8375878487283657\n",
      "[LightGBM] [Warning] bagging_freq is set=7, subsample_freq=0 will be ignored. Current value: bagging_freq=7\n",
      "0.736231884057971\n",
      "[LightGBM] [Warning] Unknown parameter: categorical_features\n",
      "[LightGBM] [Warning] feature_fraction is set=0.8375878487283657, colsample_bytree=1.0 will be ignored. Current value: feature_fraction=0.8375878487283657\n",
      "[LightGBM] [Warning] bagging_freq is set=7, subsample_freq=0 will be ignored. Current value: bagging_freq=7\n",
      "0.5894927536231884\n",
      "[LightGBM] [Warning] Unknown parameter: categorical_features\n",
      "[LightGBM] [Warning] feature_fraction is set=0.8375878487283657, colsample_bytree=1.0 will be ignored. Current value: feature_fraction=0.8375878487283657\n",
      "[LightGBM] [Warning] bagging_freq is set=7, subsample_freq=0 will be ignored. Current value: bagging_freq=7\n",
      "0.6376811594202898\n"
     ]
    },
    {
     "name": "stderr",
     "output_type": "stream",
     "text": [
      "\u001b[32m[I 2021-04-12 13:20:48,882]\u001b[0m Trial 7 finished with value: 0.6719565217391306 and parameters: {'n_estimators': 653, 'num_leaves': 341, 'max_depth': 115, 'learning_rate': 0.14851703729250715, 'min_split_gain': 0.004836628830991963, 'feature_fraction': 0.8375878487283657, 'bagging_freq': 7}. Best is trial 0 with value: 0.6990579710144929.\u001b[0m\n"
     ]
    },
    {
     "name": "stdout",
     "output_type": "stream",
     "text": [
      "[LightGBM] [Warning] Unknown parameter: categorical_features\n",
      "[LightGBM] [Warning] feature_fraction is set=0.8375878487283657, colsample_bytree=1.0 will be ignored. Current value: feature_fraction=0.8375878487283657\n",
      "[LightGBM] [Warning] bagging_freq is set=7, subsample_freq=0 will be ignored. Current value: bagging_freq=7\n",
      "0.6644927536231884\n"
     ]
    },
    {
     "name": "stderr",
     "output_type": "stream",
     "text": [
      "/opt/conda/lib/python3.7/site-packages/optuna/distributions.py:565: UserWarning: The distribution is specified by [0.1, 10] and step=1, but the range is not divisible by `step`. It will be replaced by [0.1, 9.1].\n",
      "  low=low, old_high=old_high, high=high, step=step\n"
     ]
    },
    {
     "name": "stdout",
     "output_type": "stream",
     "text": [
      "[LightGBM] [Warning] Unknown parameter: categorical_features\n",
      "[LightGBM] [Warning] feature_fraction is set=0.21894732205957929, colsample_bytree=1.0 will be ignored. Current value: feature_fraction=0.21894732205957929\n",
      "[LightGBM] [Warning] bagging_freq is set=3, subsample_freq=0 will be ignored. Current value: bagging_freq=3\n",
      "0.7815217391304348\n",
      "[LightGBM] [Warning] Unknown parameter: categorical_features\n",
      "[LightGBM] [Warning] feature_fraction is set=0.21894732205957929, colsample_bytree=1.0 will be ignored. Current value: feature_fraction=0.21894732205957929\n",
      "[LightGBM] [Warning] bagging_freq is set=3, subsample_freq=0 will be ignored. Current value: bagging_freq=3\n",
      "0.7278985507246377\n",
      "[LightGBM] [Warning] Unknown parameter: categorical_features\n",
      "[LightGBM] [Warning] feature_fraction is set=0.21894732205957929, colsample_bytree=1.0 will be ignored. Current value: feature_fraction=0.21894732205957929\n",
      "[LightGBM] [Warning] bagging_freq is set=3, subsample_freq=0 will be ignored. Current value: bagging_freq=3\n",
      "0.5945652173913043\n",
      "[LightGBM] [Warning] Unknown parameter: categorical_features\n",
      "[LightGBM] [Warning] feature_fraction is set=0.21894732205957929, colsample_bytree=1.0 will be ignored. Current value: feature_fraction=0.21894732205957929\n",
      "[LightGBM] [Warning] bagging_freq is set=3, subsample_freq=0 will be ignored. Current value: bagging_freq=3\n",
      "0.5865942028985507\n",
      "[LightGBM] [Warning] Unknown parameter: categorical_features\n",
      "[LightGBM] [Warning] feature_fraction is set=0.21894732205957929, colsample_bytree=1.0 will be ignored. Current value: feature_fraction=0.21894732205957929\n",
      "[LightGBM] [Warning] bagging_freq is set=3, subsample_freq=0 will be ignored. Current value: bagging_freq=3\n",
      "0.6659420289855073\n"
     ]
    },
    {
     "name": "stderr",
     "output_type": "stream",
     "text": [
      "\u001b[32m[I 2021-04-12 13:20:49,773]\u001b[0m Trial 8 finished with value: 0.671304347826087 and parameters: {'n_estimators': 189, 'num_leaves': 112, 'max_depth': 78, 'learning_rate': 0.002736935753977978, 'min_split_gain': 0.00637280976974754, 'feature_fraction': 0.21894732205957929, 'bagging_freq': 3}. Best is trial 0 with value: 0.6990579710144929.\u001b[0m\n",
      "/opt/conda/lib/python3.7/site-packages/optuna/distributions.py:565: UserWarning: The distribution is specified by [0.1, 10] and step=1, but the range is not divisible by `step`. It will be replaced by [0.1, 9.1].\n",
      "  low=low, old_high=old_high, high=high, step=step\n"
     ]
    },
    {
     "name": "stdout",
     "output_type": "stream",
     "text": [
      "[LightGBM] [Warning] Unknown parameter: categorical_features\n",
      "[LightGBM] [Warning] feature_fraction is set=0.7350966184718217, colsample_bytree=1.0 will be ignored. Current value: feature_fraction=0.7350966184718217\n",
      "[LightGBM] [Warning] bagging_freq is set=4, subsample_freq=0 will be ignored. Current value: bagging_freq=4\n",
      "0.7514492753623189\n",
      "[LightGBM] [Warning] Unknown parameter: categorical_features\n",
      "[LightGBM] [Warning] feature_fraction is set=0.7350966184718217, colsample_bytree=1.0 will be ignored. Current value: feature_fraction=0.7350966184718217\n",
      "[LightGBM] [Warning] bagging_freq is set=4, subsample_freq=0 will be ignored. Current value: bagging_freq=4\n",
      "0.7170289855072465\n",
      "[LightGBM] [Warning] Unknown parameter: categorical_features\n",
      "[LightGBM] [Warning] feature_fraction is set=0.7350966184718217, colsample_bytree=1.0 will be ignored. Current value: feature_fraction=0.7350966184718217\n",
      "[LightGBM] [Warning] bagging_freq is set=4, subsample_freq=0 will be ignored. Current value: bagging_freq=4\n",
      "0.6268115942028986\n",
      "[LightGBM] [Warning] Unknown parameter: categorical_features\n",
      "[LightGBM] [Warning] feature_fraction is set=0.7350966184718217, colsample_bytree=1.0 will be ignored. Current value: feature_fraction=0.7350966184718217\n",
      "[LightGBM] [Warning] bagging_freq is set=4, subsample_freq=0 will be ignored. Current value: bagging_freq=4\n",
      "0.5996376811594203\n",
      "[LightGBM] [Warning] Unknown parameter: categorical_features\n",
      "[LightGBM] [Warning] feature_fraction is set=0.7350966184718217, colsample_bytree=1.0 will be ignored. Current value: feature_fraction=0.7350966184718217\n",
      "[LightGBM] [Warning] bagging_freq is set=4, subsample_freq=0 will be ignored. Current value: bagging_freq=4\n"
     ]
    },
    {
     "name": "stderr",
     "output_type": "stream",
     "text": [
      "\u001b[32m[I 2021-04-12 13:20:50,549]\u001b[0m Trial 9 finished with value: 0.6758695652173914 and parameters: {'n_estimators': 346, 'num_leaves': 409, 'max_depth': 22, 'learning_rate': 0.01587872858931728, 'min_split_gain': 0.0025943030427176147, 'feature_fraction': 0.7350966184718217, 'bagging_freq': 4}. Best is trial 0 with value: 0.6990579710144929.\u001b[0m\n"
     ]
    },
    {
     "name": "stdout",
     "output_type": "stream",
     "text": [
      "0.6844202898550725\n"
     ]
    },
    {
     "name": "stderr",
     "output_type": "stream",
     "text": [
      "/opt/conda/lib/python3.7/site-packages/optuna/distributions.py:565: UserWarning: The distribution is specified by [0.1, 10] and step=1, but the range is not divisible by `step`. It will be replaced by [0.1, 9.1].\n",
      "  low=low, old_high=old_high, high=high, step=step\n"
     ]
    },
    {
     "name": "stdout",
     "output_type": "stream",
     "text": [
      "[LightGBM] [Warning] Unknown parameter: categorical_features\n",
      "[LightGBM] [Warning] feature_fraction is set=0.38106362109202985, colsample_bytree=1.0 will be ignored. Current value: feature_fraction=0.38106362109202985\n",
      "[LightGBM] [Warning] bagging_freq is set=7, subsample_freq=0 will be ignored. Current value: bagging_freq=7\n",
      "0.7387681159420291\n",
      "[LightGBM] [Warning] Unknown parameter: categorical_features\n",
      "[LightGBM] [Warning] feature_fraction is set=0.38106362109202985, colsample_bytree=1.0 will be ignored. Current value: feature_fraction=0.38106362109202985\n",
      "[LightGBM] [Warning] bagging_freq is set=7, subsample_freq=0 will be ignored. Current value: bagging_freq=7\n",
      "0.7164855072463768\n",
      "[LightGBM] [Warning] Unknown parameter: categorical_features\n",
      "[LightGBM] [Warning] feature_fraction is set=0.38106362109202985, colsample_bytree=1.0 will be ignored. Current value: feature_fraction=0.38106362109202985\n",
      "[LightGBM] [Warning] bagging_freq is set=7, subsample_freq=0 will be ignored. Current value: bagging_freq=7\n",
      "0.6175724637681159\n",
      "[LightGBM] [Warning] Unknown parameter: categorical_features\n",
      "[LightGBM] [Warning] feature_fraction is set=0.38106362109202985, colsample_bytree=1.0 will be ignored. Current value: feature_fraction=0.38106362109202985\n",
      "[LightGBM] [Warning] bagging_freq is set=7, subsample_freq=0 will be ignored. Current value: bagging_freq=7\n",
      "0.592572463768116\n",
      "[LightGBM] [Warning] Unknown parameter: categorical_features\n",
      "[LightGBM] [Warning] feature_fraction is set=0.38106362109202985, colsample_bytree=1.0 will be ignored. Current value: feature_fraction=0.38106362109202985\n",
      "[LightGBM] [Warning] bagging_freq is set=7, subsample_freq=0 will be ignored. Current value: bagging_freq=7\n",
      "0.6532608695652173\n"
     ]
    },
    {
     "name": "stderr",
     "output_type": "stream",
     "text": [
      "\u001b[32m[I 2021-04-12 13:20:50,933]\u001b[0m Trial 10 finished with value: 0.6637318840579711 and parameters: {'n_estimators': 20, 'num_leaves': 4, 'max_depth': 3, 'learning_rate': 0.13538922816381466, 'min_split_gain': 0.031806987463719336, 'feature_fraction': 0.38106362109202985, 'bagging_freq': 7}. Best is trial 0 with value: 0.6990579710144929.\u001b[0m\n",
      "/opt/conda/lib/python3.7/site-packages/optuna/distributions.py:565: UserWarning: The distribution is specified by [0.1, 10] and step=1, but the range is not divisible by `step`. It will be replaced by [0.1, 9.1].\n",
      "  low=low, old_high=old_high, high=high, step=step\n"
     ]
    },
    {
     "name": "stdout",
     "output_type": "stream",
     "text": [
      "[LightGBM] [Warning] Unknown parameter: categorical_features\n",
      "[LightGBM] [Warning] feature_fraction is set=0.3579219104289127, colsample_bytree=1.0 will be ignored. Current value: feature_fraction=0.3579219104289127\n",
      "[LightGBM] [Warning] bagging_freq is set=9, subsample_freq=0 will be ignored. Current value: bagging_freq=9\n",
      "0.761231884057971\n",
      "[LightGBM] [Warning] Unknown parameter: categorical_features\n",
      "[LightGBM] [Warning] feature_fraction is set=0.3579219104289127, colsample_bytree=1.0 will be ignored. Current value: feature_fraction=0.3579219104289127\n",
      "[LightGBM] [Warning] bagging_freq is set=9, subsample_freq=0 will be ignored. Current value: bagging_freq=9\n",
      "0.744927536231884\n",
      "[LightGBM] [Warning] Unknown parameter: categorical_features\n",
      "[LightGBM] [Warning] feature_fraction is set=0.3579219104289127, colsample_bytree=1.0 will be ignored. Current value: feature_fraction=0.3579219104289127\n",
      "[LightGBM] [Warning] bagging_freq is set=9, subsample_freq=0 will be ignored. Current value: bagging_freq=9\n",
      "0.6594202898550725\n",
      "[LightGBM] [Warning] Unknown parameter: categorical_features\n",
      "[LightGBM] [Warning] feature_fraction is set=0.3579219104289127, colsample_bytree=1.0 will be ignored. Current value: feature_fraction=0.3579219104289127\n",
      "[LightGBM] [Warning] bagging_freq is set=9, subsample_freq=0 will be ignored. Current value: bagging_freq=9\n"
     ]
    },
    {
     "name": "stderr",
     "output_type": "stream",
     "text": [
      "\u001b[32m[I 2021-04-12 13:20:51,490]\u001b[0m Trial 11 finished with value: 0.6989130434782609 and parameters: {'n_estimators': 917, 'num_leaves': 221, 'max_depth': 41, 'learning_rate': 0.05641666686452752, 'min_split_gain': 0.02028900262593613, 'feature_fraction': 0.3579219104289127, 'bagging_freq': 9}. Best is trial 0 with value: 0.6990579710144929.\u001b[0m\n"
     ]
    },
    {
     "name": "stdout",
     "output_type": "stream",
     "text": [
      "0.625\n",
      "[LightGBM] [Warning] Unknown parameter: categorical_features\n",
      "[LightGBM] [Warning] feature_fraction is set=0.3579219104289127, colsample_bytree=1.0 will be ignored. Current value: feature_fraction=0.3579219104289127\n",
      "[LightGBM] [Warning] bagging_freq is set=9, subsample_freq=0 will be ignored. Current value: bagging_freq=9\n",
      "0.7039855072463768\n"
     ]
    },
    {
     "name": "stderr",
     "output_type": "stream",
     "text": [
      "/opt/conda/lib/python3.7/site-packages/optuna/distributions.py:565: UserWarning: The distribution is specified by [0.1, 10] and step=1, but the range is not divisible by `step`. It will be replaced by [0.1, 9.1].\n",
      "  low=low, old_high=old_high, high=high, step=step\n"
     ]
    },
    {
     "name": "stdout",
     "output_type": "stream",
     "text": [
      "[LightGBM] [Warning] Unknown parameter: categorical_features\n",
      "[LightGBM] [Warning] feature_fraction is set=0.35848317815796954, colsample_bytree=1.0 will be ignored. Current value: feature_fraction=0.35848317815796954\n",
      "[LightGBM] [Warning] bagging_freq is set=9, subsample_freq=0 will be ignored. Current value: bagging_freq=9\n",
      "0.7405797101449275\n",
      "[LightGBM] [Warning] Unknown parameter: categorical_features\n",
      "[LightGBM] [Warning] feature_fraction is set=0.35848317815796954, colsample_bytree=1.0 will be ignored. Current value: feature_fraction=0.35848317815796954\n",
      "[LightGBM] [Warning] bagging_freq is set=9, subsample_freq=0 will be ignored. Current value: bagging_freq=9\n",
      "0.7275362318840579\n",
      "[LightGBM] [Warning] Unknown parameter: categorical_features\n",
      "[LightGBM] [Warning] feature_fraction is set=0.35848317815796954, colsample_bytree=1.0 will be ignored. Current value: feature_fraction=0.35848317815796954\n",
      "[LightGBM] [Warning] bagging_freq is set=9, subsample_freq=0 will be ignored. Current value: bagging_freq=9\n",
      "0.625\n",
      "[LightGBM] [Warning] Unknown parameter: categorical_features\n",
      "[LightGBM] [Warning] feature_fraction is set=0.35848317815796954, colsample_bytree=1.0 will be ignored. Current value: feature_fraction=0.35848317815796954\n",
      "[LightGBM] [Warning] bagging_freq is set=9, subsample_freq=0 will be ignored. Current value: bagging_freq=9\n"
     ]
    },
    {
     "name": "stderr",
     "output_type": "stream",
     "text": [
      "\u001b[32m[I 2021-04-12 13:20:52,013]\u001b[0m Trial 12 finished with value: 0.6872463768115942 and parameters: {'n_estimators': 670, 'num_leaves': 133, 'max_depth': 33, 'learning_rate': 0.06843239705631642, 'min_split_gain': 0.022627524676648414, 'feature_fraction': 0.35848317815796954, 'bagging_freq': 9}. Best is trial 0 with value: 0.6990579710144929.\u001b[0m\n"
     ]
    },
    {
     "name": "stdout",
     "output_type": "stream",
     "text": [
      "0.6413043478260869\n",
      "[LightGBM] [Warning] Unknown parameter: categorical_features\n",
      "[LightGBM] [Warning] feature_fraction is set=0.35848317815796954, colsample_bytree=1.0 will be ignored. Current value: feature_fraction=0.35848317815796954\n",
      "[LightGBM] [Warning] bagging_freq is set=9, subsample_freq=0 will be ignored. Current value: bagging_freq=9\n",
      "0.7018115942028986\n"
     ]
    },
    {
     "name": "stderr",
     "output_type": "stream",
     "text": [
      "/opt/conda/lib/python3.7/site-packages/optuna/distributions.py:565: UserWarning: The distribution is specified by [0.1, 10] and step=1, but the range is not divisible by `step`. It will be replaced by [0.1, 9.1].\n",
      "  low=low, old_high=old_high, high=high, step=step\n"
     ]
    },
    {
     "name": "stdout",
     "output_type": "stream",
     "text": [
      "[LightGBM] [Warning] Unknown parameter: categorical_features\n",
      "[LightGBM] [Warning] feature_fraction is set=0.2881808424449254, colsample_bytree=1.0 will be ignored. Current value: feature_fraction=0.2881808424449254\n",
      "[LightGBM] [Warning] bagging_freq is set=7, subsample_freq=0 will be ignored. Current value: bagging_freq=7\n",
      "0.7746376811594202\n",
      "[LightGBM] [Warning] Unknown parameter: categorical_features\n",
      "[LightGBM] [Warning] feature_fraction is set=0.2881808424449254, colsample_bytree=1.0 will be ignored. Current value: feature_fraction=0.2881808424449254\n",
      "[LightGBM] [Warning] bagging_freq is set=7, subsample_freq=0 will be ignored. Current value: bagging_freq=7\n",
      "0.7163043478260869\n",
      "[LightGBM] [Warning] Unknown parameter: categorical_features\n",
      "[LightGBM] [Warning] feature_fraction is set=0.2881808424449254, colsample_bytree=1.0 will be ignored. Current value: feature_fraction=0.2881808424449254\n",
      "[LightGBM] [Warning] bagging_freq is set=7, subsample_freq=0 will be ignored. Current value: bagging_freq=7\n",
      "0.6159420289855073\n",
      "[LightGBM] [Warning] Unknown parameter: categorical_features\n",
      "[LightGBM] [Warning] feature_fraction is set=0.2881808424449254, colsample_bytree=1.0 will be ignored. Current value: feature_fraction=0.2881808424449254\n",
      "[LightGBM] [Warning] bagging_freq is set=7, subsample_freq=0 will be ignored. Current value: bagging_freq=7\n"
     ]
    },
    {
     "name": "stderr",
     "output_type": "stream",
     "text": [
      "\u001b[32m[I 2021-04-12 13:20:52,560]\u001b[0m Trial 13 finished with value: 0.6860144927536233 and parameters: {'n_estimators': 686, 'num_leaves': 190, 'max_depth': 37, 'learning_rate': 0.06193286589049885, 'min_split_gain': 0.01884364578205177, 'feature_fraction': 0.2881808424449254, 'bagging_freq': 7}. Best is trial 0 with value: 0.6990579710144929.\u001b[0m\n"
     ]
    },
    {
     "name": "stdout",
     "output_type": "stream",
     "text": [
      "0.6318840579710144\n",
      "[LightGBM] [Warning] Unknown parameter: categorical_features\n",
      "[LightGBM] [Warning] feature_fraction is set=0.2881808424449254, colsample_bytree=1.0 will be ignored. Current value: feature_fraction=0.2881808424449254\n",
      "[LightGBM] [Warning] bagging_freq is set=7, subsample_freq=0 will be ignored. Current value: bagging_freq=7\n",
      "0.691304347826087\n"
     ]
    },
    {
     "name": "stderr",
     "output_type": "stream",
     "text": [
      "/opt/conda/lib/python3.7/site-packages/optuna/distributions.py:565: UserWarning: The distribution is specified by [0.1, 10] and step=1, but the range is not divisible by `step`. It will be replaced by [0.1, 9.1].\n",
      "  low=low, old_high=old_high, high=high, step=step\n"
     ]
    },
    {
     "name": "stdout",
     "output_type": "stream",
     "text": [
      "[LightGBM] [Warning] Unknown parameter: categorical_features\n",
      "[LightGBM] [Warning] feature_fraction is set=0.5217259179867012, colsample_bytree=1.0 will be ignored. Current value: feature_fraction=0.5217259179867012\n",
      "[LightGBM] [Warning] bagging_freq is set=5, subsample_freq=0 will be ignored. Current value: bagging_freq=5\n",
      "0.7681159420289856\n",
      "[LightGBM] [Warning] Unknown parameter: categorical_features\n",
      "[LightGBM] [Warning] feature_fraction is set=0.5217259179867012, colsample_bytree=1.0 will be ignored. Current value: feature_fraction=0.5217259179867012\n",
      "[LightGBM] [Warning] bagging_freq is set=5, subsample_freq=0 will be ignored. Current value: bagging_freq=5\n",
      "0.7054347826086956\n",
      "[LightGBM] [Warning] Unknown parameter: categorical_features\n",
      "[LightGBM] [Warning] feature_fraction is set=0.5217259179867012, colsample_bytree=1.0 will be ignored. Current value: feature_fraction=0.5217259179867012\n",
      "[LightGBM] [Warning] bagging_freq is set=5, subsample_freq=0 will be ignored. Current value: bagging_freq=5\n",
      "0.6322463768115941\n",
      "[LightGBM] [Warning] Unknown parameter: categorical_features\n",
      "[LightGBM] [Warning] feature_fraction is set=0.5217259179867012, colsample_bytree=1.0 will be ignored. Current value: feature_fraction=0.5217259179867012\n",
      "[LightGBM] [Warning] bagging_freq is set=5, subsample_freq=0 will be ignored. Current value: bagging_freq=5\n",
      "0.6047101449275362\n",
      "[LightGBM] [Warning] Unknown parameter: categorical_features\n",
      "[LightGBM] [Warning] feature_fraction is set=0.5217259179867012, colsample_bytree=1.0 will be ignored. Current value: feature_fraction=0.5217259179867012\n",
      "[LightGBM] [Warning] bagging_freq is set=5, subsample_freq=0 will be ignored. Current value: bagging_freq=5\n",
      "0.6822463768115943\n"
     ]
    },
    {
     "name": "stderr",
     "output_type": "stream",
     "text": [
      "\u001b[32m[I 2021-04-12 13:20:53,450]\u001b[0m Trial 14 finished with value: 0.6785507246376812 and parameters: {'n_estimators': 166, 'num_leaves': 330, 'max_depth': 8, 'learning_rate': 0.00672474302446209, 'min_split_gain': 0.06753956265948292, 'feature_fraction': 0.5217259179867012, 'bagging_freq': 5}. Best is trial 0 with value: 0.6990579710144929.\u001b[0m\n",
      "/opt/conda/lib/python3.7/site-packages/optuna/distributions.py:565: UserWarning: The distribution is specified by [0.1, 10] and step=1, but the range is not divisible by `step`. It will be replaced by [0.1, 9.1].\n",
      "  low=low, old_high=old_high, high=high, step=step\n"
     ]
    },
    {
     "name": "stdout",
     "output_type": "stream",
     "text": [
      "[LightGBM] [Warning] Unknown parameter: categorical_features\n",
      "[LightGBM] [Warning] feature_fraction is set=0.4565027883170921, colsample_bytree=1.0 will be ignored. Current value: feature_fraction=0.4565027883170921\n",
      "[LightGBM] [Warning] bagging_freq is set=8, subsample_freq=0 will be ignored. Current value: bagging_freq=8\n",
      "0.826086956521739\n",
      "[LightGBM] [Warning] Unknown parameter: categorical_features\n",
      "[LightGBM] [Warning] feature_fraction is set=0.4565027883170921, colsample_bytree=1.0 will be ignored. Current value: feature_fraction=0.4565027883170921\n",
      "[LightGBM] [Warning] bagging_freq is set=8, subsample_freq=0 will be ignored. Current value: bagging_freq=8\n",
      "0.7492753623188406\n",
      "[LightGBM] [Warning] Unknown parameter: categorical_features\n",
      "[LightGBM] [Warning] feature_fraction is set=0.4565027883170921, colsample_bytree=1.0 will be ignored. Current value: feature_fraction=0.4565027883170921\n",
      "[LightGBM] [Warning] bagging_freq is set=8, subsample_freq=0 will be ignored. Current value: bagging_freq=8\n",
      "0.6117753623188406\n",
      "[LightGBM] [Warning] Unknown parameter: categorical_features\n",
      "[LightGBM] [Warning] feature_fraction is set=0.4565027883170921, colsample_bytree=1.0 will be ignored. Current value: feature_fraction=0.4565027883170921\n",
      "[LightGBM] [Warning] bagging_freq is set=8, subsample_freq=0 will be ignored. Current value: bagging_freq=8\n",
      "0.5880434782608696\n",
      "[LightGBM] [Warning] Unknown parameter: categorical_features\n",
      "[LightGBM] [Warning] feature_fraction is set=0.4565027883170921, colsample_bytree=1.0 will be ignored. Current value: feature_fraction=0.4565027883170921\n",
      "[LightGBM] [Warning] bagging_freq is set=8, subsample_freq=0 will be ignored. Current value: bagging_freq=8\n"
     ]
    },
    {
     "name": "stderr",
     "output_type": "stream",
     "text": [
      "\u001b[32m[I 2021-04-12 13:20:53,943]\u001b[0m Trial 15 finished with value: 0.6906884057971014 and parameters: {'n_estimators': 809, 'num_leaves': 42, 'max_depth': 28, 'learning_rate': 0.09298250805477247, 'min_split_gain': 0.011720428158777453, 'feature_fraction': 0.4565027883170921, 'bagging_freq': 8}. Best is trial 0 with value: 0.6990579710144929.\u001b[0m\n"
     ]
    },
    {
     "name": "stdout",
     "output_type": "stream",
     "text": [
      "0.6782608695652174\n"
     ]
    },
    {
     "name": "stderr",
     "output_type": "stream",
     "text": [
      "/opt/conda/lib/python3.7/site-packages/optuna/distributions.py:565: UserWarning: The distribution is specified by [0.1, 10] and step=1, but the range is not divisible by `step`. It will be replaced by [0.1, 9.1].\n",
      "  low=low, old_high=old_high, high=high, step=step\n"
     ]
    },
    {
     "name": "stdout",
     "output_type": "stream",
     "text": [
      "[LightGBM] [Warning] Unknown parameter: categorical_features\n",
      "[LightGBM] [Warning] feature_fraction is set=0.10356157996702031, colsample_bytree=1.0 will be ignored. Current value: feature_fraction=0.10356157996702031\n",
      "[LightGBM] [Warning] bagging_freq is set=2, subsample_freq=0 will be ignored. Current value: bagging_freq=2\n",
      "0.7670289855072464\n",
      "[LightGBM] [Warning] Unknown parameter: categorical_features\n",
      "[LightGBM] [Warning] feature_fraction is set=0.10356157996702031, colsample_bytree=1.0 will be ignored. Current value: feature_fraction=0.10356157996702031\n",
      "[LightGBM] [Warning] bagging_freq is set=2, subsample_freq=0 will be ignored. Current value: bagging_freq=2\n",
      "0.6974637681159419\n",
      "[LightGBM] [Warning] Unknown parameter: categorical_features\n",
      "[LightGBM] [Warning] feature_fraction is set=0.10356157996702031, colsample_bytree=1.0 will be ignored. Current value: feature_fraction=0.10356157996702031\n",
      "[LightGBM] [Warning] bagging_freq is set=2, subsample_freq=0 will be ignored. Current value: bagging_freq=2\n",
      "0.5826086956521739\n",
      "[LightGBM] [Warning] Unknown parameter: categorical_features\n",
      "[LightGBM] [Warning] feature_fraction is set=0.10356157996702031, colsample_bytree=1.0 will be ignored. Current value: feature_fraction=0.10356157996702031\n",
      "[LightGBM] [Warning] bagging_freq is set=2, subsample_freq=0 will be ignored. Current value: bagging_freq=2\n"
     ]
    },
    {
     "name": "stderr",
     "output_type": "stream",
     "text": [
      "\u001b[32m[I 2021-04-12 13:20:54,483]\u001b[0m Trial 16 finished with value: 0.655072463768116 and parameters: {'n_estimators': 198, 'num_leaves': 189, 'max_depth': 53, 'learning_rate': 0.03542268814459767, 'min_split_gain': 0.042974656412146144, 'feature_fraction': 0.10356157996702031, 'bagging_freq': 2}. Best is trial 0 with value: 0.6990579710144929.\u001b[0m\n"
     ]
    },
    {
     "name": "stdout",
     "output_type": "stream",
     "text": [
      "0.5971014492753625\n",
      "[LightGBM] [Warning] Unknown parameter: categorical_features\n",
      "[LightGBM] [Warning] feature_fraction is set=0.10356157996702031, colsample_bytree=1.0 will be ignored. Current value: feature_fraction=0.10356157996702031\n",
      "[LightGBM] [Warning] bagging_freq is set=2, subsample_freq=0 will be ignored. Current value: bagging_freq=2\n",
      "0.631159420289855\n"
     ]
    },
    {
     "name": "stderr",
     "output_type": "stream",
     "text": [
      "/opt/conda/lib/python3.7/site-packages/optuna/distributions.py:565: UserWarning: The distribution is specified by [0.1, 10] and step=1, but the range is not divisible by `step`. It will be replaced by [0.1, 9.1].\n",
      "  low=low, old_high=old_high, high=high, step=step\n"
     ]
    },
    {
     "name": "stdout",
     "output_type": "stream",
     "text": [
      "[LightGBM] [Warning] Unknown parameter: categorical_features\n",
      "[LightGBM] [Warning] feature_fraction is set=0.6367947659482023, colsample_bytree=1.0 will be ignored. Current value: feature_fraction=0.6367947659482023\n",
      "[LightGBM] [Warning] bagging_freq is set=8, subsample_freq=0 will be ignored. Current value: bagging_freq=8\n",
      "0.7554347826086957\n",
      "[LightGBM] [Warning] Unknown parameter: categorical_features\n",
      "[LightGBM] [Warning] feature_fraction is set=0.6367947659482023, colsample_bytree=1.0 will be ignored. Current value: feature_fraction=0.6367947659482023\n",
      "[LightGBM] [Warning] bagging_freq is set=8, subsample_freq=0 will be ignored. Current value: bagging_freq=8\n",
      "0.7409420289855072\n",
      "[LightGBM] [Warning] Unknown parameter: categorical_features\n",
      "[LightGBM] [Warning] feature_fraction is set=0.6367947659482023, colsample_bytree=1.0 will be ignored. Current value: feature_fraction=0.6367947659482023\n",
      "[LightGBM] [Warning] bagging_freq is set=8, subsample_freq=0 will be ignored. Current value: bagging_freq=8\n",
      "0.6494565217391304\n",
      "[LightGBM] [Warning] Unknown parameter: categorical_features\n",
      "[LightGBM] [Warning] feature_fraction is set=0.6367947659482023, colsample_bytree=1.0 will be ignored. Current value: feature_fraction=0.6367947659482023\n",
      "[LightGBM] [Warning] bagging_freq is set=8, subsample_freq=0 will be ignored. Current value: bagging_freq=8\n",
      "0.5929347826086957\n",
      "[LightGBM] [Warning] Unknown parameter: categorical_features\n",
      "[LightGBM] [Warning] feature_fraction is set=0.6367947659482023, colsample_bytree=1.0 will be ignored. Current value: feature_fraction=0.6367947659482023\n",
      "[LightGBM] [Warning] bagging_freq is set=8, subsample_freq=0 will be ignored. Current value: bagging_freq=8\n",
      "0.6791666666666667\n"
     ]
    },
    {
     "name": "stderr",
     "output_type": "stream",
     "text": [
      "\u001b[32m[I 2021-04-12 13:20:55,184]\u001b[0m Trial 17 finished with value: 0.6835869565217391 and parameters: {'n_estimators': 562, 'num_leaves': 318, 'max_depth': 2, 'learning_rate': 0.010253385888437123, 'min_split_gain': 0.010526260652958946, 'feature_fraction': 0.6367947659482023, 'bagging_freq': 8}. Best is trial 0 with value: 0.6990579710144929.\u001b[0m\n",
      "/opt/conda/lib/python3.7/site-packages/optuna/distributions.py:565: UserWarning: The distribution is specified by [0.1, 10] and step=1, but the range is not divisible by `step`. It will be replaced by [0.1, 9.1].\n",
      "  low=low, old_high=old_high, high=high, step=step\n"
     ]
    },
    {
     "name": "stdout",
     "output_type": "stream",
     "text": [
      "[LightGBM] [Warning] Unknown parameter: categorical_features\n",
      "[LightGBM] [Warning] feature_fraction is set=0.9801641990656074, colsample_bytree=1.0 will be ignored. Current value: feature_fraction=0.9801641990656074\n",
      "[LightGBM] [Warning] bagging_freq is set=5, subsample_freq=0 will be ignored. Current value: bagging_freq=5\n",
      "0.7721014492753624\n",
      "[LightGBM] [Warning] Unknown parameter: categorical_features\n",
      "[LightGBM] [Warning] feature_fraction is set=0.9801641990656074, colsample_bytree=1.0 will be ignored. Current value: feature_fraction=0.9801641990656074\n",
      "[LightGBM] [Warning] bagging_freq is set=5, subsample_freq=0 will be ignored. Current value: bagging_freq=5\n",
      "0.7329710144927537\n",
      "[LightGBM] [Warning] Unknown parameter: categorical_features\n",
      "[LightGBM] [Warning] feature_fraction is set=0.9801641990656074, colsample_bytree=1.0 will be ignored. Current value: feature_fraction=0.9801641990656074\n",
      "[LightGBM] [Warning] bagging_freq is set=5, subsample_freq=0 will be ignored. Current value: bagging_freq=5\n",
      "0.5927536231884057\n",
      "[LightGBM] [Warning] Unknown parameter: categorical_features\n",
      "[LightGBM] [Warning] feature_fraction is set=0.9801641990656074, colsample_bytree=1.0 will be ignored. Current value: feature_fraction=0.9801641990656074\n",
      "[LightGBM] [Warning] bagging_freq is set=5, subsample_freq=0 will be ignored. Current value: bagging_freq=5\n",
      "0.6164855072463769\n",
      "[LightGBM] [Warning] Unknown parameter: categorical_features\n",
      "[LightGBM] [Warning] feature_fraction is set=0.9801641990656074, colsample_bytree=1.0 will be ignored. Current value: feature_fraction=0.9801641990656074\n",
      "[LightGBM] [Warning] bagging_freq is set=5, subsample_freq=0 will be ignored. Current value: bagging_freq=5\n",
      "0.6731884057971015\n"
     ]
    },
    {
     "name": "stderr",
     "output_type": "stream",
     "text": [
      "\u001b[32m[I 2021-04-12 13:20:55,785]\u001b[0m Trial 18 finished with value: 0.6775 and parameters: {'n_estimators': 505, 'num_leaves': 165, 'max_depth': 40, 'learning_rate': 0.04072414856359005, 'min_split_gain': 0.04765706534607614, 'feature_fraction': 0.9801641990656074, 'bagging_freq': 5}. Best is trial 0 with value: 0.6990579710144929.\u001b[0m\n",
      "/opt/conda/lib/python3.7/site-packages/optuna/distributions.py:565: UserWarning: The distribution is specified by [0.1, 10] and step=1, but the range is not divisible by `step`. It will be replaced by [0.1, 9.1].\n",
      "  low=low, old_high=old_high, high=high, step=step\n"
     ]
    },
    {
     "name": "stdout",
     "output_type": "stream",
     "text": [
      "[LightGBM] [Warning] Unknown parameter: categorical_features\n",
      "[LightGBM] [Warning] feature_fraction is set=0.26423752164864267, colsample_bytree=1.0 will be ignored. Current value: feature_fraction=0.26423752164864267\n",
      "[LightGBM] [Warning] bagging_freq is set=8, subsample_freq=0 will be ignored. Current value: bagging_freq=8\n",
      "0.8021739130434783\n",
      "[LightGBM] [Warning] Unknown parameter: categorical_features\n",
      "[LightGBM] [Warning] feature_fraction is set=0.26423752164864267, colsample_bytree=1.0 will be ignored. Current value: feature_fraction=0.26423752164864267\n",
      "[LightGBM] [Warning] bagging_freq is set=8, subsample_freq=0 will be ignored. Current value: bagging_freq=8\n",
      "0.716304347826087\n",
      "[LightGBM] [Warning] Unknown parameter: categorical_features\n",
      "[LightGBM] [Warning] feature_fraction is set=0.26423752164864267, colsample_bytree=1.0 will be ignored. Current value: feature_fraction=0.26423752164864267\n",
      "[LightGBM] [Warning] bagging_freq is set=8, subsample_freq=0 will be ignored. Current value: bagging_freq=8\n",
      "0.6039855072463767\n",
      "[LightGBM] [Warning] Unknown parameter: categorical_features\n",
      "[LightGBM] [Warning] feature_fraction is set=0.26423752164864267, colsample_bytree=1.0 will be ignored. Current value: feature_fraction=0.26423752164864267\n",
      "[LightGBM] [Warning] bagging_freq is set=8, subsample_freq=0 will be ignored. Current value: bagging_freq=8\n",
      "0.5804347826086957\n",
      "[LightGBM] [Warning] Unknown parameter: categorical_features\n",
      "[LightGBM] [Warning] feature_fraction is set=0.26423752164864267, colsample_bytree=1.0 will be ignored. Current value: feature_fraction=0.26423752164864267\n",
      "[LightGBM] [Warning] bagging_freq is set=8, subsample_freq=0 will be ignored. Current value: bagging_freq=8\n"
     ]
    },
    {
     "name": "stderr",
     "output_type": "stream",
     "text": [
      "\u001b[32m[I 2021-04-12 13:20:58,654]\u001b[0m Trial 19 finished with value: 0.6778260869565218 and parameters: {'n_estimators': 789, 'num_leaves': 61, 'max_depth': 16, 'learning_rate': 0.0013871399823037385, 'min_split_gain': 0.01670082038874214, 'feature_fraction': 0.26423752164864267, 'bagging_freq': 8}. Best is trial 0 with value: 0.6990579710144929.\u001b[0m\n"
     ]
    },
    {
     "name": "stdout",
     "output_type": "stream",
     "text": [
      "0.686231884057971\n"
     ]
    },
    {
     "name": "stderr",
     "output_type": "stream",
     "text": [
      "/opt/conda/lib/python3.7/site-packages/optuna/distributions.py:565: UserWarning: The distribution is specified by [0.1, 10] and step=1, but the range is not divisible by `step`. It will be replaced by [0.1, 9.1].\n",
      "  low=low, old_high=old_high, high=high, step=step\n"
     ]
    },
    {
     "name": "stdout",
     "output_type": "stream",
     "text": [
      "[LightGBM] [Warning] Unknown parameter: categorical_features\n",
      "[LightGBM] [Warning] feature_fraction is set=0.3346149097566225, colsample_bytree=1.0 will be ignored. Current value: feature_fraction=0.3346149097566225\n",
      "[LightGBM] [Warning] bagging_freq is set=6, subsample_freq=0 will be ignored. Current value: bagging_freq=6\n",
      "0.7782608695652173\n",
      "[LightGBM] [Warning] Unknown parameter: categorical_features\n",
      "[LightGBM] [Warning] feature_fraction is set=0.3346149097566225, colsample_bytree=1.0 will be ignored. Current value: feature_fraction=0.3346149097566225\n",
      "[LightGBM] [Warning] bagging_freq is set=6, subsample_freq=0 will be ignored. Current value: bagging_freq=6\n",
      "0.688768115942029\n",
      "[LightGBM] [Warning] Unknown parameter: categorical_features\n",
      "[LightGBM] [Warning] feature_fraction is set=0.3346149097566225, colsample_bytree=1.0 will be ignored. Current value: feature_fraction=0.3346149097566225\n",
      "[LightGBM] [Warning] bagging_freq is set=6, subsample_freq=0 will be ignored. Current value: bagging_freq=6\n",
      "0.6293478260869565\n",
      "[LightGBM] [Warning] Unknown parameter: categorical_features\n",
      "[LightGBM] [Warning] feature_fraction is set=0.3346149097566225, colsample_bytree=1.0 will be ignored. Current value: feature_fraction=0.3346149097566225\n",
      "[LightGBM] [Warning] bagging_freq is set=6, subsample_freq=0 will be ignored. Current value: bagging_freq=6\n",
      "0.6485507246376812\n",
      "[LightGBM] [Warning] Unknown parameter: categorical_features\n",
      "[LightGBM] [Warning] feature_fraction is set=0.3346149097566225, colsample_bytree=1.0 will be ignored. Current value: feature_fraction=0.3346149097566225\n",
      "[LightGBM] [Warning] bagging_freq is set=6, subsample_freq=0 will be ignored. Current value: bagging_freq=6\n"
     ]
    },
    {
     "name": "stderr",
     "output_type": "stream",
     "text": [
      "\u001b[32m[I 2021-04-12 13:20:59,172]\u001b[0m Trial 20 finished with value: 0.6815942028985507 and parameters: {'n_estimators': 115, 'num_leaves': 290, 'max_depth': 70, 'learning_rate': 0.09533892717768488, 'min_split_gain': 0.03553567076121872, 'feature_fraction': 0.3346149097566225, 'bagging_freq': 6}. Best is trial 0 with value: 0.6990579710144929.\u001b[0m\n"
     ]
    },
    {
     "name": "stdout",
     "output_type": "stream",
     "text": [
      "0.6630434782608696\n"
     ]
    },
    {
     "name": "stderr",
     "output_type": "stream",
     "text": [
      "/opt/conda/lib/python3.7/site-packages/optuna/distributions.py:565: UserWarning: The distribution is specified by [0.1, 10] and step=1, but the range is not divisible by `step`. It will be replaced by [0.1, 9.1].\n",
      "  low=low, old_high=old_high, high=high, step=step\n"
     ]
    },
    {
     "name": "stdout",
     "output_type": "stream",
     "text": [
      "[LightGBM] [Warning] Unknown parameter: categorical_features\n",
      "[LightGBM] [Warning] feature_fraction is set=0.4739033556097208, colsample_bytree=1.0 will be ignored. Current value: feature_fraction=0.4739033556097208\n",
      "[LightGBM] [Warning] bagging_freq is set=8, subsample_freq=0 will be ignored. Current value: bagging_freq=8\n",
      "0.8170289855072463\n",
      "[LightGBM] [Warning] Unknown parameter: categorical_features\n",
      "[LightGBM] [Warning] feature_fraction is set=0.4739033556097208, colsample_bytree=1.0 will be ignored. Current value: feature_fraction=0.4739033556097208\n",
      "[LightGBM] [Warning] bagging_freq is set=8, subsample_freq=0 will be ignored. Current value: bagging_freq=8\n",
      "0.7510869565217392\n",
      "[LightGBM] [Warning] Unknown parameter: categorical_features\n",
      "[LightGBM] [Warning] feature_fraction is set=0.4739033556097208, colsample_bytree=1.0 will be ignored. Current value: feature_fraction=0.4739033556097208\n",
      "[LightGBM] [Warning] bagging_freq is set=8, subsample_freq=0 will be ignored. Current value: bagging_freq=8\n",
      "0.6530797101449276\n",
      "[LightGBM] [Warning] Unknown parameter: categorical_features\n",
      "[LightGBM] [Warning] feature_fraction is set=0.4739033556097208, colsample_bytree=1.0 will be ignored. Current value: feature_fraction=0.4739033556097208\n",
      "[LightGBM] [Warning] bagging_freq is set=8, subsample_freq=0 will be ignored. Current value: bagging_freq=8\n",
      "0.6396739130434783\n",
      "[LightGBM] [Warning] Unknown parameter: categorical_features\n",
      "[LightGBM] [Warning] feature_fraction is set=0.4739033556097208, colsample_bytree=1.0 will be ignored. Current value: feature_fraction=0.4739033556097208\n",
      "[LightGBM] [Warning] bagging_freq is set=8, subsample_freq=0 will be ignored. Current value: bagging_freq=8\n"
     ]
    },
    {
     "name": "stderr",
     "output_type": "stream",
     "text": [
      "\u001b[32m[I 2021-04-12 13:20:59,683]\u001b[0m Trial 21 finished with value: 0.7090579710144927 and parameters: {'n_estimators': 966, 'num_leaves': 52, 'max_depth': 28, 'learning_rate': 0.10515998674942041, 'min_split_gain': 0.010137122280832698, 'feature_fraction': 0.4739033556097208, 'bagging_freq': 8}. Best is trial 21 with value: 0.7090579710144927.\u001b[0m\n"
     ]
    },
    {
     "name": "stdout",
     "output_type": "stream",
     "text": [
      "0.6844202898550724\n"
     ]
    },
    {
     "name": "stderr",
     "output_type": "stream",
     "text": [
      "/opt/conda/lib/python3.7/site-packages/optuna/distributions.py:565: UserWarning: The distribution is specified by [0.1, 10] and step=1, but the range is not divisible by `step`. It will be replaced by [0.1, 9.1].\n",
      "  low=low, old_high=old_high, high=high, step=step\n"
     ]
    },
    {
     "name": "stdout",
     "output_type": "stream",
     "text": [
      "[LightGBM] [Warning] Unknown parameter: categorical_features\n",
      "[LightGBM] [Warning] feature_fraction is set=0.4516711655092751, colsample_bytree=1.0 will be ignored. Current value: feature_fraction=0.4516711655092751\n",
      "[LightGBM] [Warning] bagging_freq is set=9, subsample_freq=0 will be ignored. Current value: bagging_freq=9\n",
      "0.8054347826086956\n",
      "[LightGBM] [Warning] Unknown parameter: categorical_features\n",
      "[LightGBM] [Warning] feature_fraction is set=0.4516711655092751, colsample_bytree=1.0 will be ignored. Current value: feature_fraction=0.4516711655092751\n",
      "[LightGBM] [Warning] bagging_freq is set=9, subsample_freq=0 will be ignored. Current value: bagging_freq=9\n",
      "0.7028985507246377\n",
      "[LightGBM] [Warning] Unknown parameter: categorical_features\n",
      "[LightGBM] [Warning] feature_fraction is set=0.4516711655092751, colsample_bytree=1.0 will be ignored. Current value: feature_fraction=0.4516711655092751\n",
      "[LightGBM] [Warning] bagging_freq is set=9, subsample_freq=0 will be ignored. Current value: bagging_freq=9\n",
      "0.5873188405797101\n",
      "[LightGBM] [Warning] Unknown parameter: categorical_features\n",
      "[LightGBM] [Warning] feature_fraction is set=0.4516711655092751, colsample_bytree=1.0 will be ignored. Current value: feature_fraction=0.4516711655092751\n",
      "[LightGBM] [Warning] bagging_freq is set=9, subsample_freq=0 will be ignored. Current value: bagging_freq=9\n",
      "0.6391304347826088\n",
      "[LightGBM] [Warning] Unknown parameter: categorical_features\n",
      "[LightGBM] [Warning] feature_fraction is set=0.4516711655092751, colsample_bytree=1.0 will be ignored. Current value: feature_fraction=0.4516711655092751\n",
      "[LightGBM] [Warning] bagging_freq is set=9, subsample_freq=0 will be ignored. Current value: bagging_freq=9\n",
      "0.6773550724637681\n"
     ]
    },
    {
     "name": "stderr",
     "output_type": "stream",
     "text": [
      "\u001b[32m[I 2021-04-12 13:21:00,161]\u001b[0m Trial 22 finished with value: 0.6824275362318841 and parameters: {'n_estimators': 975, 'num_leaves': 79, 'max_depth': 26, 'learning_rate': 0.1488693561403073, 'min_split_gain': 0.00873459361095549, 'feature_fraction': 0.4516711655092751, 'bagging_freq': 9}. Best is trial 21 with value: 0.7090579710144927.\u001b[0m\n",
      "/opt/conda/lib/python3.7/site-packages/optuna/distributions.py:565: UserWarning: The distribution is specified by [0.1, 10] and step=1, but the range is not divisible by `step`. It will be replaced by [0.1, 9.1].\n",
      "  low=low, old_high=old_high, high=high, step=step\n"
     ]
    },
    {
     "name": "stdout",
     "output_type": "stream",
     "text": [
      "[LightGBM] [Warning] Unknown parameter: categorical_features\n",
      "[LightGBM] [Warning] feature_fraction is set=0.44255507407955197, colsample_bytree=1.0 will be ignored. Current value: feature_fraction=0.44255507407955197\n",
      "[LightGBM] [Warning] bagging_freq is set=6, subsample_freq=0 will be ignored. Current value: bagging_freq=6\n",
      "0.7684782608695652\n",
      "[LightGBM] [Warning] Unknown parameter: categorical_features\n",
      "[LightGBM] [Warning] feature_fraction is set=0.44255507407955197, colsample_bytree=1.0 will be ignored. Current value: feature_fraction=0.44255507407955197\n",
      "[LightGBM] [Warning] bagging_freq is set=6, subsample_freq=0 will be ignored. Current value: bagging_freq=6\n",
      "0.7304347826086957\n",
      "[LightGBM] [Warning] Unknown parameter: categorical_features\n",
      "[LightGBM] [Warning] feature_fraction is set=0.44255507407955197, colsample_bytree=1.0 will be ignored. Current value: feature_fraction=0.44255507407955197\n",
      "[LightGBM] [Warning] bagging_freq is set=6, subsample_freq=0 will be ignored. Current value: bagging_freq=6\n",
      "0.6692028985507246\n",
      "[LightGBM] [Warning] Unknown parameter: categorical_features\n",
      "[LightGBM] [Warning] feature_fraction is set=0.44255507407955197, colsample_bytree=1.0 will be ignored. Current value: feature_fraction=0.44255507407955197\n",
      "[LightGBM] [Warning] bagging_freq is set=6, subsample_freq=0 will be ignored. Current value: bagging_freq=6\n"
     ]
    },
    {
     "name": "stderr",
     "output_type": "stream",
     "text": [
      "\u001b[32m[I 2021-04-12 13:21:00,722]\u001b[0m Trial 23 finished with value: 0.6877536231884058 and parameters: {'n_estimators': 989, 'num_leaves': 149, 'max_depth': 45, 'learning_rate': 0.04739941352263922, 'min_split_gain': 0.026279827210564426, 'feature_fraction': 0.44255507407955197, 'bagging_freq': 6}. Best is trial 21 with value: 0.7090579710144927.\u001b[0m\n"
     ]
    },
    {
     "name": "stdout",
     "output_type": "stream",
     "text": [
      "0.6025362318840579\n",
      "[LightGBM] [Warning] Unknown parameter: categorical_features\n",
      "[LightGBM] [Warning] feature_fraction is set=0.44255507407955197, colsample_bytree=1.0 will be ignored. Current value: feature_fraction=0.44255507407955197\n",
      "[LightGBM] [Warning] bagging_freq is set=6, subsample_freq=0 will be ignored. Current value: bagging_freq=6\n",
      "0.6681159420289855\n"
     ]
    },
    {
     "name": "stderr",
     "output_type": "stream",
     "text": [
      "/opt/conda/lib/python3.7/site-packages/optuna/distributions.py:565: UserWarning: The distribution is specified by [0.1, 10] and step=1, but the range is not divisible by `step`. It will be replaced by [0.1, 9.1].\n",
      "  low=low, old_high=old_high, high=high, step=step\n"
     ]
    },
    {
     "name": "stdout",
     "output_type": "stream",
     "text": [
      "[LightGBM] [Warning] Unknown parameter: categorical_features\n",
      "[LightGBM] [Warning] feature_fraction is set=0.5788877652726364, colsample_bytree=1.0 will be ignored. Current value: feature_fraction=0.5788877652726364\n",
      "[LightGBM] [Warning] bagging_freq is set=8, subsample_freq=0 will be ignored. Current value: bagging_freq=8\n",
      "0.7757246376811595\n",
      "[LightGBM] [Warning] Unknown parameter: categorical_features\n",
      "[LightGBM] [Warning] feature_fraction is set=0.5788877652726364, colsample_bytree=1.0 will be ignored. Current value: feature_fraction=0.5788877652726364\n",
      "[LightGBM] [Warning] bagging_freq is set=8, subsample_freq=0 will be ignored. Current value: bagging_freq=8\n",
      "0.7173913043478262\n",
      "[LightGBM] [Warning] Unknown parameter: categorical_features\n",
      "[LightGBM] [Warning] feature_fraction is set=0.5788877652726364, colsample_bytree=1.0 will be ignored. Current value: feature_fraction=0.5788877652726364\n",
      "[LightGBM] [Warning] bagging_freq is set=8, subsample_freq=0 will be ignored. Current value: bagging_freq=8\n",
      "0.6297101449275362\n",
      "[LightGBM] [Warning] Unknown parameter: categorical_features\n",
      "[LightGBM] [Warning] feature_fraction is set=0.5788877652726364, colsample_bytree=1.0 will be ignored. Current value: feature_fraction=0.5788877652726364\n",
      "[LightGBM] [Warning] bagging_freq is set=8, subsample_freq=0 will be ignored. Current value: bagging_freq=8\n"
     ]
    },
    {
     "name": "stderr",
     "output_type": "stream",
     "text": [
      "\u001b[32m[I 2021-04-12 13:21:01,245]\u001b[0m Trial 24 finished with value: 0.668804347826087 and parameters: {'n_estimators': 847, 'num_leaves': 43, 'max_depth': 58, 'learning_rate': 0.10055054408437171, 'min_split_gain': 0.013762176556976586, 'feature_fraction': 0.5788877652726364, 'bagging_freq': 8}. Best is trial 21 with value: 0.7090579710144927.\u001b[0m\n"
     ]
    },
    {
     "name": "stdout",
     "output_type": "stream",
     "text": [
      "0.5728260869565217\n",
      "[LightGBM] [Warning] Unknown parameter: categorical_features\n",
      "[LightGBM] [Warning] feature_fraction is set=0.5788877652726364, colsample_bytree=1.0 will be ignored. Current value: feature_fraction=0.5788877652726364\n",
      "[LightGBM] [Warning] bagging_freq is set=8, subsample_freq=0 will be ignored. Current value: bagging_freq=8\n",
      "0.6483695652173913\n"
     ]
    },
    {
     "name": "stderr",
     "output_type": "stream",
     "text": [
      "/opt/conda/lib/python3.7/site-packages/optuna/distributions.py:565: UserWarning: The distribution is specified by [0.1, 10] and step=1, but the range is not divisible by `step`. It will be replaced by [0.1, 9.1].\n",
      "  low=low, old_high=old_high, high=high, step=step\n"
     ]
    },
    {
     "name": "stdout",
     "output_type": "stream",
     "text": [
      "[LightGBM] [Warning] Unknown parameter: categorical_features\n",
      "[LightGBM] [Warning] feature_fraction is set=0.2969850420662254, colsample_bytree=1.0 will be ignored. Current value: feature_fraction=0.2969850420662254\n",
      "[LightGBM] [Warning] bagging_freq is set=7, subsample_freq=0 will be ignored. Current value: bagging_freq=7\n",
      "0.7876811594202898\n",
      "[LightGBM] [Warning] Unknown parameter: categorical_features\n",
      "[LightGBM] [Warning] feature_fraction is set=0.2969850420662254, colsample_bytree=1.0 will be ignored. Current value: feature_fraction=0.2969850420662254\n",
      "[LightGBM] [Warning] bagging_freq is set=7, subsample_freq=0 will be ignored. Current value: bagging_freq=7\n",
      "0.7405797101449275\n",
      "[LightGBM] [Warning] Unknown parameter: categorical_features\n",
      "[LightGBM] [Warning] feature_fraction is set=0.2969850420662254, colsample_bytree=1.0 will be ignored. Current value: feature_fraction=0.2969850420662254\n",
      "[LightGBM] [Warning] bagging_freq is set=7, subsample_freq=0 will be ignored. Current value: bagging_freq=7\n",
      "0.6626811594202899\n",
      "[LightGBM] [Warning] Unknown parameter: categorical_features\n",
      "[LightGBM] [Warning] feature_fraction is set=0.2969850420662254, colsample_bytree=1.0 will be ignored. Current value: feature_fraction=0.2969850420662254\n",
      "[LightGBM] [Warning] bagging_freq is set=7, subsample_freq=0 will be ignored. Current value: bagging_freq=7\n",
      "0.6043478260869566\n",
      "[LightGBM] [Warning] Unknown parameter: categorical_features\n",
      "[LightGBM] [Warning] feature_fraction is set=0.2969850420662254, colsample_bytree=1.0 will be ignored. Current value: feature_fraction=0.2969850420662254\n",
      "[LightGBM] [Warning] bagging_freq is set=7, subsample_freq=0 will be ignored. Current value: bagging_freq=7\n",
      "0.7032608695652174\n"
     ]
    },
    {
     "name": "stderr",
     "output_type": "stream",
     "text": [
      "\u001b[32m[I 2021-04-12 13:21:01,835]\u001b[0m Trial 25 finished with value: 0.6997101449275362 and parameters: {'n_estimators': 278, 'num_leaves': 5, 'max_depth': 10, 'learning_rate': 0.0174521295499316, 'min_split_gain': 0.007488637481560341, 'feature_fraction': 0.2969850420662254, 'bagging_freq': 7}. Best is trial 21 with value: 0.7090579710144927.\u001b[0m\n",
      "/opt/conda/lib/python3.7/site-packages/optuna/distributions.py:565: UserWarning: The distribution is specified by [0.1, 10] and step=1, but the range is not divisible by `step`. It will be replaced by [0.1, 9.1].\n",
      "  low=low, old_high=old_high, high=high, step=step\n"
     ]
    },
    {
     "name": "stdout",
     "output_type": "stream",
     "text": [
      "[LightGBM] [Warning] Unknown parameter: categorical_features\n",
      "[LightGBM] [Warning] feature_fraction is set=0.19354626034885214, colsample_bytree=1.0 will be ignored. Current value: feature_fraction=0.19354626034885214\n",
      "[LightGBM] [Warning] bagging_freq is set=7, subsample_freq=0 will be ignored. Current value: bagging_freq=7\n",
      "0.7655797101449275\n",
      "[LightGBM] [Warning] Unknown parameter: categorical_features\n",
      "[LightGBM] [Warning] feature_fraction is set=0.19354626034885214, colsample_bytree=1.0 will be ignored. Current value: feature_fraction=0.19354626034885214\n",
      "[LightGBM] [Warning] bagging_freq is set=7, subsample_freq=0 will be ignored. Current value: bagging_freq=7\n",
      "0.7297101449275363\n",
      "[LightGBM] [Warning] Unknown parameter: categorical_features\n",
      "[LightGBM] [Warning] feature_fraction is set=0.19354626034885214, colsample_bytree=1.0 will be ignored. Current value: feature_fraction=0.19354626034885214\n",
      "[LightGBM] [Warning] bagging_freq is set=7, subsample_freq=0 will be ignored. Current value: bagging_freq=7\n"
     ]
    },
    {
     "name": "stderr",
     "output_type": "stream",
     "text": [
      "\u001b[32m[I 2021-04-12 13:21:02,420]\u001b[0m Trial 26 finished with value: 0.683695652173913 and parameters: {'n_estimators': 229, 'num_leaves': 8, 'max_depth': 12, 'learning_rate': 0.024473192046112015, 'min_split_gain': 0.00811032636423595, 'feature_fraction': 0.19354626034885214, 'bagging_freq': 7}. Best is trial 21 with value: 0.7090579710144927.\u001b[0m\n"
     ]
    },
    {
     "name": "stdout",
     "output_type": "stream",
     "text": [
      "0.6380434782608695\n",
      "[LightGBM] [Warning] Unknown parameter: categorical_features\n",
      "[LightGBM] [Warning] feature_fraction is set=0.19354626034885214, colsample_bytree=1.0 will be ignored. Current value: feature_fraction=0.19354626034885214\n",
      "[LightGBM] [Warning] bagging_freq is set=7, subsample_freq=0 will be ignored. Current value: bagging_freq=7\n",
      "0.6010869565217392\n",
      "[LightGBM] [Warning] Unknown parameter: categorical_features\n",
      "[LightGBM] [Warning] feature_fraction is set=0.19354626034885214, colsample_bytree=1.0 will be ignored. Current value: feature_fraction=0.19354626034885214\n",
      "[LightGBM] [Warning] bagging_freq is set=7, subsample_freq=0 will be ignored. Current value: bagging_freq=7\n",
      "0.6840579710144927\n"
     ]
    },
    {
     "name": "stderr",
     "output_type": "stream",
     "text": [
      "/opt/conda/lib/python3.7/site-packages/optuna/distributions.py:565: UserWarning: The distribution is specified by [0.1, 10] and step=1, but the range is not divisible by `step`. It will be replaced by [0.1, 9.1].\n",
      "  low=low, old_high=old_high, high=high, step=step\n"
     ]
    },
    {
     "name": "stdout",
     "output_type": "stream",
     "text": [
      "[LightGBM] [Warning] Unknown parameter: categorical_features\n",
      "[LightGBM] [Warning] feature_fraction is set=0.30227893853431564, colsample_bytree=1.0 will be ignored. Current value: feature_fraction=0.30227893853431564\n",
      "[LightGBM] [Warning] bagging_freq is set=6, subsample_freq=0 will be ignored. Current value: bagging_freq=6\n",
      "0.7855072463768116\n",
      "[LightGBM] [Warning] Unknown parameter: categorical_features\n",
      "[LightGBM] [Warning] feature_fraction is set=0.30227893853431564, colsample_bytree=1.0 will be ignored. Current value: feature_fraction=0.30227893853431564\n",
      "[LightGBM] [Warning] bagging_freq is set=6, subsample_freq=0 will be ignored. Current value: bagging_freq=6\n",
      "0.721376811594203\n",
      "[LightGBM] [Warning] Unknown parameter: categorical_features\n",
      "[LightGBM] [Warning] feature_fraction is set=0.30227893853431564, colsample_bytree=1.0 will be ignored. Current value: feature_fraction=0.30227893853431564\n",
      "[LightGBM] [Warning] bagging_freq is set=6, subsample_freq=0 will be ignored. Current value: bagging_freq=6\n",
      "0.6268115942028986\n",
      "[LightGBM] [Warning] Unknown parameter: categorical_features\n",
      "[LightGBM] [Warning] feature_fraction is set=0.30227893853431564, colsample_bytree=1.0 will be ignored. Current value: feature_fraction=0.30227893853431564\n",
      "[LightGBM] [Warning] bagging_freq is set=6, subsample_freq=0 will be ignored. Current value: bagging_freq=6\n",
      "0.5981884057971014\n",
      "[LightGBM] [Warning] Unknown parameter: categorical_features\n",
      "[LightGBM] [Warning] feature_fraction is set=0.30227893853431564, colsample_bytree=1.0 will be ignored. Current value: feature_fraction=0.30227893853431564\n",
      "[LightGBM] [Warning] bagging_freq is set=6, subsample_freq=0 will be ignored. Current value: bagging_freq=6\n"
     ]
    },
    {
     "name": "stderr",
     "output_type": "stream",
     "text": [
      "\u001b[32m[I 2021-04-12 13:21:03,144]\u001b[0m Trial 27 finished with value: 0.6858695652173913 and parameters: {'n_estimators': 263, 'num_leaves': 100, 'max_depth': 7, 'learning_rate': 0.015477544563126954, 'min_split_gain': 0.006049242225016753, 'feature_fraction': 0.30227893853431564, 'bagging_freq': 6}. Best is trial 21 with value: 0.7090579710144927.\u001b[0m\n"
     ]
    },
    {
     "name": "stdout",
     "output_type": "stream",
     "text": [
      "0.697463768115942\n"
     ]
    },
    {
     "name": "stderr",
     "output_type": "stream",
     "text": [
      "/opt/conda/lib/python3.7/site-packages/optuna/distributions.py:565: UserWarning: The distribution is specified by [0.1, 10] and step=1, but the range is not divisible by `step`. It will be replaced by [0.1, 9.1].\n",
      "  low=low, old_high=old_high, high=high, step=step\n"
     ]
    },
    {
     "name": "stdout",
     "output_type": "stream",
     "text": [
      "[LightGBM] [Warning] Unknown parameter: categorical_features\n",
      "[LightGBM] [Warning] feature_fraction is set=0.4889721774182526, colsample_bytree=1.0 will be ignored. Current value: feature_fraction=0.4889721774182526\n",
      "[LightGBM] [Warning] bagging_freq is set=7, subsample_freq=0 will be ignored. Current value: bagging_freq=7\n",
      "0.7634057971014493\n",
      "[LightGBM] [Warning] Unknown parameter: categorical_features\n",
      "[LightGBM] [Warning] feature_fraction is set=0.4889721774182526, colsample_bytree=1.0 will be ignored. Current value: feature_fraction=0.4889721774182526\n",
      "[LightGBM] [Warning] bagging_freq is set=7, subsample_freq=0 will be ignored. Current value: bagging_freq=7\n",
      "0.7253623188405798\n",
      "[LightGBM] [Warning] Unknown parameter: categorical_features\n",
      "[LightGBM] [Warning] feature_fraction is set=0.4889721774182526, colsample_bytree=1.0 will be ignored. Current value: feature_fraction=0.4889721774182526\n",
      "[LightGBM] [Warning] bagging_freq is set=7, subsample_freq=0 will be ignored. Current value: bagging_freq=7\n",
      "0.636231884057971\n",
      "[LightGBM] [Warning] Unknown parameter: categorical_features\n",
      "[LightGBM] [Warning] feature_fraction is set=0.4889721774182526, colsample_bytree=1.0 will be ignored. Current value: feature_fraction=0.4889721774182526\n",
      "[LightGBM] [Warning] bagging_freq is set=7, subsample_freq=0 will be ignored. Current value: bagging_freq=7\n",
      "0.6123188405797102\n",
      "[LightGBM] [Warning] Unknown parameter: categorical_features\n",
      "[LightGBM] [Warning] feature_fraction is set=0.4889721774182526, colsample_bytree=1.0 will be ignored. Current value: feature_fraction=0.4889721774182526\n",
      "[LightGBM] [Warning] bagging_freq is set=7, subsample_freq=0 will be ignored. Current value: bagging_freq=7\n",
      "0.6902173913043479\n"
     ]
    },
    {
     "name": "stderr",
     "output_type": "stream",
     "text": [
      "\u001b[32m[I 2021-04-12 13:21:03,817]\u001b[0m Trial 28 finished with value: 0.6855072463768115 and parameters: {'n_estimators': 402, 'num_leaves': 23, 'max_depth': 26, 'learning_rate': 0.019979390618657753, 'min_split_gain': 0.09768228049065934, 'feature_fraction': 0.4889721774182526, 'bagging_freq': 7}. Best is trial 21 with value: 0.7090579710144927.\u001b[0m\n",
      "/opt/conda/lib/python3.7/site-packages/optuna/distributions.py:565: UserWarning: The distribution is specified by [0.1, 10] and step=1, but the range is not divisible by `step`. It will be replaced by [0.1, 9.1].\n",
      "  low=low, old_high=old_high, high=high, step=step\n"
     ]
    },
    {
     "name": "stdout",
     "output_type": "stream",
     "text": [
      "[LightGBM] [Warning] Unknown parameter: categorical_features\n",
      "[LightGBM] [Warning] feature_fraction is set=0.613916917299529, colsample_bytree=1.0 will be ignored. Current value: feature_fraction=0.613916917299529\n",
      "[LightGBM] [Warning] bagging_freq is set=4, subsample_freq=0 will be ignored. Current value: bagging_freq=4\n",
      "0.777536231884058\n",
      "[LightGBM] [Warning] Unknown parameter: categorical_features\n",
      "[LightGBM] [Warning] feature_fraction is set=0.613916917299529, colsample_bytree=1.0 will be ignored. Current value: feature_fraction=0.613916917299529\n",
      "[LightGBM] [Warning] bagging_freq is set=4, subsample_freq=0 will be ignored. Current value: bagging_freq=4\n",
      "0.7297101449275363\n",
      "[LightGBM] [Warning] Unknown parameter: categorical_features\n",
      "[LightGBM] [Warning] feature_fraction is set=0.613916917299529, colsample_bytree=1.0 will be ignored. Current value: feature_fraction=0.613916917299529\n",
      "[LightGBM] [Warning] bagging_freq is set=4, subsample_freq=0 will be ignored. Current value: bagging_freq=4\n",
      "0.6393115942028985\n",
      "[LightGBM] [Warning] Unknown parameter: categorical_features\n",
      "[LightGBM] [Warning] feature_fraction is set=0.613916917299529, colsample_bytree=1.0 will be ignored. Current value: feature_fraction=0.613916917299529\n",
      "[LightGBM] [Warning] bagging_freq is set=4, subsample_freq=0 will be ignored. Current value: bagging_freq=4\n",
      "0.5992753623188406\n",
      "[LightGBM] [Warning] Unknown parameter: categorical_features\n",
      "[LightGBM] [Warning] feature_fraction is set=0.613916917299529, colsample_bytree=1.0 will be ignored. Current value: feature_fraction=0.613916917299529\n",
      "[LightGBM] [Warning] bagging_freq is set=4, subsample_freq=0 will be ignored. Current value: bagging_freq=4\n",
      "0.6827898550724638\n"
     ]
    },
    {
     "name": "stderr",
     "output_type": "stream",
     "text": [
      "\u001b[32m[I 2021-04-12 13:21:04,482]\u001b[0m Trial 29 finished with value: 0.6857246376811595 and parameters: {'n_estimators': 273, 'num_leaves': 4, 'max_depth': 15, 'learning_rate': 0.010004010493649376, 'min_split_gain': 0.06290587085683172, 'feature_fraction': 0.613916917299529, 'bagging_freq': 4}. Best is trial 21 with value: 0.7090579710144927.\u001b[0m\n",
      "/opt/conda/lib/python3.7/site-packages/optuna/distributions.py:565: UserWarning: The distribution is specified by [0.1, 10] and step=1, but the range is not divisible by `step`. It will be replaced by [0.1, 9.1].\n",
      "  low=low, old_high=old_high, high=high, step=step\n"
     ]
    },
    {
     "name": "stdout",
     "output_type": "stream",
     "text": [
      "[LightGBM] [Warning] Unknown parameter: categorical_features\n",
      "[LightGBM] [Warning] feature_fraction is set=0.5195191923558611, colsample_bytree=1.0 will be ignored. Current value: feature_fraction=0.5195191923558611\n",
      "[LightGBM] [Warning] bagging_freq is set=5, subsample_freq=0 will be ignored. Current value: bagging_freq=5\n",
      "0.7547101449275362\n",
      "[LightGBM] [Warning] Unknown parameter: categorical_features\n",
      "[LightGBM] [Warning] feature_fraction is set=0.5195191923558611, colsample_bytree=1.0 will be ignored. Current value: feature_fraction=0.5195191923558611\n",
      "[LightGBM] [Warning] bagging_freq is set=5, subsample_freq=0 will be ignored. Current value: bagging_freq=5\n",
      "0.7192028985507247\n",
      "[LightGBM] [Warning] Unknown parameter: categorical_features\n",
      "[LightGBM] [Warning] feature_fraction is set=0.5195191923558611, colsample_bytree=1.0 will be ignored. Current value: feature_fraction=0.5195191923558611\n",
      "[LightGBM] [Warning] bagging_freq is set=5, subsample_freq=0 will be ignored. Current value: bagging_freq=5\n",
      "0.6275362318840579\n",
      "[LightGBM] [Warning] Unknown parameter: categorical_features\n",
      "[LightGBM] [Warning] feature_fraction is set=0.5195191923558611, colsample_bytree=1.0 will be ignored. Current value: feature_fraction=0.5195191923558611\n",
      "[LightGBM] [Warning] bagging_freq is set=5, subsample_freq=0 will be ignored. Current value: bagging_freq=5\n",
      "0.6192028985507246\n",
      "[LightGBM] [Warning] Unknown parameter: categorical_features\n",
      "[LightGBM] [Warning] feature_fraction is set=0.5195191923558611, colsample_bytree=1.0 will be ignored. Current value: feature_fraction=0.5195191923558611\n",
      "[LightGBM] [Warning] bagging_freq is set=5, subsample_freq=0 will be ignored. Current value: bagging_freq=5\n",
      "0.6840579710144927\n"
     ]
    },
    {
     "name": "stderr",
     "output_type": "stream",
     "text": [
      "\u001b[32m[I 2021-04-12 13:21:05,095]\u001b[0m Trial 30 finished with value: 0.6809420289855073 and parameters: {'n_estimators': 108, 'num_leaves': 51, 'max_depth': 20, 'learning_rate': 0.0413163274260148, 'min_split_gain': 0.002340719402531238, 'feature_fraction': 0.5195191923558611, 'bagging_freq': 5}. Best is trial 21 with value: 0.7090579710144927.\u001b[0m\n",
      "/opt/conda/lib/python3.7/site-packages/optuna/distributions.py:565: UserWarning: The distribution is specified by [0.1, 10] and step=1, but the range is not divisible by `step`. It will be replaced by [0.1, 9.1].\n",
      "  low=low, old_high=old_high, high=high, step=step\n"
     ]
    },
    {
     "name": "stdout",
     "output_type": "stream",
     "text": [
      "[LightGBM] [Warning] Unknown parameter: categorical_features\n",
      "[LightGBM] [Warning] feature_fraction is set=0.38994584335283167, colsample_bytree=1.0 will be ignored. Current value: feature_fraction=0.38994584335283167\n",
      "[LightGBM] [Warning] bagging_freq is set=8, subsample_freq=0 will be ignored. Current value: bagging_freq=8\n",
      "0.7358695652173913\n",
      "[LightGBM] [Warning] Unknown parameter: categorical_features\n",
      "[LightGBM] [Warning] feature_fraction is set=0.38994584335283167, colsample_bytree=1.0 will be ignored. Current value: feature_fraction=0.38994584335283167\n",
      "[LightGBM] [Warning] bagging_freq is set=8, subsample_freq=0 will be ignored. Current value: bagging_freq=8\n",
      "0.7181159420289855\n",
      "[LightGBM] [Warning] Unknown parameter: categorical_features\n",
      "[LightGBM] [Warning] feature_fraction is set=0.38994584335283167, colsample_bytree=1.0 will be ignored. Current value: feature_fraction=0.38994584335283167\n",
      "[LightGBM] [Warning] bagging_freq is set=8, subsample_freq=0 will be ignored. Current value: bagging_freq=8\n",
      "0.6463768115942029\n",
      "[LightGBM] [Warning] Unknown parameter: categorical_features\n",
      "[LightGBM] [Warning] feature_fraction is set=0.38994584335283167, colsample_bytree=1.0 will be ignored. Current value: feature_fraction=0.38994584335283167\n",
      "[LightGBM] [Warning] bagging_freq is set=8, subsample_freq=0 will be ignored. Current value: bagging_freq=8\n"
     ]
    },
    {
     "name": "stderr",
     "output_type": "stream",
     "text": [
      "\u001b[32m[I 2021-04-12 13:21:05,621]\u001b[0m Trial 31 finished with value: 0.6868478260869566 and parameters: {'n_estimators': 929, 'num_leaves': 205, 'max_depth': 36, 'learning_rate': 0.0750571825893164, 'min_split_gain': 0.015250379636829537, 'feature_fraction': 0.38994584335283167, 'bagging_freq': 8}. Best is trial 21 with value: 0.7090579710144927.\u001b[0m\n"
     ]
    },
    {
     "name": "stdout",
     "output_type": "stream",
     "text": [
      "0.6405797101449274\n",
      "[LightGBM] [Warning] Unknown parameter: categorical_features\n",
      "[LightGBM] [Warning] feature_fraction is set=0.38994584335283167, colsample_bytree=1.0 will be ignored. Current value: feature_fraction=0.38994584335283167\n",
      "[LightGBM] [Warning] bagging_freq is set=8, subsample_freq=0 will be ignored. Current value: bagging_freq=8\n",
      "0.6932971014492755\n"
     ]
    },
    {
     "name": "stderr",
     "output_type": "stream",
     "text": [
      "/opt/conda/lib/python3.7/site-packages/optuna/distributions.py:565: UserWarning: The distribution is specified by [0.1, 10] and step=1, but the range is not divisible by `step`. It will be replaced by [0.1, 9.1].\n",
      "  low=low, old_high=old_high, high=high, step=step\n"
     ]
    },
    {
     "name": "stdout",
     "output_type": "stream",
     "text": [
      "[LightGBM] [Warning] Unknown parameter: categorical_features\n",
      "[LightGBM] [Warning] feature_fraction is set=0.33790761195981844, colsample_bytree=1.0 will be ignored. Current value: feature_fraction=0.33790761195981844\n",
      "[LightGBM] [Warning] bagging_freq is set=9, subsample_freq=0 will be ignored. Current value: bagging_freq=9\n",
      "0.7880434782608696\n",
      "[LightGBM] [Warning] Unknown parameter: categorical_features\n",
      "[LightGBM] [Warning] feature_fraction is set=0.33790761195981844, colsample_bytree=1.0 will be ignored. Current value: feature_fraction=0.33790761195981844\n",
      "[LightGBM] [Warning] bagging_freq is set=9, subsample_freq=0 will be ignored. Current value: bagging_freq=9\n",
      "0.7322463768115942\n",
      "[LightGBM] [Warning] Unknown parameter: categorical_features\n",
      "[LightGBM] [Warning] feature_fraction is set=0.33790761195981844, colsample_bytree=1.0 will be ignored. Current value: feature_fraction=0.33790761195981844\n",
      "[LightGBM] [Warning] bagging_freq is set=9, subsample_freq=0 will be ignored. Current value: bagging_freq=9\n",
      "0.6503623188405797\n",
      "[LightGBM] [Warning] Unknown parameter: categorical_features\n",
      "[LightGBM] [Warning] feature_fraction is set=0.33790761195981844, colsample_bytree=1.0 will be ignored. Current value: feature_fraction=0.33790761195981844\n",
      "[LightGBM] [Warning] bagging_freq is set=9, subsample_freq=0 will be ignored. Current value: bagging_freq=9\n",
      "0.6210144927536232\n",
      "[LightGBM] [Warning] Unknown parameter: categorical_features\n",
      "[LightGBM] [Warning] feature_fraction is set=0.33790761195981844, colsample_bytree=1.0 will be ignored. Current value: feature_fraction=0.33790761195981844\n",
      "[LightGBM] [Warning] bagging_freq is set=9, subsample_freq=0 will be ignored. Current value: bagging_freq=9\n",
      "0.7068840579710145\n"
     ]
    },
    {
     "name": "stderr",
     "output_type": "stream",
     "text": [
      "\u001b[32m[I 2021-04-12 13:21:06,191]\u001b[0m Trial 32 finished with value: 0.6997101449275362 and parameters: {'n_estimators': 442, 'num_leaves': 132, 'max_depth': 33, 'learning_rate': 0.04949686103246903, 'min_split_gain': 0.021972734656059756, 'feature_fraction': 0.33790761195981844, 'bagging_freq': 9}. Best is trial 21 with value: 0.7090579710144927.\u001b[0m\n",
      "/opt/conda/lib/python3.7/site-packages/optuna/distributions.py:565: UserWarning: The distribution is specified by [0.1, 10] and step=1, but the range is not divisible by `step`. It will be replaced by [0.1, 9.1].\n",
      "  low=low, old_high=old_high, high=high, step=step\n"
     ]
    },
    {
     "name": "stdout",
     "output_type": "stream",
     "text": [
      "[LightGBM] [Warning] Unknown parameter: categorical_features\n",
      "[LightGBM] [Warning] feature_fraction is set=0.14771805651439543, colsample_bytree=1.0 will be ignored. Current value: feature_fraction=0.14771805651439543\n",
      "[LightGBM] [Warning] bagging_freq is set=8, subsample_freq=0 will be ignored. Current value: bagging_freq=8\n",
      "0.7894927536231884\n",
      "[LightGBM] [Warning] Unknown parameter: categorical_features\n",
      "[LightGBM] [Warning] feature_fraction is set=0.14771805651439543, colsample_bytree=1.0 will be ignored. Current value: feature_fraction=0.14771805651439543\n",
      "[LightGBM] [Warning] bagging_freq is set=8, subsample_freq=0 will be ignored. Current value: bagging_freq=8\n",
      "0.7347826086956522\n",
      "[LightGBM] [Warning] Unknown parameter: categorical_features\n",
      "[LightGBM] [Warning] feature_fraction is set=0.14771805651439543, colsample_bytree=1.0 will be ignored. Current value: feature_fraction=0.14771805651439543\n",
      "[LightGBM] [Warning] bagging_freq is set=8, subsample_freq=0 will be ignored. Current value: bagging_freq=8\n",
      "0.6467391304347826\n"
     ]
    },
    {
     "name": "stderr",
     "output_type": "stream",
     "text": [
      "\u001b[32m[I 2021-04-12 13:21:06,736]\u001b[0m Trial 33 finished with value: 0.6922101449275362 and parameters: {'n_estimators': 459, 'num_leaves': 117, 'max_depth': 2, 'learning_rate': 0.02937122616161339, 'min_split_gain': 0.007101093789815526, 'feature_fraction': 0.14771805651439543, 'bagging_freq': 8}. Best is trial 21 with value: 0.7090579710144927.\u001b[0m\n"
     ]
    },
    {
     "name": "stdout",
     "output_type": "stream",
     "text": [
      "[LightGBM] [Warning] Unknown parameter: categorical_features\n",
      "[LightGBM] [Warning] feature_fraction is set=0.14771805651439543, colsample_bytree=1.0 will be ignored. Current value: feature_fraction=0.14771805651439543\n",
      "[LightGBM] [Warning] bagging_freq is set=8, subsample_freq=0 will be ignored. Current value: bagging_freq=8\n",
      "0.5976449275362319\n",
      "[LightGBM] [Warning] Unknown parameter: categorical_features\n",
      "[LightGBM] [Warning] feature_fraction is set=0.14771805651439543, colsample_bytree=1.0 will be ignored. Current value: feature_fraction=0.14771805651439543\n",
      "[LightGBM] [Warning] bagging_freq is set=8, subsample_freq=0 will be ignored. Current value: bagging_freq=8\n",
      "0.6923913043478263\n"
     ]
    },
    {
     "name": "stderr",
     "output_type": "stream",
     "text": [
      "/opt/conda/lib/python3.7/site-packages/optuna/distributions.py:565: UserWarning: The distribution is specified by [0.1, 10] and step=1, but the range is not divisible by `step`. It will be replaced by [0.1, 9.1].\n",
      "  low=low, old_high=old_high, high=high, step=step\n"
     ]
    },
    {
     "name": "stdout",
     "output_type": "stream",
     "text": [
      "[LightGBM] [Warning] Unknown parameter: categorical_features\n",
      "[LightGBM] [Warning] feature_fraction is set=0.32696799537623533, colsample_bytree=1.0 will be ignored. Current value: feature_fraction=0.32696799537623533\n",
      "[LightGBM] [Warning] bagging_freq is set=6, subsample_freq=0 will be ignored. Current value: bagging_freq=6\n",
      "0.7847826086956522\n",
      "[LightGBM] [Warning] Unknown parameter: categorical_features\n",
      "[LightGBM] [Warning] feature_fraction is set=0.32696799537623533, colsample_bytree=1.0 will be ignored. Current value: feature_fraction=0.32696799537623533\n",
      "[LightGBM] [Warning] bagging_freq is set=6, subsample_freq=0 will be ignored. Current value: bagging_freq=6\n",
      "0.7177536231884057\n",
      "[LightGBM] [Warning] Unknown parameter: categorical_features\n",
      "[LightGBM] [Warning] feature_fraction is set=0.32696799537623533, colsample_bytree=1.0 will be ignored. Current value: feature_fraction=0.32696799537623533\n",
      "[LightGBM] [Warning] bagging_freq is set=6, subsample_freq=0 will be ignored. Current value: bagging_freq=6\n",
      "0.6242753623188405\n",
      "[LightGBM] [Warning] Unknown parameter: categorical_features\n",
      "[LightGBM] [Warning] feature_fraction is set=0.32696799537623533, colsample_bytree=1.0 will be ignored. Current value: feature_fraction=0.32696799537623533\n",
      "[LightGBM] [Warning] bagging_freq is set=6, subsample_freq=0 will be ignored. Current value: bagging_freq=6\n",
      "0.5996376811594203\n",
      "[LightGBM] [Warning] Unknown parameter: categorical_features\n",
      "[LightGBM] [Warning] feature_fraction is set=0.32696799537623533, colsample_bytree=1.0 will be ignored. Current value: feature_fraction=0.32696799537623533\n",
      "[LightGBM] [Warning] bagging_freq is set=6, subsample_freq=0 will be ignored. Current value: bagging_freq=6\n"
     ]
    },
    {
     "name": "stderr",
     "output_type": "stream",
     "text": [
      "\u001b[32m[I 2021-04-12 13:21:07,680]\u001b[0m Trial 34 finished with value: 0.6828985507246377 and parameters: {'n_estimators': 295, 'num_leaves': 76, 'max_depth': 31, 'learning_rate': 0.014940491122085769, 'min_split_gain': 0.02740988465302248, 'feature_fraction': 0.32696799537623533, 'bagging_freq': 6}. Best is trial 21 with value: 0.7090579710144927.\u001b[0m\n"
     ]
    },
    {
     "name": "stdout",
     "output_type": "stream",
     "text": [
      "0.6880434782608696\n"
     ]
    },
    {
     "name": "stderr",
     "output_type": "stream",
     "text": [
      "/opt/conda/lib/python3.7/site-packages/optuna/distributions.py:565: UserWarning: The distribution is specified by [0.1, 10] and step=1, but the range is not divisible by `step`. It will be replaced by [0.1, 9.1].\n",
      "  low=low, old_high=old_high, high=high, step=step\n"
     ]
    },
    {
     "name": "stdout",
     "output_type": "stream",
     "text": [
      "[LightGBM] [Warning] Unknown parameter: categorical_features\n",
      "[LightGBM] [Warning] feature_fraction is set=0.25736407830870117, colsample_bytree=1.0 will be ignored. Current value: feature_fraction=0.25736407830870117\n",
      "[LightGBM] [Warning] bagging_freq is set=9, subsample_freq=0 will be ignored. Current value: bagging_freq=9\n",
      "0.7572463768115942\n",
      "[LightGBM] [Warning] Unknown parameter: categorical_features\n",
      "[LightGBM] [Warning] feature_fraction is set=0.25736407830870117, colsample_bytree=1.0 will be ignored. Current value: feature_fraction=0.25736407830870117\n",
      "[LightGBM] [Warning] bagging_freq is set=9, subsample_freq=0 will be ignored. Current value: bagging_freq=9\n",
      "0.7170289855072464\n",
      "[LightGBM] [Warning] Unknown parameter: categorical_features\n",
      "[LightGBM] [Warning] feature_fraction is set=0.25736407830870117, colsample_bytree=1.0 will be ignored. Current value: feature_fraction=0.25736407830870117\n",
      "[LightGBM] [Warning] bagging_freq is set=9, subsample_freq=0 will be ignored. Current value: bagging_freq=9\n",
      "0.6411231884057972\n",
      "[LightGBM] [Warning] Unknown parameter: categorical_features\n",
      "[LightGBM] [Warning] feature_fraction is set=0.25736407830870117, colsample_bytree=1.0 will be ignored. Current value: feature_fraction=0.25736407830870117\n",
      "[LightGBM] [Warning] bagging_freq is set=9, subsample_freq=0 will be ignored. Current value: bagging_freq=9\n",
      "0.5942028985507247\n",
      "[LightGBM] [Warning] Unknown parameter: categorical_features\n",
      "[LightGBM] [Warning] feature_fraction is set=0.25736407830870117, colsample_bytree=1.0 will be ignored. Current value: feature_fraction=0.25736407830870117\n",
      "[LightGBM] [Warning] bagging_freq is set=9, subsample_freq=0 will be ignored. Current value: bagging_freq=9\n",
      "0.7068840579710145\n"
     ]
    },
    {
     "name": "stderr",
     "output_type": "stream",
     "text": [
      "\u001b[32m[I 2021-04-12 13:21:08,345]\u001b[0m Trial 35 finished with value: 0.6832971014492755 and parameters: {'n_estimators': 380, 'num_leaves': 4, 'max_depth': 51, 'learning_rate': 0.028356690182087318, 'min_split_gain': 0.011797416483965376, 'feature_fraction': 0.25736407830870117, 'bagging_freq': 9}. Best is trial 21 with value: 0.7090579710144927.\u001b[0m\n",
      "/opt/conda/lib/python3.7/site-packages/optuna/distributions.py:565: UserWarning: The distribution is specified by [0.1, 10] and step=1, but the range is not divisible by `step`. It will be replaced by [0.1, 9.1].\n",
      "  low=low, old_high=old_high, high=high, step=step\n"
     ]
    },
    {
     "name": "stdout",
     "output_type": "stream",
     "text": [
      "[LightGBM] [Warning] Unknown parameter: categorical_features\n",
      "[LightGBM] [Warning] feature_fraction is set=0.4319193666047928, colsample_bytree=1.0 will be ignored. Current value: feature_fraction=0.4319193666047928\n",
      "[LightGBM] [Warning] bagging_freq is set=7, subsample_freq=0 will be ignored. Current value: bagging_freq=7\n",
      "[LightGBM] [Warning] Accuracy may be bad since you didn't explicitly set num_leaves OR 2^max_depth > num_leaves. (num_leaves=31).\n",
      "0.7862318840579711\n",
      "[LightGBM] [Warning] Unknown parameter: categorical_features\n",
      "[LightGBM] [Warning] feature_fraction is set=0.4319193666047928, colsample_bytree=1.0 will be ignored. Current value: feature_fraction=0.4319193666047928\n",
      "[LightGBM] [Warning] bagging_freq is set=7, subsample_freq=0 will be ignored. Current value: bagging_freq=7\n",
      "[LightGBM] [Warning] Accuracy may be bad since you didn't explicitly set num_leaves OR 2^max_depth > num_leaves. (num_leaves=31).\n",
      "0.7521739130434782\n",
      "[LightGBM] [Warning] Unknown parameter: categorical_features\n",
      "[LightGBM] [Warning] feature_fraction is set=0.4319193666047928, colsample_bytree=1.0 will be ignored. Current value: feature_fraction=0.4319193666047928\n",
      "[LightGBM] [Warning] bagging_freq is set=7, subsample_freq=0 will be ignored. Current value: bagging_freq=7\n",
      "[LightGBM] [Warning] Accuracy may be bad since you didn't explicitly set num_leaves OR 2^max_depth > num_leaves. (num_leaves=31).\n",
      "0.6612318840579712\n",
      "[LightGBM] [Warning] Unknown parameter: categorical_features\n",
      "[LightGBM] [Warning] feature_fraction is set=0.4319193666047928, colsample_bytree=1.0 will be ignored. Current value: feature_fraction=0.4319193666047928\n",
      "[LightGBM] [Warning] bagging_freq is set=7, subsample_freq=0 will be ignored. Current value: bagging_freq=7\n",
      "[LightGBM] [Warning] Accuracy may be bad since you didn't explicitly set num_leaves OR 2^max_depth > num_leaves. (num_leaves=31).\n",
      "0.6047101449275362\n",
      "[LightGBM] [Warning] Unknown parameter: categorical_features\n",
      "[LightGBM] [Warning] feature_fraction is set=0.4319193666047928, colsample_bytree=1.0 will be ignored. Current value: feature_fraction=0.4319193666047928\n",
      "[LightGBM] [Warning] bagging_freq is set=7, subsample_freq=0 will be ignored. Current value: bagging_freq=7\n",
      "[LightGBM] [Warning] Accuracy may be bad since you didn't explicitly set num_leaves OR 2^max_depth > num_leaves. (num_leaves=31).\n",
      "0.7068840579710144\n"
     ]
    },
    {
     "name": "stderr",
     "output_type": "stream",
     "text": [
      "\u001b[32m[I 2021-04-12 13:21:08,960]\u001b[0m Trial 36 finished with value: 0.7022463768115942 and parameters: {'n_estimators': 429, 'num_leaves': 31, 'max_depth': 18, 'learning_rate': 0.04798868086298652, 'min_split_gain': 0.004693382652349537, 'feature_fraction': 0.4319193666047928, 'bagging_freq': 7}. Best is trial 21 with value: 0.7090579710144927.\u001b[0m\n",
      "/opt/conda/lib/python3.7/site-packages/optuna/distributions.py:565: UserWarning: The distribution is specified by [0.1, 10] and step=1, but the range is not divisible by `step`. It will be replaced by [0.1, 9.1].\n",
      "  low=low, old_high=old_high, high=high, step=step\n"
     ]
    },
    {
     "name": "stdout",
     "output_type": "stream",
     "text": [
      "[LightGBM] [Warning] Unknown parameter: categorical_features\n",
      "[LightGBM] [Warning] feature_fraction is set=0.40906898687446863, colsample_bytree=1.0 will be ignored. Current value: feature_fraction=0.40906898687446863\n",
      "[LightGBM] [Warning] bagging_freq is set=7, subsample_freq=0 will be ignored. Current value: bagging_freq=7\n",
      "0.8039855072463769\n",
      "[LightGBM] [Warning] Unknown parameter: categorical_features\n",
      "[LightGBM] [Warning] feature_fraction is set=0.40906898687446863, colsample_bytree=1.0 will be ignored. Current value: feature_fraction=0.40906898687446863\n",
      "[LightGBM] [Warning] bagging_freq is set=7, subsample_freq=0 will be ignored. Current value: bagging_freq=7\n",
      "0.7253623188405797\n",
      "[LightGBM] [Warning] Unknown parameter: categorical_features\n",
      "[LightGBM] [Warning] feature_fraction is set=0.40906898687446863, colsample_bytree=1.0 will be ignored. Current value: feature_fraction=0.40906898687446863\n",
      "[LightGBM] [Warning] bagging_freq is set=7, subsample_freq=0 will be ignored. Current value: bagging_freq=7\n",
      "0.6246376811594203\n",
      "[LightGBM] [Warning] Unknown parameter: categorical_features\n",
      "[LightGBM] [Warning] feature_fraction is set=0.40906898687446863, colsample_bytree=1.0 will be ignored. Current value: feature_fraction=0.40906898687446863\n",
      "[LightGBM] [Warning] bagging_freq is set=7, subsample_freq=0 will be ignored. Current value: bagging_freq=7\n",
      "0.5909420289855072\n",
      "[LightGBM] [Warning] Unknown parameter: categorical_features\n",
      "[LightGBM] [Warning] feature_fraction is set=0.40906898687446863, colsample_bytree=1.0 will be ignored. Current value: feature_fraction=0.40906898687446863\n",
      "[LightGBM] [Warning] bagging_freq is set=7, subsample_freq=0 will be ignored. Current value: bagging_freq=7\n"
     ]
    },
    {
     "name": "stderr",
     "output_type": "stream",
     "text": [
      "\u001b[32m[I 2021-04-12 13:21:09,462]\u001b[0m Trial 37 finished with value: 0.677608695652174 and parameters: {'n_estimators': 582, 'num_leaves': 40, 'max_depth': 11, 'learning_rate': 0.10812041671309419, 'min_split_gain': 0.00498937250795626, 'feature_fraction': 0.40906898687446863, 'bagging_freq': 7}. Best is trial 21 with value: 0.7090579710144927.\u001b[0m\n"
     ]
    },
    {
     "name": "stdout",
     "output_type": "stream",
     "text": [
      "0.6431159420289856\n"
     ]
    },
    {
     "name": "stderr",
     "output_type": "stream",
     "text": [
      "/opt/conda/lib/python3.7/site-packages/optuna/distributions.py:565: UserWarning: The distribution is specified by [0.1, 10] and step=1, but the range is not divisible by `step`. It will be replaced by [0.1, 9.1].\n",
      "  low=low, old_high=old_high, high=high, step=step\n"
     ]
    },
    {
     "name": "stdout",
     "output_type": "stream",
     "text": [
      "[LightGBM] [Warning] Unknown parameter: categorical_features\n",
      "[LightGBM] [Warning] feature_fraction is set=0.47455946267778615, colsample_bytree=1.0 will be ignored. Current value: feature_fraction=0.47455946267778615\n",
      "[LightGBM] [Warning] bagging_freq is set=8, subsample_freq=0 will be ignored. Current value: bagging_freq=8\n",
      "0.7742753623188405\n",
      "[LightGBM] [Warning] Unknown parameter: categorical_features\n",
      "[LightGBM] [Warning] feature_fraction is set=0.47455946267778615, colsample_bytree=1.0 will be ignored. Current value: feature_fraction=0.47455946267778615\n",
      "[LightGBM] [Warning] bagging_freq is set=8, subsample_freq=0 will be ignored. Current value: bagging_freq=8\n",
      "0.7130434782608696\n",
      "[LightGBM] [Warning] Unknown parameter: categorical_features\n",
      "[LightGBM] [Warning] feature_fraction is set=0.47455946267778615, colsample_bytree=1.0 will be ignored. Current value: feature_fraction=0.47455946267778615\n",
      "[LightGBM] [Warning] bagging_freq is set=8, subsample_freq=0 will be ignored. Current value: bagging_freq=8\n",
      "0.6478260869565218\n",
      "[LightGBM] [Warning] Unknown parameter: categorical_features\n",
      "[LightGBM] [Warning] feature_fraction is set=0.47455946267778615, colsample_bytree=1.0 will be ignored. Current value: feature_fraction=0.47455946267778615\n",
      "[LightGBM] [Warning] bagging_freq is set=8, subsample_freq=0 will be ignored. Current value: bagging_freq=8\n",
      "0.588768115942029\n",
      "[LightGBM] [Warning] Unknown parameter: categorical_features\n",
      "[LightGBM] [Warning] feature_fraction is set=0.47455946267778615, colsample_bytree=1.0 will be ignored. Current value: feature_fraction=0.47455946267778615\n",
      "[LightGBM] [Warning] bagging_freq is set=8, subsample_freq=0 will be ignored. Current value: bagging_freq=8\n"
     ]
    },
    {
     "name": "stderr",
     "output_type": "stream",
     "text": [
      "\u001b[32m[I 2021-04-12 13:21:10,514]\u001b[0m Trial 38 finished with value: 0.6818840579710145 and parameters: {'n_estimators': 444, 'num_leaves': 160, 'max_depth': 21, 'learning_rate': 0.005502489916219746, 'min_split_gain': 0.0033539334868087044, 'feature_fraction': 0.47455946267778615, 'bagging_freq': 8}. Best is trial 21 with value: 0.7090579710144927.\u001b[0m\n"
     ]
    },
    {
     "name": "stdout",
     "output_type": "stream",
     "text": [
      "0.6855072463768116\n"
     ]
    },
    {
     "name": "stderr",
     "output_type": "stream",
     "text": [
      "/opt/conda/lib/python3.7/site-packages/optuna/distributions.py:565: UserWarning: The distribution is specified by [0.1, 10] and step=1, but the range is not divisible by `step`. It will be replaced by [0.1, 9.1].\n",
      "  low=low, old_high=old_high, high=high, step=step\n"
     ]
    },
    {
     "name": "stdout",
     "output_type": "stream",
     "text": [
      "[LightGBM] [Warning] Unknown parameter: categorical_features\n",
      "[LightGBM] [Warning] feature_fraction is set=0.5462091488511102, colsample_bytree=1.0 will be ignored. Current value: feature_fraction=0.5462091488511102\n",
      "[LightGBM] [Warning] bagging_freq is set=9, subsample_freq=0 will be ignored. Current value: bagging_freq=9\n",
      "0.769927536231884\n",
      "[LightGBM] [Warning] Unknown parameter: categorical_features\n",
      "[LightGBM] [Warning] feature_fraction is set=0.5462091488511102, colsample_bytree=1.0 will be ignored. Current value: feature_fraction=0.5462091488511102\n",
      "[LightGBM] [Warning] bagging_freq is set=9, subsample_freq=0 will be ignored. Current value: bagging_freq=9\n",
      "0.7144927536231884\n",
      "[LightGBM] [Warning] Unknown parameter: categorical_features\n",
      "[LightGBM] [Warning] feature_fraction is set=0.5462091488511102, colsample_bytree=1.0 will be ignored. Current value: feature_fraction=0.5462091488511102\n",
      "[LightGBM] [Warning] bagging_freq is set=9, subsample_freq=0 will be ignored. Current value: bagging_freq=9\n",
      "0.6202898550724638\n",
      "[LightGBM] [Warning] Unknown parameter: categorical_features\n",
      "[LightGBM] [Warning] feature_fraction is set=0.5462091488511102, colsample_bytree=1.0 will be ignored. Current value: feature_fraction=0.5462091488511102\n",
      "[LightGBM] [Warning] bagging_freq is set=9, subsample_freq=0 will be ignored. Current value: bagging_freq=9\n",
      "0.5952898550724638\n",
      "[LightGBM] [Warning] Unknown parameter: categorical_features\n",
      "[LightGBM] [Warning] feature_fraction is set=0.5462091488511102, colsample_bytree=1.0 will be ignored. Current value: feature_fraction=0.5462091488511102\n",
      "[LightGBM] [Warning] bagging_freq is set=9, subsample_freq=0 will be ignored. Current value: bagging_freq=9\n",
      "0.7039855072463768\n"
     ]
    },
    {
     "name": "stderr",
     "output_type": "stream",
     "text": [
      "\u001b[32m[I 2021-04-12 13:21:11,175]\u001b[0m Trial 39 finished with value: 0.6807971014492754 and parameters: {'n_estimators': 510, 'num_leaves': 90, 'max_depth': 61, 'learning_rate': 0.019768904183680755, 'min_split_gain': 0.004745067432406305, 'feature_fraction': 0.5462091488511102, 'bagging_freq': 9}. Best is trial 21 with value: 0.7090579710144927.\u001b[0m\n",
      "/opt/conda/lib/python3.7/site-packages/optuna/distributions.py:565: UserWarning: The distribution is specified by [0.1, 10] and step=1, but the range is not divisible by `step`. It will be replaced by [0.1, 9.1].\n",
      "  low=low, old_high=old_high, high=high, step=step\n"
     ]
    },
    {
     "name": "stdout",
     "output_type": "stream",
     "text": [
      "[LightGBM] [Warning] Unknown parameter: categorical_features\n",
      "[LightGBM] [Warning] feature_fraction is set=0.665016062738184, colsample_bytree=1.0 will be ignored. Current value: feature_fraction=0.665016062738184\n",
      "[LightGBM] [Warning] bagging_freq is set=6, subsample_freq=0 will be ignored. Current value: bagging_freq=6\n",
      "0.7666666666666667\n",
      "[LightGBM] [Warning] Unknown parameter: categorical_features\n",
      "[LightGBM] [Warning] feature_fraction is set=0.665016062738184, colsample_bytree=1.0 will be ignored. Current value: feature_fraction=0.665016062738184\n",
      "[LightGBM] [Warning] bagging_freq is set=6, subsample_freq=0 will be ignored. Current value: bagging_freq=6\n",
      "0.7239130434782608\n",
      "[LightGBM] [Warning] Unknown parameter: categorical_features\n",
      "[LightGBM] [Warning] feature_fraction is set=0.665016062738184, colsample_bytree=1.0 will be ignored. Current value: feature_fraction=0.665016062738184\n",
      "[LightGBM] [Warning] bagging_freq is set=6, subsample_freq=0 will be ignored. Current value: bagging_freq=6\n",
      "0.6641304347826087\n",
      "[LightGBM] [Warning] Unknown parameter: categorical_features\n",
      "[LightGBM] [Warning] feature_fraction is set=0.665016062738184, colsample_bytree=1.0 will be ignored. Current value: feature_fraction=0.665016062738184\n",
      "[LightGBM] [Warning] bagging_freq is set=6, subsample_freq=0 will be ignored. Current value: bagging_freq=6\n"
     ]
    },
    {
     "name": "stderr",
     "output_type": "stream",
     "text": [
      "\u001b[32m[I 2021-04-12 13:21:11,714]\u001b[0m Trial 40 finished with value: 0.6947826086956521 and parameters: {'n_estimators': 336, 'num_leaves': 25, 'max_depth': 47, 'learning_rate': 0.04580558958445308, 'min_split_gain': 0.008890583410756754, 'feature_fraction': 0.665016062738184, 'bagging_freq': 6}. Best is trial 21 with value: 0.7090579710144927.\u001b[0m\n"
     ]
    },
    {
     "name": "stdout",
     "output_type": "stream",
     "text": [
      "0.6192028985507246\n",
      "[LightGBM] [Warning] Unknown parameter: categorical_features\n",
      "[LightGBM] [Warning] feature_fraction is set=0.665016062738184, colsample_bytree=1.0 will be ignored. Current value: feature_fraction=0.665016062738184\n",
      "[LightGBM] [Warning] bagging_freq is set=6, subsample_freq=0 will be ignored. Current value: bagging_freq=6\n",
      "0.7\n"
     ]
    },
    {
     "name": "stderr",
     "output_type": "stream",
     "text": [
      "/opt/conda/lib/python3.7/site-packages/optuna/distributions.py:565: UserWarning: The distribution is specified by [0.1, 10] and step=1, but the range is not divisible by `step`. It will be replaced by [0.1, 9.1].\n",
      "  low=low, old_high=old_high, high=high, step=step\n"
     ]
    },
    {
     "name": "stdout",
     "output_type": "stream",
     "text": [
      "[LightGBM] [Warning] Unknown parameter: categorical_features\n",
      "[LightGBM] [Warning] feature_fraction is set=0.41993977037019575, colsample_bytree=1.0 will be ignored. Current value: feature_fraction=0.41993977037019575\n",
      "[LightGBM] [Warning] bagging_freq is set=7, subsample_freq=0 will be ignored. Current value: bagging_freq=7\n",
      "0.7840579710144928\n",
      "[LightGBM] [Warning] Unknown parameter: categorical_features\n",
      "[LightGBM] [Warning] feature_fraction is set=0.41993977037019575, colsample_bytree=1.0 will be ignored. Current value: feature_fraction=0.41993977037019575\n",
      "[LightGBM] [Warning] bagging_freq is set=7, subsample_freq=0 will be ignored. Current value: bagging_freq=7\n",
      "0.7130434782608696\n",
      "[LightGBM] [Warning] Unknown parameter: categorical_features\n",
      "[LightGBM] [Warning] feature_fraction is set=0.41993977037019575, colsample_bytree=1.0 will be ignored. Current value: feature_fraction=0.41993977037019575\n",
      "[LightGBM] [Warning] bagging_freq is set=7, subsample_freq=0 will be ignored. Current value: bagging_freq=7\n",
      "0.6141304347826086\n",
      "[LightGBM] [Warning] Unknown parameter: categorical_features\n",
      "[LightGBM] [Warning] feature_fraction is set=0.41993977037019575, colsample_bytree=1.0 will be ignored. Current value: feature_fraction=0.41993977037019575\n",
      "[LightGBM] [Warning] bagging_freq is set=7, subsample_freq=0 will be ignored. Current value: bagging_freq=7\n",
      "0.6217391304347826\n",
      "[LightGBM] [Warning] Unknown parameter: categorical_features\n",
      "[LightGBM] [Warning] feature_fraction is set=0.41993977037019575, colsample_bytree=1.0 will be ignored. Current value: feature_fraction=0.41993977037019575\n",
      "[LightGBM] [Warning] bagging_freq is set=7, subsample_freq=0 will be ignored. Current value: bagging_freq=7\n",
      "0.6713768115942029\n"
     ]
    },
    {
     "name": "stderr",
     "output_type": "stream",
     "text": [
      "\u001b[32m[I 2021-04-12 13:21:12,284]\u001b[0m Trial 41 finished with value: 0.6808695652173913 and parameters: {'n_estimators': 432, 'num_leaves': 120, 'max_depth': 127, 'learning_rate': 0.0522773244543474, 'min_split_gain': 0.0013232655367245432, 'feature_fraction': 0.41993977037019575, 'bagging_freq': 7}. Best is trial 21 with value: 0.7090579710144927.\u001b[0m\n",
      "/opt/conda/lib/python3.7/site-packages/optuna/distributions.py:565: UserWarning: The distribution is specified by [0.1, 10] and step=1, but the range is not divisible by `step`. It will be replaced by [0.1, 9.1].\n",
      "  low=low, old_high=old_high, high=high, step=step\n"
     ]
    },
    {
     "name": "stdout",
     "output_type": "stream",
     "text": [
      "[LightGBM] [Warning] Unknown parameter: categorical_features\n",
      "[LightGBM] [Warning] feature_fraction is set=0.1960575311763729, colsample_bytree=1.0 will be ignored. Current value: feature_fraction=0.1960575311763729\n",
      "[LightGBM] [Warning] bagging_freq is set=7, subsample_freq=0 will be ignored. Current value: bagging_freq=7\n",
      "0.7728260869565218\n",
      "[LightGBM] [Warning] Unknown parameter: categorical_features\n",
      "[LightGBM] [Warning] feature_fraction is set=0.1960575311763729, colsample_bytree=1.0 will be ignored. Current value: feature_fraction=0.1960575311763729\n",
      "[LightGBM] [Warning] bagging_freq is set=7, subsample_freq=0 will be ignored. Current value: bagging_freq=7\n",
      "0.7119565217391304\n",
      "[LightGBM] [Warning] Unknown parameter: categorical_features\n",
      "[LightGBM] [Warning] feature_fraction is set=0.1960575311763729, colsample_bytree=1.0 will be ignored. Current value: feature_fraction=0.1960575311763729\n",
      "[LightGBM] [Warning] bagging_freq is set=7, subsample_freq=0 will be ignored. Current value: bagging_freq=7\n",
      "0.586231884057971\n",
      "[LightGBM] [Warning] Unknown parameter: categorical_features\n",
      "[LightGBM] [Warning] feature_fraction is set=0.1960575311763729, colsample_bytree=1.0 will be ignored. Current value: feature_fraction=0.1960575311763729\n",
      "[LightGBM] [Warning] bagging_freq is set=7, subsample_freq=0 will be ignored. Current value: bagging_freq=7\n",
      "0.597463768115942\n",
      "[LightGBM] [Warning] Unknown parameter: categorical_features\n",
      "[LightGBM] [Warning] feature_fraction is set=0.1960575311763729, colsample_bytree=1.0 will be ignored. Current value: feature_fraction=0.1960575311763729\n",
      "[LightGBM] [Warning] bagging_freq is set=7, subsample_freq=0 will be ignored. Current value: bagging_freq=7\n"
     ]
    },
    {
     "name": "stderr",
     "output_type": "stream",
     "text": [
      "\u001b[32m[I 2021-04-12 13:21:12,761]\u001b[0m Trial 42 finished with value: 0.6679710144927536 and parameters: {'n_estimators': 357, 'num_leaves': 68, 'max_depth': 20, 'learning_rate': 0.07821321788279112, 'min_split_gain': 0.0029153872916464285, 'feature_fraction': 0.1960575311763729, 'bagging_freq': 7}. Best is trial 21 with value: 0.7090579710144927.\u001b[0m\n"
     ]
    },
    {
     "name": "stdout",
     "output_type": "stream",
     "text": [
      "0.6713768115942029\n"
     ]
    },
    {
     "name": "stderr",
     "output_type": "stream",
     "text": [
      "/opt/conda/lib/python3.7/site-packages/optuna/distributions.py:565: UserWarning: The distribution is specified by [0.1, 10] and step=1, but the range is not divisible by `step`. It will be replaced by [0.1, 9.1].\n",
      "  low=low, old_high=old_high, high=high, step=step\n"
     ]
    },
    {
     "name": "stdout",
     "output_type": "stream",
     "text": [
      "[LightGBM] [Warning] Unknown parameter: categorical_features\n",
      "[LightGBM] [Warning] feature_fraction is set=0.33385179533298265, colsample_bytree=1.0 will be ignored. Current value: feature_fraction=0.33385179533298265\n",
      "[LightGBM] [Warning] bagging_freq is set=8, subsample_freq=0 will be ignored. Current value: bagging_freq=8\n",
      "0.7710144927536232\n",
      "[LightGBM] [Warning] Unknown parameter: categorical_features\n",
      "[LightGBM] [Warning] feature_fraction is set=0.33385179533298265, colsample_bytree=1.0 will be ignored. Current value: feature_fraction=0.33385179533298265\n",
      "[LightGBM] [Warning] bagging_freq is set=8, subsample_freq=0 will be ignored. Current value: bagging_freq=8\n",
      "0.7188405797101449\n",
      "[LightGBM] [Warning] Unknown parameter: categorical_features\n",
      "[LightGBM] [Warning] feature_fraction is set=0.33385179533298265, colsample_bytree=1.0 will be ignored. Current value: feature_fraction=0.33385179533298265\n",
      "[LightGBM] [Warning] bagging_freq is set=8, subsample_freq=0 will be ignored. Current value: bagging_freq=8\n",
      "0.6463768115942029\n",
      "[LightGBM] [Warning] Unknown parameter: categorical_features\n",
      "[LightGBM] [Warning] feature_fraction is set=0.33385179533298265, colsample_bytree=1.0 will be ignored. Current value: feature_fraction=0.33385179533298265\n",
      "[LightGBM] [Warning] bagging_freq is set=8, subsample_freq=0 will be ignored. Current value: bagging_freq=8\n",
      "0.6195652173913043\n",
      "[LightGBM] [Warning] Unknown parameter: categorical_features\n",
      "[LightGBM] [Warning] feature_fraction is set=0.33385179533298265, colsample_bytree=1.0 will be ignored. Current value: feature_fraction=0.33385179533298265\n",
      "[LightGBM] [Warning] bagging_freq is set=8, subsample_freq=0 will be ignored. Current value: bagging_freq=8\n",
      "0.7206521739130436\n"
     ]
    },
    {
     "name": "stderr",
     "output_type": "stream",
     "text": [
      "\u001b[32m[I 2021-04-12 13:21:13,332]\u001b[0m Trial 43 finished with value: 0.6952898550724639 and parameters: {'n_estimators': 561, 'num_leaves': 97, 'max_depth': 26, 'learning_rate': 0.03580551547540386, 'min_split_gain': 0.00414721199268062, 'feature_fraction': 0.33385179533298265, 'bagging_freq': 8}. Best is trial 21 with value: 0.7090579710144927.\u001b[0m\n",
      "/opt/conda/lib/python3.7/site-packages/optuna/distributions.py:565: UserWarning: The distribution is specified by [0.1, 10] and step=1, but the range is not divisible by `step`. It will be replaced by [0.1, 9.1].\n",
      "  low=low, old_high=old_high, high=high, step=step\n"
     ]
    },
    {
     "name": "stdout",
     "output_type": "stream",
     "text": [
      "[LightGBM] [Warning] Unknown parameter: categorical_features\n",
      "[LightGBM] [Warning] feature_fraction is set=0.37544792834117346, colsample_bytree=1.0 will be ignored. Current value: feature_fraction=0.37544792834117346\n",
      "[LightGBM] [Warning] bagging_freq is set=9, subsample_freq=0 will be ignored. Current value: bagging_freq=9\n",
      "0.744927536231884\n",
      "[LightGBM] [Warning] Unknown parameter: categorical_features\n",
      "[LightGBM] [Warning] feature_fraction is set=0.37544792834117346, colsample_bytree=1.0 will be ignored. Current value: feature_fraction=0.37544792834117346\n",
      "[LightGBM] [Warning] bagging_freq is set=9, subsample_freq=0 will be ignored. Current value: bagging_freq=9\n",
      "0.7057971014492753\n",
      "[LightGBM] [Warning] Unknown parameter: categorical_features\n",
      "[LightGBM] [Warning] feature_fraction is set=0.37544792834117346, colsample_bytree=1.0 will be ignored. Current value: feature_fraction=0.37544792834117346\n",
      "[LightGBM] [Warning] bagging_freq is set=9, subsample_freq=0 will be ignored. Current value: bagging_freq=9\n",
      "0.5838768115942029\n",
      "[LightGBM] [Warning] Unknown parameter: categorical_features\n",
      "[LightGBM] [Warning] feature_fraction is set=0.37544792834117346, colsample_bytree=1.0 will be ignored. Current value: feature_fraction=0.37544792834117346\n",
      "[LightGBM] [Warning] bagging_freq is set=9, subsample_freq=0 will be ignored. Current value: bagging_freq=9\n",
      "0.667391304347826\n",
      "[LightGBM] [Warning] Unknown parameter: categorical_features\n",
      "[LightGBM] [Warning] feature_fraction is set=0.37544792834117346, colsample_bytree=1.0 will be ignored. Current value: feature_fraction=0.37544792834117346\n",
      "[LightGBM] [Warning] bagging_freq is set=9, subsample_freq=0 will be ignored. Current value: bagging_freq=9\n",
      "0.6978260869565218\n"
     ]
    },
    {
     "name": "stderr",
     "output_type": "stream",
     "text": [
      "\u001b[32m[I 2021-04-12 13:21:13,758]\u001b[0m Trial 44 finished with value: 0.679963768115942 and parameters: {'n_estimators': 311, 'num_leaves': 22, 'max_depth': 6, 'learning_rate': 0.13084295701593734, 'min_split_gain': 0.006096582067866867, 'feature_fraction': 0.37544792834117346, 'bagging_freq': 9}. Best is trial 21 with value: 0.7090579710144927.\u001b[0m\n",
      "/opt/conda/lib/python3.7/site-packages/optuna/distributions.py:565: UserWarning: The distribution is specified by [0.1, 10] and step=1, but the range is not divisible by `step`. It will be replaced by [0.1, 9.1].\n",
      "  low=low, old_high=old_high, high=high, step=step\n"
     ]
    },
    {
     "name": "stdout",
     "output_type": "stream",
     "text": [
      "[LightGBM] [Warning] Unknown parameter: categorical_features\n",
      "[LightGBM] [Warning] feature_fraction is set=0.2580937513316698, colsample_bytree=1.0 will be ignored. Current value: feature_fraction=0.2580937513316698\n",
      "[LightGBM] [Warning] bagging_freq is set=7, subsample_freq=0 will be ignored. Current value: bagging_freq=7\n",
      "0.7923913043478261\n",
      "[LightGBM] [Warning] Unknown parameter: categorical_features\n",
      "[LightGBM] [Warning] feature_fraction is set=0.2580937513316698, colsample_bytree=1.0 will be ignored. Current value: feature_fraction=0.2580937513316698\n",
      "[LightGBM] [Warning] bagging_freq is set=7, subsample_freq=0 will be ignored. Current value: bagging_freq=7\n",
      "0.6931159420289856\n",
      "[LightGBM] [Warning] Unknown parameter: categorical_features\n",
      "[LightGBM] [Warning] feature_fraction is set=0.2580937513316698, colsample_bytree=1.0 will be ignored. Current value: feature_fraction=0.2580937513316698\n",
      "[LightGBM] [Warning] bagging_freq is set=7, subsample_freq=0 will be ignored. Current value: bagging_freq=7\n",
      "0.605072463768116\n",
      "[LightGBM] [Warning] Unknown parameter: categorical_features\n",
      "[LightGBM] [Warning] feature_fraction is set=0.2580937513316698, colsample_bytree=1.0 will be ignored. Current value: feature_fraction=0.2580937513316698\n",
      "[LightGBM] [Warning] bagging_freq is set=7, subsample_freq=0 will be ignored. Current value: bagging_freq=7\n",
      "0.586231884057971\n",
      "[LightGBM] [Warning] Unknown parameter: categorical_features\n",
      "[LightGBM] [Warning] feature_fraction is set=0.2580937513316698, colsample_bytree=1.0 will be ignored. Current value: feature_fraction=0.2580937513316698\n",
      "[LightGBM] [Warning] bagging_freq is set=7, subsample_freq=0 will be ignored. Current value: bagging_freq=7\n",
      "0.6960144927536231\n"
     ]
    },
    {
     "name": "stderr",
     "output_type": "stream",
     "text": [
      "\u001b[32m[I 2021-04-12 13:21:14,361]\u001b[0m Trial 45 finished with value: 0.6745652173913044 and parameters: {'n_estimators': 402, 'num_leaves': 61, 'max_depth': 14, 'learning_rate': 0.024347797982058415, 'min_split_gain': 0.03813575396172622, 'feature_fraction': 0.2580937513316698, 'bagging_freq': 7}. Best is trial 21 with value: 0.7090579710144927.\u001b[0m\n",
      "/opt/conda/lib/python3.7/site-packages/optuna/distributions.py:565: UserWarning: The distribution is specified by [0.1, 10] and step=1, but the range is not divisible by `step`. It will be replaced by [0.1, 9.1].\n",
      "  low=low, old_high=old_high, high=high, step=step\n"
     ]
    },
    {
     "name": "stdout",
     "output_type": "stream",
     "text": [
      "[LightGBM] [Warning] Unknown parameter: categorical_features\n",
      "[LightGBM] [Warning] feature_fraction is set=0.4147412309510684, colsample_bytree=1.0 will be ignored. Current value: feature_fraction=0.4147412309510684\n",
      "[LightGBM] [Warning] bagging_freq is set=8, subsample_freq=0 will be ignored. Current value: bagging_freq=8\n",
      "0.7416666666666667\n",
      "[LightGBM] [Warning] Unknown parameter: categorical_features\n",
      "[LightGBM] [Warning] feature_fraction is set=0.4147412309510684, colsample_bytree=1.0 will be ignored. Current value: feature_fraction=0.4147412309510684\n",
      "[LightGBM] [Warning] bagging_freq is set=8, subsample_freq=0 will be ignored. Current value: bagging_freq=8\n",
      "0.7217391304347827\n",
      "[LightGBM] [Warning] Unknown parameter: categorical_features\n",
      "[LightGBM] [Warning] feature_fraction is set=0.4147412309510684, colsample_bytree=1.0 will be ignored. Current value: feature_fraction=0.4147412309510684\n",
      "[LightGBM] [Warning] bagging_freq is set=8, subsample_freq=0 will be ignored. Current value: bagging_freq=8\n",
      "0.6413043478260869\n",
      "[LightGBM] [Warning] Unknown parameter: categorical_features\n",
      "[LightGBM] [Warning] feature_fraction is set=0.4147412309510684, colsample_bytree=1.0 will be ignored. Current value: feature_fraction=0.4147412309510684\n",
      "[LightGBM] [Warning] bagging_freq is set=8, subsample_freq=0 will be ignored. Current value: bagging_freq=8\n",
      "0.6239130434782608\n",
      "[LightGBM] [Warning] Unknown parameter: categorical_features\n",
      "[LightGBM] [Warning] feature_fraction is set=0.4147412309510684, colsample_bytree=1.0 will be ignored. Current value: feature_fraction=0.4147412309510684\n",
      "[LightGBM] [Warning] bagging_freq is set=8, subsample_freq=0 will be ignored. Current value: bagging_freq=8\n"
     ]
    },
    {
     "name": "stderr",
     "output_type": "stream",
     "text": [
      "\u001b[32m[I 2021-04-12 13:21:15,684]\u001b[0m Trial 46 finished with value: 0.6777536231884058 and parameters: {'n_estimators': 618, 'num_leaves': 139, 'max_depth': 32, 'learning_rate': 0.06034582450480878, 'min_split_gain': 0.051825255794841936, 'feature_fraction': 0.4147412309510684, 'bagging_freq': 8}. Best is trial 21 with value: 0.7090579710144927.\u001b[0m\n"
     ]
    },
    {
     "name": "stdout",
     "output_type": "stream",
     "text": [
      "0.6601449275362319\n"
     ]
    },
    {
     "name": "stderr",
     "output_type": "stream",
     "text": [
      "/opt/conda/lib/python3.7/site-packages/optuna/distributions.py:565: UserWarning: The distribution is specified by [0.1, 10] and step=1, but the range is not divisible by `step`. It will be replaced by [0.1, 9.1].\n",
      "  low=low, old_high=old_high, high=high, step=step\n"
     ]
    },
    {
     "name": "stdout",
     "output_type": "stream",
     "text": [
      "[LightGBM] [Warning] Unknown parameter: categorical_features\n",
      "[LightGBM] [Warning] feature_fraction is set=0.7458663626885033, colsample_bytree=1.0 will be ignored. Current value: feature_fraction=0.7458663626885033\n",
      "[LightGBM] [Warning] bagging_freq is set=6, subsample_freq=0 will be ignored. Current value: bagging_freq=6\n",
      "0.7539855072463768\n",
      "[LightGBM] [Warning] Unknown parameter: categorical_features\n",
      "[LightGBM] [Warning] feature_fraction is set=0.7458663626885033, colsample_bytree=1.0 will be ignored. Current value: feature_fraction=0.7458663626885033\n",
      "[LightGBM] [Warning] bagging_freq is set=6, subsample_freq=0 will be ignored. Current value: bagging_freq=6\n",
      "0.7384057971014493\n",
      "[LightGBM] [Warning] Unknown parameter: categorical_features\n",
      "[LightGBM] [Warning] feature_fraction is set=0.7458663626885033, colsample_bytree=1.0 will be ignored. Current value: feature_fraction=0.7458663626885033\n",
      "[LightGBM] [Warning] bagging_freq is set=6, subsample_freq=0 will be ignored. Current value: bagging_freq=6\n",
      "0.6353260869565218\n",
      "[LightGBM] [Warning] Unknown parameter: categorical_features\n",
      "[LightGBM] [Warning] feature_fraction is set=0.7458663626885033, colsample_bytree=1.0 will be ignored. Current value: feature_fraction=0.7458663626885033\n",
      "[LightGBM] [Warning] bagging_freq is set=6, subsample_freq=0 will be ignored. Current value: bagging_freq=6\n"
     ]
    },
    {
     "name": "stderr",
     "output_type": "stream",
     "text": [
      "\u001b[32m[I 2021-04-12 13:21:16,257]\u001b[0m Trial 47 finished with value: 0.6892028985507246 and parameters: {'n_estimators': 720, 'num_leaves': 387, 'max_depth': 103, 'learning_rate': 0.08140531046554514, 'min_split_gain': 0.002000602465946932, 'feature_fraction': 0.7458663626885033, 'bagging_freq': 6}. Best is trial 21 with value: 0.7090579710144927.\u001b[0m\n"
     ]
    },
    {
     "name": "stdout",
     "output_type": "stream",
     "text": [
      "0.6215579710144928\n",
      "[LightGBM] [Warning] Unknown parameter: categorical_features\n",
      "[LightGBM] [Warning] feature_fraction is set=0.7458663626885033, colsample_bytree=1.0 will be ignored. Current value: feature_fraction=0.7458663626885033\n",
      "[LightGBM] [Warning] bagging_freq is set=6, subsample_freq=0 will be ignored. Current value: bagging_freq=6\n",
      "0.6967391304347826\n"
     ]
    },
    {
     "name": "stderr",
     "output_type": "stream",
     "text": [
      "/opt/conda/lib/python3.7/site-packages/optuna/distributions.py:565: UserWarning: The distribution is specified by [0.1, 10] and step=1, but the range is not divisible by `step`. It will be replaced by [0.1, 9.1].\n",
      "  low=low, old_high=old_high, high=high, step=step\n"
     ]
    },
    {
     "name": "stdout",
     "output_type": "stream",
     "text": [
      "[LightGBM] [Warning] Unknown parameter: categorical_features\n",
      "[LightGBM] [Warning] feature_fraction is set=0.5550577846607748, colsample_bytree=1.0 will be ignored. Current value: feature_fraction=0.5550577846607748\n",
      "[LightGBM] [Warning] bagging_freq is set=5, subsample_freq=0 will be ignored. Current value: bagging_freq=5\n",
      "[LightGBM] [Warning] Accuracy may be bad since you didn't explicitly set num_leaves OR 2^max_depth > num_leaves. (num_leaves=31).\n",
      "0.7615942028985507\n",
      "[LightGBM] [Warning] Unknown parameter: categorical_features\n",
      "[LightGBM] [Warning] feature_fraction is set=0.5550577846607748, colsample_bytree=1.0 will be ignored. Current value: feature_fraction=0.5550577846607748\n",
      "[LightGBM] [Warning] bagging_freq is set=5, subsample_freq=0 will be ignored. Current value: bagging_freq=5\n",
      "[LightGBM] [Warning] Accuracy may be bad since you didn't explicitly set num_leaves OR 2^max_depth > num_leaves. (num_leaves=31).\n",
      "0.7119565217391304\n",
      "[LightGBM] [Warning] Unknown parameter: categorical_features\n",
      "[LightGBM] [Warning] feature_fraction is set=0.5550577846607748, colsample_bytree=1.0 will be ignored. Current value: feature_fraction=0.5550577846607748\n",
      "[LightGBM] [Warning] bagging_freq is set=5, subsample_freq=0 will be ignored. Current value: bagging_freq=5\n",
      "[LightGBM] [Warning] Accuracy may be bad since you didn't explicitly set num_leaves OR 2^max_depth > num_leaves. (num_leaves=31).\n",
      "0.6315217391304349\n",
      "[LightGBM] [Warning] Unknown parameter: categorical_features\n",
      "[LightGBM] [Warning] feature_fraction is set=0.5550577846607748, colsample_bytree=1.0 will be ignored. Current value: feature_fraction=0.5550577846607748\n",
      "[LightGBM] [Warning] bagging_freq is set=5, subsample_freq=0 will be ignored. Current value: bagging_freq=5\n",
      "[LightGBM] [Warning] Accuracy may be bad since you didn't explicitly set num_leaves OR 2^max_depth > num_leaves. (num_leaves=31).\n",
      "0.6025362318840579\n",
      "[LightGBM] [Warning] Unknown parameter: categorical_features\n",
      "[LightGBM] [Warning] feature_fraction is set=0.5550577846607748, colsample_bytree=1.0 will be ignored. Current value: feature_fraction=0.5550577846607748\n",
      "[LightGBM] [Warning] bagging_freq is set=5, subsample_freq=0 will be ignored. Current value: bagging_freq=5\n",
      "[LightGBM] [Warning] Accuracy may be bad since you didn't explicitly set num_leaves OR 2^max_depth > num_leaves. (num_leaves=31).\n",
      "0.6894927536231883\n"
     ]
    },
    {
     "name": "stderr",
     "output_type": "stream",
     "text": [
      "\u001b[32m[I 2021-04-12 13:21:16,840]\u001b[0m Trial 48 finished with value: 0.6794202898550725 and parameters: {'n_estimators': 148, 'num_leaves': 31, 'max_depth': 22, 'learning_rate': 0.03163726021494225, 'min_split_gain': 0.023585772555049137, 'feature_fraction': 0.5550577846607748, 'bagging_freq': 5}. Best is trial 21 with value: 0.7090579710144927.\u001b[0m\n",
      "/opt/conda/lib/python3.7/site-packages/optuna/distributions.py:565: UserWarning: The distribution is specified by [0.1, 10] and step=1, but the range is not divisible by `step`. It will be replaced by [0.1, 9.1].\n",
      "  low=low, old_high=old_high, high=high, step=step\n"
     ]
    },
    {
     "name": "stdout",
     "output_type": "stream",
     "text": [
      "[LightGBM] [Warning] Unknown parameter: categorical_features\n",
      "[LightGBM] [Warning] feature_fraction is set=0.501604395946151, colsample_bytree=1.0 will be ignored. Current value: feature_fraction=0.501604395946151\n",
      "[LightGBM] [Warning] bagging_freq is set=1, subsample_freq=0 will be ignored. Current value: bagging_freq=1\n",
      "0.7742753623188405\n",
      "[LightGBM] [Warning] Unknown parameter: categorical_features\n",
      "[LightGBM] [Warning] feature_fraction is set=0.501604395946151, colsample_bytree=1.0 will be ignored. Current value: feature_fraction=0.501604395946151\n",
      "[LightGBM] [Warning] bagging_freq is set=1, subsample_freq=0 will be ignored. Current value: bagging_freq=1\n",
      "0.719927536231884\n",
      "[LightGBM] [Warning] Unknown parameter: categorical_features\n",
      "[LightGBM] [Warning] feature_fraction is set=0.501604395946151, colsample_bytree=1.0 will be ignored. Current value: feature_fraction=0.501604395946151\n",
      "[LightGBM] [Warning] bagging_freq is set=1, subsample_freq=0 will be ignored. Current value: bagging_freq=1\n",
      "0.6322463768115941\n",
      "[LightGBM] [Warning] Unknown parameter: categorical_features\n",
      "[LightGBM] [Warning] feature_fraction is set=0.501604395946151, colsample_bytree=1.0 will be ignored. Current value: feature_fraction=0.501604395946151\n",
      "[LightGBM] [Warning] bagging_freq is set=1, subsample_freq=0 will be ignored. Current value: bagging_freq=1\n",
      "0.6047101449275363\n",
      "[LightGBM] [Warning] Unknown parameter: categorical_features\n",
      "[LightGBM] [Warning] feature_fraction is set=0.501604395946151, colsample_bytree=1.0 will be ignored. Current value: feature_fraction=0.501604395946151\n",
      "[LightGBM] [Warning] bagging_freq is set=1, subsample_freq=0 will be ignored. Current value: bagging_freq=1\n"
     ]
    },
    {
     "name": "stderr",
     "output_type": "stream",
     "text": [
      "\u001b[32m[I 2021-04-12 13:21:17,636]\u001b[0m Trial 49 finished with value: 0.6834782608695653 and parameters: {'n_estimators': 237, 'num_leaves': 248, 'max_depth': 39, 'learning_rate': 0.01243392308433927, 'min_split_gain': 0.013020736747617516, 'feature_fraction': 0.501604395946151, 'bagging_freq': 1}. Best is trial 21 with value: 0.7090579710144927.\u001b[0m\n"
     ]
    },
    {
     "name": "stdout",
     "output_type": "stream",
     "text": [
      "0.6862318840579711\n"
     ]
    },
    {
     "name": "stderr",
     "output_type": "stream",
     "text": [
      "/opt/conda/lib/python3.7/site-packages/optuna/distributions.py:565: UserWarning: The distribution is specified by [0.1, 10] and step=1, but the range is not divisible by `step`. It will be replaced by [0.1, 9.1].\n",
      "  low=low, old_high=old_high, high=high, step=step\n"
     ]
    },
    {
     "name": "stdout",
     "output_type": "stream",
     "text": [
      "[LightGBM] [Warning] Unknown parameter: categorical_features\n",
      "[LightGBM] [Warning] feature_fraction is set=0.317333710793954, colsample_bytree=1.0 will be ignored. Current value: feature_fraction=0.317333710793954\n",
      "[LightGBM] [Warning] bagging_freq is set=9, subsample_freq=0 will be ignored. Current value: bagging_freq=9\n",
      "0.7347826086956522\n",
      "[LightGBM] [Warning] Unknown parameter: categorical_features\n",
      "[LightGBM] [Warning] feature_fraction is set=0.317333710793954, colsample_bytree=1.0 will be ignored. Current value: feature_fraction=0.317333710793954\n",
      "[LightGBM] [Warning] bagging_freq is set=9, subsample_freq=0 will be ignored. Current value: bagging_freq=9\n",
      "0.7539855072463768\n",
      "[LightGBM] [Warning] Unknown parameter: categorical_features\n",
      "[LightGBM] [Warning] feature_fraction is set=0.317333710793954, colsample_bytree=1.0 will be ignored. Current value: feature_fraction=0.317333710793954\n",
      "[LightGBM] [Warning] bagging_freq is set=9, subsample_freq=0 will be ignored. Current value: bagging_freq=9\n",
      "0.6528985507246376\n",
      "[LightGBM] [Warning] Unknown parameter: categorical_features\n",
      "[LightGBM] [Warning] feature_fraction is set=0.317333710793954, colsample_bytree=1.0 will be ignored. Current value: feature_fraction=0.317333710793954\n",
      "[LightGBM] [Warning] bagging_freq is set=9, subsample_freq=0 will be ignored. Current value: bagging_freq=9\n",
      "0.5942028985507246\n",
      "[LightGBM] [Warning] Unknown parameter: categorical_features\n",
      "[LightGBM] [Warning] feature_fraction is set=0.317333710793954, colsample_bytree=1.0 will be ignored. Current value: feature_fraction=0.317333710793954\n",
      "[LightGBM] [Warning] "
     ]
    },
    {
     "name": "stderr",
     "output_type": "stream",
     "text": [
      "\u001b[32m[I 2021-04-12 13:21:18,146]\u001b[0m Trial 50 finished with value: 0.6793115942028984 and parameters: {'n_estimators': 496, 'num_leaves': 2, 'max_depth': 9, 'learning_rate': 0.05660447215708559, 'min_split_gain': 0.018365229567314754, 'feature_fraction': 0.317333710793954, 'bagging_freq': 9}. Best is trial 21 with value: 0.7090579710144927.\u001b[0m\n"
     ]
    },
    {
     "name": "stdout",
     "output_type": "stream",
     "text": [
      "bagging_freq is set=9, subsample_freq=0 will be ignored. Current value: bagging_freq=9\n",
      "0.6606884057971014\n"
     ]
    },
    {
     "name": "stderr",
     "output_type": "stream",
     "text": [
      "/opt/conda/lib/python3.7/site-packages/optuna/distributions.py:565: UserWarning: The distribution is specified by [0.1, 10] and step=1, but the range is not divisible by `step`. It will be replaced by [0.1, 9.1].\n",
      "  low=low, old_high=old_high, high=high, step=step\n"
     ]
    },
    {
     "name": "stdout",
     "output_type": "stream",
     "text": [
      "[LightGBM] [Warning] Unknown parameter: categorical_features\n",
      "[LightGBM] [Warning] feature_fraction is set=0.36431118671703655, colsample_bytree=1.0 will be ignored. Current value: feature_fraction=0.36431118671703655\n",
      "[LightGBM] [Warning] bagging_freq is set=9, subsample_freq=0 will be ignored. Current value: bagging_freq=9\n",
      "0.772463768115942\n",
      "[LightGBM] [Warning] Unknown parameter: categorical_features\n",
      "[LightGBM] [Warning] feature_fraction is set=0.36431118671703655, colsample_bytree=1.0 will be ignored. Current value: feature_fraction=0.36431118671703655\n",
      "[LightGBM] [Warning] bagging_freq is set=9, subsample_freq=0 will be ignored. Current value: bagging_freq=9\n",
      "0.7362318840579709\n",
      "[LightGBM] [Warning] Unknown parameter: categorical_features\n",
      "[LightGBM] [Warning] feature_fraction is set=0.36431118671703655, colsample_bytree=1.0 will be ignored. Current value: feature_fraction=0.36431118671703655\n",
      "[LightGBM] [Warning] bagging_freq is set=9, subsample_freq=0 will be ignored. Current value: bagging_freq=9\n",
      "0.5809782608695653\n",
      "[LightGBM] [Warning] Unknown parameter: categorical_features\n",
      "[LightGBM] [Warning] feature_fraction is set=0.36431118671703655, colsample_bytree=1.0 will be ignored. Current value: feature_fraction=0.36431118671703655\n",
      "[LightGBM] [Warning] bagging_freq is set=9, subsample_freq=0 will be ignored. Current value: bagging_freq=9\n",
      "0.6257246376811595\n",
      "[LightGBM] [Warning] Unknown parameter: categorical_features\n",
      "[LightGBM] [Warning] feature_fraction is set=0.36431118671703655, colsample_bytree=1.0 will be ignored. Current value: feature_fraction=0.36431118671703655\n",
      "[LightGBM] [Warning] bagging_freq is set=9, subsample_freq=0 will be ignored. Current value: bagging_freq=9\n",
      "0.6894927536231884\n"
     ]
    },
    {
     "name": "stderr",
     "output_type": "stream",
     "text": [
      "\u001b[32m[I 2021-04-12 13:21:19,128]\u001b[0m Trial 51 finished with value: 0.6809782608695653 and parameters: {'n_estimators': 919, 'num_leaves': 220, 'max_depth': 43, 'learning_rate': 0.11900859359780942, 'min_split_gain': 0.027407488427334772, 'feature_fraction': 0.36431118671703655, 'bagging_freq': 9}. Best is trial 21 with value: 0.7090579710144927.\u001b[0m\n",
      "/opt/conda/lib/python3.7/site-packages/optuna/distributions.py:565: UserWarning: The distribution is specified by [0.1, 10] and step=1, but the range is not divisible by `step`. It will be replaced by [0.1, 9.1].\n",
      "  low=low, old_high=old_high, high=high, step=step\n"
     ]
    },
    {
     "name": "stdout",
     "output_type": "stream",
     "text": [
      "[LightGBM] [Warning] Unknown parameter: categorical_features\n",
      "[LightGBM] [Warning] feature_fraction is set=0.2857495520155243, colsample_bytree=1.0 will be ignored. Current value: feature_fraction=0.2857495520155243\n",
      "[LightGBM] [Warning] bagging_freq is set=8, subsample_freq=0 will be ignored. Current value: bagging_freq=8\n",
      "0.7757246376811594\n",
      "[LightGBM] [Warning] Unknown parameter: categorical_features\n",
      "[LightGBM] [Warning] feature_fraction is set=0.2857495520155243, colsample_bytree=1.0 will be ignored. Current value: feature_fraction=0.2857495520155243\n",
      "[LightGBM] [Warning] bagging_freq is set=8, subsample_freq=0 will be ignored. Current value: bagging_freq=8\n",
      "0.7181159420289855\n",
      "[LightGBM] [Warning] Unknown parameter: categorical_features\n",
      "[LightGBM] [Warning] feature_fraction is set=0.2857495520155243, colsample_bytree=1.0 will be ignored. Current value: feature_fraction=0.2857495520155243\n",
      "[LightGBM] [Warning] bagging_freq is set=8, subsample_freq=0 will be ignored. Current value: bagging_freq=8\n",
      "0.6159420289855072\n",
      "[LightGBM] [Warning] Unknown parameter: categorical_features\n",
      "[LightGBM] [Warning] feature_fraction is set=0.2857495520155243, colsample_bytree=1.0 will be ignored. Current value: feature_fraction=0.2857495520155243\n",
      "[LightGBM] [Warning] bagging_freq is set=8, subsample_freq=0 will be ignored. Current value: bagging_freq=8\n",
      "0.6289855072463768\n",
      "[LightGBM] [Warning] Unknown parameter: categorical_features\n",
      "[LightGBM] [Warning] feature_fraction is set=0.2857495520155243, colsample_bytree=1.0 will be ignored. Current value: feature_fraction=0.2857495520155243\n",
      "[LightGBM] [Warning] bagging_freq is set=8, subsample_freq=0 will be ignored. Current value: bagging_freq=8\n",
      "0.6717391304347826\n"
     ]
    },
    {
     "name": "stderr",
     "output_type": "stream",
     "text": [
      "\u001b[32m[I 2021-04-12 13:21:19,713]\u001b[0m Trial 52 finished with value: 0.6821014492753623 and parameters: {'n_estimators': 210, 'num_leaves': 489, 'max_depth': 33, 'learning_rate': 0.06691883056994974, 'min_split_gain': 0.01892460574590184, 'feature_fraction': 0.2857495520155243, 'bagging_freq': 8}. Best is trial 21 with value: 0.7090579710144927.\u001b[0m\n",
      "/opt/conda/lib/python3.7/site-packages/optuna/distributions.py:565: UserWarning: The distribution is specified by [0.1, 10] and step=1, but the range is not divisible by `step`. It will be replaced by [0.1, 9.1].\n",
      "  low=low, old_high=old_high, high=high, step=step\n"
     ]
    },
    {
     "name": "stdout",
     "output_type": "stream",
     "text": [
      "[LightGBM] [Warning] Unknown parameter: categorical_features\n",
      "[LightGBM] [Warning] feature_fraction is set=0.3555444158836644, colsample_bytree=1.0 will be ignored. Current value: feature_fraction=0.3555444158836644\n",
      "[LightGBM] [Warning] bagging_freq is set=9, subsample_freq=0 will be ignored. Current value: bagging_freq=9\n",
      "0.7663043478260869\n",
      "[LightGBM] [Warning] Unknown parameter: categorical_features\n",
      "[LightGBM] [Warning] feature_fraction is set=0.3555444158836644, colsample_bytree=1.0 will be ignored. Current value: feature_fraction=0.3555444158836644\n",
      "[LightGBM] [Warning] bagging_freq is set=9, subsample_freq=0 will be ignored. Current value: bagging_freq=9\n",
      "0.7380434782608696\n",
      "[LightGBM] [Warning] Unknown parameter: categorical_features\n",
      "[LightGBM] [Warning] feature_fraction is set=0.3555444158836644, colsample_bytree=1.0 will be ignored. Current value: feature_fraction=0.3555444158836644\n",
      "[LightGBM] [Warning] bagging_freq is set=9, subsample_freq=0 will be ignored. Current value: bagging_freq=9\n",
      "0.6572463768115943\n",
      "[LightGBM] [Warning] Unknown parameter: categorical_features\n",
      "[LightGBM] [Warning] feature_fraction is set=0.3555444158836644, colsample_bytree=1.0 will be ignored. Current value: feature_fraction=0.3555444158836644\n",
      "[LightGBM] [Warning] bagging_freq is set=9, subsample_freq=0 will be ignored. Current value: bagging_freq=9\n",
      "0.6456521739130435\n",
      "[LightGBM] [Warning] Unknown parameter: categorical_features\n",
      "[LightGBM] [Warning] feature_fraction is set=0.3555444158836644, colsample_bytree=1.0 will be ignored. Current value: feature_fraction=0.3555444158836644\n",
      "[LightGBM] [Warning] bagging_freq is set=9, subsample_freq=0 will be ignored. Current value: bagging_freq=9\n",
      "0.6992753623188406\n"
     ]
    },
    {
     "name": "stderr",
     "output_type": "stream",
     "text": [
      "\u001b[32m[I 2021-04-12 13:21:20,351]\u001b[0m Trial 53 finished with value: 0.7013043478260871 and parameters: {'n_estimators': 866, 'num_leaves': 176, 'max_depth': 28, 'learning_rate': 0.04026433979385358, 'min_split_gain': 0.021638496419626677, 'feature_fraction': 0.3555444158836644, 'bagging_freq': 9}. Best is trial 21 with value: 0.7090579710144927.\u001b[0m\n",
      "/opt/conda/lib/python3.7/site-packages/optuna/distributions.py:565: UserWarning: The distribution is specified by [0.1, 10] and step=1, but the range is not divisible by `step`. It will be replaced by [0.1, 9.1].\n",
      "  low=low, old_high=old_high, high=high, step=step\n"
     ]
    },
    {
     "name": "stdout",
     "output_type": "stream",
     "text": [
      "[LightGBM] [Warning] Unknown parameter: categorical_features\n",
      "[LightGBM] [Warning] feature_fraction is set=0.22792415394435664, colsample_bytree=1.0 will be ignored. Current value: feature_fraction=0.22792415394435664\n",
      "[LightGBM] [Warning] bagging_freq is set=7, subsample_freq=0 will be ignored. Current value: bagging_freq=7\n",
      "0.7318840579710144\n",
      "[LightGBM] [Warning] Unknown parameter: categorical_features\n",
      "[LightGBM] [Warning] feature_fraction is set=0.22792415394435664, colsample_bytree=1.0 will be ignored. Current value: feature_fraction=0.22792415394435664\n",
      "[LightGBM] [Warning] bagging_freq is set=7, subsample_freq=0 will be ignored. Current value: bagging_freq=7\n",
      "0.7264492753623188\n",
      "[LightGBM] [Warning] Unknown parameter: categorical_features\n",
      "[LightGBM] [Warning] feature_fraction is set=0.22792415394435664, colsample_bytree=1.0 will be ignored. Current value: feature_fraction=0.22792415394435664\n",
      "[LightGBM] [Warning] bagging_freq is set=7, subsample_freq=0 will be ignored. Current value: bagging_freq=7\n",
      "0.618840579710145\n",
      "[LightGBM] [Warning] Unknown parameter: categorical_features\n",
      "[LightGBM] [Warning] feature_fraction is set=0.22792415394435664, colsample_bytree=1.0 will be ignored. Current value: feature_fraction=0.22792415394435664\n",
      "[LightGBM] [Warning] bagging_freq is set=7, subsample_freq=0 will be ignored. Current value: bagging_freq=7\n"
     ]
    },
    {
     "name": "stderr",
     "output_type": "stream",
     "text": [
      "\u001b[32m[I 2021-04-12 13:21:20,912]\u001b[0m Trial 54 finished with value: 0.6698913043478261 and parameters: {'n_estimators': 737, 'num_leaves': 174, 'max_depth': 18, 'learning_rate': 0.0407023606096809, 'min_split_gain': 0.03367887921606027, 'feature_fraction': 0.22792415394435664, 'bagging_freq': 7}. Best is trial 21 with value: 0.7090579710144927.\u001b[0m\n"
     ]
    },
    {
     "name": "stdout",
     "output_type": "stream",
     "text": [
      "0.6128623188405797\n",
      "[LightGBM] [Warning] Unknown parameter: categorical_features\n",
      "[LightGBM] [Warning] feature_fraction is set=0.22792415394435664, colsample_bytree=1.0 will be ignored. Current value: feature_fraction=0.22792415394435664\n",
      "[LightGBM] [Warning] bagging_freq is set=7, subsample_freq=0 will be ignored. Current value: bagging_freq=7\n",
      "0.6594202898550724\n"
     ]
    },
    {
     "name": "stderr",
     "output_type": "stream",
     "text": [
      "/opt/conda/lib/python3.7/site-packages/optuna/distributions.py:565: UserWarning: The distribution is specified by [0.1, 10] and step=1, but the range is not divisible by `step`. It will be replaced by [0.1, 9.1].\n",
      "  low=low, old_high=old_high, high=high, step=step\n"
     ]
    },
    {
     "name": "stdout",
     "output_type": "stream",
     "text": [
      "[LightGBM] [Warning] Unknown parameter: categorical_features\n",
      "[LightGBM] [Warning] feature_fraction is set=0.44281526540977717, colsample_bytree=1.0 will be ignored. Current value: feature_fraction=0.44281526540977717\n",
      "[LightGBM] [Warning] bagging_freq is set=8, subsample_freq=0 will be ignored. Current value: bagging_freq=8\n",
      "0.7800724637681159\n",
      "[LightGBM] [Warning] Unknown parameter: categorical_features\n",
      "[LightGBM] [Warning] feature_fraction is set=0.44281526540977717, colsample_bytree=1.0 will be ignored. Current value: feature_fraction=0.44281526540977717\n",
      "[LightGBM] [Warning] bagging_freq is set=8, subsample_freq=0 will be ignored. Current value: bagging_freq=8\n",
      "0.7358695652173913\n",
      "[LightGBM] [Warning] Unknown parameter: categorical_features\n",
      "[LightGBM] [Warning] feature_fraction is set=0.44281526540977717, colsample_bytree=1.0 will be ignored. Current value: feature_fraction=0.44281526540977717\n",
      "[LightGBM] [Warning] bagging_freq is set=8, subsample_freq=0 will be ignored. Current value: bagging_freq=8\n",
      "0.6394927536231885\n",
      "[LightGBM] [Warning] Unknown parameter: categorical_features\n",
      "[LightGBM] [Warning] feature_fraction is set=0.44281526540977717, colsample_bytree=1.0 will be ignored. Current value: feature_fraction=0.44281526540977717\n",
      "[LightGBM] [Warning] bagging_freq is set=8, subsample_freq=0 will be ignored. Current value: bagging_freq=8\n",
      "0.5978260869565217\n",
      "[LightGBM] [Warning] Unknown parameter: categorical_features\n",
      "[LightGBM] [Warning] feature_fraction is set=0.44281526540977717, colsample_bytree=1.0 will be ignored. Current value: feature_fraction=0.44281526540977717\n",
      "[LightGBM] [Warning] bagging_freq is set=8, subsample_freq=0 will be ignored. Current value: bagging_freq=8\n",
      "0.6829710144927537\n"
     ]
    },
    {
     "name": "stderr",
     "output_type": "stream",
     "text": [
      "\u001b[32m[I 2021-04-12 13:21:21,555]\u001b[0m Trial 55 finished with value: 0.6872463768115942 and parameters: {'n_estimators': 534, 'num_leaves': 130, 'max_depth': 28, 'learning_rate': 0.034733501301547655, 'min_split_gain': 0.007389139193511516, 'feature_fraction': 0.44281526540977717, 'bagging_freq': 8}. Best is trial 21 with value: 0.7090579710144927.\u001b[0m\n",
      "/opt/conda/lib/python3.7/site-packages/optuna/distributions.py:565: UserWarning: The distribution is specified by [0.1, 10] and step=1, but the range is not divisible by `step`. It will be replaced by [0.1, 9.1].\n",
      "  low=low, old_high=old_high, high=high, step=step\n"
     ]
    },
    {
     "name": "stdout",
     "output_type": "stream",
     "text": [
      "[LightGBM] [Warning] Unknown parameter: categorical_features\n",
      "[LightGBM] [Warning] feature_fraction is set=0.35287490335349225, colsample_bytree=1.0 will be ignored. Current value: feature_fraction=0.35287490335349225\n",
      "[LightGBM] [Warning] bagging_freq is set=9, subsample_freq=0 will be ignored. Current value: bagging_freq=9\n",
      "0.756159420289855\n",
      "[LightGBM] [Warning] Unknown parameter: categorical_features\n",
      "[LightGBM] [Warning] feature_fraction is set=0.35287490335349225, colsample_bytree=1.0 will be ignored. Current value: feature_fraction=0.35287490335349225\n",
      "[LightGBM] [Warning] bagging_freq is set=9, subsample_freq=0 will be ignored. Current value: bagging_freq=9\n",
      "0.7202898550724637\n",
      "[LightGBM] [Warning] Unknown parameter: categorical_features\n",
      "[LightGBM] [Warning] feature_fraction is set=0.35287490335349225, colsample_bytree=1.0 will be ignored. Current value: feature_fraction=0.35287490335349225\n",
      "[LightGBM] [Warning] bagging_freq is set=9, subsample_freq=0 will be ignored. Current value: bagging_freq=9\n",
      "0.6043478260869565\n",
      "[LightGBM] [Warning] Unknown parameter: categorical_features\n",
      "[LightGBM] [Warning] feature_fraction is set=0.35287490335349225, colsample_bytree=1.0 will be ignored. Current value: feature_fraction=0.35287490335349225\n",
      "[LightGBM] [Warning] bagging_freq is set=9, subsample_freq=0 will be ignored. Current value: bagging_freq=9\n",
      "0.5797101449275361\n",
      "[LightGBM] [Warning] Unknown parameter: categorical_features\n",
      "[LightGBM] [Warning] feature_fraction is set=0.35287490335349225, colsample_bytree=1.0 will be ignored. Current value: feature_fraction=0.35287490335349225\n",
      "[LightGBM] [Warning] bagging_freq is set=9, subsample_freq=0 will be ignored. Current value: bagging_freq=9\n",
      "0.7050724637681159\n"
     ]
    },
    {
     "name": "stderr",
     "output_type": "stream",
     "text": [
      "\u001b[32m[I 2021-04-12 13:21:22,023]\u001b[0m Trial 56 finished with value: 0.6731159420289854 and parameters: {'n_estimators': 28, 'num_leaves': 96, 'max_depth': 86, 'learning_rate': 0.0225872705600354, 'min_split_gain': 0.010427128675494552, 'feature_fraction': 0.35287490335349225, 'bagging_freq': 9}. Best is trial 21 with value: 0.7090579710144927.\u001b[0m\n",
      "/opt/conda/lib/python3.7/site-packages/optuna/distributions.py:565: UserWarning: The distribution is specified by [0.1, 10] and step=1, but the range is not divisible by `step`. It will be replaced by [0.1, 9.1].\n",
      "  low=low, old_high=old_high, high=high, step=step\n"
     ]
    },
    {
     "name": "stdout",
     "output_type": "stream",
     "text": [
      "[LightGBM] [Warning] Unknown parameter: categorical_features\n",
      "[LightGBM] [Warning] feature_fraction is set=0.3888522608114387, colsample_bytree=1.0 will be ignored. Current value: feature_fraction=0.3888522608114387\n",
      "[LightGBM] [Warning] bagging_freq is set=7, subsample_freq=0 will be ignored. Current value: bagging_freq=7\n",
      "0.7576086956521739\n",
      "[LightGBM] [Warning] Unknown parameter: categorical_features\n",
      "[LightGBM] [Warning] feature_fraction is set=0.3888522608114387, colsample_bytree=1.0 will be ignored. Current value: feature_fraction=0.3888522608114387\n",
      "[LightGBM] [Warning] bagging_freq is set=7, subsample_freq=0 will be ignored. Current value: bagging_freq=7\n",
      "0.7373188405797102\n",
      "[LightGBM] [Warning] Unknown parameter: categorical_features\n",
      "[LightGBM] [Warning] feature_fraction is set=0.3888522608114387, colsample_bytree=1.0 will be ignored. Current value: feature_fraction=0.3888522608114387\n",
      "[LightGBM] [Warning] bagging_freq is set=7, subsample_freq=0 will be ignored. Current value: bagging_freq=7\n",
      "0.6483695652173913\n",
      "[LightGBM] [Warning] Unknown parameter: categorical_features\n",
      "[LightGBM] [Warning] feature_fraction is set=0.3888522608114387, colsample_bytree=1.0 will be ignored. Current value: feature_fraction=0.3888522608114387\n",
      "[LightGBM] [Warning] bagging_freq is set=7, subsample_freq=0 will be ignored. Current value: bagging_freq=7\n",
      "0.5766304347826087\n",
      "[LightGBM] [Warning] Unknown parameter: categorical_features\n",
      "[LightGBM] [Warning] feature_fraction is set=0.3888522608114387, colsample_bytree=1.0 will be ignored. Current value: feature_fraction=0.3888522608114387\n",
      "[LightGBM] [Warning] bagging_freq is set=7, subsample_freq=0 will be ignored. Current value: bagging_freq=7\n"
     ]
    },
    {
     "name": "stderr",
     "output_type": "stream",
     "text": [
      "\u001b[32m[I 2021-04-12 13:21:22,531]\u001b[0m Trial 57 finished with value: 0.6760144927536231 and parameters: {'n_estimators': 411, 'num_leaves': 56, 'max_depth': 2, 'learning_rate': 0.04868865656140099, 'min_split_gain': 0.015234360598756663, 'feature_fraction': 0.3888522608114387, 'bagging_freq': 7}. Best is trial 21 with value: 0.7090579710144927.\u001b[0m\n"
     ]
    },
    {
     "name": "stdout",
     "output_type": "stream",
     "text": [
      "0.6601449275362319\n"
     ]
    },
    {
     "name": "stderr",
     "output_type": "stream",
     "text": [
      "/opt/conda/lib/python3.7/site-packages/optuna/distributions.py:565: UserWarning: The distribution is specified by [0.1, 10] and step=1, but the range is not divisible by `step`. It will be replaced by [0.1, 9.1].\n",
      "  low=low, old_high=old_high, high=high, step=step\n"
     ]
    },
    {
     "name": "stdout",
     "output_type": "stream",
     "text": [
      "[LightGBM] [Warning] Unknown parameter: categorical_features\n",
      "[LightGBM] [Warning] feature_fraction is set=0.46497743734029084, colsample_bytree=1.0 will be ignored. Current value: feature_fraction=0.46497743734029084\n",
      "[LightGBM] [Warning] bagging_freq is set=8, subsample_freq=0 will be ignored. Current value: bagging_freq=8\n",
      "0.7797101449275363\n",
      "[LightGBM] [Warning] Unknown parameter: categorical_features\n",
      "[LightGBM] [Warning] feature_fraction is set=0.46497743734029084, colsample_bytree=1.0 will be ignored. Current value: feature_fraction=0.46497743734029084\n",
      "[LightGBM] [Warning] bagging_freq is set=8, subsample_freq=0 will be ignored. Current value: bagging_freq=8\n",
      "0.743840579710145\n",
      "[LightGBM] [Warning] Unknown parameter: categorical_features\n",
      "[LightGBM] [Warning] feature_fraction is set=0.46497743734029084, colsample_bytree=1.0 will be ignored. Current value: feature_fraction=0.46497743734029084\n",
      "[LightGBM] [Warning] bagging_freq is set=8, subsample_freq=0 will be ignored. Current value: bagging_freq=8\n",
      "0.6420289855072464\n",
      "[LightGBM] [Warning] Unknown parameter: categorical_features\n",
      "[LightGBM] [Warning] feature_fraction is set=0.46497743734029084, colsample_bytree=1.0 will be ignored. Current value: feature_fraction=0.46497743734029084\n",
      "[LightGBM] [Warning] bagging_freq is set=8, subsample_freq=0 will be ignored. Current value: bagging_freq=8\n",
      "0.6173913043478261\n",
      "[LightGBM] [Warning] Unknown parameter: categorical_features\n",
      "[LightGBM] [Warning] feature_fraction is set=0.46497743734029084, colsample_bytree=1.0 will be ignored. Current value: feature_fraction=0.46497743734029084\n",
      "[LightGBM] [Warning] bagging_freq is set=8, subsample_freq=0 will be ignored. Current value: bagging_freq=8\n",
      "0.6847826086956521\n"
     ]
    },
    {
     "name": "stderr",
     "output_type": "stream",
     "text": [
      "\u001b[32m[I 2021-04-12 13:21:23,233]\u001b[0m Trial 58 finished with value: 0.6935507246376812 and parameters: {'n_estimators': 875, 'num_leaves': 267, 'max_depth': 24, 'learning_rate': 0.02696767918379265, 'min_split_gain': 0.005320821785683025, 'feature_fraction': 0.46497743734029084, 'bagging_freq': 8}. Best is trial 21 with value: 0.7090579710144927.\u001b[0m\n",
      "/opt/conda/lib/python3.7/site-packages/optuna/distributions.py:565: UserWarning: The distribution is specified by [0.1, 10] and step=1, but the range is not divisible by `step`. It will be replaced by [0.1, 9.1].\n",
      "  low=low, old_high=old_high, high=high, step=step\n"
     ]
    },
    {
     "name": "stdout",
     "output_type": "stream",
     "text": [
      "[LightGBM] [Warning] Unknown parameter: categorical_features\n",
      "[LightGBM] [Warning] feature_fraction is set=0.4351842538287887, colsample_bytree=1.0 will be ignored. Current value: feature_fraction=0.4351842538287887\n",
      "[LightGBM] [Warning] bagging_freq is set=4, subsample_freq=0 will be ignored. Current value: bagging_freq=4\n",
      "0.7757246376811594\n",
      "[LightGBM] [Warning] Unknown parameter: categorical_features\n",
      "[LightGBM] [Warning] feature_fraction is set=0.4351842538287887, colsample_bytree=1.0 will be ignored. Current value: feature_fraction=0.4351842538287887\n",
      "[LightGBM] [Warning] bagging_freq is set=4, subsample_freq=0 will be ignored. Current value: bagging_freq=4\n",
      "0.7307971014492753\n",
      "[LightGBM] [Warning] Unknown parameter: categorical_features\n",
      "[LightGBM] [Warning] feature_fraction is set=0.4351842538287887, colsample_bytree=1.0 will be ignored. Current value: feature_fraction=0.4351842538287887\n",
      "[LightGBM] [Warning] bagging_freq is set=4, subsample_freq=0 will be ignored. Current value: bagging_freq=4\n",
      "0.6163043478260869\n",
      "[LightGBM] [Warning] Unknown parameter: categorical_features\n",
      "[LightGBM] [Warning] feature_fraction is set=0.4351842538287887, colsample_bytree=1.0 will be ignored. Current value: feature_fraction=0.4351842538287887\n",
      "[LightGBM] [Warning] bagging_freq is set=4, subsample_freq=0 will be ignored. Current value: bagging_freq=4\n",
      "0.5931159420289854\n",
      "[LightGBM] [Warning] Unknown parameter: categorical_features\n",
      "[LightGBM] [Warning] feature_fraction is set=0.4351842538287887, colsample_bytree=1.0 will be ignored. Current value: feature_fraction=0.4351842538287887\n",
      "[LightGBM] [Warning] bagging_freq is set=4, subsample_freq=0 will be ignored. Current value: bagging_freq=4\n",
      "0.7014492753623188\n"
     ]
    },
    {
     "name": "stderr",
     "output_type": "stream",
     "text": [
      "\u001b[32m[I 2021-04-12 13:21:23,926]\u001b[0m Trial 59 finished with value: 0.6834782608695653 and parameters: {'n_estimators': 330, 'num_leaves': 111, 'max_depth': 36, 'learning_rate': 0.019158730741304957, 'min_split_gain': 0.022539679002088454, 'feature_fraction': 0.4351842538287887, 'bagging_freq': 4}. Best is trial 21 with value: 0.7090579710144927.\u001b[0m\n",
      "/opt/conda/lib/python3.7/site-packages/optuna/distributions.py:565: UserWarning: The distribution is specified by [0.1, 10] and step=1, but the range is not divisible by `step`. It will be replaced by [0.1, 9.1].\n",
      "  low=low, old_high=old_high, high=high, step=step\n"
     ]
    },
    {
     "name": "stdout",
     "output_type": "stream",
     "text": [
      "[LightGBM] [Warning] Unknown parameter: categorical_features\n",
      "[LightGBM] [Warning] feature_fraction is set=0.29114772302238645, colsample_bytree=1.0 will be ignored. Current value: feature_fraction=0.29114772302238645\n",
      "[LightGBM] [Warning] bagging_freq is set=7, subsample_freq=0 will be ignored. Current value: bagging_freq=7\n",
      "0.8202898550724638\n",
      "[LightGBM] [Warning] Unknown parameter: categorical_features\n",
      "[LightGBM] [Warning] feature_fraction is set=0.29114772302238645, colsample_bytree=1.0 will be ignored. Current value: feature_fraction=0.29114772302238645\n",
      "[LightGBM] [Warning] bagging_freq is set=7, subsample_freq=0 will be ignored. Current value: bagging_freq=7\n",
      "0.7155797101449275\n",
      "[LightGBM] [Warning] Unknown parameter: categorical_features\n",
      "[LightGBM] [Warning] feature_fraction is set=0.29114772302238645, colsample_bytree=1.0 will be ignored. Current value: feature_fraction=0.29114772302238645\n",
      "[LightGBM] [Warning] bagging_freq is set=7, subsample_freq=0 will be ignored. Current value: bagging_freq=7\n",
      "0.6148550724637681\n",
      "[LightGBM] [Warning] Unknown parameter: categorical_features\n",
      "[LightGBM] [Warning] feature_fraction is set=0.29114772302238645, colsample_bytree=1.0 will be ignored. Current value: feature_fraction=0.29114772302238645\n",
      "[LightGBM] [Warning] bagging_freq is set=7, subsample_freq=0 will be ignored. Current value: bagging_freq=7\n"
     ]
    },
    {
     "name": "stderr",
     "output_type": "stream",
     "text": [
      "\u001b[32m[I 2021-04-12 13:21:24,475]\u001b[0m Trial 60 finished with value: 0.6941304347826086 and parameters: {'n_estimators': 272, 'num_leaves': 178, 'max_depth': 16, 'learning_rate': 0.08592879634410566, 'min_split_gain': 0.003959405681296534, 'feature_fraction': 0.29114772302238645, 'bagging_freq': 7}. Best is trial 21 with value: 0.7090579710144927.\u001b[0m\n"
     ]
    },
    {
     "name": "stdout",
     "output_type": "stream",
     "text": [
      "0.6373188405797101\n",
      "[LightGBM] [Warning] Unknown parameter: categorical_features\n",
      "[LightGBM] [Warning] feature_fraction is set=0.29114772302238645, colsample_bytree=1.0 will be ignored. Current value: feature_fraction=0.29114772302238645\n",
      "[LightGBM] [Warning] bagging_freq is set=7, subsample_freq=0 will be ignored. Current value: bagging_freq=7\n",
      "0.6826086956521739\n"
     ]
    },
    {
     "name": "stderr",
     "output_type": "stream",
     "text": [
      "/opt/conda/lib/python3.7/site-packages/optuna/distributions.py:565: UserWarning: The distribution is specified by [0.1, 10] and step=1, but the range is not divisible by `step`. It will be replaced by [0.1, 9.1].\n",
      "  low=low, old_high=old_high, high=high, step=step\n"
     ]
    },
    {
     "name": "stdout",
     "output_type": "stream",
     "text": [
      "[LightGBM] [Warning] Unknown parameter: categorical_features\n",
      "[LightGBM] [Warning] feature_fraction is set=0.33598956814484826, colsample_bytree=1.0 will be ignored. Current value: feature_fraction=0.33598956814484826\n",
      "[LightGBM] [Warning] bagging_freq is set=9, subsample_freq=0 will be ignored. Current value: bagging_freq=9\n",
      "0.7855072463768116\n",
      "[LightGBM] [Warning] Unknown parameter: categorical_features\n",
      "[LightGBM] [Warning] feature_fraction is set=0.33598956814484826, colsample_bytree=1.0 will be ignored. Current value: feature_fraction=0.33598956814484826\n",
      "[LightGBM] [Warning] bagging_freq is set=9, subsample_freq=0 will be ignored. Current value: bagging_freq=9\n",
      "0.7130434782608696\n",
      "[LightGBM] [Warning] Unknown parameter: categorical_features\n",
      "[LightGBM] [Warning] feature_fraction is set=0.33598956814484826, colsample_bytree=1.0 will be ignored. Current value: feature_fraction=0.33598956814484826\n",
      "[LightGBM] [Warning] bagging_freq is set=9, subsample_freq=0 will be ignored. Current value: bagging_freq=9\n",
      "0.633695652173913\n",
      "[LightGBM] [Warning] Unknown parameter: categorical_features\n",
      "[LightGBM] [Warning] feature_fraction is set=0.33598956814484826, colsample_bytree=1.0 will be ignored. Current value: feature_fraction=0.33598956814484826\n",
      "[LightGBM] [Warning] bagging_freq is set=9, subsample_freq=0 will be ignored. Current value: bagging_freq=9\n"
     ]
    },
    {
     "name": "stderr",
     "output_type": "stream",
     "text": [
      "\u001b[32m[I 2021-04-12 13:21:25,026]\u001b[0m Trial 61 finished with value: 0.6848188405797102 and parameters: {'n_estimators': 961, 'num_leaves': 237, 'max_depth': 29, 'learning_rate': 0.06572729766509484, 'min_split_gain': 0.020356592475747542, 'feature_fraction': 0.33598956814484826, 'bagging_freq': 9}. Best is trial 21 with value: 0.7090579710144927.\u001b[0m\n"
     ]
    },
    {
     "name": "stdout",
     "output_type": "stream",
     "text": [
      "0.6224637681159421\n",
      "[LightGBM] [Warning] Unknown parameter: categorical_features\n",
      "[LightGBM] [Warning] feature_fraction is set=0.33598956814484826, colsample_bytree=1.0 will be ignored. Current value: feature_fraction=0.33598956814484826\n",
      "[LightGBM] [Warning] bagging_freq is set=9, subsample_freq=0 will be ignored. Current value: bagging_freq=9\n",
      "0.6693840579710145\n"
     ]
    },
    {
     "name": "stderr",
     "output_type": "stream",
     "text": [
      "/opt/conda/lib/python3.7/site-packages/optuna/distributions.py:565: UserWarning: The distribution is specified by [0.1, 10] and step=1, but the range is not divisible by `step`. It will be replaced by [0.1, 9.1].\n",
      "  low=low, old_high=old_high, high=high, step=step\n"
     ]
    },
    {
     "name": "stdout",
     "output_type": "stream",
     "text": [
      "[LightGBM] [Warning] Unknown parameter: categorical_features\n",
      "[LightGBM] [Warning] feature_fraction is set=0.3730079929974963, colsample_bytree=1.0 will be ignored. Current value: feature_fraction=0.3730079929974963\n",
      "[LightGBM] [Warning] bagging_freq is set=8, subsample_freq=0 will be ignored. Current value: bagging_freq=8\n",
      "0.7597826086956522\n",
      "[LightGBM] [Warning] Unknown parameter: categorical_features\n",
      "[LightGBM] [Warning] feature_fraction is set=0.3730079929974963, colsample_bytree=1.0 will be ignored. Current value: feature_fraction=0.3730079929974963\n",
      "[LightGBM] [Warning] bagging_freq is set=8, subsample_freq=0 will be ignored. Current value: bagging_freq=8\n",
      "0.7336956521739131\n",
      "[LightGBM] [Warning] Unknown parameter: categorical_features\n",
      "[LightGBM] [Warning] feature_fraction is set=0.3730079929974963, colsample_bytree=1.0 will be ignored. Current value: feature_fraction=0.3730079929974963\n",
      "[LightGBM] [Warning] bagging_freq is set=8, subsample_freq=0 will be ignored. Current value: bagging_freq=8\n",
      "0.661231884057971\n",
      "[LightGBM] [Warning] Unknown parameter: categorical_features\n",
      "[LightGBM] [Warning] feature_fraction is set=0.3730079929974963, colsample_bytree=1.0 will be ignored. Current value: feature_fraction=0.3730079929974963\n",
      "[LightGBM] [Warning] bagging_freq is set=8, subsample_freq=0 will be ignored. Current value: bagging_freq=8\n"
     ]
    },
    {
     "name": "stderr",
     "output_type": "stream",
     "text": [
      "\u001b[32m[I 2021-04-12 13:21:25,569]\u001b[0m Trial 62 finished with value: 0.695072463768116 and parameters: {'n_estimators': 826, 'num_leaves': 207, 'max_depth': 52, 'learning_rate': 0.05485031019636577, 'min_split_gain': 0.04017514995004878, 'feature_fraction': 0.3730079929974963, 'bagging_freq': 8}. Best is trial 21 with value: 0.7090579710144927.\u001b[0m\n"
     ]
    },
    {
     "name": "stdout",
     "output_type": "stream",
     "text": [
      "0.6293478260869566\n",
      "[LightGBM] [Warning] Unknown parameter: categorical_features\n",
      "[LightGBM] [Warning] feature_fraction is set=0.3730079929974963, colsample_bytree=1.0 will be ignored. Current value: feature_fraction=0.3730079929974963\n",
      "[LightGBM] [Warning] bagging_freq is set=8, subsample_freq=0 will be ignored. Current value: bagging_freq=8\n",
      "0.691304347826087\n"
     ]
    },
    {
     "name": "stderr",
     "output_type": "stream",
     "text": [
      "/opt/conda/lib/python3.7/site-packages/optuna/distributions.py:565: UserWarning: The distribution is specified by [0.1, 10] and step=1, but the range is not divisible by `step`. It will be replaced by [0.1, 9.1].\n",
      "  low=low, old_high=old_high, high=high, step=step\n"
     ]
    },
    {
     "name": "stdout",
     "output_type": "stream",
     "text": [
      "[LightGBM] [Warning] Unknown parameter: categorical_features\n",
      "[LightGBM] [Warning] feature_fraction is set=0.23286942888400658, colsample_bytree=1.0 will be ignored. Current value: feature_fraction=0.23286942888400658\n",
      "[LightGBM] [Warning] bagging_freq is set=9, subsample_freq=0 will be ignored. Current value: bagging_freq=9\n",
      "0.7452898550724638\n",
      "[LightGBM] [Warning] Unknown parameter: categorical_features\n",
      "[LightGBM] [Warning] feature_fraction is set=0.23286942888400658, colsample_bytree=1.0 will be ignored. Current value: feature_fraction=0.23286942888400658\n",
      "[LightGBM] [Warning] bagging_freq is set=9, subsample_freq=0 will be ignored. Current value: bagging_freq=9\n",
      "0.722463768115942\n",
      "[LightGBM] [Warning] Unknown parameter: categorical_features\n",
      "[LightGBM] [Warning] feature_fraction is set=0.23286942888400658, colsample_bytree=1.0 will be ignored. Current value: feature_fraction=0.23286942888400658\n",
      "[LightGBM] [Warning] bagging_freq is set=9, subsample_freq=0 will be ignored. Current value: bagging_freq=9\n",
      "0.618840579710145\n",
      "[LightGBM] [Warning] Unknown parameter: categorical_features\n",
      "[LightGBM] [Warning] feature_fraction is set=0.23286942888400658, colsample_bytree=1.0 will be ignored. Current value: feature_fraction=0.23286942888400658\n",
      "[LightGBM] [Warning] bagging_freq is set=9, subsample_freq=0 will be ignored. Current value: bagging_freq=9\n"
     ]
    },
    {
     "name": "stderr",
     "output_type": "stream",
     "text": [
      "\u001b[32m[I 2021-04-12 13:21:26,126]\u001b[0m Trial 63 finished with value: 0.6717753623188406 and parameters: {'n_estimators': 908, 'num_leaves': 273, 'max_depth': 40, 'learning_rate': 0.04073338016369715, 'min_split_gain': 0.03195248501654857, 'feature_fraction': 0.23286942888400658, 'bagging_freq': 9}. Best is trial 21 with value: 0.7090579710144927.\u001b[0m\n"
     ]
    },
    {
     "name": "stdout",
     "output_type": "stream",
     "text": [
      "0.6128623188405797\n",
      "[LightGBM] [Warning] Unknown parameter: categorical_features\n",
      "[LightGBM] [Warning] feature_fraction is set=0.23286942888400658, colsample_bytree=1.0 will be ignored. Current value: feature_fraction=0.23286942888400658\n",
      "[LightGBM] [Warning] bagging_freq is set=9, subsample_freq=0 will be ignored. Current value: bagging_freq=9\n",
      "0.6594202898550724\n"
     ]
    },
    {
     "name": "stderr",
     "output_type": "stream",
     "text": [
      "/opt/conda/lib/python3.7/site-packages/optuna/distributions.py:565: UserWarning: The distribution is specified by [0.1, 10] and step=1, but the range is not divisible by `step`. It will be replaced by [0.1, 9.1].\n",
      "  low=low, old_high=old_high, high=high, step=step\n"
     ]
    },
    {
     "name": "stdout",
     "output_type": "stream",
     "text": [
      "[LightGBM] [Warning] Unknown parameter: categorical_features\n",
      "[LightGBM] [Warning] feature_fraction is set=0.39587330929823655, colsample_bytree=1.0 will be ignored. Current value: feature_fraction=0.39587330929823655\n",
      "[LightGBM] [Warning] bagging_freq is set=9, subsample_freq=0 will be ignored. Current value: bagging_freq=9\n",
      "0.786231884057971\n",
      "[LightGBM] [Warning] Unknown parameter: categorical_features\n",
      "[LightGBM] [Warning] feature_fraction is set=0.39587330929823655, colsample_bytree=1.0 will be ignored. Current value: feature_fraction=0.39587330929823655\n",
      "[LightGBM] [Warning] bagging_freq is set=9, subsample_freq=0 will be ignored. Current value: bagging_freq=9\n",
      "0.7307971014492753\n",
      "[LightGBM] [Warning] Unknown parameter: categorical_features\n",
      "[LightGBM] [Warning] feature_fraction is set=0.39587330929823655, colsample_bytree=1.0 will be ignored. Current value: feature_fraction=0.39587330929823655\n",
      "[LightGBM] [Warning] bagging_freq is set=9, subsample_freq=0 will be ignored. Current value: bagging_freq=9\n",
      "0.633695652173913\n",
      "[LightGBM] [Warning] Unknown parameter: categorical_features\n",
      "[LightGBM] [Warning] feature_fraction is set=0.39587330929823655, colsample_bytree=1.0 will be ignored. Current value: feature_fraction=0.39587330929823655\n",
      "[LightGBM] [Warning] bagging_freq is set=9, subsample_freq=0 will be ignored. Current value: bagging_freq=9\n",
      "0.635144927536232\n",
      "[LightGBM] [Warning] Unknown parameter: categorical_features\n",
      "[LightGBM] [Warning] feature_fraction is set=0.39587330929823655, colsample_bytree=1.0 will be ignored. Current value: feature_fraction=0.39587330929823655\n",
      "[LightGBM] [Warning] bagging_freq is set=9, subsample_freq=0 will be ignored. Current value: bagging_freq=9\n",
      "0.7\n"
     ]
    },
    {
     "name": "stderr",
     "output_type": "stream",
     "text": [
      "\u001b[32m[I 2021-04-12 13:21:26,709]\u001b[0m Trial 64 finished with value: 0.6971739130434782 and parameters: {'n_estimators': 1000, 'num_leaves': 193, 'max_depth': 35, 'learning_rate': 0.03518831245765867, 'min_split_gain': 0.05949627867652389, 'feature_fraction': 0.39587330929823655, 'bagging_freq': 9}. Best is trial 21 with value: 0.7090579710144927.\u001b[0m\n",
      "/opt/conda/lib/python3.7/site-packages/optuna/distributions.py:565: UserWarning: The distribution is specified by [0.1, 10] and step=1, but the range is not divisible by `step`. It will be replaced by [0.1, 9.1].\n",
      "  low=low, old_high=old_high, high=high, step=step\n"
     ]
    },
    {
     "name": "stdout",
     "output_type": "stream",
     "text": [
      "[LightGBM] [Warning] Unknown parameter: categorical_features\n",
      "[LightGBM] [Warning] feature_fraction is set=0.1475554426676829, colsample_bytree=1.0 will be ignored. Current value: feature_fraction=0.1475554426676829\n",
      "[LightGBM] [Warning] bagging_freq is set=8, subsample_freq=0 will be ignored. Current value: bagging_freq=8\n",
      "0.7869565217391304\n",
      "[LightGBM] [Warning] Unknown parameter: categorical_features\n",
      "[LightGBM] [Warning] feature_fraction is set=0.1475554426676829, colsample_bytree=1.0 will be ignored. Current value: feature_fraction=0.1475554426676829\n",
      "[LightGBM] [Warning] bagging_freq is set=8, subsample_freq=0 will be ignored. Current value: bagging_freq=8\n",
      "0.7333333333333334\n",
      "[LightGBM] [Warning] Unknown parameter: categorical_features\n",
      "[LightGBM] [Warning] feature_fraction is set=0.1475554426676829, colsample_bytree=1.0 will be ignored. Current value: feature_fraction=0.1475554426676829\n",
      "[LightGBM] [Warning] bagging_freq is set=8, subsample_freq=0 will be ignored. Current value: bagging_freq=8\n",
      "0.618840579710145\n",
      "[LightGBM] [Warning] Unknown parameter: categorical_features\n",
      "[LightGBM] [Warning] feature_fraction is set=0.1475554426676829, colsample_bytree=1.0 will be ignored. Current value: feature_fraction=0.1475554426676829\n",
      "[LightGBM] [Warning] bagging_freq is set=8, subsample_freq=0 will be ignored. Current value: bagging_freq=8\n"
     ]
    },
    {
     "name": "stderr",
     "output_type": "stream",
     "text": [
      "\u001b[32m[I 2021-04-12 13:21:27,248]\u001b[0m Trial 65 finished with value: 0.6853623188405797 and parameters: {'n_estimators': 871, 'num_leaves': 156, 'max_depth': 43, 'learning_rate': 0.047343311411381116, 'min_split_gain': 0.013087486493389281, 'feature_fraction': 0.1475554426676829, 'bagging_freq': 8}. Best is trial 21 with value: 0.7090579710144927.\u001b[0m\n"
     ]
    },
    {
     "name": "stdout",
     "output_type": "stream",
     "text": [
      "0.6307971014492755\n",
      "[LightGBM] [Warning] Unknown parameter: categorical_features\n",
      "[LightGBM] [Warning] feature_fraction is set=0.1475554426676829, colsample_bytree=1.0 will be ignored. Current value: feature_fraction=0.1475554426676829\n",
      "[LightGBM] [Warning] bagging_freq is set=8, subsample_freq=0 will be ignored. Current value: bagging_freq=8\n",
      "0.6568840579710145\n"
     ]
    },
    {
     "name": "stderr",
     "output_type": "stream",
     "text": [
      "/opt/conda/lib/python3.7/site-packages/optuna/distributions.py:565: UserWarning: The distribution is specified by [0.1, 10] and step=1, but the range is not divisible by `step`. It will be replaced by [0.1, 9.1].\n",
      "  low=low, old_high=old_high, high=high, step=step\n"
     ]
    },
    {
     "name": "stdout",
     "output_type": "stream",
     "text": [
      "[LightGBM] [Warning] Unknown parameter: categorical_features\n",
      "[LightGBM] [Warning] feature_fraction is set=0.3047646431179061, colsample_bytree=1.0 will be ignored. Current value: feature_fraction=0.3047646431179061\n",
      "[LightGBM] [Warning] bagging_freq is set=6, subsample_freq=0 will be ignored. Current value: bagging_freq=6\n",
      "0.7826086956521738\n",
      "[LightGBM] [Warning] Unknown parameter: categorical_features\n",
      "[LightGBM] [Warning] feature_fraction is set=0.3047646431179061, colsample_bytree=1.0 will be ignored. Current value: feature_fraction=0.3047646431179061\n",
      "[LightGBM] [Warning] bagging_freq is set=6, subsample_freq=0 will be ignored. Current value: bagging_freq=6\n",
      "0.7036231884057971\n",
      "[LightGBM] [Warning] Unknown parameter: categorical_features\n",
      "[LightGBM] [Warning] feature_fraction is set=0.3047646431179061, colsample_bytree=1.0 will be ignored. Current value: feature_fraction=0.3047646431179061\n",
      "[LightGBM] [Warning] bagging_freq is set=6, subsample_freq=0 will be ignored. Current value: bagging_freq=6\n",
      "0.5969202898550725\n",
      "[LightGBM] [Warning] Unknown parameter: categorical_features\n",
      "[LightGBM] [Warning] feature_fraction is set=0.3047646431179061, colsample_bytree=1.0 will be ignored. Current value: feature_fraction=0.3047646431179061\n",
      "[LightGBM] [Warning] bagging_freq is set=6, subsample_freq=0 will be ignored. Current value: bagging_freq=6\n",
      "0.6739130434782608\n"
     ]
    },
    {
     "name": "stderr",
     "output_type": "stream",
     "text": [
      "\u001b[32m[I 2021-04-12 13:21:27,770]\u001b[0m Trial 66 finished with value: 0.6908333333333332 and parameters: {'n_estimators': 785, 'num_leaves': 83, 'max_depth': 13, 'learning_rate': 0.0693134420618684, 'min_split_gain': 0.00913712110094735, 'feature_fraction': 0.3047646431179061, 'bagging_freq': 6}. Best is trial 21 with value: 0.7090579710144927.\u001b[0m\n"
     ]
    },
    {
     "name": "stdout",
     "output_type": "stream",
     "text": [
      "[LightGBM] [Warning] Unknown parameter: categorical_features\n",
      "[LightGBM] [Warning] feature_fraction is set=0.3047646431179061, colsample_bytree=1.0 will be ignored. Current value: feature_fraction=0.3047646431179061\n",
      "[LightGBM] [Warning] bagging_freq is set=6, subsample_freq=0 will be ignored. Current value: bagging_freq=6\n",
      "0.6971014492753623\n"
     ]
    },
    {
     "name": "stderr",
     "output_type": "stream",
     "text": [
      "/opt/conda/lib/python3.7/site-packages/optuna/distributions.py:565: UserWarning: The distribution is specified by [0.1, 10] and step=1, but the range is not divisible by `step`. It will be replaced by [0.1, 9.1].\n",
      "  low=low, old_high=old_high, high=high, step=step\n"
     ]
    },
    {
     "name": "stdout",
     "output_type": "stream",
     "text": [
      "[LightGBM] [Warning] Unknown parameter: categorical_features\n",
      "[LightGBM] [Warning] feature_fraction is set=0.4767248835354545, colsample_bytree=1.0 will be ignored. Current value: feature_fraction=0.4767248835354545\n",
      "[LightGBM] [Warning] bagging_freq is set=7, subsample_freq=0 will be ignored. Current value: bagging_freq=7\n",
      "0.7916666666666666\n",
      "[LightGBM] [Warning] Unknown parameter: categorical_features\n",
      "[LightGBM] [Warning] feature_fraction is set=0.4767248835354545, colsample_bytree=1.0 will be ignored. Current value: feature_fraction=0.4767248835354545\n",
      "[LightGBM] [Warning] bagging_freq is set=7, subsample_freq=0 will be ignored. Current value: bagging_freq=7\n",
      "0.7344202898550725\n",
      "[LightGBM] [Warning] Unknown parameter: categorical_features\n",
      "[LightGBM] [Warning] feature_fraction is set=0.4767248835354545, colsample_bytree=1.0 will be ignored. Current value: feature_fraction=0.4767248835354545\n",
      "[LightGBM] [Warning] bagging_freq is set=7, subsample_freq=0 will be ignored. Current value: bagging_freq=7\n",
      "0.633695652173913\n",
      "[LightGBM] [Warning] Unknown parameter: categorical_features\n",
      "[LightGBM] [Warning] feature_fraction is set=0.4767248835354545, colsample_bytree=1.0 will be ignored. Current value: feature_fraction=0.4767248835354545\n",
      "[LightGBM] [Warning] bagging_freq is set=7, subsample_freq=0 will be ignored. Current value: bagging_freq=7\n",
      "0.6396739130434783\n",
      "[LightGBM] [Warning] Unknown parameter: categorical_features\n",
      "[LightGBM] [Warning] feature_fraction is set=0.4767248835354545, colsample_bytree=1.0 will be ignored. Current value: feature_fraction=0.4767248835354545\n",
      "[LightGBM] [Warning] bagging_freq is set=7, subsample_freq=0 will be ignored. Current value: bagging_freq=7\n"
     ]
    },
    {
     "name": "stderr",
     "output_type": "stream",
     "text": [
      "\u001b[32m[I 2021-04-12 13:21:28,277]\u001b[0m Trial 67 finished with value: 0.6967753623188406 and parameters: {'n_estimators': 377, 'num_leaves': 136, 'max_depth': 23, 'learning_rate': 0.08797595243508512, 'min_split_gain': 0.07677762243493089, 'feature_fraction': 0.4767248835354545, 'bagging_freq': 7}. Best is trial 21 with value: 0.7090579710144927.\u001b[0m\n"
     ]
    },
    {
     "name": "stdout",
     "output_type": "stream",
     "text": [
      "0.6844202898550725\n",
      "[LightGBM] [Warning] Unknown parameter: categorical_features\n",
      "[LightGBM] [Warning] feature_fraction is set=0.3513000710205091, colsample_bytree=1.0 will be ignored. Current value: feature_fraction=0.3513000710205091\n",
      "[LightGBM] [Warning] bagging_freq is set=6, subsample_freq=0 will be ignored. Current value: bagging_freq=6\n"
     ]
    },
    {
     "name": "stderr",
     "output_type": "stream",
     "text": [
      "/opt/conda/lib/python3.7/site-packages/optuna/distributions.py:565: UserWarning: The distribution is specified by [0.1, 10] and step=1, but the range is not divisible by `step`. It will be replaced by [0.1, 9.1].\n",
      "  low=low, old_high=old_high, high=high, step=step\n"
     ]
    },
    {
     "name": "stdout",
     "output_type": "stream",
     "text": [
      "0.7793478260869565\n",
      "[LightGBM] [Warning] Unknown parameter: categorical_features\n",
      "[LightGBM] [Warning] feature_fraction is set=0.3513000710205091, colsample_bytree=1.0 will be ignored. Current value: feature_fraction=0.3513000710205091\n",
      "[LightGBM] [Warning] bagging_freq is set=6, subsample_freq=0 will be ignored. Current value: bagging_freq=6\n",
      "0.7072463768115942\n",
      "[LightGBM] [Warning] Unknown parameter: categorical_features\n",
      "[LightGBM] [Warning] feature_fraction is set=0.3513000710205091, colsample_bytree=1.0 will be ignored. Current value: feature_fraction=0.3513000710205091\n",
      "[LightGBM] [Warning] bagging_freq is set=6, subsample_freq=0 will be ignored. Current value: bagging_freq=6\n",
      "0.6210144927536232\n",
      "[LightGBM] [Warning] Unknown parameter: categorical_features\n",
      "[LightGBM] [Warning] feature_fraction is set=0.3513000710205091, colsample_bytree=1.0 will be ignored. Current value: feature_fraction=0.3513000710205091\n",
      "[LightGBM] [Warning] bagging_freq is set=6, subsample_freq=0 will be ignored. Current value: bagging_freq=6\n"
     ]
    },
    {
     "name": "stderr",
     "output_type": "stream",
     "text": [
      "\u001b[32m[I 2021-04-12 13:21:29,000]\u001b[0m Trial 68 finished with value: 0.6781884057971015 and parameters: {'n_estimators': 486, 'num_leaves': 40, 'max_depth': 49, 'learning_rate': 0.016893813485540154, 'min_split_gain': 0.0167006522841689, 'feature_fraction': 0.3513000710205091, 'bagging_freq': 6}. Best is trial 21 with value: 0.7090579710144927.\u001b[0m\n"
     ]
    },
    {
     "name": "stdout",
     "output_type": "stream",
     "text": [
      "0.5931159420289855\n",
      "[LightGBM] [Warning] Unknown parameter: categorical_features\n",
      "[LightGBM] [Warning] feature_fraction is set=0.3513000710205091, colsample_bytree=1.0 will be ignored. Current value: feature_fraction=0.3513000710205091\n",
      "[LightGBM] [Warning] bagging_freq is set=6, subsample_freq=0 will be ignored. Current value: bagging_freq=6\n",
      "0.6902173913043479\n"
     ]
    },
    {
     "name": "stderr",
     "output_type": "stream",
     "text": [
      "/opt/conda/lib/python3.7/site-packages/optuna/distributions.py:565: UserWarning: The distribution is specified by [0.1, 10] and step=1, but the range is not divisible by `step`. It will be replaced by [0.1, 9.1].\n",
      "  low=low, old_high=old_high, high=high, step=step\n"
     ]
    },
    {
     "name": "stdout",
     "output_type": "stream",
     "text": [
      "[LightGBM] [Warning] Unknown parameter: categorical_features\n",
      "[LightGBM] [Warning] feature_fraction is set=0.2757438346687468, colsample_bytree=1.0 will be ignored. Current value: feature_fraction=0.2757438346687468\n",
      "[LightGBM] [Warning] bagging_freq is set=9, subsample_freq=0 will be ignored. Current value: bagging_freq=9\n",
      "0.7942028985507246\n",
      "[LightGBM] [Warning] Unknown parameter: categorical_features\n",
      "[LightGBM] [Warning] feature_fraction is set=0.2757438346687468, colsample_bytree=1.0 will be ignored. Current value: feature_fraction=0.2757438346687468\n",
      "[LightGBM] [Warning] bagging_freq is set=9, subsample_freq=0 will be ignored. Current value: bagging_freq=9\n",
      "0.717391304347826\n",
      "[LightGBM] [Warning] Unknown parameter: categorical_features\n",
      "[LightGBM] [Warning] feature_fraction is set=0.2757438346687468, colsample_bytree=1.0 will be ignored. Current value: feature_fraction=0.2757438346687468\n",
      "[LightGBM] [Warning] bagging_freq is set=9, subsample_freq=0 will be ignored. Current value: bagging_freq=9\n",
      "0.6202898550724637\n",
      "[LightGBM] [Warning] Unknown parameter: categorical_features\n",
      "[LightGBM] [Warning] feature_fraction is set=0.2757438346687468, colsample_bytree=1.0 will be ignored. Current value: feature_fraction=0.2757438346687468\n",
      "[LightGBM] [Warning] bagging_freq is set=9, subsample_freq=0 will be ignored. Current value: bagging_freq=9\n",
      "0.586231884057971\n",
      "[LightGBM] [Warning] Unknown parameter: categorical_features\n",
      "[LightGBM] [Warning] feature_fraction is set=0.2757438346687468, colsample_bytree=1.0 will be ignored. Current value: feature_fraction=0.2757438346687468\n",
      "[LightGBM] [Warning] bagging_freq is set=9, subsample_freq=0 will be ignored. Current value: bagging_freq=9\n",
      "0.6797101449275362\n"
     ]
    },
    {
     "name": "stderr",
     "output_type": "stream",
     "text": [
      "\u001b[32m[I 2021-04-12 13:21:29,996]\u001b[0m Trial 69 finished with value: 0.6795652173913043 and parameters: {'n_estimators': 163, 'num_leaves': 220, 'max_depth': 6, 'learning_rate': 0.011943304017520797, 'min_split_gain': 0.007148723564115653, 'feature_fraction': 0.2757438346687468, 'bagging_freq': 9}. Best is trial 21 with value: 0.7090579710144927.\u001b[0m\n",
      "/opt/conda/lib/python3.7/site-packages/optuna/distributions.py:565: UserWarning: The distribution is specified by [0.1, 10] and step=1, but the range is not divisible by `step`. It will be replaced by [0.1, 9.1].\n",
      "  low=low, old_high=old_high, high=high, step=step\n"
     ]
    },
    {
     "name": "stdout",
     "output_type": "stream",
     "text": [
      "[LightGBM] [Warning] Unknown parameter: categorical_features\n",
      "[LightGBM] [Warning] feature_fraction is set=0.414348798293691, colsample_bytree=1.0 will be ignored. Current value: feature_fraction=0.414348798293691\n",
      "[LightGBM] [Warning] bagging_freq is set=8, subsample_freq=0 will be ignored. Current value: bagging_freq=8\n",
      "0.8137681159420289\n",
      "[LightGBM] [Warning] Unknown parameter: categorical_features\n",
      "[LightGBM] [Warning] feature_fraction is set=0.414348798293691, colsample_bytree=1.0 will be ignored. Current value: feature_fraction=0.414348798293691\n",
      "[LightGBM] [Warning] bagging_freq is set=8, subsample_freq=0 will be ignored. Current value: bagging_freq=8\n",
      "0.7141304347826087\n",
      "[LightGBM] [Warning] Unknown parameter: categorical_features\n",
      "[LightGBM] [Warning] feature_fraction is set=0.414348798293691, colsample_bytree=1.0 will be ignored. Current value: feature_fraction=0.414348798293691\n",
      "[LightGBM] [Warning] bagging_freq is set=8, subsample_freq=0 will be ignored. Current value: bagging_freq=8\n",
      "0.6231884057971014\n",
      "[LightGBM] [Warning] Unknown parameter: categorical_features\n",
      "[LightGBM] [Warning] feature_fraction is set=0.414348798293691, colsample_bytree=1.0 will be ignored. Current value: feature_fraction=0.414348798293691\n",
      "[LightGBM] [Warning] bagging_freq is set=8, subsample_freq=0 will be ignored. Current value: bagging_freq=8\n",
      "0.5909420289855072\n",
      "[LightGBM] [Warning] Unknown parameter: categorical_features\n",
      "[LightGBM] [Warning] feature_fraction is set=0.414348798293691, colsample_bytree=1.0 will be ignored. Current value: feature_fraction=0.414348798293691\n",
      "[LightGBM] [Warning] bagging_freq is set=8, subsample_freq=0 will be ignored. Current value: bagging_freq=8\n"
     ]
    },
    {
     "name": "stderr",
     "output_type": "stream",
     "text": [
      "\u001b[32m[I 2021-04-12 13:21:30,503]\u001b[0m Trial 70 finished with value: 0.6778623188405797 and parameters: {'n_estimators': 949, 'num_leaves': 76, 'max_depth': 32, 'learning_rate': 0.11257126920142455, 'min_split_gain': 0.030384470710198737, 'feature_fraction': 0.414348798293691, 'bagging_freq': 8}. Best is trial 21 with value: 0.7090579710144927.\u001b[0m\n"
     ]
    },
    {
     "name": "stdout",
     "output_type": "stream",
     "text": [
      "0.6472826086956521\n"
     ]
    },
    {
     "name": "stderr",
     "output_type": "stream",
     "text": [
      "/opt/conda/lib/python3.7/site-packages/optuna/distributions.py:565: UserWarning: The distribution is specified by [0.1, 10] and step=1, but the range is not divisible by `step`. It will be replaced by [0.1, 9.1].\n",
      "  low=low, old_high=old_high, high=high, step=step\n"
     ]
    },
    {
     "name": "stdout",
     "output_type": "stream",
     "text": [
      "[LightGBM] [Warning] Unknown parameter: categorical_features\n",
      "[LightGBM] [Warning] feature_fraction is set=0.3934559901469813, colsample_bytree=1.0 will be ignored. Current value: feature_fraction=0.3934559901469813\n",
      "[LightGBM] [Warning] bagging_freq is set=9, subsample_freq=0 will be ignored. Current value: bagging_freq=9\n",
      "0.7797101449275363\n",
      "[LightGBM] [Warning] Unknown parameter: categorical_features\n",
      "[LightGBM] [Warning] feature_fraction is set=0.3934559901469813, colsample_bytree=1.0 will be ignored. Current value: feature_fraction=0.3934559901469813\n",
      "[LightGBM] [Warning] bagging_freq is set=9, subsample_freq=0 will be ignored. Current value: bagging_freq=9\n",
      "0.7358695652173913\n",
      "[LightGBM] [Warning] Unknown parameter: categorical_features\n",
      "[LightGBM] [Warning] feature_fraction is set=0.3934559901469813, colsample_bytree=1.0 will be ignored. Current value: feature_fraction=0.3934559901469813\n",
      "[LightGBM] [Warning] bagging_freq is set=9, subsample_freq=0 will be ignored. Current value: bagging_freq=9\n",
      "0.647463768115942\n",
      "[LightGBM] [Warning] Unknown parameter: categorical_features\n",
      "[LightGBM] [Warning] feature_fraction is set=0.3934559901469813, colsample_bytree=1.0 will be ignored. Current value: feature_fraction=0.3934559901469813\n",
      "[LightGBM] [Warning] bagging_freq is set=9, subsample_freq=0 will be ignored. Current value: bagging_freq=9\n",
      "0.6373188405797102\n",
      "[LightGBM] [Warning] Unknown parameter: categorical_features\n",
      "[LightGBM] [Warning] feature_fraction is set=0.3934559901469813, colsample_bytree=1.0 will be ignored. Current value: feature_fraction=0.3934559901469813\n",
      "[LightGBM] [Warning] bagging_freq is set=9, subsample_freq=0 will be ignored. Current value: bagging_freq=9\n",
      "0.7097826086956521\n"
     ]
    },
    {
     "name": "stderr",
     "output_type": "stream",
     "text": [
      "\u001b[32m[I 2021-04-12 13:21:31,107]\u001b[0m Trial 71 finished with value: 0.7020289855072465 and parameters: {'n_estimators': 986, 'num_leaves': 202, 'max_depth': 36, 'learning_rate': 0.032603097286425776, 'min_split_gain': 0.06695907269268744, 'feature_fraction': 0.3934559901469813, 'bagging_freq': 9}. Best is trial 21 with value: 0.7090579710144927.\u001b[0m\n",
      "/opt/conda/lib/python3.7/site-packages/optuna/distributions.py:565: UserWarning: The distribution is specified by [0.1, 10] and step=1, but the range is not divisible by `step`. It will be replaced by [0.1, 9.1].\n",
      "  low=low, old_high=old_high, high=high, step=step\n"
     ]
    },
    {
     "name": "stdout",
     "output_type": "stream",
     "text": [
      "[LightGBM] [Warning] Unknown parameter: categorical_features\n",
      "[LightGBM] [Warning] feature_fraction is set=0.5021645970523259, colsample_bytree=1.0 will be ignored. Current value: feature_fraction=0.5021645970523259\n",
      "[LightGBM] [Warning] bagging_freq is set=9, subsample_freq=0 will be ignored. Current value: bagging_freq=9\n",
      "0.7764492753623189\n",
      "[LightGBM] [Warning] Unknown parameter: categorical_features\n",
      "[LightGBM] [Warning] feature_fraction is set=0.5021645970523259, colsample_bytree=1.0 will be ignored. Current value: feature_fraction=0.5021645970523259\n",
      "[LightGBM] [Warning] bagging_freq is set=9, subsample_freq=0 will be ignored. Current value: bagging_freq=9\n",
      "0.7340579710144928\n",
      "[LightGBM] [Warning] Unknown parameter: categorical_features\n",
      "[LightGBM] [Warning] feature_fraction is set=0.5021645970523259, colsample_bytree=1.0 will be ignored. Current value: feature_fraction=0.5021645970523259\n",
      "[LightGBM] [Warning] bagging_freq is set=9, subsample_freq=0 will be ignored. Current value: bagging_freq=9\n",
      "0.6481884057971015\n",
      "[LightGBM] [Warning] Unknown parameter: categorical_features\n",
      "[LightGBM] [Warning] feature_fraction is set=0.5021645970523259, colsample_bytree=1.0 will be ignored. Current value: feature_fraction=0.5021645970523259\n",
      "[LightGBM] [Warning] bagging_freq is set=9, subsample_freq=0 will be ignored. Current value: bagging_freq=9\n",
      "0.6105072463768116\n",
      "[LightGBM] [Warning] Unknown parameter: categorical_features\n",
      "[LightGBM] [Warning] feature_fraction is set=0.5021645970523259, colsample_bytree=1.0 will be ignored. Current value: feature_fraction=0.5021645970523259\n",
      "[LightGBM] [Warning] bagging_freq is set=9, subsample_freq=0 will be ignored. Current value: bagging_freq=9\n",
      "0.6920289855072463\n"
     ]
    },
    {
     "name": "stderr",
     "output_type": "stream",
     "text": [
      "\u001b[32m[I 2021-04-12 13:21:31,697]\u001b[0m Trial 72 finished with value: 0.6922463768115941 and parameters: {'n_estimators': 993, 'num_leaves': 174, 'max_depth': 18, 'learning_rate': 0.04033032116139169, 'min_split_gain': 0.053123330316614946, 'feature_fraction': 0.5021645970523259, 'bagging_freq': 9}. Best is trial 21 with value: 0.7090579710144927.\u001b[0m\n",
      "/opt/conda/lib/python3.7/site-packages/optuna/distributions.py:565: UserWarning: The distribution is specified by [0.1, 10] and step=1, but the range is not divisible by `step`. It will be replaced by [0.1, 9.1].\n",
      "  low=low, old_high=old_high, high=high, step=step\n"
     ]
    },
    {
     "name": "stdout",
     "output_type": "stream",
     "text": [
      "[LightGBM] [Warning] Unknown parameter: categorical_features\n",
      "[LightGBM] [Warning] feature_fraction is set=0.43588322163048976, colsample_bytree=1.0 will be ignored. Current value: feature_fraction=0.43588322163048976\n",
      "[LightGBM] [Warning] bagging_freq is set=9, subsample_freq=0 will be ignored. Current value: bagging_freq=9\n",
      "0.7634057971014493\n",
      "[LightGBM] [Warning] Unknown parameter: categorical_features\n",
      "[LightGBM] [Warning] feature_fraction is set=0.43588322163048976, colsample_bytree=1.0 will be ignored. Current value: feature_fraction=0.43588322163048976\n",
      "[LightGBM] [Warning] bagging_freq is set=9, subsample_freq=0 will be ignored. Current value: bagging_freq=9\n",
      "0.7427536231884058\n",
      "[LightGBM] [Warning] Unknown parameter: categorical_features\n",
      "[LightGBM] [Warning] feature_fraction is set=0.43588322163048976, colsample_bytree=1.0 will be ignored. Current value: feature_fraction=0.43588322163048976\n",
      "[LightGBM] [Warning] bagging_freq is set=9, subsample_freq=0 will be ignored. Current value: bagging_freq=9\n",
      "0.6195652173913043\n",
      "[LightGBM] [Warning] Unknown parameter: categorical_features\n",
      "[LightGBM] [Warning] feature_fraction is set=0.43588322163048976, colsample_bytree=1.0 will be ignored. Current value: feature_fraction=0.43588322163048976\n",
      "[LightGBM] [Warning] bagging_freq is set=9, subsample_freq=0 will be ignored. Current value: bagging_freq=9\n",
      "0.597463768115942\n",
      "[LightGBM] [Warning] Unknown parameter: categorical_features\n",
      "[LightGBM] [Warning] feature_fraction is set=0.43588322163048976, colsample_bytree=1.0 will be ignored. Current value: feature_fraction=0.43588322163048976\n",
      "[LightGBM] [Warning] bagging_freq is set=9, subsample_freq=0 will be ignored. Current value: bagging_freq=9\n",
      "0.7003623188405798\n"
     ]
    },
    {
     "name": "stderr",
     "output_type": "stream",
     "text": [
      "\u001b[32m[I 2021-04-12 13:21:32,312]\u001b[0m Trial 73 finished with value: 0.6847101449275362 and parameters: {'n_estimators': 917, 'num_leaves': 222, 'max_depth': 27, 'learning_rate': 0.031889210119505206, 'min_split_gain': 0.08624590232834174, 'feature_fraction': 0.43588322163048976, 'bagging_freq': 9}. Best is trial 21 with value: 0.7090579710144927.\u001b[0m\n"
     ]
    },
    {
     "ename": "KeyboardInterrupt",
     "evalue": "",
     "output_type": "error",
     "traceback": [
      "\u001b[0;31m---------------------------------------------------------------------------\u001b[0m",
      "\u001b[0;31mKeyboardInterrupt\u001b[0m                         Traceback (most recent call last)",
      "\u001b[0;32m<ipython-input-126-680830e85fdc>\u001b[0m in \u001b[0;36m<module>\u001b[0;34m\u001b[0m\n\u001b[1;32m      1\u001b[0m \u001b[0mstudy\u001b[0m \u001b[0;34m=\u001b[0m \u001b[0moptuna\u001b[0m\u001b[0;34m.\u001b[0m\u001b[0mcreate_study\u001b[0m\u001b[0;34m(\u001b[0m\u001b[0mdirection\u001b[0m\u001b[0;34m=\u001b[0m\u001b[0;34m'maximize'\u001b[0m\u001b[0;34m,\u001b[0m \u001b[0mpruner\u001b[0m\u001b[0;34m=\u001b[0m\u001b[0moptuna\u001b[0m\u001b[0;34m.\u001b[0m\u001b[0mpruners\u001b[0m\u001b[0;34m.\u001b[0m\u001b[0mMedianPruner\u001b[0m\u001b[0;34m(\u001b[0m\u001b[0mn_warmup_steps\u001b[0m\u001b[0;34m=\u001b[0m\u001b[0;36m5\u001b[0m\u001b[0;34m)\u001b[0m\u001b[0;34m)\u001b[0m\u001b[0;34m\u001b[0m\u001b[0;34m\u001b[0m\u001b[0m\n\u001b[0;32m----> 2\u001b[0;31m \u001b[0mstudy\u001b[0m\u001b[0;34m.\u001b[0m\u001b[0moptimize\u001b[0m\u001b[0;34m(\u001b[0m\u001b[0mobjective\u001b[0m\u001b[0;34m,\u001b[0m\u001b[0;32mNone\u001b[0m \u001b[0;34m,\u001b[0m \u001b[0mtimeout\u001b[0m\u001b[0;34m=\u001b[0m\u001b[0;36m60\u001b[0m\u001b[0;34m*\u001b[0m\u001b[0;36m60\u001b[0m\u001b[0;34m*\u001b[0m\u001b[0;36m2\u001b[0m\u001b[0;34m)\u001b[0m\u001b[0;34m\u001b[0m\u001b[0;34m\u001b[0m\u001b[0m\n\u001b[0m",
      "\u001b[0;32m/opt/conda/lib/python3.7/site-packages/optuna/study.py\u001b[0m in \u001b[0;36moptimize\u001b[0;34m(self, func, n_trials, timeout, n_jobs, catch, callbacks, gc_after_trial, show_progress_bar)\u001b[0m\n\u001b[1;32m    392\u001b[0m             \u001b[0mcallbacks\u001b[0m\u001b[0;34m=\u001b[0m\u001b[0mcallbacks\u001b[0m\u001b[0;34m,\u001b[0m\u001b[0;34m\u001b[0m\u001b[0;34m\u001b[0m\u001b[0m\n\u001b[1;32m    393\u001b[0m             \u001b[0mgc_after_trial\u001b[0m\u001b[0;34m=\u001b[0m\u001b[0mgc_after_trial\u001b[0m\u001b[0;34m,\u001b[0m\u001b[0;34m\u001b[0m\u001b[0;34m\u001b[0m\u001b[0m\n\u001b[0;32m--> 394\u001b[0;31m             \u001b[0mshow_progress_bar\u001b[0m\u001b[0;34m=\u001b[0m\u001b[0mshow_progress_bar\u001b[0m\u001b[0;34m,\u001b[0m\u001b[0;34m\u001b[0m\u001b[0;34m\u001b[0m\u001b[0m\n\u001b[0m\u001b[1;32m    395\u001b[0m         )\n\u001b[1;32m    396\u001b[0m \u001b[0;34m\u001b[0m\u001b[0m\n",
      "\u001b[0;32m/opt/conda/lib/python3.7/site-packages/optuna/_optimize.py\u001b[0m in \u001b[0;36m_optimize\u001b[0;34m(study, func, n_trials, timeout, n_jobs, catch, callbacks, gc_after_trial, show_progress_bar)\u001b[0m\n\u001b[1;32m     74\u001b[0m                 \u001b[0mreseed_sampler_rng\u001b[0m\u001b[0;34m=\u001b[0m\u001b[0;32mFalse\u001b[0m\u001b[0;34m,\u001b[0m\u001b[0;34m\u001b[0m\u001b[0;34m\u001b[0m\u001b[0m\n\u001b[1;32m     75\u001b[0m                 \u001b[0mtime_start\u001b[0m\u001b[0;34m=\u001b[0m\u001b[0;32mNone\u001b[0m\u001b[0;34m,\u001b[0m\u001b[0;34m\u001b[0m\u001b[0;34m\u001b[0m\u001b[0m\n\u001b[0;32m---> 76\u001b[0;31m                 \u001b[0mprogress_bar\u001b[0m\u001b[0;34m=\u001b[0m\u001b[0mprogress_bar\u001b[0m\u001b[0;34m,\u001b[0m\u001b[0;34m\u001b[0m\u001b[0;34m\u001b[0m\u001b[0m\n\u001b[0m\u001b[1;32m     77\u001b[0m             )\n\u001b[1;32m     78\u001b[0m         \u001b[0;32melse\u001b[0m\u001b[0;34m:\u001b[0m\u001b[0;34m\u001b[0m\u001b[0;34m\u001b[0m\u001b[0m\n",
      "\u001b[0;32m/opt/conda/lib/python3.7/site-packages/optuna/_optimize.py\u001b[0m in \u001b[0;36m_optimize_sequential\u001b[0;34m(study, func, n_trials, timeout, catch, callbacks, gc_after_trial, reseed_sampler_rng, time_start, progress_bar)\u001b[0m\n\u001b[1;32m    161\u001b[0m \u001b[0;34m\u001b[0m\u001b[0m\n\u001b[1;32m    162\u001b[0m         \u001b[0;32mtry\u001b[0m\u001b[0;34m:\u001b[0m\u001b[0;34m\u001b[0m\u001b[0;34m\u001b[0m\u001b[0m\n\u001b[0;32m--> 163\u001b[0;31m             \u001b[0mtrial\u001b[0m \u001b[0;34m=\u001b[0m \u001b[0m_run_trial\u001b[0m\u001b[0;34m(\u001b[0m\u001b[0mstudy\u001b[0m\u001b[0;34m,\u001b[0m \u001b[0mfunc\u001b[0m\u001b[0;34m,\u001b[0m \u001b[0mcatch\u001b[0m\u001b[0;34m)\u001b[0m\u001b[0;34m\u001b[0m\u001b[0;34m\u001b[0m\u001b[0m\n\u001b[0m\u001b[1;32m    164\u001b[0m         \u001b[0;32mexcept\u001b[0m \u001b[0mException\u001b[0m\u001b[0;34m:\u001b[0m\u001b[0;34m\u001b[0m\u001b[0;34m\u001b[0m\u001b[0m\n\u001b[1;32m    165\u001b[0m             \u001b[0;32mraise\u001b[0m\u001b[0;34m\u001b[0m\u001b[0;34m\u001b[0m\u001b[0m\n",
      "\u001b[0;32m/opt/conda/lib/python3.7/site-packages/optuna/_optimize.py\u001b[0m in \u001b[0;36m_run_trial\u001b[0;34m(study, func, catch)\u001b[0m\n\u001b[1;32m    215\u001b[0m \u001b[0;34m\u001b[0m\u001b[0m\n\u001b[1;32m    216\u001b[0m     \u001b[0;32mtry\u001b[0m\u001b[0;34m:\u001b[0m\u001b[0;34m\u001b[0m\u001b[0;34m\u001b[0m\u001b[0m\n\u001b[0;32m--> 217\u001b[0;31m         \u001b[0mvalue_or_values\u001b[0m \u001b[0;34m=\u001b[0m \u001b[0mfunc\u001b[0m\u001b[0;34m(\u001b[0m\u001b[0mtrial\u001b[0m\u001b[0;34m)\u001b[0m\u001b[0;34m\u001b[0m\u001b[0;34m\u001b[0m\u001b[0m\n\u001b[0m\u001b[1;32m    218\u001b[0m     \u001b[0;32mexcept\u001b[0m \u001b[0mexceptions\u001b[0m\u001b[0;34m.\u001b[0m\u001b[0mTrialPruned\u001b[0m \u001b[0;32mas\u001b[0m \u001b[0me\u001b[0m\u001b[0;34m:\u001b[0m\u001b[0;34m\u001b[0m\u001b[0;34m\u001b[0m\u001b[0m\n\u001b[1;32m    219\u001b[0m         \u001b[0;31m# TODO(mamu): Handle multi-objective cases.\u001b[0m\u001b[0;34m\u001b[0m\u001b[0;34m\u001b[0m\u001b[0;34m\u001b[0m\u001b[0m\n",
      "\u001b[0;32m<ipython-input-123-c111a157056e>\u001b[0m in \u001b[0;36mobjective\u001b[0;34m(trial)\u001b[0m\n\u001b[1;32m      9\u001b[0m \u001b[0;32mdef\u001b[0m \u001b[0mobjective\u001b[0m\u001b[0;34m(\u001b[0m\u001b[0mtrial\u001b[0m\u001b[0;34m:\u001b[0m\u001b[0mTrial\u001b[0m\u001b[0;34m)\u001b[0m\u001b[0;34m:\u001b[0m\u001b[0;34m\u001b[0m\u001b[0;34m\u001b[0m\u001b[0m\n\u001b[1;32m     10\u001b[0m \u001b[0;34m\u001b[0m\u001b[0m\n\u001b[0;32m---> 11\u001b[0;31m     \u001b[0mgc\u001b[0m\u001b[0;34m.\u001b[0m\u001b[0mcollect\u001b[0m\u001b[0;34m(\u001b[0m\u001b[0;34m)\u001b[0m\u001b[0;34m\u001b[0m\u001b[0;34m\u001b[0m\u001b[0m\n\u001b[0m\u001b[1;32m     12\u001b[0m     \u001b[0mmodels\u001b[0m\u001b[0;34m=\u001b[0m\u001b[0;34m[\u001b[0m\u001b[0;34m]\u001b[0m\u001b[0;34m\u001b[0m\u001b[0;34m\u001b[0m\u001b[0m\n\u001b[1;32m     13\u001b[0m     \u001b[0mvalidScore\u001b[0m\u001b[0;34m=\u001b[0m\u001b[0;36m0\u001b[0m\u001b[0;34m\u001b[0m\u001b[0;34m\u001b[0m\u001b[0m\n",
      "\u001b[0;31mKeyboardInterrupt\u001b[0m: "
     ]
    }
   ],
   "source": [
    "study = optuna.create_study(direction='maximize', pruner=optuna.pruners.MedianPruner(n_warmup_steps=5))\n",
    "study.optimize(objective,None , timeout=60*60*2)"
   ]
  },
  {
   "cell_type": "code",
   "execution_count": 136,
   "metadata": {},
   "outputs": [],
   "source": [
    "# we selected the best feature space from the above optuna method and used it for final training\n",
    "\n",
    "def lgb_f1_score(y_true, y_hat):\n",
    "\n",
    "    y_hat= np.where(y_hat < 0.5, 0, 1)   # scikits f1 doesn't like probabilities\n",
    "    return f1_score(y_true, y_hat, average = \"micro\")\n",
    "\n",
    "opt_params =  {'n_estimators': 876, 'num_leaves': 70, 'scale_pos_weight': 15, 'max_depth': 50, 'learning_rate': 0.07767353478949224, 'min_split_gain': 0.00870738026281286, 'feature_fraction': 0.3561368369391315, 'bagging_freq': 0}\n",
    "model = LGBMClassifier(**opt_params, random_state=44, metric = \"auc\")\n",
    "\n",
    "stkfold = StratifiedKFold(n_splits=5, shuffle=True, random_state = 44)\n",
    "\n",
    "def calc(X, y, model, cv):\n",
    "    res=[]\n",
    "    local_probs=pd.DataFrame()\n",
    "    probs = pd.DataFrame()\n",
    "\n",
    "    for i, (tdx, vdx) in tn(enumerate(cv.split(X, y))):\n",
    "        X_train, X_valid, y_train, y_valid = X.iloc[tdx], X.iloc[vdx], y[tdx], y[vdx]\n",
    "      #  X_train, y_train = smote.fit_resample(X_train, y_train)\n",
    "        model.fit(X_train, y_train,\n",
    "                 eval_set=[(X_train, y_train), (X_valid, y_valid)],\n",
    "                 #eval_metric = evaluate_macroF1_lgb,\n",
    "                 early_stopping_rounds=30, verbose=0)\n",
    "        \n",
    "        preds = model.predict_proba(X_valid)\n",
    "       # preds1 = np.array(list(map(lambda x: 1 if x>0.5 else x, preds[:,1])))\n",
    "       # print(preds1.shape)\n",
    "        oof_predict = model.predict_proba(x_test)\n",
    "        local_probs['fold_%i'%i] = oof_predict[:,1]\n",
    "        # may differ\n",
    "        false_positive_rate, true_positive_rate, thresholds = roc_curve(y_valid, preds[:,1])\n",
    "        # may differ\n",
    "        print (auc(false_positive_rate, true_positive_rate))\n",
    "        res.append(auc(false_positive_rate, true_positive_rate))\n",
    "        #print (lgb_f1_score(y_valid, preds[:,1]))\n",
    "        #res.append(lgb_f1_score(y_valid, preds[:,1]))\n",
    "\n",
    "    print('f1_Score:', round(np.mean(res), 6))    \n",
    "    local_probs['res'] = local_probs.mean(axis=1)\n",
    "    probs['target'] = local_probs['res']\n",
    "    return probs"
   ]
  },
  {
   "cell_type": "code",
   "execution_count": 137,
   "metadata": {},
   "outputs": [
    {
     "data": {
      "application/vnd.jupyter.widget-view+json": {
       "model_id": "75b23c554a4048c4a094cda28c45ecc0",
       "version_major": 2,
       "version_minor": 0
      },
      "text/plain": [
       "0it [00:00, ?it/s]"
      ]
     },
     "metadata": {},
     "output_type": "display_data"
    },
    {
     "name": "stdout",
     "output_type": "stream",
     "text": [
      "[LightGBM] [Warning] feature_fraction is set=0.3561368369391315, colsample_bytree=1.0 will be ignored. Current value: feature_fraction=0.3561368369391315\n",
      "[LightGBM] [Warning] bagging_freq is set=0, subsample_freq=0 will be ignored. Current value: bagging_freq=0\n",
      "0.7623188405797101\n",
      "[LightGBM] [Warning] feature_fraction is set=0.3561368369391315, colsample_bytree=1.0 will be ignored. Current value: feature_fraction=0.3561368369391315\n",
      "[LightGBM] [Warning] bagging_freq is set=0, subsample_freq=0 will be ignored. Current value: bagging_freq=0\n",
      "0.7427536231884058\n",
      "[LightGBM] [Warning] feature_fraction is set=0.3561368369391315, colsample_bytree=1.0 will be ignored. Current value: feature_fraction=0.3561368369391315\n",
      "[LightGBM] [Warning] bagging_freq is set=0, subsample_freq=0 will be ignored. Current value: bagging_freq=0\n",
      "0.6413043478260869\n",
      "[LightGBM] [Warning] feature_fraction is set=0.3561368369391315, colsample_bytree=1.0 will be ignored. Current value: feature_fraction=0.3561368369391315\n",
      "[LightGBM] [Warning] bagging_freq is set=0, subsample_freq=0 will be ignored. Current value: bagging_freq=0\n",
      "0.6054347826086957\n",
      "[LightGBM] [Warning] feature_fraction is set=0.3561368369391315, colsample_bytree=1.0 will be ignored. Current value: feature_fraction=0.3561368369391315\n",
      "[LightGBM] [Warning] bagging_freq is set=0, subsample_freq=0 will be ignored. Current value: bagging_freq=0\n",
      "0.6463768115942028\n",
      "f1_Score: 0.679638\n",
      "CPU times: user 535 ms, sys: 33.9 ms, total: 569 ms\n",
      "Wall time: 315 ms\n"
     ]
    }
   ],
   "source": [
    "%%time\n",
    "probs = calc(x_train, Y_train, model, stkfold)"
   ]
  },
  {
   "cell_type": "code",
   "execution_count": 142,
   "metadata": {},
   "outputs": [
    {
     "data": {
      "text/plain": [
       "47"
      ]
     },
     "execution_count": 142,
     "metadata": {},
     "output_type": "execute_result"
    }
   ],
   "source": [
    "np.sum(probs['target']>0.55)"
   ]
  },
  {
   "cell_type": "code",
   "execution_count": 139,
   "metadata": {},
   "outputs": [
    {
     "data": {
      "text/plain": [
       "<AxesSubplot:>"
      ]
     },
     "execution_count": 139,
     "metadata": {},
     "output_type": "execute_result"
    },
    {
     "data": {
      "image/png": "[encoded data removed]",
      "text/plain": [
       "<Figure size 432x288 with 1 Axes>"
      ]
     },
     "metadata": {
      "needs_background": "light"
     },
     "output_type": "display_data"
    }
   ],
   "source": [
    "probs['target'].hist()"
   ]
  },
  {
   "cell_type": "code",
   "execution_count": 143,
   "metadata": {},
   "outputs": [],
   "source": [
    "# submission\n",
    "# Used 0.55 as threshold because we selected a higher penalty on positive weight false prediction, hence tried to \n",
    "# Compensate it\n",
    "submission = pd.DataFrame({\n",
    "        \"label\": np.where(probs['target']<0.55, 0,1),\n",
    "        \"id\": sample_Submission[\"id\"],\n",
    "        \n",
    "    })\n",
    "submission.to_csv('lg_pos_weight.csv', index=False)"
   ]
  },
  {
   "cell_type": "code",
   "execution_count": null,
   "metadata": {},
   "outputs": [],
   "source": [
    "# # Oversampling used but not given trustworthy results\n",
    "# from imblearn.over_sampling import SMOTE\n",
    "# smote = SMOTE()\n",
    "# X_traino,  y_traino = smote.fit_resample(X_train, y_train)"
   ]
  },
  {
   "cell_type": "markdown",
   "metadata": {},
   "source": [
    "**XGBM also not gave good results, LGBM best out of all still not good to avoid this correlation problem**"
   ]
  },
  {
   "cell_type": "code",
   "execution_count": 1,
   "metadata": {},
   "outputs": [],
   "source": [
    "# from imblearn.over_sampling import SMOTE\n",
    "# smote = SMOTE()\n",
    "\n",
    "# import gc\n",
    "# import xgboost as xgb\n",
    "# oof = np.zeros(len(x_train))\n",
    "# preds = np.zeros(len(x_test))\n",
    "\n",
    "# skf = StratifiedKFold(n_splits=5, shuffle = True, random_state = 44)\n",
    "\n",
    "# for i, (idxT, idxV) in enumerate( skf.split(x_train, Y_train)):\n",
    "                                 \n",
    "#     print(' rows of train =',len(idxT),'rows of holdout =',len(idxV))\n",
    "        \n",
    "#     xgb_params = {\n",
    "#               'booster' : 'gbtree',\n",
    "#               'max_depth' : 25,\n",
    "#               'gamma' : 12,\n",
    "#               'eta' : 0.08,\n",
    "#               'objective' : 'binary:logistic',\n",
    "#                \"scale_pos_weight\":1,\n",
    "#               'eval_metric': 'auc',\n",
    "#               'subsample' : 0.8,\n",
    "#               'colsample_bytree' : 0.85,\n",
    "#               'min_child_weight' : 3,\n",
    "#               'max_delta_step' : 2,\n",
    "#               \"random_state\":42\n",
    "#               }\n",
    "\n",
    "                                 \n",
    "#     ################ Fitting ################               \n",
    "#   #  X_traino,  y_traino = smote.fit_resample(x_train.iloc[idxT], Y_train.iloc[idxT])\n",
    "#     train = xgb.DMatrix(data = x_train.iloc[idxT],label=Y_train.iloc[idxT], enable_categorical = True)\n",
    "#     valid = xgb.DMatrix(data=x_train.iloc[idxV],label=Y_train.iloc[idxV], enable_categorical = True)\n",
    "#     clf = xgb.train(xgb_params, dtrain=train,\n",
    "#         num_boost_round=5000,evals=[(valid,'valid')],\n",
    "#         early_stopping_rounds=200,maximize=True,\n",
    "#         verbose_eval=100)   \n",
    "    \n",
    "#     oof[idxV] += clf.predict(valid)                             \n",
    "#     ####################### Test data pred ##################                             \n",
    "#     test = xgb.DMatrix(data=x_test, enable_categorical = True)\n",
    "#     preds += clf.predict(test)/skf.n_splits\n",
    "#     del clf; x=gc.collect()\n",
    "                              \n",
    "# print('#'*20)\n",
    "# false_positive_rate, true_positive_rate, thresholds = roc_curve(Y_train.values,oof)\n",
    "# # may differ\n",
    "# print (auc(false_positive_rate, true_positive_rate))                                "
   ]
  },
  {
   "cell_type": "markdown",
   "metadata": {},
   "source": [
    "### What actually is Coorelation problem or say Train/Test Similarity problem\n",
    "\n",
    "We used the methid described in [this](https://www.kaggle.com/shikhar1/train-test-similarity) kernel and able to find actiually that the train and test data have good amount of dissimilarity in  their distributions which made the cross validation of train to fail on test data + the submission swap we saw on private leaderboard is not due to overfitting but lack of data similarity."
   ]
  }
 ],
 "metadata": {
  "kernelspec": {
   "display_name": "Python 3",
   "language": "python",
   "name": "python3"
  },
  "language_info": {
   "codemirror_mode": {
    "name": "ipython",
    "version": 3
   },
   "file_extension": ".py",
   "mimetype": "text/x-python",
   "name": "python",
   "nbconvert_exporter": "python",
   "pygments_lexer": "ipython3",
   "version": "3.8.5"
  }
 },
 "nbformat": 4,
 "nbformat_minor": 4
}
